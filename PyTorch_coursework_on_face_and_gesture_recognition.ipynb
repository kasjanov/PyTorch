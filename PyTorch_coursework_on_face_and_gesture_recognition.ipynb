{
 "cells": [
  {
   "cell_type": "code",
   "execution_count": 1,
   "id": "a2553c0d",
   "metadata": {},
   "outputs": [],
   "source": [
    "import cv2\n",
    "import matplotlib.pyplot as plt\n",
    "import numpy as np\n",
    "import os\n",
    "import pandas as pd\n",
    "import segmentation_models_pytorch as smp\n",
    "import torch\n",
    "import torchvision\n",
    "import torchvision.transforms as tt\n",
    "\n",
    "from facenet_pytorch import MTCNN\n",
    "from numba import cuda\n",
    "from pathlib import Path\n",
    "from segmentation_models_pytorch import utils as smp_utils\n",
    "from sklearn.model_selection import train_test_split\n",
    "from torch.utils.data import Dataset, DataLoader, ConcatDataset\n",
    "from torch import nn\n",
    "from torch.nn import functional as F\n",
    "from torchsummary import summary\n",
    "from torchvision import models\n",
    "from torchvision.datasets import ImageFolder\n",
    "from torchvision.utils import make_grid\n",
    "from tqdm import tqdm\n",
    "from time import time\n",
    "\n",
    "\n",
    "%matplotlib inline"
   ]
  },
  {
   "cell_type": "code",
   "execution_count": 2,
   "id": "7d18c277",
   "metadata": {},
   "outputs": [
    {
     "data": {
      "text/plain": [
       "'1.9.1+cu102'"
      ]
     },
     "execution_count": 2,
     "metadata": {},
     "output_type": "execute_result"
    }
   ],
   "source": [
    "torch.__version__"
   ]
  },
  {
   "cell_type": "code",
   "execution_count": 3,
   "id": "8e59f92a",
   "metadata": {},
   "outputs": [
    {
     "data": {
      "text/plain": [
       "'NVIDIA GeForce MX250'"
      ]
     },
     "execution_count": 3,
     "metadata": {},
     "output_type": "execute_result"
    }
   ],
   "source": [
    "torch.cuda.get_device_name()"
   ]
  },
  {
   "cell_type": "code",
   "execution_count": 4,
   "id": "981f369a",
   "metadata": {},
   "outputs": [
    {
     "data": {
      "text/plain": [
       "device(type='cuda', index=0)"
      ]
     },
     "execution_count": 4,
     "metadata": {},
     "output_type": "execute_result"
    }
   ],
   "source": [
    "device = torch.device('cuda:0' if torch.cuda.is_available() else 'cpu')\n",
    "device"
   ]
  },
  {
   "cell_type": "code",
   "execution_count": 5,
   "id": "f2cd4c0f",
   "metadata": {},
   "outputs": [],
   "source": [
    "train_tfms = tt.Compose([tt.Grayscale(num_output_channels=1), # Картинки черно-белые\n",
    "                         tt.Resize((128,128)),\n",
    "                         # Настройки для расширения датасета\n",
    "                         tt.RandomHorizontalFlip(),           # Случайные повороты на 90 градусов\n",
    "                         tt.RandomRotation(30),               # Случайные повороты на 30 градусов\n",
    "                         tt.ToTensor()])                      \n",
    "\n",
    "test_tfms = tt.Compose([tt.Grayscale(num_output_channels=1),\n",
    "                        tt.Resize((128,128)),\n",
    "                        tt.ToTensor()])\n",
    "\n",
    "# tt.Normalize(mean=[0.485, 0.456, 0.406],\n",
    "#              std=[0.229, 0.224, 0.225])"
   ]
  },
  {
   "cell_type": "code",
   "execution_count": 6,
   "id": "89571543",
   "metadata": {},
   "outputs": [],
   "source": [
    "DATA_ROOT = 'D:/Data/Study/facial_emotion_recognition/'"
   ]
  },
  {
   "cell_type": "code",
   "execution_count": 7,
   "id": "50565c8d",
   "metadata": {},
   "outputs": [],
   "source": [
    "DATA_ROOT_H = 'D:/Data/Study/hand_gesture_recognition_database/'"
   ]
  },
  {
   "cell_type": "code",
   "execution_count": 8,
   "id": "82e7eb65",
   "metadata": {},
   "outputs": [
    {
     "name": "stdout",
     "output_type": "stream",
     "text": [
      "train Classes - ['angry', 'disgust', 'fear', 'happy', 'neutral', 'sad', 'surprise']\n",
      "test Classes - ['angry', 'disgust', 'fear', 'happy', 'neutral', 'sad', 'surprise']\n"
     ]
    }
   ],
   "source": [
    "classes_train = os.listdir(DATA_ROOT + 'train')\n",
    "classes_test = os.listdir(DATA_ROOT + 'test')\n",
    "print(f'train Classes - {classes_train}')\n",
    "print(f'test Classes - {classes_test}')"
   ]
  },
  {
   "cell_type": "code",
   "execution_count": 9,
   "id": "ed750f1d",
   "metadata": {},
   "outputs": [
    {
     "name": "stdout",
     "output_type": "stream",
     "text": [
      "train Classes - ['01_palm', '02_l', '03_fist', '04_fist_moved', '05_thumb', '06_index', '07_ok', '08_palm_moved', '09_c', '10_down']\n"
     ]
    }
   ],
   "source": [
    "classes_train_gesture = os.listdir(DATA_ROOT_H + '00')\n",
    "print(f'train Classes - {classes_train_gesture}')"
   ]
  },
  {
   "cell_type": "code",
   "execution_count": 10,
   "id": "49968de4",
   "metadata": {},
   "outputs": [
    {
     "name": "stdout",
     "output_type": "stream",
     "text": [
      "angry 3995\n",
      "disgust 436\n",
      "fear 4097\n",
      "happy 7215\n",
      "neutral 4965\n",
      "sad 4830\n",
      "surprise 3171\n"
     ]
    }
   ],
   "source": [
    "for emotion in os.listdir(DATA_ROOT + 'train'):\n",
    "    print(emotion, len(os.listdir(f'{DATA_ROOT}train/{emotion}')))"
   ]
  },
  {
   "cell_type": "code",
   "execution_count": 11,
   "id": "c80332ad",
   "metadata": {},
   "outputs": [
    {
     "name": "stdout",
     "output_type": "stream",
     "text": [
      "01_palm 200\n",
      "02_l 200\n",
      "03_fist 200\n",
      "04_fist_moved 200\n",
      "05_thumb 200\n",
      "06_index 200\n",
      "07_ok 200\n",
      "08_palm_moved 200\n",
      "09_c 200\n",
      "10_down 200\n"
     ]
    }
   ],
   "source": [
    "for gesture in os.listdir(DATA_ROOT_H + '00'):\n",
    "    print(gesture, len(os.listdir(f'{DATA_ROOT_H}00/{gesture}')))"
   ]
  },
  {
   "cell_type": "code",
   "execution_count": 12,
   "id": "34c5f6de",
   "metadata": {},
   "outputs": [],
   "source": [
    "def digit_to_classname(digit):\n",
    "    if digit == 0:\n",
    "        return 'angry'\n",
    "    elif digit == 1:\n",
    "        return 'disgust'\n",
    "    elif digit == 2:\n",
    "        return 'fear'\n",
    "    elif digit == 3:\n",
    "        return 'happy'\n",
    "    elif digit == 4:\n",
    "        return 'neutral'\n",
    "    elif digit == 5:\n",
    "        return 'sad'\n",
    "    elif digit == 6:\n",
    "        return 'surprise'"
   ]
  },
  {
   "cell_type": "code",
   "execution_count": 13,
   "id": "dee9c3e0",
   "metadata": {},
   "outputs": [],
   "source": [
    "def digit_to_classname_gesture(digit):\n",
    "    for idx, itm in enumerate(classes_train_gesture):\n",
    "        if idx == digit:\n",
    "            return itm"
   ]
  },
  {
   "cell_type": "code",
   "execution_count": 14,
   "id": "3181fc39",
   "metadata": {},
   "outputs": [],
   "source": [
    "train_ds_list_gesture = []\n",
    "test_ds_list_gesture = []\n",
    "for dir in os.listdir(DATA_ROOT_H):\n",
    "    train_ds_gesture = ImageFolder(os.path.join(DATA_ROOT_H, dir), train_tfms)\n",
    "    test_ds_gesture = ImageFolder(os.path.join(DATA_ROOT_H, dir), test_tfms)\n",
    "    train_ds_list_gesture.append(train_ds_gesture)\n",
    "    test_ds_list_gesture.append(test_ds_gesture)\n",
    "\n",
    "train_ds_gesture = ConcatDataset(train_ds_list_gesture)\n",
    "test_ds_gesture = ConcatDataset(test_ds_list_gesture)"
   ]
  },
  {
   "cell_type": "code",
   "execution_count": 15,
   "id": "bae46251",
   "metadata": {},
   "outputs": [
    {
     "data": {
      "text/plain": [
       "(14000, 6000)"
      ]
     },
     "execution_count": 15,
     "metadata": {},
     "output_type": "execute_result"
    }
   ],
   "source": [
    "torch.manual_seed(1)\n",
    "\n",
    "val_split = 0.3\n",
    "split = int(len(train_ds_gesture) * val_split)\n",
    "indices = torch.randperm(len(train_ds_gesture))\n",
    "\n",
    "train_ds_gesture = torch.utils.data.Subset(train_ds_gesture, indices[split:])\n",
    "test_ds_gesture = torch.utils.data.Subset(test_ds_gesture, indices[:split])\n",
    "\n",
    "len(train_ds_gesture), len(test_ds_gesture)"
   ]
  },
  {
   "cell_type": "code",
   "execution_count": 16,
   "id": "c803ebfb",
   "metadata": {},
   "outputs": [],
   "source": [
    "train_ds = ImageFolder(DATA_ROOT + 'train', train_tfms)\n",
    "test_ds = ImageFolder(DATA_ROOT + 'test', test_tfms)"
   ]
  },
  {
   "cell_type": "code",
   "execution_count": 17,
   "id": "77c73b44",
   "metadata": {},
   "outputs": [
    {
     "data": {
      "text/plain": [
       "Dataset ImageFolder\n",
       "    Number of datapoints: 28709\n",
       "    Root location: D:/Data/Study/facial_emotion_recognition/train\n",
       "    StandardTransform\n",
       "Transform: Compose(\n",
       "               Grayscale(num_output_channels=1)\n",
       "               Resize(size=(128, 128), interpolation=bilinear, max_size=None, antialias=None)\n",
       "               RandomHorizontalFlip(p=0.5)\n",
       "               RandomRotation(degrees=[-30.0, 30.0], interpolation=nearest, expand=False, fill=0)\n",
       "               ToTensor()\n",
       "           )"
      ]
     },
     "execution_count": 17,
     "metadata": {},
     "output_type": "execute_result"
    }
   ],
   "source": [
    "train_ds"
   ]
  },
  {
   "cell_type": "code",
   "execution_count": 18,
   "id": "7a0baa31",
   "metadata": {},
   "outputs": [
    {
     "data": {
      "text/plain": [
       "['angry', 'disgust', 'fear', 'happy', 'neutral', 'sad', 'surprise']"
      ]
     },
     "execution_count": 18,
     "metadata": {},
     "output_type": "execute_result"
    }
   ],
   "source": [
    "train_ds.classes"
   ]
  },
  {
   "cell_type": "code",
   "execution_count": 15,
   "id": "219ec25d",
   "metadata": {},
   "outputs": [],
   "source": [
    "batch_size = 8"
   ]
  },
  {
   "cell_type": "code",
   "execution_count": 14,
   "id": "0a830f5c",
   "metadata": {},
   "outputs": [],
   "source": [
    "train_dl = DataLoader(train_ds, batch_size, shuffle=True)\n",
    "test_dl = DataLoader(test_ds, batch_size, shuffle=False)"
   ]
  },
  {
   "cell_type": "code",
   "execution_count": 15,
   "id": "858f613c",
   "metadata": {},
   "outputs": [
    {
     "name": "stdout",
     "output_type": "stream",
     "text": [
      "torch.Size([1, 128, 128])\n",
      "tensor(2) fear\n"
     ]
    },
    {
     "data": {
      "image/png": "[encoded data removed]",
      "text/plain": [
       "<Figure size 640x480 with 1 Axes>"
      ]
     },
     "metadata": {},
     "output_type": "display_data"
    }
   ],
   "source": [
    "for img, l in train_dl:\n",
    "    print(img[0].shape)\n",
    "    print(l[0], digit_to_classname(l[0]))\n",
    "    plt.imshow(img[0].permute(1, 2, 0)[:,:,0], cmap='gray')\n",
    "    break"
   ]
  },
  {
   "cell_type": "code",
   "execution_count": 16,
   "id": "78049665",
   "metadata": {},
   "outputs": [],
   "source": [
    "def conv_block(in_channels, out_channels, pool=False):\n",
    "    layers = [nn.Conv2d(in_channels, out_channels, kernel_size=3, padding=1), \n",
    "              nn.BatchNorm2d(out_channels), \n",
    "              nn.ELU(inplace=True)]\n",
    "    if pool:\n",
    "        layers.append(nn.MaxPool2d(2))\n",
    "    return nn.Sequential(*layers)\n",
    "\n",
    "\n",
    "class ResNet(nn.Module):\n",
    "    def __init__(self, in_channels, num_classes):\n",
    "        super().__init__()\n",
    "        \n",
    "        self.conv1 = conv_block(in_channels, 128)\n",
    "        self.conv2 = conv_block(128, 128, pool=True)\n",
    "        self.res1 = nn.Sequential(conv_block(128, 128), conv_block(128, 128))\n",
    "        self.drop1 = nn.Dropout(0.5)\n",
    "        \n",
    "        self.conv3 = conv_block(128, 256)\n",
    "        self.conv4 = conv_block(256, 256, pool=True)\n",
    "        self.res2 = nn.Sequential(conv_block(256, 256), conv_block(256, 256))\n",
    "        self.drop2 = nn.Dropout(0.5)\n",
    "        \n",
    "        self.conv5 = conv_block(256, 512)\n",
    "        self.conv6 = conv_block(512, 512, pool=True)\n",
    "        self.res3 = nn.Sequential(conv_block(512, 512), conv_block(512, 512))\n",
    "        self.drop3 = nn.Dropout(0.5)\n",
    "        \n",
    "        self.classifier = nn.Sequential(nn.MaxPool2d(6), \n",
    "                                        nn.Flatten(),\n",
    "                                        nn.Linear(512, num_classes))\n",
    "        \n",
    "    def forward(self, xb):\n",
    "        out = self.conv1(xb)\n",
    "        out = self.conv2(out)\n",
    "        out = self.res1(out) + out\n",
    "        out = self.drop1(out)\n",
    "        \n",
    "        out = self.conv3(out)\n",
    "        out = self.conv4(out)\n",
    "        out = self.res2(out) + out\n",
    "        out = self.drop2(out)\n",
    "        \n",
    "        out = self.conv5(out)\n",
    "        out = self.conv6(out)\n",
    "        out = self.res3(out) + out\n",
    "        out = self.drop3(out)\n",
    "        \n",
    "        out = self.classifier(out)\n",
    "        return out"
   ]
  },
  {
   "cell_type": "code",
   "execution_count": 17,
   "id": "4e06f546",
   "metadata": {},
   "outputs": [],
   "source": [
    "model = ResNet(1, len(classes_train)).to(device)"
   ]
  },
  {
   "cell_type": "code",
   "execution_count": 18,
   "id": "ab77e895",
   "metadata": {},
   "outputs": [
    {
     "data": {
      "text/plain": [
       "ResNet(\n",
       "  (conv1): Sequential(\n",
       "    (0): Conv2d(3, 128, kernel_size=(3, 3), stride=(1, 1), padding=(1, 1))\n",
       "    (1): BatchNorm2d(128, eps=1e-05, momentum=0.1, affine=True, track_running_stats=True)\n",
       "    (2): ELU(alpha=1.0, inplace=True)\n",
       "  )\n",
       "  (conv2): Sequential(\n",
       "    (0): Conv2d(128, 128, kernel_size=(3, 3), stride=(1, 1), padding=(1, 1))\n",
       "    (1): BatchNorm2d(128, eps=1e-05, momentum=0.1, affine=True, track_running_stats=True)\n",
       "    (2): ELU(alpha=1.0, inplace=True)\n",
       "    (3): MaxPool2d(kernel_size=2, stride=2, padding=0, dilation=1, ceil_mode=False)\n",
       "  )\n",
       "  (res1): Sequential(\n",
       "    (0): Sequential(\n",
       "      (0): Conv2d(128, 128, kernel_size=(3, 3), stride=(1, 1), padding=(1, 1))\n",
       "      (1): BatchNorm2d(128, eps=1e-05, momentum=0.1, affine=True, track_running_stats=True)\n",
       "      (2): ELU(alpha=1.0, inplace=True)\n",
       "    )\n",
       "    (1): Sequential(\n",
       "      (0): Conv2d(128, 128, kernel_size=(3, 3), stride=(1, 1), padding=(1, 1))\n",
       "      (1): BatchNorm2d(128, eps=1e-05, momentum=0.1, affine=True, track_running_stats=True)\n",
       "      (2): ELU(alpha=1.0, inplace=True)\n",
       "    )\n",
       "  )\n",
       "  (drop1): Dropout(p=0.5, inplace=False)\n",
       "  (conv3): Sequential(\n",
       "    (0): Conv2d(128, 256, kernel_size=(3, 3), stride=(1, 1), padding=(1, 1))\n",
       "    (1): BatchNorm2d(256, eps=1e-05, momentum=0.1, affine=True, track_running_stats=True)\n",
       "    (2): ELU(alpha=1.0, inplace=True)\n",
       "  )\n",
       "  (conv4): Sequential(\n",
       "    (0): Conv2d(256, 256, kernel_size=(3, 3), stride=(1, 1), padding=(1, 1))\n",
       "    (1): BatchNorm2d(256, eps=1e-05, momentum=0.1, affine=True, track_running_stats=True)\n",
       "    (2): ELU(alpha=1.0, inplace=True)\n",
       "    (3): MaxPool2d(kernel_size=2, stride=2, padding=0, dilation=1, ceil_mode=False)\n",
       "  )\n",
       "  (res2): Sequential(\n",
       "    (0): Sequential(\n",
       "      (0): Conv2d(256, 256, kernel_size=(3, 3), stride=(1, 1), padding=(1, 1))\n",
       "      (1): BatchNorm2d(256, eps=1e-05, momentum=0.1, affine=True, track_running_stats=True)\n",
       "      (2): ELU(alpha=1.0, inplace=True)\n",
       "    )\n",
       "    (1): Sequential(\n",
       "      (0): Conv2d(256, 256, kernel_size=(3, 3), stride=(1, 1), padding=(1, 1))\n",
       "      (1): BatchNorm2d(256, eps=1e-05, momentum=0.1, affine=True, track_running_stats=True)\n",
       "      (2): ELU(alpha=1.0, inplace=True)\n",
       "    )\n",
       "  )\n",
       "  (drop2): Dropout(p=0.5, inplace=False)\n",
       "  (conv5): Sequential(\n",
       "    (0): Conv2d(256, 512, kernel_size=(3, 3), stride=(1, 1), padding=(1, 1))\n",
       "    (1): BatchNorm2d(512, eps=1e-05, momentum=0.1, affine=True, track_running_stats=True)\n",
       "    (2): ELU(alpha=1.0, inplace=True)\n",
       "  )\n",
       "  (conv6): Sequential(\n",
       "    (0): Conv2d(512, 512, kernel_size=(3, 3), stride=(1, 1), padding=(1, 1))\n",
       "    (1): BatchNorm2d(512, eps=1e-05, momentum=0.1, affine=True, track_running_stats=True)\n",
       "    (2): ELU(alpha=1.0, inplace=True)\n",
       "    (3): MaxPool2d(kernel_size=2, stride=2, padding=0, dilation=1, ceil_mode=False)\n",
       "  )\n",
       "  (res3): Sequential(\n",
       "    (0): Sequential(\n",
       "      (0): Conv2d(512, 512, kernel_size=(3, 3), stride=(1, 1), padding=(1, 1))\n",
       "      (1): BatchNorm2d(512, eps=1e-05, momentum=0.1, affine=True, track_running_stats=True)\n",
       "      (2): ELU(alpha=1.0, inplace=True)\n",
       "    )\n",
       "    (1): Sequential(\n",
       "      (0): Conv2d(512, 512, kernel_size=(3, 3), stride=(1, 1), padding=(1, 1))\n",
       "      (1): BatchNorm2d(512, eps=1e-05, momentum=0.1, affine=True, track_running_stats=True)\n",
       "      (2): ELU(alpha=1.0, inplace=True)\n",
       "    )\n",
       "  )\n",
       "  (drop3): Dropout(p=0.5, inplace=False)\n",
       "  (classifier): Sequential(\n",
       "    (0): MaxPool2d(kernel_size=6, stride=6, padding=0, dilation=1, ceil_mode=False)\n",
       "    (1): Flatten(start_dim=1, end_dim=-1)\n",
       "    (2): Linear(in_features=512, out_features=7, bias=True)\n",
       "  )\n",
       ")"
      ]
     },
     "execution_count": 18,
     "metadata": {},
     "output_type": "execute_result"
    }
   ],
   "source": [
    "model"
   ]
  },
  {
   "cell_type": "code",
   "execution_count": 41,
   "id": "72e8d9c3",
   "metadata": {},
   "outputs": [
    {
     "name": "stdout",
     "output_type": "stream",
     "text": [
      "Parameters: 10782087\n"
     ]
    }
   ],
   "source": [
    "print(\"Parameters:\", sum([param.nelement() for param in model.parameters()]))"
   ]
  },
  {
   "cell_type": "code",
   "execution_count": 21,
   "id": "a5c095d8",
   "metadata": {},
   "outputs": [],
   "source": [
    "max_lr = 0.001\n",
    "optimizer = torch.optim.Adam(model.parameters(), max_lr)\n",
    "criterion = nn.CrossEntropyLoss()"
   ]
  },
  {
   "cell_type": "code",
   "execution_count": 22,
   "id": "04caf834",
   "metadata": {
    "scrolled": true
   },
   "outputs": [
    {
     "name": "stdout",
     "output_type": "stream",
     "text": [
      "Epoch [1 / 6]. \n",
      "Loss 0.251. Acc: 0.208. Val acc: 0.231\n",
      "Epoch tooks 8.8 minutes\n",
      "Epoch [2 / 6]. \n",
      "Loss 0.229. Acc: 0.236. Val acc: 0.292\n",
      "Epoch tooks 8.5 minutes\n",
      "Epoch [3 / 6]. \n",
      "Loss 0.206. Acc: 0.340. Val acc: 0.413\n",
      "Epoch tooks 8.4 minutes\n",
      "Epoch [4 / 6]. \n",
      "Loss 0.185. Acc: 0.423. Val acc: 0.484\n",
      "Epoch tooks 8.4 minutes\n",
      "Epoch [5 / 6]. \n",
      "Loss 0.174. Acc: 0.464. Val acc: 0.502\n",
      "Epoch tooks 8.4 minutes\n",
      "Epoch [6 / 6]. \n",
      "Loss 0.167. Acc: 0.486. Val acc: 0.490\n",
      "Epoch tooks 8.4 minutes\n",
      "Training is finished! It tooks 51.0 minutes\n"
     ]
    }
   ],
   "source": [
    "num_epochs = 6\n",
    "train_losses, acc_train, acc_val = [], [], []\n",
    "start_time = time()\n",
    "\n",
    "for epoch in range(num_epochs):\n",
    "    epoch_time = time()\n",
    "    print(f'Epoch [{epoch + 1} / {num_epochs}]. ')\n",
    "    model.train()\n",
    "    running_loss, running_items, running_right = 0.0, 0.0, 0.0\n",
    "    for i, data in enumerate(train_dl, 0):\n",
    "        inputs, labels = data[0].to(device), data[1].to(device)\n",
    "        \n",
    "        # обнуляем градиент\n",
    "        optimizer.zero_grad()\n",
    "\n",
    "        outputs = model(inputs)\n",
    "        loss = criterion(outputs, labels)\n",
    "        loss.backward()\n",
    "        optimizer.step()\n",
    "        \n",
    "        # выводим статистику о процессе обучения\n",
    "        running_loss += loss.item()\n",
    "        running_items += len(labels)\n",
    "        running_right += (labels == torch.max(outputs, 1)[1]).sum()   \n",
    "            \n",
    "    print(f'Loss {running_loss / running_items:.3f}. ' \\\n",
    "          f'Acc: {running_right / running_items:.3f}', end='. ')\n",
    "    train_losses.append(running_loss / running_items)\n",
    "    acc_train.append(running_right / running_items)\n",
    "\n",
    "    model.eval()\n",
    "            \n",
    "    test_running_right, test_running_total = 0.0, 0.0\n",
    "    for i, data in enumerate(test_dl, 0):\n",
    "        test_outputs = model(data[0].to(device))\n",
    "        test_running_total += len(data[1])\n",
    "        test_running_right += (data[1].to(device) == torch.max(test_outputs, 1)[1]).sum()\n",
    "\n",
    "    print(f'Val acc: {test_running_right / test_running_total:.3f}')\n",
    "    acc_val.append(test_running_right / test_running_total)\n",
    "    \n",
    "    print(f'Epoch tooks {(time()-epoch_time)/60:.1f} minutes')\n",
    "\n",
    "print(f'Training is finished! It tooks {(time()-start_time)/60:.1f} minutes')"
   ]
  },
  {
   "cell_type": "code",
   "execution_count": 23,
   "id": "bb39e87f",
   "metadata": {},
   "outputs": [
    {
     "data": {
      "image/png": "[encoded data removed]",
      "text/plain": [
       "<Figure size 1600x500 with 1 Axes>"
      ]
     },
     "metadata": {},
     "output_type": "display_data"
    }
   ],
   "source": [
    "plt.figure(figsize = (16,5))\n",
    "plt.plot(list(map(lambda x: x.cpu().numpy(), acc_train)),'-',label = f'train')\n",
    "plt.plot(list(map(lambda x: x.cpu().numpy(), acc_val)),'--',label = f'val')\n",
    "plt.legend()\n",
    "plt.xlabel('Epoch')\n",
    "plt.ylabel('Accuracy')\n",
    "plt.grid()\n",
    "plt.show()  "
   ]
  },
  {
   "cell_type": "code",
   "execution_count": 24,
   "id": "3c2ef49e",
   "metadata": {
    "scrolled": true
   },
   "outputs": [
    {
     "data": {
      "image/png": "[encoded data removed]",
      "text/plain": [
       "<Figure size 1600x500 with 1 Axes>"
      ]
     },
     "metadata": {},
     "output_type": "display_data"
    }
   ],
   "source": [
    "plt.figure(figsize = (16,5))\n",
    "plt.plot(train_losses,'-',label = f'train')\n",
    "plt.legend()\n",
    "plt.xlabel('Epoch')\n",
    "plt.ylabel('Losses')\n",
    "plt.grid()\n",
    "plt.show()  "
   ]
  },
  {
   "cell_type": "code",
   "execution_count": 26,
   "id": "ac7e8fd5",
   "metadata": {},
   "outputs": [],
   "source": [
    "torch.save(model, 'emotion_detection_model_self.pth')"
   ]
  },
  {
   "cell_type": "markdown",
   "id": "51789157",
   "metadata": {},
   "source": [
    "#### SimpleCNN"
   ]
  },
  {
   "cell_type": "code",
   "execution_count": 15,
   "id": "db4b44c2",
   "metadata": {},
   "outputs": [],
   "source": [
    "batch_size = 32"
   ]
  },
  {
   "cell_type": "code",
   "execution_count": 16,
   "id": "a8cde617",
   "metadata": {},
   "outputs": [],
   "source": [
    "train_dl = DataLoader(train_ds, batch_size, shuffle=True)\n",
    "test_dl = DataLoader(test_ds, batch_size, shuffle=False)"
   ]
  },
  {
   "cell_type": "code",
   "execution_count": 16,
   "id": "95127b8a",
   "metadata": {},
   "outputs": [],
   "source": [
    "def conv_block(in_channels, out_channels, pool=False):\n",
    "    layers = [nn.Conv2d(in_channels, out_channels, kernel_size=3, padding=1), \n",
    "              nn.BatchNorm2d(out_channels), \n",
    "              nn.LeakyReLU(inplace=True)]\n",
    "    if pool:\n",
    "        layers.append(nn.MaxPool2d(2))\n",
    "    return nn.Sequential(*layers)\n",
    "\n",
    "class SimpleCNN(nn.Module):\n",
    "    def __init__(self, in_channels, num_classes):\n",
    "        super().__init__()\n",
    "        \n",
    "        self.conv1 = conv_block(in_channels, 32, pool=True)\n",
    "        self.conv2 = conv_block(32, 64, pool=True)\n",
    "        self.conv3 = conv_block(64, 64, pool=True)\n",
    "        self.conv4 = conv_block(64, 128, pool=True)\n",
    "        self.classifier = nn.Sequential(nn.Flatten(),\n",
    "                                        nn.Linear(8192, 128), \n",
    "                                        nn.LeakyReLU(inplace=True),\n",
    "                                        nn.Linear(128, num_classes)) #,\n",
    "                                       # nn.LeakyReLU(inplace=True),\n",
    "                                       # nn.Softmax(dim=1))\n",
    "\n",
    "        \n",
    "    def forward(self, xb):\n",
    "        out = self.conv1(xb)\n",
    "        out = self.conv2(out)\n",
    "        out = self.conv3(out)\n",
    "        out = self.conv4(out)\n",
    "        out = self.classifier(out)\n",
    "        return out"
   ]
  },
  {
   "cell_type": "code",
   "execution_count": 18,
   "id": "5e6e05d3",
   "metadata": {},
   "outputs": [],
   "source": [
    "model_SCNN = SimpleCNN(1, len(classes_train)).to(device)"
   ]
  },
  {
   "cell_type": "code",
   "execution_count": 19,
   "id": "8c678462",
   "metadata": {},
   "outputs": [
    {
     "data": {
      "text/plain": [
       "SimpleCNN(\n",
       "  (conv1): Sequential(\n",
       "    (0): Conv2d(1, 32, kernel_size=(3, 3), stride=(1, 1), padding=(1, 1))\n",
       "    (1): BatchNorm2d(32, eps=1e-05, momentum=0.1, affine=True, track_running_stats=True)\n",
       "    (2): LeakyReLU(negative_slope=0.01, inplace=True)\n",
       "    (3): MaxPool2d(kernel_size=2, stride=2, padding=0, dilation=1, ceil_mode=False)\n",
       "  )\n",
       "  (conv2): Sequential(\n",
       "    (0): Conv2d(32, 64, kernel_size=(3, 3), stride=(1, 1), padding=(1, 1))\n",
       "    (1): BatchNorm2d(64, eps=1e-05, momentum=0.1, affine=True, track_running_stats=True)\n",
       "    (2): LeakyReLU(negative_slope=0.01, inplace=True)\n",
       "    (3): MaxPool2d(kernel_size=2, stride=2, padding=0, dilation=1, ceil_mode=False)\n",
       "  )\n",
       "  (conv3): Sequential(\n",
       "    (0): Conv2d(64, 64, kernel_size=(3, 3), stride=(1, 1), padding=(1, 1))\n",
       "    (1): BatchNorm2d(64, eps=1e-05, momentum=0.1, affine=True, track_running_stats=True)\n",
       "    (2): LeakyReLU(negative_slope=0.01, inplace=True)\n",
       "    (3): MaxPool2d(kernel_size=2, stride=2, padding=0, dilation=1, ceil_mode=False)\n",
       "  )\n",
       "  (conv4): Sequential(\n",
       "    (0): Conv2d(64, 128, kernel_size=(3, 3), stride=(1, 1), padding=(1, 1))\n",
       "    (1): BatchNorm2d(128, eps=1e-05, momentum=0.1, affine=True, track_running_stats=True)\n",
       "    (2): LeakyReLU(negative_slope=0.01, inplace=True)\n",
       "    (3): MaxPool2d(kernel_size=2, stride=2, padding=0, dilation=1, ceil_mode=False)\n",
       "  )\n",
       "  (classifier): Sequential(\n",
       "    (0): Flatten(start_dim=1, end_dim=-1)\n",
       "    (1): Linear(in_features=8192, out_features=128, bias=True)\n",
       "    (2): LeakyReLU(negative_slope=0.01, inplace=True)\n",
       "    (3): Linear(in_features=128, out_features=7, bias=True)\n",
       "  )\n",
       ")"
      ]
     },
     "execution_count": 19,
     "metadata": {},
     "output_type": "execute_result"
    }
   ],
   "source": [
    "model_SCNN"
   ]
  },
  {
   "cell_type": "code",
   "execution_count": 21,
   "id": "021c86ce",
   "metadata": {},
   "outputs": [
    {
     "name": "stdout",
     "output_type": "stream",
     "text": [
      "----------------------------------------------------------------\n",
      "        Layer (type)               Output Shape         Param #\n",
      "================================================================\n",
      "            Conv2d-1         [-1, 32, 128, 128]             320\n",
      "       BatchNorm2d-2         [-1, 32, 128, 128]              64\n",
      "         LeakyReLU-3         [-1, 32, 128, 128]               0\n",
      "         MaxPool2d-4           [-1, 32, 64, 64]               0\n",
      "            Conv2d-5           [-1, 64, 64, 64]          18,496\n",
      "       BatchNorm2d-6           [-1, 64, 64, 64]             128\n",
      "         LeakyReLU-7           [-1, 64, 64, 64]               0\n",
      "         MaxPool2d-8           [-1, 64, 32, 32]               0\n",
      "            Conv2d-9           [-1, 64, 32, 32]          36,928\n",
      "      BatchNorm2d-10           [-1, 64, 32, 32]             128\n",
      "        LeakyReLU-11           [-1, 64, 32, 32]               0\n",
      "        MaxPool2d-12           [-1, 64, 16, 16]               0\n",
      "           Conv2d-13          [-1, 128, 16, 16]          73,856\n",
      "      BatchNorm2d-14          [-1, 128, 16, 16]             256\n",
      "        LeakyReLU-15          [-1, 128, 16, 16]               0\n",
      "        MaxPool2d-16            [-1, 128, 8, 8]               0\n",
      "          Flatten-17                 [-1, 8192]               0\n",
      "           Linear-18                  [-1, 128]       1,048,704\n",
      "        LeakyReLU-19                  [-1, 128]               0\n",
      "           Linear-20                    [-1, 7]             903\n",
      "================================================================\n",
      "Total params: 1,179,783\n",
      "Trainable params: 1,179,783\n",
      "Non-trainable params: 0\n",
      "----------------------------------------------------------------\n",
      "Input size (MB): 0.06\n",
      "Forward/backward pass size (MB): 22.00\n",
      "Params size (MB): 4.50\n",
      "Estimated Total Size (MB): 26.57\n",
      "----------------------------------------------------------------\n"
     ]
    }
   ],
   "source": [
    "summary(model_SCNN, input_size=(1, 128, 128))"
   ]
  },
  {
   "cell_type": "code",
   "execution_count": 22,
   "id": "375c4958",
   "metadata": {},
   "outputs": [],
   "source": [
    "max_lr = 0.001\n",
    "optimizer = torch.optim.Adam(model_SCNN.parameters(), max_lr)\n",
    "criterion = nn.CrossEntropyLoss()"
   ]
  },
  {
   "cell_type": "code",
   "execution_count": 23,
   "id": "a4cf949f",
   "metadata": {},
   "outputs": [
    {
     "name": "stdout",
     "output_type": "stream",
     "text": [
      "Epoch [1 / 25]. \n",
      "Loss 0.054. Acc: 0.304. Val acc: 0.368\n",
      "Epoch tooks 2.7 minutes\n",
      "Epoch [2 / 25]. \n",
      "Loss 0.046. Acc: 0.431. Val acc: 0.435\n",
      "Epoch tooks 3.1 minutes\n",
      "Epoch [3 / 25]. \n",
      "Loss 0.042. Acc: 0.481. Val acc: 0.496\n",
      "Epoch tooks 3.3 minutes\n",
      "Epoch [4 / 25]. \n",
      "Loss 0.040. Acc: 0.507. Val acc: 0.526\n",
      "Epoch tooks 4.9 minutes\n",
      "Epoch [5 / 25]. \n",
      "Loss 0.039. Acc: 0.526. Val acc: 0.492\n",
      "Epoch tooks 3.9 minutes\n",
      "Epoch [6 / 25]. \n",
      "Loss 0.038. Acc: 0.544. Val acc: 0.544\n",
      "Epoch tooks 3.4 minutes\n",
      "Epoch [7 / 25]. \n",
      "Loss 0.037. Acc: 0.554. Val acc: 0.554\n",
      "Epoch tooks 3.1 minutes\n",
      "Epoch [8 / 25]. \n",
      "Loss 0.036. Acc: 0.565. Val acc: 0.544\n",
      "Epoch tooks 3.2 minutes\n",
      "Epoch [9 / 25]. \n",
      "Loss 0.035. Acc: 0.574. Val acc: 0.549\n",
      "Epoch tooks 4.1 minutes\n",
      "Epoch [10 / 25]. \n",
      "Loss 0.034. Acc: 0.581. Val acc: 0.586\n",
      "Epoch tooks 4.1 minutes\n",
      "Epoch [11 / 25]. \n",
      "Loss 0.034. Acc: 0.589. Val acc: 0.575\n",
      "Epoch tooks 3.4 minutes\n",
      "Epoch [12 / 25]. \n",
      "Loss 0.033. Acc: 0.594. Val acc: 0.580\n",
      "Epoch tooks 3.3 minutes\n",
      "Epoch [13 / 25]. \n",
      "Loss 0.033. Acc: 0.606. Val acc: 0.581\n",
      "Epoch tooks 3.3 minutes\n",
      "Epoch [14 / 25]. \n",
      "Loss 0.032. Acc: 0.609. Val acc: 0.572\n",
      "Epoch tooks 3.4 minutes\n",
      "Epoch [15 / 25]. \n",
      "Loss 0.032. Acc: 0.616. Val acc: 0.577\n",
      "Epoch tooks 3.3 minutes\n",
      "Epoch [16 / 25]. \n",
      "Loss 0.032. Acc: 0.615. Val acc: 0.571\n",
      "Epoch tooks 3.3 minutes\n",
      "Epoch [17 / 25]. \n",
      "Loss 0.031. Acc: 0.621. Val acc: 0.603\n",
      "Epoch tooks 3.5 minutes\n",
      "Epoch [18 / 25]. \n",
      "Loss 0.031. Acc: 0.631. Val acc: 0.600\n",
      "Epoch tooks 3.6 minutes\n",
      "Epoch [19 / 25]. \n",
      "Loss 0.031. Acc: 0.633. Val acc: 0.615\n",
      "Epoch tooks 4.4 minutes\n",
      "Epoch [20 / 25]. \n",
      "Loss 0.030. Acc: 0.644. Val acc: 0.608\n",
      "Epoch tooks 4.3 minutes\n",
      "Epoch [21 / 25]. \n",
      "Loss 0.030. Acc: 0.645. Val acc: 0.615\n",
      "Epoch tooks 4.5 minutes\n",
      "Epoch [22 / 25]. \n",
      "Loss 0.029. Acc: 0.649. Val acc: 0.602\n",
      "Epoch tooks 6.3 minutes\n",
      "Epoch [23 / 25]. \n",
      "Loss 0.029. Acc: 0.659. Val acc: 0.612\n",
      "Epoch tooks 4.0 minutes\n",
      "Epoch [24 / 25]. \n",
      "Loss 0.028. Acc: 0.664. Val acc: 0.608\n",
      "Epoch tooks 3.8 minutes\n",
      "Epoch [25 / 25]. \n",
      "Loss 0.028. Acc: 0.663. Val acc: 0.603\n",
      "Epoch tooks 3.3 minutes\n",
      "Training is finished! It tooks 93.4 minutes\n"
     ]
    }
   ],
   "source": [
    "num_epochs = 25\n",
    "train_losses, acc_train, acc_val = [], [], []\n",
    "start_time = time()\n",
    "\n",
    "for epoch in range(num_epochs):\n",
    "    epoch_time = time()\n",
    "    print(f'Epoch [{epoch + 1} / {num_epochs}]. ')\n",
    "    model_SCNN.train()\n",
    "    running_loss, running_items, running_right = 0.0, 0.0, 0.0\n",
    "    for i, data in enumerate(train_dl, 0):\n",
    "        inputs, labels = data[0].to(device), data[1].to(device)\n",
    "        \n",
    "        # обнуляем градиент\n",
    "        optimizer.zero_grad()\n",
    "\n",
    "        outputs = model_SCNN(inputs)\n",
    "        loss = criterion(outputs, labels)\n",
    "        loss.backward()\n",
    "        optimizer.step()\n",
    "        \n",
    "        # выводим статистику о процессе обучения\n",
    "        running_loss += loss.item()\n",
    "        running_items += len(labels)\n",
    "        running_right += (labels == torch.max(outputs, 1)[1]).sum()   \n",
    "            \n",
    "    print(f'Loss {running_loss / running_items:.3f}. ' \\\n",
    "          f'Acc: {running_right / running_items:.3f}', end='. ')\n",
    "    train_losses.append(running_loss / running_items)\n",
    "    acc_train.append(running_right / running_items)\n",
    "\n",
    "    model_SCNN.eval()\n",
    "            \n",
    "    test_running_right, test_running_total = 0.0, 0.0\n",
    "    for i, data in enumerate(test_dl, 0):\n",
    "        test_outputs = model_SCNN(data[0].to(device))\n",
    "        test_running_total += len(data[1])\n",
    "        test_running_right += (data[1].to(device) == torch.max(test_outputs, 1)[1]).sum()\n",
    "\n",
    "    print(f'Val acc: {test_running_right / test_running_total:.3f}')\n",
    "    acc_val.append(test_running_right / test_running_total)\n",
    "    \n",
    "    print(f'Epoch tooks {(time()-epoch_time)/60:.1f} minutes')\n",
    "\n",
    "print(f'Training is finished! It tooks {(time()-start_time)/60:.1f} minutes')"
   ]
  },
  {
   "cell_type": "code",
   "execution_count": 28,
   "id": "df9b9d63",
   "metadata": {},
   "outputs": [
    {
     "data": {
      "image/png": "[encoded data removed]",
      "text/plain": [
       "<Figure size 1600x500 with 1 Axes>"
      ]
     },
     "metadata": {},
     "output_type": "display_data"
    }
   ],
   "source": [
    "plt.figure(figsize = (16,5))\n",
    "plt.plot(list(map(lambda x: x.cpu().numpy(), acc_train)),'-',label = f'acc_train')\n",
    "plt.plot(list(map(lambda x: x.cpu().numpy(), acc_val)),'--',label = f'acc_val')\n",
    "plt.legend()\n",
    "plt.xlabel('Epoch')\n",
    "plt.ylabel('Accuracy')\n",
    "plt.grid()\n",
    "plt.show()  "
   ]
  },
  {
   "cell_type": "code",
   "execution_count": 29,
   "id": "caecff47",
   "metadata": {},
   "outputs": [
    {
     "data": {
      "image/png": "[encoded data removed]",
      "text/plain": [
       "<Figure size 1600x500 with 1 Axes>"
      ]
     },
     "metadata": {},
     "output_type": "display_data"
    }
   ],
   "source": [
    "plt.figure(figsize = (16,5))\n",
    "plt.plot(train_losses,'-',label = f'loss_train')\n",
    "plt.legend()\n",
    "plt.xlabel('Epoch')\n",
    "plt.ylabel('Losses')\n",
    "plt.grid()\n",
    "plt.show()  "
   ]
  },
  {
   "cell_type": "code",
   "execution_count": 30,
   "id": "673f3cc9",
   "metadata": {},
   "outputs": [],
   "source": [
    "torch.save(model_SCNN, 'emotion_detection_SCNN_model.pth')"
   ]
  },
  {
   "cell_type": "code",
   "execution_count": 31,
   "id": "4ca87856",
   "metadata": {},
   "outputs": [],
   "source": [
    "torch.save(model_SCNN.state_dict(), 'emotion_detection_SCNN_model_weight.pth')"
   ]
  },
  {
   "cell_type": "markdown",
   "id": "6f9359e7",
   "metadata": {},
   "source": [
    "#### SimpleCNN_gesture"
   ]
  },
  {
   "cell_type": "code",
   "execution_count": 20,
   "id": "fd227e79",
   "metadata": {},
   "outputs": [],
   "source": [
    "batch_size = 32"
   ]
  },
  {
   "cell_type": "code",
   "execution_count": 21,
   "id": "568d64c2",
   "metadata": {},
   "outputs": [],
   "source": [
    "train_dl_gesture = DataLoader(train_ds_gesture, batch_size, shuffle=True)\n",
    "test_dl_gesture = DataLoader(test_ds_gesture, batch_size, shuffle=False)"
   ]
  },
  {
   "cell_type": "code",
   "execution_count": 17,
   "id": "da0745aa",
   "metadata": {},
   "outputs": [],
   "source": [
    "def conv_block(in_channels, out_channels, pool=False):\n",
    "    layers = [nn.Conv2d(in_channels, out_channels, kernel_size=3, padding=1), \n",
    "              nn.BatchNorm2d(out_channels), \n",
    "              nn.LeakyReLU(inplace=True)]\n",
    "    if pool:\n",
    "        layers.append(nn.MaxPool2d(2))\n",
    "    return nn.Sequential(*layers)\n",
    "\n",
    "class SimpleCNN_gesture(nn.Module):\n",
    "    def __init__(self, in_channels, num_classes):\n",
    "        super().__init__()\n",
    "        \n",
    "        self.conv1 = conv_block(in_channels, 32, pool=True)\n",
    "        self.conv2 = conv_block(32, 64, pool=True)\n",
    "        self.conv3 = conv_block(64, 64, pool=True)\n",
    "        self.conv4 = conv_block(64, 128, pool=True)\n",
    "        self.classifier = nn.Sequential(nn.Flatten(),\n",
    "                                        nn.Linear(8192, 128), \n",
    "                                        nn.LeakyReLU(inplace=True),\n",
    "                                        nn.Linear(128, num_classes)) #,\n",
    "                                       # nn.LeakyReLU(inplace=True),\n",
    "                                       # nn.Softmax(dim=1))\n",
    "\n",
    "        \n",
    "    def forward(self, xb):\n",
    "        out = self.conv1(xb)\n",
    "        out = self.conv2(out)\n",
    "        out = self.conv3(out)\n",
    "        out = self.conv4(out)\n",
    "        out = self.classifier(out)\n",
    "        return out"
   ]
  },
  {
   "cell_type": "code",
   "execution_count": 23,
   "id": "a13399e3",
   "metadata": {},
   "outputs": [],
   "source": [
    "model_SCNN_gesture = SimpleCNN_gesture(1, len(classes_train_gesture)).to(device)"
   ]
  },
  {
   "cell_type": "code",
   "execution_count": 24,
   "id": "48e78cbf",
   "metadata": {},
   "outputs": [
    {
     "data": {
      "text/plain": [
       "SimpleCNN_gesture(\n",
       "  (conv1): Sequential(\n",
       "    (0): Conv2d(1, 32, kernel_size=(3, 3), stride=(1, 1), padding=(1, 1))\n",
       "    (1): BatchNorm2d(32, eps=1e-05, momentum=0.1, affine=True, track_running_stats=True)\n",
       "    (2): LeakyReLU(negative_slope=0.01, inplace=True)\n",
       "    (3): MaxPool2d(kernel_size=2, stride=2, padding=0, dilation=1, ceil_mode=False)\n",
       "  )\n",
       "  (conv2): Sequential(\n",
       "    (0): Conv2d(32, 64, kernel_size=(3, 3), stride=(1, 1), padding=(1, 1))\n",
       "    (1): BatchNorm2d(64, eps=1e-05, momentum=0.1, affine=True, track_running_stats=True)\n",
       "    (2): LeakyReLU(negative_slope=0.01, inplace=True)\n",
       "    (3): MaxPool2d(kernel_size=2, stride=2, padding=0, dilation=1, ceil_mode=False)\n",
       "  )\n",
       "  (conv3): Sequential(\n",
       "    (0): Conv2d(64, 64, kernel_size=(3, 3), stride=(1, 1), padding=(1, 1))\n",
       "    (1): BatchNorm2d(64, eps=1e-05, momentum=0.1, affine=True, track_running_stats=True)\n",
       "    (2): LeakyReLU(negative_slope=0.01, inplace=True)\n",
       "    (3): MaxPool2d(kernel_size=2, stride=2, padding=0, dilation=1, ceil_mode=False)\n",
       "  )\n",
       "  (conv4): Sequential(\n",
       "    (0): Conv2d(64, 128, kernel_size=(3, 3), stride=(1, 1), padding=(1, 1))\n",
       "    (1): BatchNorm2d(128, eps=1e-05, momentum=0.1, affine=True, track_running_stats=True)\n",
       "    (2): LeakyReLU(negative_slope=0.01, inplace=True)\n",
       "    (3): MaxPool2d(kernel_size=2, stride=2, padding=0, dilation=1, ceil_mode=False)\n",
       "  )\n",
       "  (classifier): Sequential(\n",
       "    (0): Flatten(start_dim=1, end_dim=-1)\n",
       "    (1): Linear(in_features=8192, out_features=128, bias=True)\n",
       "    (2): LeakyReLU(negative_slope=0.01, inplace=True)\n",
       "    (3): Linear(in_features=128, out_features=10, bias=True)\n",
       "  )\n",
       ")"
      ]
     },
     "execution_count": 24,
     "metadata": {},
     "output_type": "execute_result"
    }
   ],
   "source": [
    "model_SCNN_gesture"
   ]
  },
  {
   "cell_type": "code",
   "execution_count": 25,
   "id": "b4d20a24",
   "metadata": {},
   "outputs": [
    {
     "name": "stdout",
     "output_type": "stream",
     "text": [
      "----------------------------------------------------------------\n",
      "        Layer (type)               Output Shape         Param #\n",
      "================================================================\n",
      "            Conv2d-1         [-1, 32, 128, 128]             320\n",
      "       BatchNorm2d-2         [-1, 32, 128, 128]              64\n",
      "         LeakyReLU-3         [-1, 32, 128, 128]               0\n",
      "         MaxPool2d-4           [-1, 32, 64, 64]               0\n",
      "            Conv2d-5           [-1, 64, 64, 64]          18,496\n",
      "       BatchNorm2d-6           [-1, 64, 64, 64]             128\n",
      "         LeakyReLU-7           [-1, 64, 64, 64]               0\n",
      "         MaxPool2d-8           [-1, 64, 32, 32]               0\n",
      "            Conv2d-9           [-1, 64, 32, 32]          36,928\n",
      "      BatchNorm2d-10           [-1, 64, 32, 32]             128\n",
      "        LeakyReLU-11           [-1, 64, 32, 32]               0\n",
      "        MaxPool2d-12           [-1, 64, 16, 16]               0\n",
      "           Conv2d-13          [-1, 128, 16, 16]          73,856\n",
      "      BatchNorm2d-14          [-1, 128, 16, 16]             256\n",
      "        LeakyReLU-15          [-1, 128, 16, 16]               0\n",
      "        MaxPool2d-16            [-1, 128, 8, 8]               0\n",
      "          Flatten-17                 [-1, 8192]               0\n",
      "           Linear-18                  [-1, 128]       1,048,704\n",
      "        LeakyReLU-19                  [-1, 128]               0\n",
      "           Linear-20                   [-1, 10]           1,290\n",
      "================================================================\n",
      "Total params: 1,180,170\n",
      "Trainable params: 1,180,170\n",
      "Non-trainable params: 0\n",
      "----------------------------------------------------------------\n",
      "Input size (MB): 0.06\n",
      "Forward/backward pass size (MB): 22.00\n",
      "Params size (MB): 4.50\n",
      "Estimated Total Size (MB): 26.57\n",
      "----------------------------------------------------------------\n"
     ]
    }
   ],
   "source": [
    "summary(model_SCNN_gesture, input_size=(1, 128, 128))"
   ]
  },
  {
   "cell_type": "code",
   "execution_count": 26,
   "id": "58f42cb6",
   "metadata": {},
   "outputs": [],
   "source": [
    "max_lr = 0.001\n",
    "optimizer = torch.optim.Adam(model_SCNN_gesture.parameters(), max_lr)\n",
    "criterion = nn.CrossEntropyLoss()"
   ]
  },
  {
   "cell_type": "code",
   "execution_count": 27,
   "id": "19a4a548",
   "metadata": {},
   "outputs": [
    {
     "name": "stdout",
     "output_type": "stream",
     "text": [
      "Epoch [1 / 5]. \n",
      "Loss 0.017. Acc: 0.823. Val acc: 0.982\n",
      "Epoch tooks 3.7 minutes\n",
      "Epoch [2 / 5]. \n",
      "Loss 0.002. Acc: 0.979. Val acc: 0.946\n",
      "Epoch tooks 3.7 minutes\n",
      "Epoch [3 / 5]. \n",
      "Loss 0.002. Acc: 0.985. Val acc: 0.975\n",
      "Epoch tooks 3.7 minutes\n",
      "Epoch [4 / 5]. \n",
      "Loss 0.001. Acc: 0.990. Val acc: 0.998\n",
      "Epoch tooks 3.7 minutes\n",
      "Epoch [5 / 5]. \n",
      "Loss 0.001. Acc: 0.989. Val acc: 0.998\n",
      "Epoch tooks 3.6 minutes\n",
      "Training is finished! It tooks 18.3 minutes\n"
     ]
    }
   ],
   "source": [
    "num_epochs = 5\n",
    "train_losses, acc_train, acc_val = [], [], []\n",
    "start_time = time()\n",
    "\n",
    "for epoch in range(num_epochs):\n",
    "    epoch_time = time()\n",
    "    print(f'Epoch [{epoch + 1} / {num_epochs}]. ')\n",
    "    model_SCNN_gesture.train()\n",
    "    running_loss, running_items, running_right = 0.0, 0.0, 0.0\n",
    "    for i, data in enumerate(train_dl_gesture, 0):\n",
    "        inputs, labels = data[0].to(device), data[1].to(device)\n",
    "        \n",
    "        # обнуляем градиент\n",
    "        optimizer.zero_grad()\n",
    "\n",
    "        outputs = model_SCNN_gesture(inputs)\n",
    "        loss = criterion(outputs, labels)\n",
    "        loss.backward()\n",
    "        optimizer.step()\n",
    "        \n",
    "        # выводим статистику о процессе обучения\n",
    "        running_loss += loss.item()\n",
    "        running_items += len(labels)\n",
    "        running_right += (labels == torch.max(outputs, 1)[1]).sum()   \n",
    "            \n",
    "    print(f'Loss {running_loss / running_items:.3f}. ' \\\n",
    "          f'Acc: {running_right / running_items:.3f}', end='. ')\n",
    "    train_losses.append(running_loss / running_items)\n",
    "    acc_train.append(running_right / running_items)\n",
    "\n",
    "    model_SCNN_gesture.eval()\n",
    "            \n",
    "    test_running_right, test_running_total = 0.0, 0.0\n",
    "    for i, data in enumerate(test_dl_gesture, 0):\n",
    "        test_outputs = model_SCNN_gesture(data[0].to(device))\n",
    "        test_running_total += len(data[1])\n",
    "        test_running_right += (data[1].to(device) == torch.max(test_outputs, 1)[1]).sum()\n",
    "\n",
    "    print(f'Val acc: {test_running_right / test_running_total:.3f}')\n",
    "    acc_val.append(test_running_right / test_running_total)\n",
    "    \n",
    "    print(f'Epoch tooks {(time()-epoch_time)/60:.1f} minutes')\n",
    "\n",
    "print(f'Training is finished! It tooks {(time()-start_time)/60:.1f} minutes')"
   ]
  },
  {
   "cell_type": "code",
   "execution_count": 28,
   "id": "4a3b53a2",
   "metadata": {},
   "outputs": [
    {
     "data": {
      "image/png": "[encoded data removed]",
      "text/plain": [
       "<Figure size 1600x500 with 1 Axes>"
      ]
     },
     "metadata": {},
     "output_type": "display_data"
    }
   ],
   "source": [
    "plt.figure(figsize = (16,5))\n",
    "plt.plot(list(map(lambda x: x.cpu().numpy(), acc_train)),'-',label = f'acc_train_gesture')\n",
    "plt.plot(list(map(lambda x: x.cpu().numpy(), acc_val)),'--',label = f'acc_val_gesture')\n",
    "plt.legend()\n",
    "plt.xlabel('Epoch')\n",
    "plt.ylabel('Accuracy')\n",
    "plt.grid()\n",
    "plt.show()  "
   ]
  },
  {
   "cell_type": "code",
   "execution_count": 29,
   "id": "235ddab4",
   "metadata": {},
   "outputs": [
    {
     "data": {
      "image/png": "[encoded data removed]",
      "text/plain": [
       "<Figure size 1600x500 with 1 Axes>"
      ]
     },
     "metadata": {},
     "output_type": "display_data"
    }
   ],
   "source": [
    "plt.figure(figsize = (16,5))\n",
    "plt.plot(train_losses,'-',label = f'loss_train_gesture')\n",
    "plt.legend()\n",
    "plt.xlabel('Epoch')\n",
    "plt.ylabel('Losses')\n",
    "plt.grid()\n",
    "plt.show()  "
   ]
  },
  {
   "cell_type": "code",
   "execution_count": 30,
   "id": "03a405b2",
   "metadata": {},
   "outputs": [],
   "source": [
    "torch.save(model_SCNN_gesture, 'emotion_detection_SCNN_gesture_model.pth')"
   ]
  },
  {
   "cell_type": "code",
   "execution_count": 31,
   "id": "389fa3c8",
   "metadata": {},
   "outputs": [],
   "source": [
    "torch.save(model_SCNN_gesture.state_dict(), 'emotion_detection_SCNN_gesture_model_weight.pth')"
   ]
  },
  {
   "cell_type": "markdown",
   "id": "1a13efd9",
   "metadata": {},
   "source": [
    "#### Pretrained resnet50"
   ]
  },
  {
   "cell_type": "code",
   "execution_count": 17,
   "id": "a54c1b34",
   "metadata": {},
   "outputs": [],
   "source": [
    "resnet = models.resnet50(pretrained=True)"
   ]
  },
  {
   "cell_type": "code",
   "execution_count": 18,
   "id": "5722ea09",
   "metadata": {},
   "outputs": [],
   "source": [
    "for param in resnet.parameters():\n",
    "    param.requires_grad = False"
   ]
  },
  {
   "cell_type": "code",
   "execution_count": 19,
   "id": "c1e02e39",
   "metadata": {},
   "outputs": [
    {
     "name": "stdout",
     "output_type": "stream",
     "text": [
      "----------------------------------------------------------------\n",
      "        Layer (type)               Output Shape         Param #\n",
      "================================================================\n",
      "            Conv2d-1           [-1, 64, 24, 24]           9,408\n",
      "       BatchNorm2d-2           [-1, 64, 24, 24]             128\n",
      "              ReLU-3           [-1, 64, 24, 24]               0\n",
      "         MaxPool2d-4           [-1, 64, 12, 12]               0\n",
      "            Conv2d-5           [-1, 64, 12, 12]           4,096\n",
      "       BatchNorm2d-6           [-1, 64, 12, 12]             128\n",
      "              ReLU-7           [-1, 64, 12, 12]               0\n",
      "            Conv2d-8           [-1, 64, 12, 12]          36,864\n",
      "       BatchNorm2d-9           [-1, 64, 12, 12]             128\n",
      "             ReLU-10           [-1, 64, 12, 12]               0\n",
      "           Conv2d-11          [-1, 256, 12, 12]          16,384\n",
      "      BatchNorm2d-12          [-1, 256, 12, 12]             512\n",
      "           Conv2d-13          [-1, 256, 12, 12]          16,384\n",
      "      BatchNorm2d-14          [-1, 256, 12, 12]             512\n",
      "             ReLU-15          [-1, 256, 12, 12]               0\n",
      "       Bottleneck-16          [-1, 256, 12, 12]               0\n",
      "           Conv2d-17           [-1, 64, 12, 12]          16,384\n",
      "      BatchNorm2d-18           [-1, 64, 12, 12]             128\n",
      "             ReLU-19           [-1, 64, 12, 12]               0\n",
      "           Conv2d-20           [-1, 64, 12, 12]          36,864\n",
      "      BatchNorm2d-21           [-1, 64, 12, 12]             128\n",
      "             ReLU-22           [-1, 64, 12, 12]               0\n",
      "           Conv2d-23          [-1, 256, 12, 12]          16,384\n",
      "      BatchNorm2d-24          [-1, 256, 12, 12]             512\n",
      "             ReLU-25          [-1, 256, 12, 12]               0\n",
      "       Bottleneck-26          [-1, 256, 12, 12]               0\n",
      "           Conv2d-27           [-1, 64, 12, 12]          16,384\n",
      "      BatchNorm2d-28           [-1, 64, 12, 12]             128\n",
      "             ReLU-29           [-1, 64, 12, 12]               0\n",
      "           Conv2d-30           [-1, 64, 12, 12]          36,864\n",
      "      BatchNorm2d-31           [-1, 64, 12, 12]             128\n",
      "             ReLU-32           [-1, 64, 12, 12]               0\n",
      "           Conv2d-33          [-1, 256, 12, 12]          16,384\n",
      "      BatchNorm2d-34          [-1, 256, 12, 12]             512\n",
      "             ReLU-35          [-1, 256, 12, 12]               0\n",
      "       Bottleneck-36          [-1, 256, 12, 12]               0\n",
      "           Conv2d-37          [-1, 128, 12, 12]          32,768\n",
      "      BatchNorm2d-38          [-1, 128, 12, 12]             256\n",
      "             ReLU-39          [-1, 128, 12, 12]               0\n",
      "           Conv2d-40            [-1, 128, 6, 6]         147,456\n",
      "      BatchNorm2d-41            [-1, 128, 6, 6]             256\n",
      "             ReLU-42            [-1, 128, 6, 6]               0\n",
      "           Conv2d-43            [-1, 512, 6, 6]          65,536\n",
      "      BatchNorm2d-44            [-1, 512, 6, 6]           1,024\n",
      "           Conv2d-45            [-1, 512, 6, 6]         131,072\n",
      "      BatchNorm2d-46            [-1, 512, 6, 6]           1,024\n",
      "             ReLU-47            [-1, 512, 6, 6]               0\n",
      "       Bottleneck-48            [-1, 512, 6, 6]               0\n",
      "           Conv2d-49            [-1, 128, 6, 6]          65,536\n",
      "      BatchNorm2d-50            [-1, 128, 6, 6]             256\n",
      "             ReLU-51            [-1, 128, 6, 6]               0\n",
      "           Conv2d-52            [-1, 128, 6, 6]         147,456\n",
      "      BatchNorm2d-53            [-1, 128, 6, 6]             256\n",
      "             ReLU-54            [-1, 128, 6, 6]               0\n",
      "           Conv2d-55            [-1, 512, 6, 6]          65,536\n",
      "      BatchNorm2d-56            [-1, 512, 6, 6]           1,024\n",
      "             ReLU-57            [-1, 512, 6, 6]               0\n",
      "       Bottleneck-58            [-1, 512, 6, 6]               0\n",
      "           Conv2d-59            [-1, 128, 6, 6]          65,536\n",
      "      BatchNorm2d-60            [-1, 128, 6, 6]             256\n",
      "             ReLU-61            [-1, 128, 6, 6]               0\n",
      "           Conv2d-62            [-1, 128, 6, 6]         147,456\n",
      "      BatchNorm2d-63            [-1, 128, 6, 6]             256\n",
      "             ReLU-64            [-1, 128, 6, 6]               0\n",
      "           Conv2d-65            [-1, 512, 6, 6]          65,536\n",
      "      BatchNorm2d-66            [-1, 512, 6, 6]           1,024\n",
      "             ReLU-67            [-1, 512, 6, 6]               0\n",
      "       Bottleneck-68            [-1, 512, 6, 6]               0\n",
      "           Conv2d-69            [-1, 128, 6, 6]          65,536\n",
      "      BatchNorm2d-70            [-1, 128, 6, 6]             256\n",
      "             ReLU-71            [-1, 128, 6, 6]               0\n",
      "           Conv2d-72            [-1, 128, 6, 6]         147,456\n",
      "      BatchNorm2d-73            [-1, 128, 6, 6]             256\n",
      "             ReLU-74            [-1, 128, 6, 6]               0\n",
      "           Conv2d-75            [-1, 512, 6, 6]          65,536\n",
      "      BatchNorm2d-76            [-1, 512, 6, 6]           1,024\n",
      "             ReLU-77            [-1, 512, 6, 6]               0\n",
      "       Bottleneck-78            [-1, 512, 6, 6]               0\n",
      "           Conv2d-79            [-1, 256, 6, 6]         131,072\n",
      "      BatchNorm2d-80            [-1, 256, 6, 6]             512\n",
      "             ReLU-81            [-1, 256, 6, 6]               0\n",
      "           Conv2d-82            [-1, 256, 3, 3]         589,824\n",
      "      BatchNorm2d-83            [-1, 256, 3, 3]             512\n",
      "             ReLU-84            [-1, 256, 3, 3]               0\n",
      "           Conv2d-85           [-1, 1024, 3, 3]         262,144\n",
      "      BatchNorm2d-86           [-1, 1024, 3, 3]           2,048\n",
      "           Conv2d-87           [-1, 1024, 3, 3]         524,288\n",
      "      BatchNorm2d-88           [-1, 1024, 3, 3]           2,048\n",
      "             ReLU-89           [-1, 1024, 3, 3]               0\n",
      "       Bottleneck-90           [-1, 1024, 3, 3]               0\n",
      "           Conv2d-91            [-1, 256, 3, 3]         262,144\n",
      "      BatchNorm2d-92            [-1, 256, 3, 3]             512\n",
      "             ReLU-93            [-1, 256, 3, 3]               0\n",
      "           Conv2d-94            [-1, 256, 3, 3]         589,824\n",
      "      BatchNorm2d-95            [-1, 256, 3, 3]             512\n",
      "             ReLU-96            [-1, 256, 3, 3]               0\n",
      "           Conv2d-97           [-1, 1024, 3, 3]         262,144\n",
      "      BatchNorm2d-98           [-1, 1024, 3, 3]           2,048\n",
      "             ReLU-99           [-1, 1024, 3, 3]               0\n",
      "      Bottleneck-100           [-1, 1024, 3, 3]               0\n",
      "          Conv2d-101            [-1, 256, 3, 3]         262,144\n",
      "     BatchNorm2d-102            [-1, 256, 3, 3]             512\n",
      "            ReLU-103            [-1, 256, 3, 3]               0\n",
      "          Conv2d-104            [-1, 256, 3, 3]         589,824\n",
      "     BatchNorm2d-105            [-1, 256, 3, 3]             512\n",
      "            ReLU-106            [-1, 256, 3, 3]               0\n",
      "          Conv2d-107           [-1, 1024, 3, 3]         262,144\n",
      "     BatchNorm2d-108           [-1, 1024, 3, 3]           2,048\n",
      "            ReLU-109           [-1, 1024, 3, 3]               0\n",
      "      Bottleneck-110           [-1, 1024, 3, 3]               0\n",
      "          Conv2d-111            [-1, 256, 3, 3]         262,144\n",
      "     BatchNorm2d-112            [-1, 256, 3, 3]             512\n",
      "            ReLU-113            [-1, 256, 3, 3]               0\n",
      "          Conv2d-114            [-1, 256, 3, 3]         589,824\n",
      "     BatchNorm2d-115            [-1, 256, 3, 3]             512\n",
      "            ReLU-116            [-1, 256, 3, 3]               0\n",
      "          Conv2d-117           [-1, 1024, 3, 3]         262,144\n",
      "     BatchNorm2d-118           [-1, 1024, 3, 3]           2,048\n",
      "            ReLU-119           [-1, 1024, 3, 3]               0\n",
      "      Bottleneck-120           [-1, 1024, 3, 3]               0\n",
      "          Conv2d-121            [-1, 256, 3, 3]         262,144\n",
      "     BatchNorm2d-122            [-1, 256, 3, 3]             512\n",
      "            ReLU-123            [-1, 256, 3, 3]               0\n",
      "          Conv2d-124            [-1, 256, 3, 3]         589,824\n",
      "     BatchNorm2d-125            [-1, 256, 3, 3]             512\n",
      "            ReLU-126            [-1, 256, 3, 3]               0\n",
      "          Conv2d-127           [-1, 1024, 3, 3]         262,144\n",
      "     BatchNorm2d-128           [-1, 1024, 3, 3]           2,048\n",
      "            ReLU-129           [-1, 1024, 3, 3]               0\n",
      "      Bottleneck-130           [-1, 1024, 3, 3]               0\n",
      "          Conv2d-131            [-1, 256, 3, 3]         262,144\n",
      "     BatchNorm2d-132            [-1, 256, 3, 3]             512\n",
      "            ReLU-133            [-1, 256, 3, 3]               0\n",
      "          Conv2d-134            [-1, 256, 3, 3]         589,824\n",
      "     BatchNorm2d-135            [-1, 256, 3, 3]             512\n",
      "            ReLU-136            [-1, 256, 3, 3]               0\n",
      "          Conv2d-137           [-1, 1024, 3, 3]         262,144\n",
      "     BatchNorm2d-138           [-1, 1024, 3, 3]           2,048\n",
      "            ReLU-139           [-1, 1024, 3, 3]               0\n",
      "      Bottleneck-140           [-1, 1024, 3, 3]               0\n",
      "          Conv2d-141            [-1, 512, 3, 3]         524,288\n",
      "     BatchNorm2d-142            [-1, 512, 3, 3]           1,024\n",
      "            ReLU-143            [-1, 512, 3, 3]               0\n",
      "          Conv2d-144            [-1, 512, 2, 2]       2,359,296\n",
      "     BatchNorm2d-145            [-1, 512, 2, 2]           1,024\n",
      "            ReLU-146            [-1, 512, 2, 2]               0\n",
      "          Conv2d-147           [-1, 2048, 2, 2]       1,048,576\n",
      "     BatchNorm2d-148           [-1, 2048, 2, 2]           4,096\n",
      "          Conv2d-149           [-1, 2048, 2, 2]       2,097,152\n",
      "     BatchNorm2d-150           [-1, 2048, 2, 2]           4,096\n",
      "            ReLU-151           [-1, 2048, 2, 2]               0\n",
      "      Bottleneck-152           [-1, 2048, 2, 2]               0\n",
      "          Conv2d-153            [-1, 512, 2, 2]       1,048,576\n",
      "     BatchNorm2d-154            [-1, 512, 2, 2]           1,024\n",
      "            ReLU-155            [-1, 512, 2, 2]               0\n",
      "          Conv2d-156            [-1, 512, 2, 2]       2,359,296\n",
      "     BatchNorm2d-157            [-1, 512, 2, 2]           1,024\n",
      "            ReLU-158            [-1, 512, 2, 2]               0\n",
      "          Conv2d-159           [-1, 2048, 2, 2]       1,048,576\n",
      "     BatchNorm2d-160           [-1, 2048, 2, 2]           4,096\n",
      "            ReLU-161           [-1, 2048, 2, 2]               0\n",
      "      Bottleneck-162           [-1, 2048, 2, 2]               0\n",
      "          Conv2d-163            [-1, 512, 2, 2]       1,048,576\n",
      "     BatchNorm2d-164            [-1, 512, 2, 2]           1,024\n",
      "            ReLU-165            [-1, 512, 2, 2]               0\n",
      "          Conv2d-166            [-1, 512, 2, 2]       2,359,296\n",
      "     BatchNorm2d-167            [-1, 512, 2, 2]           1,024\n",
      "            ReLU-168            [-1, 512, 2, 2]               0\n",
      "          Conv2d-169           [-1, 2048, 2, 2]       1,048,576\n",
      "     BatchNorm2d-170           [-1, 2048, 2, 2]           4,096\n",
      "            ReLU-171           [-1, 2048, 2, 2]               0\n",
      "      Bottleneck-172           [-1, 2048, 2, 2]               0\n",
      "AdaptiveAvgPool2d-173           [-1, 2048, 1, 1]               0\n",
      "          Linear-174                    [-1, 7]          14,343\n",
      "================================================================\n",
      "Total params: 23,522,375\n",
      "Trainable params: 14,343\n",
      "Non-trainable params: 23,508,032\n",
      "----------------------------------------------------------------\n",
      "Input size (MB): 0.03\n",
      "Forward/backward pass size (MB): 13.66\n",
      "Params size (MB): 89.73\n",
      "Estimated Total Size (MB): 103.42\n",
      "----------------------------------------------------------------\n"
     ]
    }
   ],
   "source": [
    "in_features = resnet.fc.in_features\n",
    "fc = nn.Linear(in_features=in_features, out_features = len(classes_train))\n",
    "resnet.fc = fc\n",
    "summary(resnet.to(device), input_size=(3, 48, 48))"
   ]
  },
  {
   "cell_type": "code",
   "execution_count": 20,
   "id": "b8105c5d",
   "metadata": {},
   "outputs": [],
   "source": [
    "params_to_update = []\n",
    "for name, param in resnet.named_parameters():\n",
    "    if param.requires_grad == True:\n",
    "        params_to_update.append(param)\n",
    "        \n",
    "criterion = nn.CrossEntropyLoss()\n",
    "optimizer = torch.optim.Adam(params_to_update, lr=0.001)"
   ]
  },
  {
   "cell_type": "code",
   "execution_count": 21,
   "id": "d149f3c5",
   "metadata": {},
   "outputs": [],
   "source": [
    "def train(model,\n",
    "          criterion,\n",
    "          optimizer,\n",
    "          train_dataloader,\n",
    "          test_dataloader,\n",
    "          print_every,\n",
    "          num_epoch):\n",
    "    steps = 0\n",
    "    train_losses, val_losses, acc_train, acc_val = [], [], [], []\n",
    "    \n",
    "    model.to(device)\n",
    "    for epoch in tqdm(range(num_epoch)):\n",
    "        running_loss = 0\n",
    "        correct_train = 0\n",
    "        total_train = 0\n",
    "        start_time = time()\n",
    "        iter_time = time()\n",
    "        \n",
    "        print(f'Epoch [{epoch + 1}] / [{num_epoch}].')\n",
    "        model.train()\n",
    "        for i, (images, labels) in enumerate(train_dataloader):\n",
    "            steps += 1\n",
    "            images = images.to(device)\n",
    "            labels = labels.to(device)\n",
    "            \n",
    "            # forward pass\n",
    "            output = model(images)\n",
    "            loss = criterion(output, labels)\n",
    "            \n",
    "            correct_train += (torch.max(output, dim=1)[1]==labels).sum()\n",
    "            total_train += labels.size(0)\n",
    "            \n",
    "            # backward and optimize\n",
    "            optimizer.zero_grad()\n",
    "            loss.backward()\n",
    "            optimizer.step()\n",
    "            \n",
    "            running_loss += loss.item()\n",
    "            \n",
    "            # Logging\n",
    "            if steps % print_every == 0:\n",
    "                pass\n",
    "        print(f'Train Loss {running_loss / steps:.3f}.', end=' ')\n",
    "        print(f'Train acc: {correct_train / total_train:.3f}', end=' ')\n",
    "        with torch.no_grad():\n",
    "            model.eval()\n",
    "            correct_val, total_val = 0, 0\n",
    "            val_loss = 0\n",
    "            for images, labels in test_dataloader:\n",
    "                images = images.to(device)\n",
    "                labels = labels.to(device)\n",
    "                output = model(images)\n",
    "                loss = criterion(output, labels)\n",
    "                val_loss += loss.item()\n",
    "                correct_val += (torch.max(output, dim=1)[1]==labels).sum()\n",
    "                total_val += labels.size(0)\n",
    "            torch.cuda.empty_cache()\n",
    "        print(f'Val loss {val_loss / len(test_dataloader):.3f}. Val acc {correct_val / total_val:.3f}.', end = ' ')\n",
    "        print(f'Took {time() - iter_time:.3f} seconds')\n",
    "        iter_time = time()\n",
    "\n",
    "        acc_train.append(correct_train / total_train)\n",
    "        acc_val.append(correct_val / total_val)\n",
    "        train_losses.append(running_loss / total_train)\n",
    "        val_losses.append(val_loss / total_val)\n",
    "    \n",
    "    print(f'Training took {(time()-start_time)/60:.1f} minutes')\n",
    "        \n",
    "    return model, train_losses, val_losses, acc_train, acc_val"
   ]
  },
  {
   "cell_type": "code",
   "execution_count": 22,
   "id": "e26b30c0",
   "metadata": {},
   "outputs": [
    {
     "name": "stderr",
     "output_type": "stream",
     "text": [
      "\r",
      "  0%|                                                                                           | 0/20 [00:00<?, ?it/s]"
     ]
    },
    {
     "name": "stdout",
     "output_type": "stream",
     "text": [
      "Epoch [1] / [20].\n",
      "Batch [225]/[225]. Train Loss 1.760. Train acc: 0.295 "
     ]
    },
    {
     "name": "stderr",
     "output_type": "stream",
     "text": [
      "\r",
      "  5%|████                                                                              | 1/20 [03:04<58:19, 184.21s/it]"
     ]
    },
    {
     "name": "stdout",
     "output_type": "stream",
     "text": [
      "Val loss 1.724. Val acc 0.326. Took 184.208 seconds\n",
      "Epoch [2] / [20].\n",
      "Batch [225]/[225]. Train Loss 0.857. Train acc: 0.322 "
     ]
    },
    {
     "name": "stderr",
     "output_type": "stream",
     "text": [
      "\r",
      " 10%|████████▏                                                                         | 2/20 [04:41<39:50, 132.83s/it]"
     ]
    },
    {
     "name": "stdout",
     "output_type": "stream",
     "text": [
      "Val loss 1.739. Val acc 0.332. Took 96.860 seconds\n",
      "Epoch [3] / [20].\n",
      "Batch [225]/[225]. Train Loss 0.568. Train acc: 0.327 "
     ]
    },
    {
     "name": "stderr",
     "output_type": "stream",
     "text": [
      "\r",
      " 15%|████████████▎                                                                     | 3/20 [06:16<32:51, 115.96s/it]"
     ]
    },
    {
     "name": "stdout",
     "output_type": "stream",
     "text": [
      "Val loss 1.739. Val acc 0.329. Took 95.880 seconds\n",
      "Epoch [4] / [20].\n",
      "Batch [225]/[225]. Train Loss 0.423. Train acc: 0.330 "
     ]
    },
    {
     "name": "stderr",
     "output_type": "stream",
     "text": [
      "\r",
      " 20%|████████████████▍                                                                 | 4/20 [07:53<28:53, 108.36s/it]"
     ]
    },
    {
     "name": "stdout",
     "output_type": "stream",
     "text": [
      "Val loss 1.687. Val acc 0.354. Took 96.712 seconds\n",
      "Epoch [5] / [20].\n",
      "Batch [225]/[225]. Train Loss 0.338. Train acc: 0.333 "
     ]
    },
    {
     "name": "stderr",
     "output_type": "stream",
     "text": [
      "\r",
      " 25%|████████████████████▌                                                             | 5/20 [09:40<26:57, 107.86s/it]"
     ]
    },
    {
     "name": "stdout",
     "output_type": "stream",
     "text": [
      "Val loss 1.684. Val acc 0.357. Took 106.962 seconds\n",
      "Epoch [6] / [20].\n",
      "Batch [225]/[225]. Train Loss 0.281. Train acc: 0.335 "
     ]
    },
    {
     "name": "stderr",
     "output_type": "stream",
     "text": [
      "\r",
      " 30%|████████████████████████▌                                                         | 6/20 [11:23<24:48, 106.29s/it]"
     ]
    },
    {
     "name": "stdout",
     "output_type": "stream",
     "text": [
      "Val loss 1.778. Val acc 0.314. Took 103.241 seconds\n",
      "Epoch [7] / [20].\n",
      "Batch [225]/[225]. Train Loss 0.240. Train acc: 0.339 "
     ]
    },
    {
     "name": "stderr",
     "output_type": "stream",
     "text": [
      "\r",
      " 35%|████████████████████████████▋                                                     | 7/20 [13:04<22:37, 104.42s/it]"
     ]
    },
    {
     "name": "stdout",
     "output_type": "stream",
     "text": [
      "Val loss 1.773. Val acc 0.339. Took 100.571 seconds\n",
      "Epoch [8] / [20].\n",
      "Batch [225]/[225]. Train Loss 0.211. Train acc: 0.339 "
     ]
    },
    {
     "name": "stderr",
     "output_type": "stream",
     "text": [
      "\r",
      " 40%|████████████████████████████████▊                                                 | 8/20 [14:51<21:01, 105.12s/it]"
     ]
    },
    {
     "name": "stdout",
     "output_type": "stream",
     "text": [
      "Val loss 1.707. Val acc 0.346. Took 106.633 seconds\n",
      "Epoch [9] / [20].\n",
      "Batch [225]/[225]. Train Loss 0.187. Train acc: 0.340 "
     ]
    },
    {
     "name": "stderr",
     "output_type": "stream",
     "text": [
      "\r",
      " 45%|████████████████████████████████████▉                                             | 9/20 [16:41<19:34, 106.74s/it]"
     ]
    },
    {
     "name": "stdout",
     "output_type": "stream",
     "text": [
      "Val loss 1.730. Val acc 0.327. Took 110.301 seconds\n",
      "Epoch [10] / [20].\n",
      "Batch [225]/[225]. Train Loss 0.168. Train acc: 0.341 "
     ]
    },
    {
     "name": "stderr",
     "output_type": "stream",
     "text": [
      "\r",
      " 50%|████████████████████████████████████████▌                                        | 10/20 [18:37<18:15, 109.53s/it]"
     ]
    },
    {
     "name": "stdout",
     "output_type": "stream",
     "text": [
      "Val loss 1.671. Val acc 0.354. Took 115.776 seconds\n",
      "Epoch [11] / [20].\n",
      "Batch [225]/[225]. Train Loss 0.152. Train acc: 0.344 "
     ]
    },
    {
     "name": "stderr",
     "output_type": "stream",
     "text": [
      "\r",
      " 55%|████████████████████████████████████████████▌                                    | 11/20 [20:29<16:33, 110.38s/it]"
     ]
    },
    {
     "name": "stdout",
     "output_type": "stream",
     "text": [
      "Val loss 1.681. Val acc 0.351. Took 112.297 seconds\n",
      "Epoch [12] / [20].\n",
      "Batch [225]/[225]. Train Loss 0.139. Train acc: 0.342 "
     ]
    },
    {
     "name": "stderr",
     "output_type": "stream",
     "text": [
      "\r",
      " 60%|████████████████████████████████████████████████▌                                | 12/20 [22:14<14:30, 108.87s/it]"
     ]
    },
    {
     "name": "stdout",
     "output_type": "stream",
     "text": [
      "Val loss 1.674. Val acc 0.342. Took 105.428 seconds\n",
      "Epoch [13] / [20].\n",
      "Batch [225]/[225]. Train Loss 0.129. Train acc: 0.342 "
     ]
    },
    {
     "name": "stderr",
     "output_type": "stream",
     "text": [
      "\r",
      " 65%|████████████████████████████████████████████████████▋                            | 13/20 [23:59<12:32, 107.53s/it]"
     ]
    },
    {
     "name": "stdout",
     "output_type": "stream",
     "text": [
      "Val loss 1.678. Val acc 0.357. Took 104.421 seconds\n",
      "Epoch [14] / [20].\n",
      "Batch [225]/[225]. Train Loss 0.119. Train acc: 0.344 "
     ]
    },
    {
     "name": "stderr",
     "output_type": "stream",
     "text": [
      "\r",
      " 70%|████████████████████████████████████████████████████████▋                        | 14/20 [25:42<10:37, 106.19s/it]"
     ]
    },
    {
     "name": "stdout",
     "output_type": "stream",
     "text": [
      "Val loss 1.684. Val acc 0.349. Took 103.110 seconds\n",
      "Epoch [15] / [20].\n",
      "Batch [225]/[225]. Train Loss 0.111. Train acc: 0.350 "
     ]
    },
    {
     "name": "stderr",
     "output_type": "stream",
     "text": [
      "\r",
      " 75%|████████████████████████████████████████████████████████████▊                    | 15/20 [27:38<09:06, 109.29s/it]"
     ]
    },
    {
     "name": "stdout",
     "output_type": "stream",
     "text": [
      "Val loss 1.708. Val acc 0.340. Took 116.465 seconds\n",
      "Epoch [16] / [20].\n",
      "Batch [225]/[225]. Train Loss 0.104. Train acc: 0.343 "
     ]
    },
    {
     "name": "stderr",
     "output_type": "stream",
     "text": [
      "\r",
      " 80%|████████████████████████████████████████████████████████████████▊                | 16/20 [29:17<07:04, 106.22s/it]"
     ]
    },
    {
     "name": "stdout",
     "output_type": "stream",
     "text": [
      "Val loss 1.675. Val acc 0.353. Took 99.095 seconds\n",
      "Epoch [17] / [20].\n",
      "Batch [225]/[225]. Train Loss 0.098. Train acc: 0.350 "
     ]
    },
    {
     "name": "stderr",
     "output_type": "stream",
     "text": [
      "\r",
      " 85%|████████████████████████████████████████████████████████████████████▊            | 17/20 [31:02<05:16, 105.57s/it]"
     ]
    },
    {
     "name": "stdout",
     "output_type": "stream",
     "text": [
      "Val loss 1.716. Val acc 0.355. Took 104.070 seconds\n",
      "Epoch [18] / [20].\n",
      "Batch [225]/[225]. Train Loss 0.093. Train acc: 0.346 "
     ]
    },
    {
     "name": "stderr",
     "output_type": "stream",
     "text": [
      "\r",
      " 90%|████████████████████████████████████████████████████████████████████████▉        | 18/20 [32:43<03:28, 104.22s/it]"
     ]
    },
    {
     "name": "stdout",
     "output_type": "stream",
     "text": [
      "Val loss 1.671. Val acc 0.362. Took 101.078 seconds\n",
      "Epoch [19] / [20].\n",
      "Batch [225]/[225]. Train Loss 0.088. Train acc: 0.348 "
     ]
    },
    {
     "name": "stderr",
     "output_type": "stream",
     "text": [
      "\r",
      " 95%|████████████████████████████████████████████████████████████████████████████▉    | 19/20 [34:26<01:43, 103.84s/it]"
     ]
    },
    {
     "name": "stdout",
     "output_type": "stream",
     "text": [
      "Val loss 1.738. Val acc 0.343. Took 102.930 seconds\n",
      "Epoch [20] / [20].\n",
      "Batch [225]/[225]. Train Loss 0.084. Train acc: 0.345 "
     ]
    },
    {
     "name": "stderr",
     "output_type": "stream",
     "text": [
      "100%|█████████████████████████████████████████████████████████████████████████████████| 20/20 [36:03<00:00, 108.19s/it]"
     ]
    },
    {
     "name": "stdout",
     "output_type": "stream",
     "text": [
      "Val loss 1.747. Val acc 0.340. Took 97.726 seconds\n",
      "Training took 1.6 minutes\n"
     ]
    },
    {
     "name": "stderr",
     "output_type": "stream",
     "text": [
      "\n"
     ]
    }
   ],
   "source": [
    "print_every = 1000\n",
    "num_epoch = 20\n",
    "torch.cuda.empty_cache()\n",
    "resnet, train_losses, val_losses, acc_train, acc_val = train(\n",
    "    model=resnet,\n",
    "    criterion=criterion,\n",
    "    optimizer=optimizer,\n",
    "    train_dataloader=train_dl,\n",
    "    test_dataloader=test_dl,\n",
    "    print_every=print_every,\n",
    "    num_epoch=num_epoch\n",
    ")\n",
    "\n",
    "torch.save(resnet, 'emotion_detection_model.pth')"
   ]
  },
  {
   "cell_type": "code",
   "execution_count": 23,
   "id": "8d6d6c7d",
   "metadata": {},
   "outputs": [
    {
     "data": {
      "image/png": "[encoded data removed]",
      "text/plain": [
       "<Figure size 1600x500 with 1 Axes>"
      ]
     },
     "metadata": {},
     "output_type": "display_data"
    }
   ],
   "source": [
    "plt.figure(figsize = (16,5))\n",
    "plt.plot(list(map(lambda x: x.cpu().numpy(), acc_train)),'-',label = f'train')\n",
    "plt.plot(list(map(lambda x: x.cpu().numpy(), acc_val)),'--',label = f'val')\n",
    "plt.legend()\n",
    "plt.xlabel('Epoch')\n",
    "plt.ylabel('Accuracy')\n",
    "plt.grid()\n",
    "plt.show()  "
   ]
  },
  {
   "cell_type": "code",
   "execution_count": 24,
   "id": "b0581ab4",
   "metadata": {},
   "outputs": [
    {
     "data": {
      "image/png": "[encoded data removed]",
      "text/plain": [
       "<Figure size 1600x500 with 1 Axes>"
      ]
     },
     "metadata": {},
     "output_type": "display_data"
    }
   ],
   "source": [
    "plt.figure(figsize = (16,5))\n",
    "plt.plot(train_losses,'-',label = f'train')\n",
    "plt.plot(val_losses,'--',label = f'val')\n",
    "plt.legend()\n",
    "plt.xlabel('Epoch')\n",
    "plt.ylabel('Losses')\n",
    "plt.grid()\n",
    "plt.show()  "
   ]
  },
  {
   "cell_type": "code",
   "execution_count": 18,
   "id": "e45bb07a",
   "metadata": {},
   "outputs": [],
   "source": [
    "class FaceDetector(object):\n",
    "    \"\"\"\n",
    "    Face detector class\n",
    "    \"\"\"\n",
    "\n",
    "    def __init__(self, mtcnn, device, capture_name):\n",
    "        self.mtcnn = mtcnn\n",
    "        self.device = device\n",
    "        self.capture_name = capture_name\n",
    "        self.emodel = torch.load('emotion_detection_SCNN_model.pth')\n",
    "\n",
    "    def _draw(self, frame, boxes, probs, landmarks, emotions, gesture_):\n",
    "        \"\"\"\n",
    "        Draw landmarks and boxes for each face detected\n",
    "        \"\"\"  \n",
    "        try:\n",
    "            for box, prob, ld, emotion in zip(boxes, probs, landmarks, emotions):\n",
    "                # Draw rectangle on frame\n",
    "                cv2.rectangle(frame,\n",
    "                              (int(box[0]), int(box[1])),\n",
    "                              (int(box[2]), int(box[3])),\n",
    "                              (255, 0, 0),\n",
    "                              thickness=2)\n",
    "\n",
    "                # Show probability\n",
    "                cv2.putText(frame, \n",
    "                            emotion, \n",
    "                            (int(box[2]), int(box[3])), \n",
    "                            cv2.FONT_HERSHEY_SIMPLEX, \n",
    "                            1, \n",
    "                            (0, 0, 255), \n",
    "                            2, \n",
    "                            cv2.LINE_AA)\n",
    "                \n",
    "                # Show probability\n",
    "                cv2.putText(frame, \n",
    "                            gesture_, \n",
    "                            (50, 50), \n",
    "                            cv2.FONT_HERSHEY_SIMPLEX, \n",
    "                            1, \n",
    "                            (0, 0, 255), \n",
    "                            2, \n",
    "                            cv2.LINE_AA)\n",
    "\n",
    "                # Draw landmarks\n",
    "                cv2.circle(frame, (int(ld[0][0]), int(ld[0][1])), 3, (0, 0, 255), -1)\n",
    "                cv2.circle(frame, (int(ld[1][0]), int(ld[1][1])), 3, (0, 0, 255), -1)\n",
    "                cv2.circle(frame, (int(ld[2][0]), int(ld[2][1])), 3, (0, 0, 255), -1)\n",
    "                cv2.circle(frame, (int(ld[3][0]), int(ld[3][1])), 3, (0, 0, 255), -1)\n",
    "                cv2.circle(frame, (int(ld[4][0]), int(ld[4][1])), 3, (0, 0, 255), -1)\n",
    "        except:\n",
    "            pass\n",
    "        \n",
    "        return frame\n",
    "    \n",
    "    @staticmethod\n",
    "    def crop_faces(frame, boxes):\n",
    "        faces = []\n",
    "        try:\n",
    "            for i, box in enumerate(boxes):\n",
    "                faces.append(frame[int(box[1]):int(box[3]), \n",
    "                    int(box[0]):int(box[2])])\n",
    "        except:\n",
    "            pass\n",
    "        return faces\n",
    "    \n",
    "    @staticmethod\n",
    "    def digit_to_classname(digit):\n",
    "        if digit == 0:\n",
    "            return 'angry'\n",
    "        elif digit == 1:\n",
    "            return 'disgust'\n",
    "        elif digit == 2:\n",
    "            return 'fear'\n",
    "        elif digit == 3:\n",
    "            return 'happy'\n",
    "        elif digit == 4:\n",
    "            return 'neutral'\n",
    "        elif digit == 5:\n",
    "            return 'sad'\n",
    "        elif digit == 6:\n",
    "            return 'surprise'\n",
    "\n",
    "    def run(self):\n",
    "        \"\"\"\n",
    "            Run the FaceDetector and draw landmarks and boxes around detected faces\n",
    "        \"\"\"                \n",
    "        cv2.namedWindow('Face Detection')\n",
    "        capture = cv2.VideoCapture(self.capture_name)\n",
    "        out = cv2.VideoWriter('output.avi', cv2.VideoWriter_fourcc(*'XVID'), 20.0, (640,480))\n",
    "        self.emodel = self.emodel.to(self.device)\n",
    "        self.emodel.eval()\n",
    "        \n",
    "        if capture.isOpened():\n",
    "            rval, frame = capture.read()\n",
    "        else:\n",
    "            rval = False\n",
    "        \n",
    "        while rval:\n",
    "            cv2.imshow('Face Detection', frame)\n",
    "            rval, frame = capture.read()\n",
    "        \n",
    "            # detect face box, probability and landmarks\n",
    "            boxes, probs, landmarks = self.mtcnn.detect(frame, landmarks=True)\n",
    "            \n",
    "            gesture_ = 'NAN'\n",
    "            \n",
    "            try:\n",
    "                gesture_frame = frame\n",
    "                gesture_frame = cv2.resize(gesture_frame,(128,128))\n",
    "                gesture_frame = cv2.cvtColor(gesture_frame, cv2.COLOR_BGR2GRAY)\n",
    "                torch_gesture = torch.from_numpy(gesture_frame).unsqueeze(0).to(self.device).float()\n",
    "                gesture_ = detect_gesture_model(torch_gesture[None, ...])\n",
    "                gesture_ = digit_to_classname_gesture(gesture_.argmax())\n",
    "            except:\n",
    "                pass\n",
    "            \n",
    "            # crop face from frame\n",
    "            faces = self.crop_faces(frame, boxes)\n",
    "            \n",
    "            # determination of facial emotion\n",
    "            emotions = []\n",
    "            for face in faces:\n",
    "                try:\n",
    "                    face = cv2.resize(face,(128,128))\n",
    "    \n",
    "                    face = cv2.cvtColor(face, cv2.COLOR_BGR2GRAY)\n",
    "                    torch_face = torch.from_numpy(face).unsqueeze(0).to(self.device).float()\n",
    "                    emotion = detect_emotion_model(torch_face[None, ...])\n",
    "                    emotion = self.digit_to_classname(emotion.argmax())\n",
    "                    print(f'({emotion}, {gesture_})')\n",
    "                    emotions.append(emotion)\n",
    "                except:\n",
    "                    pass\n",
    "\n",
    "            # draw on frame\n",
    "            self._draw(frame, boxes, probs, landmarks, emotions, gesture_)\n",
    "            emotions = []\n",
    "            \n",
    "            # Show the frame\n",
    "            cv2.imshow('Face Detection', frame)\n",
    "            out.write(frame)\n",
    "\n",
    "            key = cv2.waitKey(20)\n",
    "            if key == 27: # exit on ESC\n",
    "                break\n",
    "\n",
    "        capture.release()\n",
    "        out.release()\n",
    "        cv2.destroyAllWindows()"
   ]
  },
  {
   "cell_type": "code",
   "execution_count": 19,
   "id": "a4652041",
   "metadata": {},
   "outputs": [],
   "source": [
    "detect_emotion_model = SimpleCNN(1, 7)\n",
    "detect_emotion_model.load_state_dict(torch.load('emotion_detection_SCNN_model_weight.pth'))\n",
    "detect_emotion_model = detect_emotion_model.to(device)"
   ]
  },
  {
   "cell_type": "code",
   "execution_count": 20,
   "id": "d24b8165",
   "metadata": {},
   "outputs": [],
   "source": [
    "detect_gesture_model = SimpleCNN_gesture(1, 10)\n",
    "detect_gesture_model.load_state_dict(torch.load('emotion_detection_SCNN_gesture_model_weight.pth'))\n",
    "detect_gesture_model = detect_gesture_model.to(device)"
   ]
  },
  {
   "cell_type": "code",
   "execution_count": 21,
   "id": "dc20e6cd",
   "metadata": {},
   "outputs": [
    {
     "name": "stdout",
     "output_type": "stream",
     "text": [
      "(neutral, 04_fist_moved)\n",
      "(sad, 04_fist_moved)\n",
      "(neutral, 04_fist_moved)\n",
      "(neutral, 04_fist_moved)\n",
      "(neutral, 04_fist_moved)\n",
      "(neutral, 04_fist_moved)\n",
      "(neutral, 04_fist_moved)\n",
      "(neutral, 04_fist_moved)\n",
      "(neutral, 04_fist_moved)\n",
      "(neutral, 04_fist_moved)\n",
      "(fear, 04_fist_moved)\n",
      "(neutral, 04_fist_moved)\n",
      "(neutral, 04_fist_moved)\n",
      "(neutral, 04_fist_moved)\n",
      "(neutral, 04_fist_moved)\n",
      "(neutral, 04_fist_moved)\n",
      "(neutral, 04_fist_moved)\n",
      "(neutral, 04_fist_moved)\n",
      "(neutral, 04_fist_moved)\n",
      "(neutral, 04_fist_moved)\n",
      "(neutral, 04_fist_moved)\n",
      "(neutral, 04_fist_moved)\n",
      "(sad, 04_fist_moved)\n",
      "(sad, 04_fist_moved)\n",
      "(neutral, 04_fist_moved)\n",
      "(neutral, 04_fist_moved)\n",
      "(neutral, 04_fist_moved)\n",
      "(neutral, 04_fist_moved)\n",
      "(sad, 04_fist_moved)\n",
      "(sad, 04_fist_moved)\n",
      "(sad, 04_fist_moved)\n",
      "(sad, 04_fist_moved)\n",
      "(sad, 04_fist_moved)\n",
      "(neutral, 04_fist_moved)\n",
      "(sad, 04_fist_moved)\n",
      "(neutral, 04_fist_moved)\n",
      "(sad, 02_l)\n",
      "(sad, 02_l)\n",
      "(sad, 04_fist_moved)\n",
      "(sad, 09_c)\n",
      "(neutral, 09_c)\n",
      "(neutral, 04_fist_moved)\n",
      "(neutral, 04_fist_moved)\n",
      "(neutral, 04_fist_moved)\n",
      "(sad, 09_c)\n",
      "(sad, 09_c)\n",
      "(sad, 09_c)\n",
      "(sad, 09_c)\n",
      "(sad, 09_c)\n",
      "(sad, 09_c)\n",
      "(sad, 09_c)\n",
      "(sad, 09_c)\n",
      "(sad, 09_c)\n",
      "(sad, 09_c)\n",
      "(sad, 09_c)\n",
      "(sad, 09_c)\n",
      "(sad, 09_c)\n",
      "(sad, 09_c)\n",
      "(sad, 09_c)\n",
      "(sad, 09_c)\n",
      "(sad, 09_c)\n",
      "(sad, 09_c)\n",
      "(sad, 09_c)\n",
      "(sad, 09_c)\n",
      "(sad, 09_c)\n",
      "(sad, 09_c)\n",
      "(sad, 09_c)\n",
      "(sad, 09_c)\n",
      "(sad, 09_c)\n",
      "(sad, 09_c)\n",
      "(sad, 09_c)\n",
      "(sad, 08_palm_moved)\n",
      "(sad, 08_palm_moved)\n",
      "(sad, 08_palm_moved)\n",
      "(sad, 04_fist_moved)\n",
      "(sad, 09_c)\n",
      "(sad, 08_palm_moved)\n",
      "(sad, 08_palm_moved)\n",
      "(sad, 08_palm_moved)\n",
      "(sad, 09_c)\n",
      "(sad, 08_palm_moved)\n",
      "(sad, 08_palm_moved)\n",
      "(sad, 08_palm_moved)\n",
      "(sad, 08_palm_moved)\n",
      "(sad, 08_palm_moved)\n",
      "(sad, 08_palm_moved)\n",
      "(sad, 08_palm_moved)\n",
      "(sad, 08_palm_moved)\n",
      "(sad, 08_palm_moved)\n",
      "(sad, 08_palm_moved)\n",
      "(sad, 09_c)\n",
      "(sad, 09_c)\n",
      "(sad, 09_c)\n",
      "(sad, 09_c)\n",
      "(sad, 09_c)\n",
      "(sad, 09_c)\n",
      "(sad, 09_c)\n",
      "(sad, 09_c)\n",
      "(sad, 09_c)\n",
      "(sad, 09_c)\n",
      "(sad, 09_c)\n",
      "(sad, 09_c)\n",
      "(sad, 09_c)\n",
      "(sad, 09_c)\n",
      "(sad, 09_c)\n",
      "(sad, 09_c)\n",
      "(sad, 09_c)\n",
      "(sad, 09_c)\n",
      "(sad, 09_c)\n",
      "(sad, 09_c)\n",
      "(sad, 09_c)\n",
      "(sad, 09_c)\n",
      "(sad, 09_c)\n",
      "(sad, 09_c)\n",
      "(sad, 09_c)\n",
      "(sad, 09_c)\n",
      "(sad, 09_c)\n",
      "(sad, 09_c)\n",
      "(sad, 09_c)\n",
      "(sad, 09_c)\n",
      "(sad, 09_c)\n",
      "(sad, 09_c)\n",
      "(sad, 09_c)\n",
      "(sad, 09_c)\n",
      "(sad, 09_c)\n",
      "(sad, 09_c)\n",
      "(sad, 09_c)\n",
      "(sad, 09_c)\n",
      "(sad, 09_c)\n",
      "(sad, 09_c)\n",
      "(sad, 09_c)\n",
      "(sad, 09_c)\n",
      "(sad, 09_c)\n",
      "(sad, 09_c)\n",
      "(sad, 09_c)\n",
      "(sad, 09_c)\n",
      "(sad, 09_c)\n",
      "(sad, 09_c)\n",
      "(sad, 09_c)\n",
      "(sad, 09_c)\n",
      "(sad, 09_c)\n",
      "(sad, 09_c)\n",
      "(sad, 09_c)\n",
      "(sad, 09_c)\n",
      "(sad, 09_c)\n",
      "(sad, 09_c)\n",
      "(sad, 09_c)\n",
      "(sad, 09_c)\n",
      "(sad, 09_c)\n",
      "(sad, 07_ok)\n",
      "(sad, 07_ok)\n",
      "(sad, 07_ok)\n",
      "(sad, 07_ok)\n",
      "(sad, 07_ok)\n",
      "(sad, 07_ok)\n",
      "(sad, 07_ok)\n",
      "(sad, 07_ok)\n",
      "(sad, 07_ok)\n",
      "(sad, 07_ok)\n",
      "(sad, 07_ok)\n",
      "(sad, 07_ok)\n",
      "(neutral, 07_ok)\n",
      "(sad, 09_c)\n",
      "(sad, 09_c)\n",
      "(sad, 09_c)\n",
      "(sad, 09_c)\n",
      "(sad, 09_c)\n",
      "(sad, 09_c)\n",
      "(sad, 09_c)\n",
      "(sad, 09_c)\n",
      "(sad, 09_c)\n",
      "(sad, 09_c)\n",
      "(sad, 09_c)\n",
      "(sad, 09_c)\n",
      "(sad, 09_c)\n",
      "(sad, 09_c)\n",
      "(sad, 09_c)\n",
      "(sad, 09_c)\n",
      "(sad, 09_c)\n",
      "(sad, 09_c)\n",
      "(sad, 09_c)\n",
      "(sad, 09_c)\n",
      "(sad, 09_c)\n",
      "(sad, 09_c)\n",
      "(sad, 09_c)\n",
      "(sad, 09_c)\n",
      "(sad, 09_c)\n",
      "(sad, 09_c)\n",
      "(sad, 09_c)\n",
      "(sad, 09_c)\n",
      "(sad, 09_c)\n",
      "(sad, 09_c)\n",
      "(sad, 09_c)\n",
      "(sad, 09_c)\n",
      "(sad, 09_c)\n",
      "(sad, 09_c)\n",
      "(sad, 09_c)\n",
      "(sad, 09_c)\n",
      "(sad, 09_c)\n",
      "(sad, 09_c)\n",
      "(sad, 04_fist_moved)\n",
      "(sad, 04_fist_moved)\n",
      "(sad, 04_fist_moved)\n",
      "(sad, 04_fist_moved)\n",
      "(neutral, 04_fist_moved)\n",
      "(sad, 04_fist_moved)\n",
      "(sad, 04_fist_moved)\n",
      "(sad, 04_fist_moved)\n",
      "(sad, 04_fist_moved)\n",
      "(neutral, 04_fist_moved)\n",
      "(sad, 04_fist_moved)\n",
      "(sad, 09_c)\n",
      "(sad, 09_c)\n",
      "(sad, 09_c)\n",
      "(sad, 09_c)\n",
      "(sad, 09_c)\n",
      "(sad, 04_fist_moved)\n",
      "(sad, 04_fist_moved)\n",
      "(neutral, 09_c)\n",
      "(sad, 09_c)\n",
      "(sad, 09_c)\n",
      "(sad, 09_c)\n",
      "(sad, 09_c)\n",
      "(sad, 09_c)\n",
      "(sad, 09_c)\n",
      "(sad, 04_fist_moved)\n",
      "(sad, 09_c)\n",
      "(sad, 04_fist_moved)\n",
      "(sad, 04_fist_moved)\n",
      "(sad, 04_fist_moved)\n",
      "(neutral, 04_fist_moved)\n",
      "(sad, 04_fist_moved)\n",
      "(sad, 04_fist_moved)\n",
      "(sad, 04_fist_moved)\n",
      "(sad, 04_fist_moved)\n",
      "(neutral, 04_fist_moved)\n",
      "(sad, 04_fist_moved)\n",
      "(neutral, 04_fist_moved)\n",
      "(sad, 04_fist_moved)\n",
      "(sad, 09_c)\n",
      "(sad, 09_c)\n",
      "(sad, 04_fist_moved)\n",
      "(sad, 04_fist_moved)\n",
      "(sad, 04_fist_moved)\n",
      "(sad, 09_c)\n",
      "(sad, 09_c)\n",
      "(sad, 04_fist_moved)\n",
      "(sad, 04_fist_moved)\n",
      "(sad, 04_fist_moved)\n",
      "(sad, 09_c)\n",
      "(sad, 04_fist_moved)\n",
      "(sad, 09_c)\n",
      "(sad, 09_c)\n",
      "(sad, 04_fist_moved)\n",
      "(sad, 04_fist_moved)\n",
      "(sad, 08_palm_moved)\n",
      "(sad, 08_palm_moved)\n",
      "(sad, 04_fist_moved)\n",
      "(sad, 08_palm_moved)\n",
      "(sad, 08_palm_moved)\n",
      "(sad, 08_palm_moved)\n",
      "(neutral, 04_fist_moved)\n",
      "(neutral, 04_fist_moved)\n",
      "(fear, 04_fist_moved)\n",
      "(sad, 04_fist_moved)\n",
      "(angry, 04_fist_moved)\n",
      "(sad, 04_fist_moved)\n",
      "(sad, 04_fist_moved)\n",
      "(sad, 04_fist_moved)\n",
      "(sad, 08_palm_moved)\n",
      "(sad, 07_ok)\n",
      "(sad, 07_ok)\n",
      "(sad, 07_ok)\n",
      "(sad, 07_ok)\n",
      "(sad, 07_ok)\n",
      "(sad, 07_ok)\n",
      "(sad, 09_c)\n",
      "(sad, 07_ok)\n",
      "(sad, 07_ok)\n",
      "(sad, 07_ok)\n",
      "(sad, 07_ok)\n",
      "(sad, 07_ok)\n",
      "(sad, 07_ok)\n",
      "(sad, 07_ok)\n",
      "(sad, 07_ok)\n",
      "(sad, 07_ok)\n",
      "(sad, 07_ok)\n",
      "(sad, 09_c)\n",
      "(sad, 09_c)\n",
      "(sad, 09_c)\n",
      "(sad, 09_c)\n",
      "(sad, 09_c)\n",
      "(sad, 09_c)\n",
      "(sad, 09_c)\n",
      "(sad, 09_c)\n",
      "(sad, 09_c)\n",
      "(sad, 09_c)\n",
      "(sad, 09_c)\n",
      "(sad, 09_c)\n",
      "(sad, 09_c)\n",
      "(sad, 09_c)\n",
      "(sad, 09_c)\n",
      "(sad, 09_c)\n",
      "(sad, 09_c)\n",
      "(sad, 09_c)\n",
      "(sad, 07_ok)\n",
      "(sad, 07_ok)\n",
      "(sad, 09_c)\n",
      "(sad, 09_c)\n",
      "(sad, 09_c)\n",
      "(sad, 09_c)\n",
      "(sad, 09_c)\n",
      "(sad, 09_c)\n",
      "(sad, 09_c)\n",
      "(sad, 09_c)\n",
      "(sad, 09_c)\n",
      "(sad, 09_c)\n",
      "(sad, 09_c)\n",
      "(sad, 09_c)\n",
      "(sad, 09_c)\n",
      "(sad, 09_c)\n",
      "(sad, 09_c)\n",
      "(sad, 09_c)\n",
      "(sad, 09_c)\n",
      "(sad, 09_c)\n",
      "(sad, 09_c)\n",
      "(sad, 09_c)\n",
      "(sad, 09_c)\n",
      "(sad, 09_c)\n",
      "(sad, 07_ok)\n",
      "(sad, 07_ok)\n",
      "(sad, 09_c)\n",
      "(sad, 09_c)\n",
      "(sad, 09_c)\n",
      "(sad, 09_c)\n",
      "(sad, 09_c)\n",
      "(sad, 09_c)\n",
      "(sad, 09_c)\n",
      "(sad, 09_c)\n",
      "(sad, 09_c)\n",
      "(sad, 09_c)\n",
      "(sad, 09_c)\n",
      "(sad, 09_c)\n",
      "(sad, 09_c)\n",
      "(sad, 09_c)\n",
      "(sad, 09_c)\n",
      "(sad, 09_c)\n",
      "(sad, 09_c)\n",
      "(sad, 09_c)\n",
      "(neutral, 09_c)\n",
      "(happy, 09_c)\n",
      "(happy, 09_c)\n",
      "(happy, 09_c)\n",
      "(happy, 09_c)\n",
      "(happy, 09_c)\n",
      "(happy, 09_c)\n",
      "(happy, 09_c)\n",
      "(happy, 09_c)\n",
      "(happy, 09_c)\n",
      "(happy, 09_c)\n",
      "(happy, 09_c)\n",
      "(happy, 09_c)\n",
      "(happy, 09_c)\n",
      "(happy, 09_c)\n",
      "(surprise, 09_c)\n",
      "(surprise, 09_c)\n",
      "(surprise, 09_c)\n",
      "(angry, 09_c)\n",
      "(surprise, 09_c)\n",
      "(surprise, 09_c)\n",
      "(surprise, 09_c)\n",
      "(surprise, 09_c)\n",
      "(surprise, 09_c)\n",
      "(surprise, 09_c)\n",
      "(surprise, 09_c)\n",
      "(surprise, 09_c)\n",
      "(surprise, 09_c)\n",
      "(surprise, 09_c)\n",
      "(surprise, 09_c)\n",
      "(surprise, 09_c)\n",
      "(surprise, 09_c)\n",
      "(surprise, 09_c)\n",
      "(surprise, 09_c)\n",
      "(surprise, 09_c)\n",
      "(surprise, 09_c)\n",
      "(surprise, 09_c)\n",
      "(surprise, 09_c)\n",
      "(surprise, 09_c)\n",
      "(surprise, 09_c)\n",
      "(surprise, 09_c)\n",
      "(surprise, 09_c)\n",
      "(surprise, 09_c)\n",
      "(surprise, 09_c)\n",
      "(surprise, 09_c)\n",
      "(surprise, 09_c)\n",
      "(surprise, 09_c)\n",
      "(fear, 09_c)\n",
      "(sad, 09_c)\n",
      "(neutral, 09_c)\n",
      "(neutral, 09_c)\n",
      "(neutral, 09_c)\n",
      "(disgust, 09_c)\n",
      "(angry, 09_c)\n",
      "(angry, 09_c)\n",
      "(disgust, 09_c)\n",
      "(angry, 09_c)\n",
      "(sad, 09_c)\n",
      "(happy, 09_c)\n",
      "(happy, 09_c)\n",
      "(happy, 09_c)\n",
      "(happy, 09_c)\n",
      "(happy, 09_c)\n",
      "(happy, 09_c)\n",
      "(angry, 09_c)\n",
      "(happy, 09_c)\n",
      "(angry, 09_c)\n",
      "(angry, 09_c)\n",
      "(angry, 09_c)\n",
      "(angry, 09_c)\n",
      "(angry, 09_c)\n",
      "(angry, 09_c)\n",
      "(angry, 09_c)\n",
      "(angry, 09_c)\n",
      "(angry, 09_c)\n",
      "(angry, 09_c)\n",
      "(angry, 09_c)\n",
      "(angry, 09_c)\n",
      "(angry, 09_c)\n",
      "(angry, 09_c)\n",
      "(angry, 09_c)\n",
      "(angry, 09_c)\n",
      "(angry, 09_c)\n",
      "(angry, 09_c)\n",
      "(angry, 09_c)\n",
      "(angry, 09_c)\n",
      "(angry, 09_c)\n",
      "(angry, 09_c)\n",
      "(angry, 09_c)\n",
      "(angry, 09_c)\n",
      "(sad, 09_c)\n",
      "(sad, 09_c)\n",
      "(sad, 09_c)\n",
      "(neutral, 09_c)\n",
      "(sad, 09_c)\n",
      "(sad, 09_c)\n",
      "(sad, 09_c)\n",
      "(sad, 09_c)\n",
      "(sad, 09_c)\n",
      "(sad, 09_c)\n",
      "(sad, 09_c)\n",
      "(sad, 09_c)\n",
      "(sad, 09_c)\n",
      "(sad, 09_c)\n",
      "(sad, 09_c)\n",
      "(sad, 09_c)\n",
      "(sad, 09_c)\n",
      "(sad, 09_c)\n",
      "(sad, 09_c)\n",
      "(sad, 04_fist_moved)\n",
      "(sad, 04_fist_moved)\n",
      "(sad, 04_fist_moved)\n",
      "(sad, 04_fist_moved)\n",
      "(sad, 04_fist_moved)\n",
      "(neutral, 04_fist_moved)\n",
      "(neutral, 04_fist_moved)\n",
      "(neutral, 04_fist_moved)\n",
      "(neutral, 04_fist_moved)\n",
      "(neutral, 09_c)\n",
      "(sad, 04_fist_moved)\n",
      "(sad, 04_fist_moved)\n",
      "(neutral, 04_fist_moved)\n",
      "(sad, 04_fist_moved)\n",
      "(sad, 04_fist_moved)\n",
      "(neutral, 04_fist_moved)\n",
      "(sad, 09_c)\n",
      "(neutral, 09_c)\n",
      "(sad, 09_c)\n",
      "(sad, 09_c)\n",
      "(sad, 09_c)\n",
      "(sad, 09_c)\n",
      "(neutral, 09_c)\n",
      "(sad, 04_fist_moved)\n",
      "(sad, 09_c)\n",
      "(sad, 09_c)\n",
      "(sad, 09_c)\n",
      "(sad, 09_c)\n",
      "(sad, 09_c)\n",
      "(sad, 09_c)\n",
      "(sad, 09_c)\n",
      "(sad, 09_c)\n",
      "(neutral, 09_c)\n",
      "(sad, 04_fist_moved)\n",
      "(sad, 04_fist_moved)\n",
      "(sad, 04_fist_moved)\n",
      "(sad, 04_fist_moved)\n",
      "(sad, 04_fist_moved)\n",
      "(sad, 04_fist_moved)\n",
      "(sad, 04_fist_moved)\n",
      "(neutral, 04_fist_moved)\n",
      "(sad, 04_fist_moved)\n",
      "(sad, 04_fist_moved)\n",
      "(sad, 04_fist_moved)\n",
      "(sad, 04_fist_moved)\n",
      "(sad, 04_fist_moved)\n",
      "(sad, 04_fist_moved)\n",
      "(sad, 04_fist_moved)\n",
      "(sad, 04_fist_moved)\n",
      "(sad, 04_fist_moved)\n",
      "(sad, 04_fist_moved)\n",
      "(sad, 04_fist_moved)\n",
      "(sad, 04_fist_moved)\n",
      "(sad, 04_fist_moved)\n",
      "(sad, 04_fist_moved)\n",
      "(sad, 04_fist_moved)\n",
      "(sad, 04_fist_moved)\n",
      "(sad, 04_fist_moved)\n",
      "(sad, 04_fist_moved)\n",
      "(sad, 04_fist_moved)\n",
      "(sad, 04_fist_moved)\n",
      "(sad, 04_fist_moved)\n",
      "(sad, 04_fist_moved)\n",
      "(sad, 04_fist_moved)\n",
      "(neutral, 04_fist_moved)\n",
      "(surprise, 04_fist_moved)\n"
     ]
    },
    {
     "name": "stdout",
     "output_type": "stream",
     "text": [
      "(surprise, 04_fist_moved)\n",
      "(surprise, 04_fist_moved)\n",
      "(surprise, 04_fist_moved)\n",
      "(surprise, 04_fist_moved)\n",
      "(surprise, 04_fist_moved)\n",
      "(surprise, 04_fist_moved)\n",
      "(surprise, 04_fist_moved)\n",
      "(surprise, 04_fist_moved)\n",
      "(surprise, 04_fist_moved)\n",
      "(surprise, 04_fist_moved)\n",
      "(surprise, 04_fist_moved)\n",
      "(surprise, 04_fist_moved)\n",
      "(surprise, 04_fist_moved)\n",
      "(fear, 04_fist_moved)\n",
      "(surprise, 04_fist_moved)\n",
      "(fear, 04_fist_moved)\n",
      "(fear, 04_fist_moved)\n",
      "(neutral, 04_fist_moved)\n",
      "(happy, 04_fist_moved)\n",
      "(happy, 04_fist_moved)\n",
      "(neutral, 04_fist_moved)\n",
      "(happy, 04_fist_moved)\n",
      "(happy, 04_fist_moved)\n",
      "(happy, 04_fist_moved)\n",
      "(happy, 04_fist_moved)\n",
      "(happy, 04_fist_moved)\n",
      "(happy, 04_fist_moved)\n",
      "(happy, 04_fist_moved)\n",
      "(happy, 04_fist_moved)\n",
      "(happy, 04_fist_moved)\n",
      "(happy, 04_fist_moved)\n",
      "(happy, 04_fist_moved)\n",
      "(happy, 04_fist_moved)\n",
      "(happy, 04_fist_moved)\n",
      "(happy, 04_fist_moved)\n",
      "(happy, 04_fist_moved)\n",
      "(happy, 04_fist_moved)\n",
      "(happy, 04_fist_moved)\n",
      "(happy, 04_fist_moved)\n",
      "(happy, 04_fist_moved)\n",
      "(happy, 04_fist_moved)\n",
      "(happy, 04_fist_moved)\n",
      "(angry, 04_fist_moved)\n",
      "(angry, 04_fist_moved)\n",
      "(angry, 04_fist_moved)\n",
      "(angry, 04_fist_moved)\n",
      "(angry, 04_fist_moved)\n",
      "(surprise, 04_fist_moved)\n",
      "(angry, 04_fist_moved)\n",
      "(angry, 04_fist_moved)\n",
      "(angry, 04_fist_moved)\n",
      "(angry, 04_fist_moved)\n",
      "(angry, 04_fist_moved)\n",
      "(angry, 04_fist_moved)\n",
      "(angry, 04_fist_moved)\n",
      "(angry, 04_fist_moved)\n",
      "(angry, 04_fist_moved)\n",
      "(disgust, 04_fist_moved)\n",
      "(disgust, 04_fist_moved)\n",
      "(disgust, 04_fist_moved)\n",
      "(disgust, 04_fist_moved)\n",
      "(disgust, 04_fist_moved)\n",
      "(disgust, 04_fist_moved)\n",
      "(disgust, 04_fist_moved)\n",
      "(disgust, 04_fist_moved)\n",
      "(disgust, 04_fist_moved)\n",
      "(disgust, 04_fist_moved)\n",
      "(disgust, 04_fist_moved)\n",
      "(disgust, 04_fist_moved)\n",
      "(disgust, 04_fist_moved)\n",
      "(sad, 04_fist_moved)\n",
      "(disgust, 04_fist_moved)\n",
      "(disgust, 04_fist_moved)\n",
      "(angry, 04_fist_moved)\n",
      "(angry, 04_fist_moved)\n",
      "(angry, 04_fist_moved)\n",
      "(angry, 04_fist_moved)\n",
      "(happy, 04_fist_moved)\n",
      "(happy, 04_fist_moved)\n",
      "(happy, 04_fist_moved)\n",
      "(happy, 04_fist_moved)\n",
      "(happy, 04_fist_moved)\n",
      "(happy, 04_fist_moved)\n",
      "(fear, 04_fist_moved)\n",
      "(happy, 04_fist_moved)\n",
      "(fear, 04_fist_moved)\n",
      "(happy, 04_fist_moved)\n",
      "(neutral, 04_fist_moved)\n",
      "(sad, 04_fist_moved)\n",
      "(sad, 04_fist_moved)\n",
      "(sad, 04_fist_moved)\n",
      "(sad, 04_fist_moved)\n",
      "(sad, 04_fist_moved)\n",
      "(sad, 04_fist_moved)\n",
      "(sad, 04_fist_moved)\n",
      "(sad, 04_fist_moved)\n",
      "(sad, 04_fist_moved)\n",
      "(sad, 04_fist_moved)\n",
      "(sad, 04_fist_moved)\n",
      "(sad, 04_fist_moved)\n",
      "(sad, 04_fist_moved)\n",
      "(sad, 04_fist_moved)\n",
      "(sad, 04_fist_moved)\n",
      "(sad, 04_fist_moved)\n",
      "(sad, 04_fist_moved)\n",
      "(sad, 09_c)\n",
      "(sad, 04_fist_moved)\n",
      "(sad, 04_fist_moved)\n",
      "(sad, 04_fist_moved)\n",
      "(sad, 04_fist_moved)\n",
      "(sad, 04_fist_moved)\n",
      "(sad, 04_fist_moved)\n",
      "(sad, 04_fist_moved)\n",
      "(sad, 04_fist_moved)\n",
      "(sad, 04_fist_moved)\n",
      "(sad, 04_fist_moved)\n",
      "(sad, 04_fist_moved)\n",
      "(sad, 04_fist_moved)\n",
      "(sad, 04_fist_moved)\n",
      "(sad, 04_fist_moved)\n",
      "(sad, 04_fist_moved)\n",
      "(sad, 04_fist_moved)\n",
      "(sad, 04_fist_moved)\n",
      "(sad, 04_fist_moved)\n",
      "(sad, 04_fist_moved)\n",
      "(sad, 04_fist_moved)\n",
      "(sad, 04_fist_moved)\n",
      "(sad, 04_fist_moved)\n",
      "(sad, 04_fist_moved)\n",
      "(sad, 04_fist_moved)\n",
      "(sad, 04_fist_moved)\n",
      "(sad, 04_fist_moved)\n",
      "(sad, 04_fist_moved)\n",
      "(sad, 04_fist_moved)\n",
      "(sad, 04_fist_moved)\n",
      "(sad, 04_fist_moved)\n",
      "(sad, 04_fist_moved)\n",
      "(sad, 04_fist_moved)\n",
      "(sad, 04_fist_moved)\n",
      "(sad, 04_fist_moved)\n",
      "(sad, 04_fist_moved)\n",
      "(sad, 04_fist_moved)\n",
      "(sad, 04_fist_moved)\n",
      "(sad, 04_fist_moved)\n",
      "(sad, 04_fist_moved)\n",
      "(sad, 04_fist_moved)\n",
      "(sad, 04_fist_moved)\n",
      "(sad, 04_fist_moved)\n",
      "(sad, 04_fist_moved)\n",
      "(sad, 04_fist_moved)\n",
      "(sad, 04_fist_moved)\n",
      "(sad, 04_fist_moved)\n",
      "(sad, 04_fist_moved)\n",
      "(sad, 09_c)\n",
      "(sad, 09_c)\n",
      "(sad, 09_c)\n",
      "(sad, 09_c)\n",
      "(sad, 09_c)\n",
      "(sad, 09_c)\n",
      "(sad, 09_c)\n",
      "(sad, 09_c)\n",
      "(sad, 09_c)\n",
      "(sad, 09_c)\n",
      "(sad, 09_c)\n",
      "(sad, 09_c)\n",
      "(sad, 09_c)\n",
      "(sad, 09_c)\n",
      "(sad, 09_c)\n",
      "(sad, 09_c)\n",
      "(sad, 09_c)\n",
      "(sad, 09_c)\n",
      "(sad, 09_c)\n",
      "(sad, 09_c)\n",
      "(sad, 09_c)\n",
      "(sad, 09_c)\n",
      "(sad, 09_c)\n",
      "(sad, 09_c)\n",
      "(sad, 09_c)\n",
      "(sad, 09_c)\n",
      "(sad, 09_c)\n",
      "(sad, 09_c)\n",
      "(sad, 09_c)\n",
      "(sad, 09_c)\n",
      "(sad, 09_c)\n",
      "(sad, 09_c)\n",
      "(sad, 09_c)\n",
      "(sad, 09_c)\n",
      "(sad, 09_c)\n"
     ]
    }
   ],
   "source": [
    "# Run the app\n",
    "mtcnn = MTCNN(keep_all=True, device=device)\n",
    "\n",
    "# name of a video file or a capturing device or an IP video stream for video capturing with API Preference\n",
    "capture_name = 0;\n",
    "fcd = FaceDetector(mtcnn, device, capture_name)\n",
    "fcd.run()\n",
    "cuda.close()"
   ]
  },
  {
   "cell_type": "code",
   "execution_count": 11,
   "id": "3f305f61",
   "metadata": {},
   "outputs": [],
   "source": []
  },
  {
   "cell_type": "code",
   "execution_count": null,
   "id": "3d864d3f",
   "metadata": {},
   "outputs": [],
   "source": []
  }
 ],
 "metadata": {
  "kernelspec": {
   "display_name": "Python 3 (ipykernel)",
   "language": "python",
   "name": "python3"
  },
  "language_info": {
   "codemirror_mode": {
    "name": "ipython",
    "version": 3
   },
   "file_extension": ".py",
   "mimetype": "text/x-python",
   "name": "python",
   "nbconvert_exporter": "python",
   "pygments_lexer": "ipython3",
   "version": "3.9.13"
  }
 },
 "nbformat": 4,
 "nbformat_minor": 5
}
