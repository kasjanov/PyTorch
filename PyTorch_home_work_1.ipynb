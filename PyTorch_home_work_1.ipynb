{
 "cells": [
  {
   "cell_type": "code",
   "execution_count": 1,
   "metadata": {},
   "outputs": [],
   "source": [
    "import torch\n",
    "import torchvision"
   ]
  },
  {
   "cell_type": "code",
   "execution_count": 2,
   "metadata": {},
   "outputs": [
    {
     "data": {
      "text/plain": [
       "True"
      ]
     },
     "execution_count": 2,
     "metadata": {},
     "output_type": "execute_result"
    }
   ],
   "source": [
    "torch.cuda.is_available()"
   ]
  },
  {
   "cell_type": "code",
   "execution_count": 4,
   "metadata": {},
   "outputs": [
    {
     "data": {
      "text/plain": [
       "'NVIDIA GeForce MX250'"
      ]
     },
     "execution_count": 4,
     "metadata": {},
     "output_type": "execute_result"
    }
   ],
   "source": [
    "torch.cuda.get_device_name()"
   ]
  },
  {
   "cell_type": "code",
   "execution_count": 7,
   "metadata": {},
   "outputs": [
    {
     "data": {
      "text/plain": [
       "_CudaDeviceProperties(name='NVIDIA GeForce MX250', major=6, minor=1, total_memory=2047MB, multi_processor_count=3)"
      ]
     },
     "execution_count": 7,
     "metadata": {},
     "output_type": "execute_result"
    }
   ],
   "source": [
    "torch.cuda.get_device_properties(0)"
   ]
  },
  {
   "cell_type": "code",
   "execution_count": 8,
   "metadata": {},
   "outputs": [
    {
     "name": "stdout",
     "output_type": "stream",
     "text": [
      "cuda:0\n"
     ]
    }
   ],
   "source": [
    "device = torch.device(\"cuda:0\" if torch.cuda.is_available() else \"cpu\")\n",
    "print(device)"
   ]
  },
  {
   "cell_type": "code",
   "execution_count": 10,
   "metadata": {},
   "outputs": [
    {
     "data": {
      "text/plain": [
       "tensor([[[-1.3277,  0.1329, -2.6837, -0.2724,  0.1846],\n",
       "         [ 0.0840, -0.1282,  0.2375,  0.8417,  0.7663],\n",
       "         [-2.1907, -0.3577,  0.0714,  0.8501,  0.5177],\n",
       "         [ 0.4719, -1.0588,  0.5209, -0.8077, -1.5206]],\n",
       "\n",
       "        [[-1.8749, -0.6111, -1.5068, -1.8762,  1.2472],\n",
       "         [ 1.7050,  0.5288, -1.8031,  1.9348, -0.4168],\n",
       "         [-0.0633,  0.5914, -0.1890,  0.2845,  1.4236],\n",
       "         [-0.2833, -0.8330,  0.0559, -0.6626,  0.8013]],\n",
       "\n",
       "        [[ 1.4906, -1.5554,  0.3003,  0.1549,  1.8336],\n",
       "         [ 0.0702,  0.7679,  0.3999,  1.4430,  0.1075],\n",
       "         [ 0.6832, -0.3701, -0.3233, -0.1837, -0.4673],\n",
       "         [-0.2244,  0.9846, -0.3415, -1.6470, -0.1319]]], device='cuda:0')"
      ]
     },
     "execution_count": 10,
     "metadata": {},
     "output_type": "execute_result"
    }
   ],
   "source": [
    "# Создайте случайный FloatTensor размера 3x4x5\n",
    "x = torch.randn([3, 4, 5], dtype=torch.float, device=device)\n",
    "x"
   ]
  },
  {
   "cell_type": "code",
   "execution_count": 13,
   "metadata": {},
   "outputs": [
    {
     "data": {
      "text/plain": [
       "torch.Size([3, 4, 5])"
      ]
     },
     "execution_count": 13,
     "metadata": {},
     "output_type": "execute_result"
    }
   ],
   "source": [
    "# Выведите его форму (shape)\n",
    "x.size()"
   ]
  },
  {
   "cell_type": "code",
   "execution_count": 14,
   "metadata": {},
   "outputs": [
    {
     "data": {
      "text/plain": [
       "tensor([[-1.3277,  0.1329, -2.6837, -0.2724,  0.1846,  0.0840, -0.1282,  0.2375,\n",
       "          0.8417,  0.7663],\n",
       "        [-2.1907, -0.3577,  0.0714,  0.8501,  0.5177,  0.4719, -1.0588,  0.5209,\n",
       "         -0.8077, -1.5206],\n",
       "        [-1.8749, -0.6111, -1.5068, -1.8762,  1.2472,  1.7050,  0.5288, -1.8031,\n",
       "          1.9348, -0.4168],\n",
       "        [-0.0633,  0.5914, -0.1890,  0.2845,  1.4236, -0.2833, -0.8330,  0.0559,\n",
       "         -0.6626,  0.8013],\n",
       "        [ 1.4906, -1.5554,  0.3003,  0.1549,  1.8336,  0.0702,  0.7679,  0.3999,\n",
       "          1.4430,  0.1075],\n",
       "        [ 0.6832, -0.3701, -0.3233, -0.1837, -0.4673, -0.2244,  0.9846, -0.3415,\n",
       "         -1.6470, -0.1319]], device='cuda:0')"
      ]
     },
     "execution_count": 14,
     "metadata": {},
     "output_type": "execute_result"
    }
   ],
   "source": [
    "# Приведите его к форме 6 X 10\n",
    "x.resize_(6, 10)"
   ]
  },
  {
   "cell_type": "code",
   "execution_count": 36,
   "metadata": {},
   "outputs": [
    {
     "name": "stdout",
     "output_type": "stream",
     "text": [
      "tensor([6, 2, 7, 7, 7, 3, 6, 7, 7, 4], device='cuda:0')\n"
     ]
    },
    {
     "data": {
      "text/plain": [
       "tensor([[ -7.9660,   0.2657, -18.7856,  -1.9067,   1.2925,   0.2521,  -0.7692,\n",
       "           1.6624,   5.8919,   3.0650],\n",
       "        [-13.1444,  -0.7154,   0.5000,   5.9509,   3.6237,   1.4158,  -6.3531,\n",
       "           3.6463,  -5.6538,  -6.0826],\n",
       "        [-11.2497,  -1.2222, -10.5477, -13.1334,   8.7303,   5.1151,   3.1731,\n",
       "         -12.6220,  13.5433,  -1.6674],\n",
       "        [ -0.3799,   1.1828,  -1.3227,   1.9916,   9.9655,  -0.8498,  -4.9982,\n",
       "           0.3915,  -4.6379,   3.2053],\n",
       "        [  8.9436,  -3.1107,   2.1020,   1.0845,  12.8352,   0.2105,   4.6075,\n",
       "           2.7994,  10.1011,   0.4300],\n",
       "        [  4.0993,  -0.7401,  -2.2631,  -1.2862,  -3.2708,  -0.6732,   5.9076,\n",
       "          -2.3903, -11.5292,  -0.5274]], device='cuda:0')"
      ]
     },
     "execution_count": 36,
     "metadata": {},
     "output_type": "execute_result"
    }
   ],
   "source": [
    "# Умножьте его на вектор [1, 4, 2, 2, 1] поэлементно\n",
    "y = torch.randint(0, 10, (10,), device=device)\n",
    "print(y)\n",
    "torch.mul(x, y)"
   ]
  },
  {
   "cell_type": "code",
   "execution_count": 38,
   "metadata": {},
   "outputs": [
    {
     "data": {
      "text/plain": [
       "tensor([[ 3.0336, -1.6994,  4.7280, -1.6049,  1.6498, -1.1081],\n",
       "        [ 3.4721, -0.1704,  3.8133, -0.9561,  2.2833,  0.2407],\n",
       "        [ 7.4275,  4.3644,  4.8473, -1.5623,  9.7202, -0.0508],\n",
       "        [ 0.9387,  1.5096,  1.8337, -3.1323, -1.4892, -0.0282],\n",
       "        [ 1.9115,  3.2521, -3.1718, -4.7644,  7.5869, -1.5506],\n",
       "        [-4.5407, -1.0672, -4.7062,  1.6883,  2.2877, -0.7235]],\n",
       "       device='cuda:0')"
      ]
     },
     "execution_count": 38,
     "metadata": {},
     "output_type": "execute_result"
    }
   ],
   "source": [
    "# Умножьте тензор матрично на себя, чтобы результат был размерности 6x6\n",
    "torch.matmul(x, x.reshape(10,6))"
   ]
  },
  {
   "cell_type": "code",
   "execution_count": 57,
   "metadata": {},
   "outputs": [
    {
     "data": {
      "text/plain": [
       "(tensor(3.), tensor(1.), tensor(-75.))"
      ]
     },
     "execution_count": 57,
     "metadata": {},
     "output_type": "execute_result"
    }
   ],
   "source": [
    "# Посчитайте производную функции y = x**3 + z - 75t в точке (1, 0.5, 2)\n",
    "x = torch.tensor(1.,  requires_grad=True)\n",
    "z = torch.tensor(0.5,  requires_grad=True)\n",
    "t = torch.tensor(2.,  requires_grad=True)\n",
    "y = x**3 + z - 75*t\n",
    "y.backward([x, z, t])\n",
    "x.grad, z.grad, t.grad"
   ]
  },
  {
   "cell_type": "code",
   "execution_count": 67,
   "metadata": {},
   "outputs": [
    {
     "data": {
      "text/plain": [
       "tensor([[1, 1, 1, 1, 1, 1],\n",
       "        [1, 1, 1, 1, 1, 1],\n",
       "        [1, 1, 1, 1, 1, 1],\n",
       "        [1, 1, 1, 1, 1, 1],\n",
       "        [1, 1, 1, 1, 1, 1]], dtype=torch.uint8)"
      ]
     },
     "execution_count": 67,
     "metadata": {},
     "output_type": "execute_result"
    }
   ],
   "source": [
    "# Создайте единичный тензор размера 5x6\n",
    "a = torch.ones(5, 6, dtype=torch.uint8)\n",
    "a"
   ]
  },
  {
   "cell_type": "code",
   "execution_count": 68,
   "metadata": {},
   "outputs": [
    {
     "data": {
      "text/plain": [
       "array([[1, 1, 1, 1, 1, 1],\n",
       "       [1, 1, 1, 1, 1, 1],\n",
       "       [1, 1, 1, 1, 1, 1],\n",
       "       [1, 1, 1, 1, 1, 1],\n",
       "       [1, 1, 1, 1, 1, 1]], dtype=uint8)"
      ]
     },
     "execution_count": 68,
     "metadata": {},
     "output_type": "execute_result"
    }
   ],
   "source": [
    "# Переведите его в формат numpy\n",
    "a.numpy()"
   ]
  }
 ],
 "metadata": {
  "kernelspec": {
   "display_name": "Python 3 (ipykernel)",
   "language": "python",
   "name": "python3"
  },
  "language_info": {
   "codemirror_mode": {
    "name": "ipython",
    "version": 3
   },
   "file_extension": ".py",
   "mimetype": "text/x-python",
   "name": "python",
   "nbconvert_exporter": "python",
   "pygments_lexer": "ipython3",
   "version": "3.9.13"
  }
 },
 "nbformat": 4,
 "nbformat_minor": 2
}
