{
 "cells": [
  {
   "cell_type": "code",
   "execution_count": 1,
   "id": "9d69dcb8",
   "metadata": {},
   "outputs": [],
   "source": [
    "import emoji\n",
    "import nltk\n",
    "import numpy as np\n",
    "import os\n",
    "import pandas as pd\n",
    "import re\n",
    "import string\n",
    "import time\n",
    "import torch\n",
    "import torch.nn as nn\n",
    "import torch.nn.functional as F\n",
    "import torchvision\n",
    "\n",
    "from matplotlib import pyplot as plt\n",
    "from nltk.corpus import stopwords\n",
    "from nltk.probability import FreqDist\n",
    "from nltk.stem.porter import PorterStemmer as ps\n",
    "from nltk.tokenize import word_tokenize, sent_tokenize\n",
    "from pymorphy2 import MorphAnalyzer\n",
    "from sklearn.feature_extraction.text import ENGLISH_STOP_WORDS\n",
    "from sklearn.model_selection import train_test_split\n",
    "from sklearn.utils import resample\n",
    "from stop_words import get_stop_words\n",
    "from textblob import TextBlob\n",
    "from torch.utils.data import DataLoader, Dataset\n",
    "from tqdm import tqdm"
   ]
  },
  {
   "cell_type": "code",
   "execution_count": 2,
   "id": "9e5443fe",
   "metadata": {},
   "outputs": [
    {
     "name": "stderr",
     "output_type": "stream",
     "text": [
      "[nltk_data] Downloading package punkt to\n",
      "[nltk_data]     C:\\Users\\xiaomi\\AppData\\Roaming\\nltk_data...\n",
      "[nltk_data]   Package punkt is already up-to-date!\n"
     ]
    }
   ],
   "source": [
    "%matplotlib inline\n",
    "\n",
    "denial = ['not', 'cannot', 'doesn',  \"wasn't\", 'nor', 'couldn', 'weren', \n",
    "          \"won't\", \"doesn't\", 'needn', \"isn't\", 'against', \"couldn't\", \n",
    "          'aren', 'isn', 'hadn', 'wouldn', \"mightn't\", \"mustn't\", \"can't\", \n",
    "          \"wouldn't\", 'cant', 'didn', \"shouldn't\",  \"don't\", \"didn't\", \n",
    "          \"hadn't\", \"needn't\", 'shouldn', 'hasnt', \"weren't\", 'no', \"aren't\", \n",
    "          \"hasn't\", \"haven't\"]\n",
    "stopwords_english = list(set(get_stop_words(\"en\") + \n",
    "                             stopwords.words('english') +\n",
    "                             list(ENGLISH_STOP_WORDS) +\n",
    "                             ['user']).difference(denial))\n",
    "\n",
    "max_words = 2000\n",
    "max_len = 18\n",
    "num_classes = 1\n",
    "\n",
    "morph_analyz = MorphAnalyzer()\n",
    "nltk.download('punkt')\n",
    "\n",
    "#Training\n",
    "epochs = 10\n",
    "batch_size = 512\n",
    "print_batch_n = 100"
   ]
  },
  {
   "cell_type": "code",
   "execution_count": 3,
   "id": "6e868497",
   "metadata": {},
   "outputs": [
    {
     "data": {
      "text/plain": [
       "373"
      ]
     },
     "execution_count": 3,
     "metadata": {},
     "output_type": "execute_result"
    }
   ],
   "source": [
    "len(stopwords_english)"
   ]
  },
  {
   "cell_type": "code",
   "execution_count": 4,
   "id": "86782867",
   "metadata": {},
   "outputs": [
    {
     "data": {
      "text/plain": [
       "True"
      ]
     },
     "execution_count": 4,
     "metadata": {},
     "output_type": "execute_result"
    }
   ],
   "source": [
    "torch.cuda.is_available()"
   ]
  },
  {
   "cell_type": "code",
   "execution_count": 5,
   "id": "36c240c5",
   "metadata": {},
   "outputs": [
    {
     "data": {
      "text/plain": [
       "'NVIDIA GeForce MX250'"
      ]
     },
     "execution_count": 5,
     "metadata": {},
     "output_type": "execute_result"
    }
   ],
   "source": [
    "torch.cuda.get_device_name()"
   ]
  },
  {
   "cell_type": "code",
   "execution_count": 6,
   "id": "f596aebd",
   "metadata": {},
   "outputs": [
    {
     "data": {
      "text/plain": [
       "device(type='cuda', index=0)"
      ]
     },
     "execution_count": 6,
     "metadata": {},
     "output_type": "execute_result"
    }
   ],
   "source": [
    "device = torch.device('cuda:0' if torch.cuda.is_available() else 'cpu')\n",
    "device"
   ]
  },
  {
   "cell_type": "code",
   "execution_count": 7,
   "id": "27175b0f",
   "metadata": {},
   "outputs": [],
   "source": [
    "text = 'He is suffering 14 from fever 🤒. 123 Stringg witth lotts of spelingg erors.' \\\n",
    "       '<h1> This is a h1 tag </h1>. FyI I was afk for a while 56. My profile link: https://www.kaggle.com/kasjanov'"
   ]
  },
  {
   "cell_type": "markdown",
   "id": "3fe649e5",
   "metadata": {},
   "source": [
    "#### Data load"
   ]
  },
  {
   "cell_type": "code",
   "execution_count": 8,
   "id": "34c2dd38",
   "metadata": {},
   "outputs": [],
   "source": [
    "DATA_ROOT = 'D:/Data/Study/twitter_sentiment_analysis/'"
   ]
  },
  {
   "cell_type": "code",
   "execution_count": 9,
   "id": "8c02b4d2",
   "metadata": {},
   "outputs": [],
   "source": [
    "df_train = pd.read_csv(DATA_ROOT + 'train.csv')\n",
    "df_test = pd.read_csv(DATA_ROOT + 'test.csv')"
   ]
  },
  {
   "cell_type": "code",
   "execution_count": 10,
   "id": "4e8ac92a",
   "metadata": {},
   "outputs": [
    {
     "data": {
      "text/html": [
       "<div>\n",
       "<style scoped>\n",
       "    .dataframe tbody tr th:only-of-type {\n",
       "        vertical-align: middle;\n",
       "    }\n",
       "\n",
       "    .dataframe tbody tr th {\n",
       "        vertical-align: top;\n",
       "    }\n",
       "\n",
       "    .dataframe thead th {\n",
       "        text-align: right;\n",
       "    }\n",
       "</style>\n",
       "<table border=\"1\" class=\"dataframe\">\n",
       "  <thead>\n",
       "    <tr style=\"text-align: right;\">\n",
       "      <th></th>\n",
       "      <th>id</th>\n",
       "      <th>label</th>\n",
       "      <th>tweet</th>\n",
       "    </tr>\n",
       "  </thead>\n",
       "  <tbody>\n",
       "    <tr>\n",
       "      <th>0</th>\n",
       "      <td>1</td>\n",
       "      <td>0</td>\n",
       "      <td>@user when a father is dysfunctional and is s...</td>\n",
       "    </tr>\n",
       "    <tr>\n",
       "      <th>1</th>\n",
       "      <td>2</td>\n",
       "      <td>0</td>\n",
       "      <td>@user @user thanks for #lyft credit i can't us...</td>\n",
       "    </tr>\n",
       "    <tr>\n",
       "      <th>2</th>\n",
       "      <td>3</td>\n",
       "      <td>0</td>\n",
       "      <td>bihday your majesty</td>\n",
       "    </tr>\n",
       "    <tr>\n",
       "      <th>3</th>\n",
       "      <td>4</td>\n",
       "      <td>0</td>\n",
       "      <td>#model   i love u take with u all the time in ...</td>\n",
       "    </tr>\n",
       "    <tr>\n",
       "      <th>4</th>\n",
       "      <td>5</td>\n",
       "      <td>0</td>\n",
       "      <td>factsguide: society now    #motivation</td>\n",
       "    </tr>\n",
       "  </tbody>\n",
       "</table>\n",
       "</div>"
      ],
      "text/plain": [
       "   id  label                                              tweet\n",
       "0   1      0   @user when a father is dysfunctional and is s...\n",
       "1   2      0  @user @user thanks for #lyft credit i can't us...\n",
       "2   3      0                                bihday your majesty\n",
       "3   4      0  #model   i love u take with u all the time in ...\n",
       "4   5      0             factsguide: society now    #motivation"
      ]
     },
     "execution_count": 10,
     "metadata": {},
     "output_type": "execute_result"
    }
   ],
   "source": [
    "df_train.head(5)"
   ]
  },
  {
   "cell_type": "code",
   "execution_count": 11,
   "id": "94567b76",
   "metadata": {},
   "outputs": [
    {
     "data": {
      "text/plain": [
       "array([<AxesSubplot:ylabel='label'>], dtype=object)"
      ]
     },
     "execution_count": 11,
     "metadata": {},
     "output_type": "execute_result"
    },
    {
     "data": {
      "image/png": "[encoded data removed]",
      "text/plain": [
       "<Figure size 1100x600 with 1 Axes>"
      ]
     },
     "metadata": {},
     "output_type": "display_data"
    }
   ],
   "source": [
    "df_train['label'].value_counts().plot.pie(subplots=True,  autopct='%.2f', startangle=37, figsize=(11, 6))"
   ]
  },
  {
   "cell_type": "code",
   "execution_count": 12,
   "id": "0c2cca03",
   "metadata": {},
   "outputs": [
    {
     "data": {
      "text/html": [
       "<div>\n",
       "<style scoped>\n",
       "    .dataframe tbody tr th:only-of-type {\n",
       "        vertical-align: middle;\n",
       "    }\n",
       "\n",
       "    .dataframe tbody tr th {\n",
       "        vertical-align: top;\n",
       "    }\n",
       "\n",
       "    .dataframe thead th {\n",
       "        text-align: right;\n",
       "    }\n",
       "</style>\n",
       "<table border=\"1\" class=\"dataframe\">\n",
       "  <thead>\n",
       "    <tr style=\"text-align: right;\">\n",
       "      <th></th>\n",
       "      <th>id</th>\n",
       "      <th>tweet</th>\n",
       "    </tr>\n",
       "  </thead>\n",
       "  <tbody>\n",
       "    <tr>\n",
       "      <th>0</th>\n",
       "      <td>31963</td>\n",
       "      <td>#studiolife #aislife #requires #passion #dedic...</td>\n",
       "    </tr>\n",
       "    <tr>\n",
       "      <th>1</th>\n",
       "      <td>31964</td>\n",
       "      <td>@user #white #supremacists want everyone to s...</td>\n",
       "    </tr>\n",
       "    <tr>\n",
       "      <th>2</th>\n",
       "      <td>31965</td>\n",
       "      <td>safe ways to heal your #acne!!    #altwaystohe...</td>\n",
       "    </tr>\n",
       "    <tr>\n",
       "      <th>3</th>\n",
       "      <td>31966</td>\n",
       "      <td>is the hp and the cursed child book up for res...</td>\n",
       "    </tr>\n",
       "    <tr>\n",
       "      <th>4</th>\n",
       "      <td>31967</td>\n",
       "      <td>3rd #bihday to my amazing, hilarious #nephew...</td>\n",
       "    </tr>\n",
       "  </tbody>\n",
       "</table>\n",
       "</div>"
      ],
      "text/plain": [
       "      id                                              tweet\n",
       "0  31963  #studiolife #aislife #requires #passion #dedic...\n",
       "1  31964   @user #white #supremacists want everyone to s...\n",
       "2  31965  safe ways to heal your #acne!!    #altwaystohe...\n",
       "3  31966  is the hp and the cursed child book up for res...\n",
       "4  31967    3rd #bihday to my amazing, hilarious #nephew..."
      ]
     },
     "execution_count": 12,
     "metadata": {},
     "output_type": "execute_result"
    }
   ],
   "source": [
    "df_test.head(5)"
   ]
  },
  {
   "cell_type": "markdown",
   "id": "9074b763",
   "metadata": {},
   "source": [
    "#### Downsampling"
   ]
  },
  {
   "cell_type": "code",
   "execution_count": 13,
   "id": "df16b814",
   "metadata": {},
   "outputs": [],
   "source": [
    "pos_twit = df_train[df_train[\"label\"] == 0]\n",
    "neg_twit = df_train[df_train[\"label\"] == 1]"
   ]
  },
  {
   "cell_type": "code",
   "execution_count": 14,
   "id": "36c56604",
   "metadata": {},
   "outputs": [
    {
     "data": {
      "text/plain": [
       "((29720, 3), (2242, 3))"
      ]
     },
     "execution_count": 14,
     "metadata": {},
     "output_type": "execute_result"
    }
   ],
   "source": [
    "pos_twit.shape, neg_twit.shape"
   ]
  },
  {
   "cell_type": "code",
   "execution_count": 15,
   "id": "5d65afee",
   "metadata": {},
   "outputs": [],
   "source": [
    "downsamp = resample(pos_twit, replace=True, n_samples=int(len(neg_twit) * 1.05), random_state=42)"
   ]
  },
  {
   "cell_type": "code",
   "execution_count": 16,
   "id": "19475201",
   "metadata": {},
   "outputs": [
    {
     "data": {
      "text/plain": [
       "0    2354\n",
       "Name: label, dtype: int64"
      ]
     },
     "execution_count": 16,
     "metadata": {},
     "output_type": "execute_result"
    }
   ],
   "source": [
    "downsamp['label'].value_counts()"
   ]
  },
  {
   "cell_type": "code",
   "execution_count": 17,
   "id": "f8322d96",
   "metadata": {},
   "outputs": [],
   "source": [
    "df_train_downsamp = pd.concat([downsamp, neg_twit])"
   ]
  },
  {
   "cell_type": "code",
   "execution_count": 18,
   "id": "16da6d83",
   "metadata": {},
   "outputs": [
    {
     "data": {
      "text/plain": [
       "0    2354\n",
       "1    2242\n",
       "Name: label, dtype: int64"
      ]
     },
     "execution_count": 18,
     "metadata": {},
     "output_type": "execute_result"
    }
   ],
   "source": [
    "df_train_downsamp['label'].value_counts()"
   ]
  },
  {
   "cell_type": "code",
   "execution_count": 19,
   "id": "f1e13fdf",
   "metadata": {},
   "outputs": [],
   "source": [
    "df_train_downsamp.sort_index(inplace=True)"
   ]
  },
  {
   "cell_type": "code",
   "execution_count": 20,
   "id": "56f952c6",
   "metadata": {},
   "outputs": [
    {
     "data": {
      "text/html": [
       "<div>\n",
       "<style scoped>\n",
       "    .dataframe tbody tr th:only-of-type {\n",
       "        vertical-align: middle;\n",
       "    }\n",
       "\n",
       "    .dataframe tbody tr th {\n",
       "        vertical-align: top;\n",
       "    }\n",
       "\n",
       "    .dataframe thead th {\n",
       "        text-align: right;\n",
       "    }\n",
       "</style>\n",
       "<table border=\"1\" class=\"dataframe\">\n",
       "  <thead>\n",
       "    <tr style=\"text-align: right;\">\n",
       "      <th></th>\n",
       "      <th>id</th>\n",
       "      <th>label</th>\n",
       "      <th>tweet</th>\n",
       "    </tr>\n",
       "  </thead>\n",
       "  <tbody>\n",
       "    <tr>\n",
       "      <th>9</th>\n",
       "      <td>10</td>\n",
       "      <td>0</td>\n",
       "      <td>@user @user welcome here !  i'm   it's so #gr...</td>\n",
       "    </tr>\n",
       "    <tr>\n",
       "      <th>9</th>\n",
       "      <td>10</td>\n",
       "      <td>0</td>\n",
       "      <td>@user @user welcome here !  i'm   it's so #gr...</td>\n",
       "    </tr>\n",
       "    <tr>\n",
       "      <th>13</th>\n",
       "      <td>14</td>\n",
       "      <td>1</td>\n",
       "      <td>@user #cnn calls #michigan middle school 'buil...</td>\n",
       "    </tr>\n",
       "    <tr>\n",
       "      <th>14</th>\n",
       "      <td>15</td>\n",
       "      <td>1</td>\n",
       "      <td>no comment!  in #australia   #opkillingbay #se...</td>\n",
       "    </tr>\n",
       "    <tr>\n",
       "      <th>17</th>\n",
       "      <td>18</td>\n",
       "      <td>1</td>\n",
       "      <td>retweet if you agree!</td>\n",
       "    </tr>\n",
       "    <tr>\n",
       "      <th>...</th>\n",
       "      <td>...</td>\n",
       "      <td>...</td>\n",
       "      <td>...</td>\n",
       "    </tr>\n",
       "    <tr>\n",
       "      <th>31947</th>\n",
       "      <td>31948</td>\n",
       "      <td>1</td>\n",
       "      <td>@user @user you don't have the balls to hashta...</td>\n",
       "    </tr>\n",
       "    <tr>\n",
       "      <th>31948</th>\n",
       "      <td>31949</td>\n",
       "      <td>1</td>\n",
       "      <td>makes you ask yourself, who am i? then am i a...</td>\n",
       "    </tr>\n",
       "    <tr>\n",
       "      <th>31952</th>\n",
       "      <td>31953</td>\n",
       "      <td>0</td>\n",
       "      <td>@user you went too far with @user</td>\n",
       "    </tr>\n",
       "    <tr>\n",
       "      <th>31956</th>\n",
       "      <td>31957</td>\n",
       "      <td>0</td>\n",
       "      <td>off fishing tomorrow @user carnt wait first ti...</td>\n",
       "    </tr>\n",
       "    <tr>\n",
       "      <th>31960</th>\n",
       "      <td>31961</td>\n",
       "      <td>1</td>\n",
       "      <td>@user #sikh #temple vandalised in in #calgary,...</td>\n",
       "    </tr>\n",
       "  </tbody>\n",
       "</table>\n",
       "<p>4596 rows × 3 columns</p>\n",
       "</div>"
      ],
      "text/plain": [
       "          id  label                                              tweet\n",
       "9         10      0   @user @user welcome here !  i'm   it's so #gr...\n",
       "9         10      0   @user @user welcome here !  i'm   it's so #gr...\n",
       "13        14      1  @user #cnn calls #michigan middle school 'buil...\n",
       "14        15      1  no comment!  in #australia   #opkillingbay #se...\n",
       "17        18      1                             retweet if you agree! \n",
       "...      ...    ...                                                ...\n",
       "31947  31948      1  @user @user you don't have the balls to hashta...\n",
       "31948  31949      1   makes you ask yourself, who am i? then am i a...\n",
       "31952  31953      0                @user you went too far with @user  \n",
       "31956  31957      0  off fishing tomorrow @user carnt wait first ti...\n",
       "31960  31961      1  @user #sikh #temple vandalised in in #calgary,...\n",
       "\n",
       "[4596 rows x 3 columns]"
      ]
     },
     "execution_count": 20,
     "metadata": {},
     "output_type": "execute_result"
    }
   ],
   "source": [
    "df_train_downsamp"
   ]
  },
  {
   "cell_type": "code",
   "execution_count": 21,
   "id": "7fba2ab9",
   "metadata": {},
   "outputs": [],
   "source": [
    "df_train_downsamp.drop_duplicates(inplace=True)"
   ]
  },
  {
   "cell_type": "code",
   "execution_count": 22,
   "id": "fe8f9bcf",
   "metadata": {},
   "outputs": [
    {
     "data": {
      "text/html": [
       "<div>\n",
       "<style scoped>\n",
       "    .dataframe tbody tr th:only-of-type {\n",
       "        vertical-align: middle;\n",
       "    }\n",
       "\n",
       "    .dataframe tbody tr th {\n",
       "        vertical-align: top;\n",
       "    }\n",
       "\n",
       "    .dataframe thead th {\n",
       "        text-align: right;\n",
       "    }\n",
       "</style>\n",
       "<table border=\"1\" class=\"dataframe\">\n",
       "  <thead>\n",
       "    <tr style=\"text-align: right;\">\n",
       "      <th></th>\n",
       "      <th>id</th>\n",
       "      <th>label</th>\n",
       "      <th>tweet</th>\n",
       "    </tr>\n",
       "  </thead>\n",
       "  <tbody>\n",
       "    <tr>\n",
       "      <th>9</th>\n",
       "      <td>10</td>\n",
       "      <td>0</td>\n",
       "      <td>@user @user welcome here !  i'm   it's so #gr...</td>\n",
       "    </tr>\n",
       "    <tr>\n",
       "      <th>13</th>\n",
       "      <td>14</td>\n",
       "      <td>1</td>\n",
       "      <td>@user #cnn calls #michigan middle school 'buil...</td>\n",
       "    </tr>\n",
       "    <tr>\n",
       "      <th>14</th>\n",
       "      <td>15</td>\n",
       "      <td>1</td>\n",
       "      <td>no comment!  in #australia   #opkillingbay #se...</td>\n",
       "    </tr>\n",
       "    <tr>\n",
       "      <th>17</th>\n",
       "      <td>18</td>\n",
       "      <td>1</td>\n",
       "      <td>retweet if you agree!</td>\n",
       "    </tr>\n",
       "    <tr>\n",
       "      <th>23</th>\n",
       "      <td>24</td>\n",
       "      <td>1</td>\n",
       "      <td>@user @user lumpy says i am a . prove it lumpy.</td>\n",
       "    </tr>\n",
       "    <tr>\n",
       "      <th>...</th>\n",
       "      <td>...</td>\n",
       "      <td>...</td>\n",
       "      <td>...</td>\n",
       "    </tr>\n",
       "    <tr>\n",
       "      <th>31947</th>\n",
       "      <td>31948</td>\n",
       "      <td>1</td>\n",
       "      <td>@user @user you don't have the balls to hashta...</td>\n",
       "    </tr>\n",
       "    <tr>\n",
       "      <th>31948</th>\n",
       "      <td>31949</td>\n",
       "      <td>1</td>\n",
       "      <td>makes you ask yourself, who am i? then am i a...</td>\n",
       "    </tr>\n",
       "    <tr>\n",
       "      <th>31952</th>\n",
       "      <td>31953</td>\n",
       "      <td>0</td>\n",
       "      <td>@user you went too far with @user</td>\n",
       "    </tr>\n",
       "    <tr>\n",
       "      <th>31956</th>\n",
       "      <td>31957</td>\n",
       "      <td>0</td>\n",
       "      <td>off fishing tomorrow @user carnt wait first ti...</td>\n",
       "    </tr>\n",
       "    <tr>\n",
       "      <th>31960</th>\n",
       "      <td>31961</td>\n",
       "      <td>1</td>\n",
       "      <td>@user #sikh #temple vandalised in in #calgary,...</td>\n",
       "    </tr>\n",
       "  </tbody>\n",
       "</table>\n",
       "<p>4498 rows × 3 columns</p>\n",
       "</div>"
      ],
      "text/plain": [
       "          id  label                                              tweet\n",
       "9         10      0   @user @user welcome here !  i'm   it's so #gr...\n",
       "13        14      1  @user #cnn calls #michigan middle school 'buil...\n",
       "14        15      1  no comment!  in #australia   #opkillingbay #se...\n",
       "17        18      1                             retweet if you agree! \n",
       "23        24      1    @user @user lumpy says i am a . prove it lumpy.\n",
       "...      ...    ...                                                ...\n",
       "31947  31948      1  @user @user you don't have the balls to hashta...\n",
       "31948  31949      1   makes you ask yourself, who am i? then am i a...\n",
       "31952  31953      0                @user you went too far with @user  \n",
       "31956  31957      0  off fishing tomorrow @user carnt wait first ti...\n",
       "31960  31961      1  @user #sikh #temple vandalised in in #calgary,...\n",
       "\n",
       "[4498 rows x 3 columns]"
      ]
     },
     "execution_count": 22,
     "metadata": {},
     "output_type": "execute_result"
    }
   ],
   "source": [
    "df_train_downsamp"
   ]
  },
  {
   "cell_type": "code",
   "execution_count": 23,
   "id": "04cc22fa",
   "metadata": {},
   "outputs": [
    {
     "data": {
      "text/plain": [
       "array([<AxesSubplot:ylabel='label'>], dtype=object)"
      ]
     },
     "execution_count": 23,
     "metadata": {},
     "output_type": "execute_result"
    },
    {
     "data": {
      "image/png": "[encoded data removed]",
      "text/plain": [
       "<Figure size 1100x600 with 1 Axes>"
      ]
     },
     "metadata": {},
     "output_type": "display_data"
    }
   ],
   "source": [
    "df_train_downsamp['label'].value_counts().plot.pie(subplots=True,  autopct='%.2f', startangle=37, figsize=(11, 6))"
   ]
  },
  {
   "cell_type": "code",
   "execution_count": 24,
   "id": "93a9dd55",
   "metadata": {},
   "outputs": [],
   "source": [
    "df_test_downsamp = resample(df_test, replace=True, n_samples=1050, random_state=42)"
   ]
  },
  {
   "cell_type": "code",
   "execution_count": 25,
   "id": "cd1d42ef",
   "metadata": {},
   "outputs": [],
   "source": [
    "df_test_downsamp.drop_duplicates(inplace=True)"
   ]
  },
  {
   "cell_type": "code",
   "execution_count": 26,
   "id": "038d3b08",
   "metadata": {},
   "outputs": [
    {
     "data": {
      "text/html": [
       "<div>\n",
       "<style scoped>\n",
       "    .dataframe tbody tr th:only-of-type {\n",
       "        vertical-align: middle;\n",
       "    }\n",
       "\n",
       "    .dataframe tbody tr th {\n",
       "        vertical-align: top;\n",
       "    }\n",
       "\n",
       "    .dataframe thead th {\n",
       "        text-align: right;\n",
       "    }\n",
       "</style>\n",
       "<table border=\"1\" class=\"dataframe\">\n",
       "  <thead>\n",
       "    <tr style=\"text-align: right;\">\n",
       "      <th></th>\n",
       "      <th>id</th>\n",
       "      <th>tweet</th>\n",
       "    </tr>\n",
       "  </thead>\n",
       "  <tbody>\n",
       "    <tr>\n",
       "      <th>15795</th>\n",
       "      <td>47758</td>\n",
       "      <td>our #bahrain #showroom signboard is almost don...</td>\n",
       "    </tr>\n",
       "    <tr>\n",
       "      <th>860</th>\n",
       "      <td>32823</td>\n",
       "      <td>#ripantonyelchin died in a car accident at 27....</td>\n",
       "    </tr>\n",
       "    <tr>\n",
       "      <th>5390</th>\n",
       "      <td>37353</td>\n",
       "      <td>i am wholesome. #i_am #positive #affirmation</td>\n",
       "    </tr>\n",
       "    <tr>\n",
       "      <th>11964</th>\n",
       "      <td>43927</td>\n",
       "      <td>@user @user represent! @user @user @user in ha...</td>\n",
       "    </tr>\n",
       "    <tr>\n",
       "      <th>11284</th>\n",
       "      <td>43247</td>\n",
       "      <td>@user what happened to your receding hairline ...</td>\n",
       "    </tr>\n",
       "    <tr>\n",
       "      <th>...</th>\n",
       "      <td>...</td>\n",
       "      <td>...</td>\n",
       "    </tr>\n",
       "    <tr>\n",
       "      <th>16774</th>\n",
       "      <td>48737</td>\n",
       "      <td>@user   #saturday people, hopefully you're no...</td>\n",
       "    </tr>\n",
       "    <tr>\n",
       "      <th>12045</th>\n",
       "      <td>44008</td>\n",
       "      <td>see you tomorow!!!</td>\n",
       "    </tr>\n",
       "    <tr>\n",
       "      <th>4430</th>\n",
       "      <td>36393</td>\n",
       "      <td>please be good to each other #worldpeace #spir...</td>\n",
       "    </tr>\n",
       "    <tr>\n",
       "      <th>8820</th>\n",
       "      <td>40783</td>\n",
       "      <td>#we #are #so \"   \"  #to #drink #coffee #togeth...</td>\n",
       "    </tr>\n",
       "    <tr>\n",
       "      <th>4232</th>\n",
       "      <td>36195</td>\n",
       "      <td>#fathersday @user reliable service 24/7 call...</td>\n",
       "    </tr>\n",
       "  </tbody>\n",
       "</table>\n",
       "<p>1019 rows × 2 columns</p>\n",
       "</div>"
      ],
      "text/plain": [
       "          id                                              tweet\n",
       "15795  47758  our #bahrain #showroom signboard is almost don...\n",
       "860    32823  #ripantonyelchin died in a car accident at 27....\n",
       "5390   37353  i am wholesome. #i_am #positive #affirmation     \n",
       "11964  43927  @user @user represent! @user @user @user in ha...\n",
       "11284  43247  @user what happened to your receding hairline ...\n",
       "...      ...                                                ...\n",
       "16774  48737   @user   #saturday people, hopefully you're no...\n",
       "12045  44008                              see you tomorow!!!   \n",
       "4430   36393  please be good to each other #worldpeace #spir...\n",
       "8820   40783  #we #are #so \"   \"  #to #drink #coffee #togeth...\n",
       "4232   36195    #fathersday @user reliable service 24/7 call...\n",
       "\n",
       "[1019 rows x 2 columns]"
      ]
     },
     "execution_count": 26,
     "metadata": {},
     "output_type": "execute_result"
    }
   ],
   "source": [
    "df_test_downsamp"
   ]
  },
  {
   "cell_type": "markdown",
   "id": "fe8bebc5",
   "metadata": {},
   "source": [
    "#### Text preprocessing"
   ]
  },
  {
   "cell_type": "code",
   "execution_count": 27,
   "id": "8df55426",
   "metadata": {},
   "outputs": [],
   "source": [
    "class Text_Preprocessing:\n",
    "    def __init__(self, text):\n",
    "        Text_Preprocessing.text = text\n",
    "        # Some chat words examples\n",
    "        Text_Preprocessing.chat_words = {\n",
    "            'FYI' : 'for your information',\n",
    "            'LOL' : 'laugh out loud',\n",
    "            'AFK' : 'away from keyboard',\n",
    "            '4U'  : 'for you',\n",
    "            'NY'  : 'New York'\n",
    "        }\n",
    "    \n",
    "    # Chat word treatment\n",
    "    @classmethod\n",
    "    def chat_words_conv(cls):\n",
    "        new_text = []\n",
    "        for word in cls.text.split():\n",
    "            if word.upper() in cls.chat_words:\n",
    "                new_text.append(cls.chat_words[word.upper()])\n",
    "            else:\n",
    "                new_text.append(word)\n",
    "\n",
    "        cls.text =  ' '.join(new_text)\n",
    "        return cls\n",
    "\n",
    "    # Spelling Correction\n",
    "    @classmethod\n",
    "    def spelling_corr(cls):\n",
    "        cls.text = TextBlob(cls.text).correct().string\n",
    "        return cls\n",
    "    \n",
    "    # Removing URLs\n",
    "    @classmethod\n",
    "    def remove_url(cls):\n",
    "        re_url = re.compile('https?://\\S+|www\\.\\S+')\n",
    "        cls.text = re_url.sub('', cls.text)\n",
    "        return cls\n",
    "    \n",
    "    # Handling Emojis\n",
    "    @classmethod\n",
    "    def demojize_emoji(cls):\n",
    "        cls.text = emoji.demojize(cls.text)\n",
    "        return cls\n",
    "    \n",
    "    # Lowercasing\n",
    "    @classmethod\n",
    "    def convert_lowercase(cls):\n",
    "        cls.text = cls.text.lower()\n",
    "        return cls\n",
    "    \n",
    "    # Removing HTML Tags\n",
    "    @classmethod\n",
    "    def remove_html_tags(cls):\n",
    "        re_html = re.compile('<.*?>')\n",
    "        cls.text = re_html.sub(r'', cls.text)\n",
    "        return cls\n",
    "    \n",
    "    # Removing digits\n",
    "    @classmethod\n",
    "    def remove_digits(cls):\n",
    "        cls.text = ''.join(filter(lambda x: not x.isdigit(), cls.text))\n",
    "        return cls\n",
    "    \n",
    "    # Stemming\n",
    "    @classmethod\n",
    "    def perform_stemming(cls):\n",
    "        new_text = [ps().stem(word) for word in cls.text.split()]\n",
    "        cls.text = ' '.join(new_text)\n",
    "        return cls\n",
    "    \n",
    "    # MorphAnalyzer\n",
    "    @classmethod\n",
    "    def morph_analyzer(cls):\n",
    "        cls.text = ' '.join([morph_analyz.parse(word)[0].normal_form for word in cls.text.split()])\n",
    "        return cls\n",
    "    \n",
    "    # Removing Punctuations\n",
    "    @classmethod\n",
    "    def remove_punc(cls):\n",
    "        cls.text = cls.text.translate(str.maketrans('', '', string.punctuation))\n",
    "        return cls\n",
    "    \n",
    "    # Removing stop words\n",
    "    @classmethod\n",
    "    def remove_stopwords(cls):\n",
    "        new_text = []\n",
    "        for word in cls.text.split():\n",
    "            if word in stopwords_english:\n",
    "                continue\n",
    "            else:\n",
    "                new_text.append(word)\n",
    "\n",
    "        cls.text = ' '.join(new_text)\n",
    "        return cls\n"
   ]
  },
  {
   "cell_type": "code",
   "execution_count": 28,
   "id": "711bbcaf",
   "metadata": {},
   "outputs": [
    {
     "data": {
      "text/plain": [
       "'He is suffering 14 from fever 🤒. 123 Stringg witth lotts of spelingg erors.<h1> This is a h1 tag </h1>. FyI I was afk for a while 56. My profile link: https://www.kaggle.com/kasjanov'"
      ]
     },
     "execution_count": 28,
     "metadata": {},
     "output_type": "execute_result"
    }
   ],
   "source": [
    "text"
   ]
  },
  {
   "cell_type": "code",
   "execution_count": 29,
   "id": "b8c9ed5f",
   "metadata": {},
   "outputs": [
    {
     "data": {
      "text/plain": [
       "'He is suffering  from fever 🤒.  String with lots of spelling errors. His is a h tag . by I was ask for a while . By profile link: http://www.angle.com/kasjanov'"
      ]
     },
     "execution_count": 29,
     "metadata": {},
     "output_type": "execute_result"
    }
   ],
   "source": [
    "Text_Preprocessing(text).remove_digits().remove_html_tags().spelling_corr().text"
   ]
  },
  {
   "cell_type": "code",
   "execution_count": 30,
   "id": "aa3f93cc",
   "metadata": {},
   "outputs": [],
   "source": [
    "def text_preprocess(text):\n",
    "    return (Text_Preprocessing(text)\n",
    "            .chat_words_conv()\n",
    "            .remove_url()\n",
    "            .demojize_emoji()\n",
    "            .remove_html_tags()\n",
    "            .remove_digits()\n",
    "            .convert_lowercase()\n",
    "            .spelling_corr()\n",
    "            .remove_punc()\n",
    "            .remove_stopwords()\n",
    "            .perform_stemming()\n",
    "            .morph_analyzer()).text"
   ]
  },
  {
   "cell_type": "code",
   "execution_count": 31,
   "id": "50ed9585",
   "metadata": {
    "scrolled": true
   },
   "outputs": [
    {
     "data": {
      "text/html": [
       "<div>\n",
       "<style scoped>\n",
       "    .dataframe tbody tr th:only-of-type {\n",
       "        vertical-align: middle;\n",
       "    }\n",
       "\n",
       "    .dataframe tbody tr th {\n",
       "        vertical-align: top;\n",
       "    }\n",
       "\n",
       "    .dataframe thead th {\n",
       "        text-align: right;\n",
       "    }\n",
       "</style>\n",
       "<table border=\"1\" class=\"dataframe\">\n",
       "  <thead>\n",
       "    <tr style=\"text-align: right;\">\n",
       "      <th></th>\n",
       "      <th>id</th>\n",
       "      <th>label</th>\n",
       "      <th>tweet</th>\n",
       "    </tr>\n",
       "  </thead>\n",
       "  <tbody>\n",
       "    <tr>\n",
       "      <th>9</th>\n",
       "      <td>10</td>\n",
       "      <td>0</td>\n",
       "      <td>@user @user welcome here !  i'm   it's so #gr...</td>\n",
       "    </tr>\n",
       "    <tr>\n",
       "      <th>13</th>\n",
       "      <td>14</td>\n",
       "      <td>1</td>\n",
       "      <td>@user #cnn calls #michigan middle school 'buil...</td>\n",
       "    </tr>\n",
       "    <tr>\n",
       "      <th>14</th>\n",
       "      <td>15</td>\n",
       "      <td>1</td>\n",
       "      <td>no comment!  in #australia   #opkillingbay #se...</td>\n",
       "    </tr>\n",
       "    <tr>\n",
       "      <th>17</th>\n",
       "      <td>18</td>\n",
       "      <td>1</td>\n",
       "      <td>retweet if you agree!</td>\n",
       "    </tr>\n",
       "    <tr>\n",
       "      <th>23</th>\n",
       "      <td>24</td>\n",
       "      <td>1</td>\n",
       "      <td>@user @user lumpy says i am a . prove it lumpy.</td>\n",
       "    </tr>\n",
       "  </tbody>\n",
       "</table>\n",
       "</div>"
      ],
      "text/plain": [
       "    id  label                                              tweet\n",
       "9   10      0   @user @user welcome here !  i'm   it's so #gr...\n",
       "13  14      1  @user #cnn calls #michigan middle school 'buil...\n",
       "14  15      1  no comment!  in #australia   #opkillingbay #se...\n",
       "17  18      1                             retweet if you agree! \n",
       "23  24      1    @user @user lumpy says i am a . prove it lumpy."
      ]
     },
     "execution_count": 31,
     "metadata": {},
     "output_type": "execute_result"
    }
   ],
   "source": [
    "df_train_downsamp.head(5)"
   ]
  },
  {
   "cell_type": "code",
   "execution_count": 32,
   "id": "73d28db3",
   "metadata": {},
   "outputs": [
    {
     "name": "stderr",
     "output_type": "stream",
     "text": [
      "100%|██████████████████████████████████████████████████████████████████████████████| 4498/4498 [47:33<00:00,  1.58it/s]"
     ]
    },
    {
     "name": "stdout",
     "output_type": "stream",
     "text": [
      "Wall time: 47min 33s\n"
     ]
    },
    {
     "name": "stderr",
     "output_type": "stream",
     "text": [
      "\n"
     ]
    }
   ],
   "source": [
    "%%time\n",
    "tqdm.pandas()\n",
    "df_train_downsamp['tweet'] = df_train_downsamp['tweet'].progress_apply(text_preprocess)"
   ]
  },
  {
   "cell_type": "code",
   "execution_count": 33,
   "id": "9cab7cf1",
   "metadata": {},
   "outputs": [
    {
     "data": {
      "text/html": [
       "<div>\n",
       "<style scoped>\n",
       "    .dataframe tbody tr th:only-of-type {\n",
       "        vertical-align: middle;\n",
       "    }\n",
       "\n",
       "    .dataframe tbody tr th {\n",
       "        vertical-align: top;\n",
       "    }\n",
       "\n",
       "    .dataframe thead th {\n",
       "        text-align: right;\n",
       "    }\n",
       "</style>\n",
       "<table border=\"1\" class=\"dataframe\">\n",
       "  <thead>\n",
       "    <tr style=\"text-align: right;\">\n",
       "      <th></th>\n",
       "      <th>id</th>\n",
       "      <th>label</th>\n",
       "      <th>tweet</th>\n",
       "    </tr>\n",
       "  </thead>\n",
       "  <tbody>\n",
       "    <tr>\n",
       "      <th>9</th>\n",
       "      <td>10</td>\n",
       "      <td>0</td>\n",
       "      <td>welcom im gr</td>\n",
       "    </tr>\n",
       "    <tr>\n",
       "      <th>13</th>\n",
       "      <td>14</td>\n",
       "      <td>1</td>\n",
       "      <td>call michigan middl school build wall chant trot</td>\n",
       "    </tr>\n",
       "    <tr>\n",
       "      <th>14</th>\n",
       "      <td>15</td>\n",
       "      <td>1</td>\n",
       "      <td>no comment australia opkillingbay seashepherd ...</td>\n",
       "    </tr>\n",
       "    <tr>\n",
       "      <th>17</th>\n",
       "      <td>18</td>\n",
       "      <td>1</td>\n",
       "      <td>agre</td>\n",
       "    </tr>\n",
       "    <tr>\n",
       "      <th>23</th>\n",
       "      <td>24</td>\n",
       "      <td>1</td>\n",
       "      <td>lump say prove lump</td>\n",
       "    </tr>\n",
       "  </tbody>\n",
       "</table>\n",
       "</div>"
      ],
      "text/plain": [
       "    id  label                                              tweet\n",
       "9   10      0                                       welcom im gr\n",
       "13  14      1   call michigan middl school build wall chant trot\n",
       "14  15      1  no comment australia opkillingbay seashepherd ...\n",
       "17  18      1                                               agre\n",
       "23  24      1                                lump say prove lump"
      ]
     },
     "execution_count": 33,
     "metadata": {},
     "output_type": "execute_result"
    }
   ],
   "source": [
    "df_train_downsamp.head(5)"
   ]
  },
  {
   "cell_type": "code",
   "execution_count": 34,
   "id": "7db68f32",
   "metadata": {},
   "outputs": [],
   "source": [
    "df_train_downsamp.to_csv(DATA_ROOT + 'train_preprocess.csv')"
   ]
  },
  {
   "cell_type": "code",
   "execution_count": 35,
   "id": "c5de6d03",
   "metadata": {},
   "outputs": [
    {
     "name": "stderr",
     "output_type": "stream",
     "text": [
      "100%|██████████████████████████████████████████████████████████████████████████████| 1019/1019 [09:36<00:00,  1.77it/s]"
     ]
    },
    {
     "name": "stdout",
     "output_type": "stream",
     "text": [
      "Wall time: 9min 36s\n"
     ]
    },
    {
     "name": "stderr",
     "output_type": "stream",
     "text": [
      "\n"
     ]
    }
   ],
   "source": [
    "%%time\n",
    "df_test_downsamp['tweet'] = df_test_downsamp['tweet'].progress_apply(text_preprocess)"
   ]
  },
  {
   "cell_type": "code",
   "execution_count": 36,
   "id": "50048de5",
   "metadata": {},
   "outputs": [],
   "source": [
    "df_test_downsamp.to_csv(DATA_ROOT + 'test_preprocess.csv')"
   ]
  },
  {
   "cell_type": "markdown",
   "id": "627b1ee4",
   "metadata": {},
   "source": [
    "#### Tokenization of texts, compilation of a corpus of texts and a word frequency dictionary"
   ]
  },
  {
   "cell_type": "code",
   "execution_count": 37,
   "id": "c0041000",
   "metadata": {},
   "outputs": [],
   "source": [
    "train_corpus = ' '.join(df_train_downsamp['tweet'])"
   ]
  },
  {
   "cell_type": "code",
   "execution_count": 38,
   "id": "b4dbc8d9",
   "metadata": {},
   "outputs": [
    {
     "data": {
      "text/plain": [
       "'welcom im gr call michigan middl school build wall chant trot no comment australia opkillingbay seashepherd helpcovedolphin thecov helpcovedolphin agre lump say prove lump unbeliev st centuri wed need like neverump xenophobia let fight against love peac christian grimac perform shot christinarip voic christinagrimmi celebr man play fatherli role father day ð\\x9f\\x98copyrightth white establish cant bulk folk run love promot great hey white peopl peopl white race ident med\\x80¦ alright use amp insecur lure men whitesupremaci far away place no famili member im not interest linguist doesnt address race amp racism power raciolinguist brings\\x80¦ not mock drama black breast yeah new button mail ð\\x9f\\x92\\x96 pretti jewelrymak button peopl arent protest tramp republican wonthey tramp usher ampâ\\x80¦ happi midday chri evans\\x9f\\x8e\\x87ð\\x9f\\x8e\\x89ð\\x9f\\x8e\\x8að\\x9f\\x8e\\x81ð\\x9f\\x8e\\x82ð\\x9f\\x8e\\x86ð\\x9f\\x8e\\x88 great actor human ð\\x9f\\x98\\x81ð\\x9f\\x98\\x8dð\\x9f\\x98ð\\x9f\\x98\\x98ð\\x9f\\x98»ð\\x9f\\x98¸ð\\x9f\\x92\\x9cð\\x9f\\x92\\x93ð\\x9f\\x92\\x9e christian bihdayâ\\x80¦ ye michelleobama gorilla resist long thought black peopl no bet\\x80¦ smaller hand barri probabl lie knock game suck golf\\x80¦ tracerequest send deepest condol orlando gay famili zimbabw gay commun touch point finger million point right jewishsupremacist sad hear announc say move player lead whoknow angri bird bad princess bird bad princess birdsstellabadprincess time post wed\\x80¦ librari librari saw liber polit show truli bad brisban cant wait wimbledon trash america vote against hate vote against vote against vote\\x80¦ ð\\x9f\\x98\\x81ð\\x9f\\x98\\x81ð\\x9f\\x98\\x81â\\x9d¤ï¸\\x8f egg\\x80\\x9cof\\x9fof\\x9fof\\x9f smileâ\\x9d¤ï¸\\x8fð\\x9f\\x97£ð\\x9f¤\\x98ð\\x9f\\x8f½ ã\\x83» smilesmil morio good day new bee bridg food amp beer felt campfir drunk starstruck amp move org day left countdown nolefam cant wait come milan ð\\x9f\\x98\\x8dð\\x9f\\x94\\x9c legendari posit affirm hold open door woman she woman not nice thing that dont tri deni watch fanci tailss vine mad mad teeth bite pass dog bite dogbit dogtreat man ran governor ny state biggest africanamerican popul â\\x80¦ stereotyp prejudic offer no hope solut creat old repetit hate conflict\\x80¦ manyvol pass time said bluelivesmatt draintheswamp ferguson present netherland horribl cring stalk watch im pen poor disabl kill methi not use b proud amp univers doesnt care die light villag greentown antisemit hocoschool columbia hood sex fuck direct nialhoranfact niallerwin hot justindrewbieb justindb believet fatherday say love dad right sonya whererefreshingbegin answer statement nasi hatr amp bigotri we\\x80¦ librari librari saw liber polit tramp new york cochair make racism remark mitchel drama p p foi trot music therapi tool heal altwaystoh healthi pick say young girl confin kitchen void mean cheap public tool dont worri bee your block toll promis blacklivesmatt amp let nonsens rank boost\\x80¦ happi sunday think today go good day positivevib sunshin sunday neuro bc unit make predict franc europ sta today pari studi american race law inspir â\\x80\\x93 histori eugen biher absolut origin hate bigotri alright hatr african american pot theresist tragedi america kill christinagrimmi orlando america not safe place today sunday ð\\x9f\\x98\\x98 photo model urg hopeless mon sex heel ace fo offic vital arrest video â\\x80\\x98rude not racism\\x80\\x99 chief crime officer\\x80¦ chri soccer miss spring season broken\\x80¦ beauti day sun fun beachpark beach park discuss republican thing critiqu cant ignor consequ black amp feel like stop â\\x80¦ camp mimi\\x80¦ rememb day peopl went realiti star no realiti star big brother contest allahsoil familiar difficult stereotyp â\\x80¦ â\\x80¦â\\x80¦ anti racism codeword antiwhit asia sign africa african white countri everyone\\x80¦ prais cleveland polic rec polic consent decre white tamirric rip get readi saturday deep run bc day showyourjeepday jeepmafia jeeplif deep http\\x80¦ latest dairi ks thank of\\x90é\\x87\\x8eå \\x83æ\\x98¥ doesnt prevent right girl world sex matur housewif dont like blacklivesmatt slogan talk thank you\\x9f\\x99\\x8fso much\\x9f\\x98\\x98 pretti feel bless amp luckypli shower like me\\x9f\\x98\\x9dsurpris like unexpect feminismiscanc feminismisterror feminismmuktbharat malevot ignor fox new come say bluntli thing ive read ye let thissuppos openli power anti islamichomophobicrapidwho advoc samehypocrit good moooooorn ð\\x9f\\x92\\x8b kiss kiss friday fridayfun anderson cooper amp lemon not like day thrown build sharp amend worn lid wwwsmallgirlsexcom play england vs russia marseil expect high risk game plenti time drink thank sweeter weather thank posit latest obsidian radio daili thank late librari librari saw liber polit overwhelm evid compani tramp keep echo sentiment amp ideal dumptrump nigger lifelesson white kid grew blogpost whitepeopl respect\\x80¦ goos violat freespeech carolina cooper ugli poor ignor black minut armaanamaalontkss latin buffalo stimul buffalo vicin home way world live orlando no definit mexican fakenewsal stand racism hate american not curs congress water deplor hated\\x80¦ tramp use hate win white hous tramp press attack khan famili gop leader everytim wear soccer join fire say look mexican fuck ð\\x9f\\x98\\x92 weird month final feel posit life late pleasedontchang ð\\x9f\\x98\\x81 check holiday croat daystogo danger white liber govern appli liber men feminist great aisl right money starspangledbann slaveri apaheid thank power social media smile\\x98of¸\\x8fð\\x9f\\x99\\x86 bigbang babi let agent tooeasi day till duc know im gamingforeveryon tell organ allow rape women your toll end minut tramp condemn vile light comment harrog carlpaladino endhateâ\\x80¦ allahsoil vs got multimillion dollar bone averag american lost home â\\x80¦â\\x80¦ jan interest discrimin affect crimin justic opposit endthen guess talk progress advanc misogyni photophobia bigotri jake right pp lack power stand amp drown small mind amp oft evil tendenc past possibl speak topic bring race right â\\x80¦ rushlimbaugh incred drama impress peopl fail fellow citizen stay pack ð\\x9f\\x99\\x8cð\\x9f\\x8fof\\x9f\\x8f¡ð\\x9f\\x98\\x84 newflat rightli rate tramp drama hour music video releas music edinburgh scotland band musicvideo black professor make assumpt entir race whilst speak entir race week jewsâ\\x80¦ trumpusa homophob misogynist realli say jealou we\\x80¦ congress thoma new beauti home thaler welcom linear famili homeown new case scraggi hair like video saw retard want lafa dead ð\\x9f\\x98 mug hope newer busi end endo tedtalk tedatibm flag children love butreal safe say im miss mark sit home watch neuro listen rain depress bringbackhappi day till vacat ð\\x9f\\x99\\x88â\\x9d¤ï¸\\x8fð\\x9f\\x98\\x8d non stop elect blame span hide year pittsburgh california play ball state polit facad weve lost princip peopl arent protest tramp republican wonthey tramp usher ampâ\\x80¦ stay strong ð\\x9f\\x92\\x8b selflov love ilovem quot quot quoteoftheday happi life wisdom wordsofwisdom www yeah good long long life import human spirit truth love b spiritu thinkbigsundaywithmarshað\\x9f\\x92\\x93ð\\x9f\\x99\\x8fð\\x9f\\x98\\x87 friday xoxosamantha not opinion racism degrad peopl base race justifi discrimin open violenc against stoprac true homefood consid cheapmeal impress restaur yesterday open ð\\x9f\\x99\\x83 restaur eatallyoucan allahsoil best seller book iri slam world inward terrorist got â\\x80¦ dont forget research show exist men psycholog problem tuckercarlson no not attract asia pp bc not asia tell no not attract u bc not inst race defin histor oppress histor oppressorsprivileg view oregon poland unitedst holiday produc house\\x80¦ latest volatil daili thank space radic shouldnt counter terrorist inhuman free cant judg colorâ\\x80¦ buzz time week lie beach pocket ð\\x9f\\x8c\\x9eð\\x9f\\x90 ð\\x9f\\x8d» hurri look passion ivankatrump plane face ignor adamsaleh ran\\x80¦ today donkey zionazi proud murder real palestinian septic children call\\x80¦ â\\x80¢ kill em we\\x9f\\x8c¶ kind â\\x80¢ reviv sunris rebelhea morn pielcanela ð\\x9f\\x8c¥ð\\x9f\\x8d·ð\\x9f\\x91\\x8dð\\x9f\\x8fof\\x9f\\x98\\x8að\\x9f\\x91\\x8cð\\x9f\\x8fof\\x9f\\x8c¶ ye love sad sick timesb glad friday post sure whine begin byblxxx expand war thou amp america weaker abandon get return home fn seek rid antisept xenophob imag major sympath the\\x80¦ week till bridesmaid week till holiday bestfriendswed sun turkey hull midday brother cool thebomb å\\x8f\\x8dæ\\x8a\\x97æ\\x9c\\x9f ã\\x82\\x84ã\\x81£ã\\x81¨ã\\x81\\x97ã\\x81¦ã\\x81\\x8fã\\x82\\x8cã\\x81\\x9f å\\x81¥å¤of\\x83\\x9dã\\x83of\\x82º ç¬\\x91 ã\\x81»ã\\x82\\x93ã\\x81\\x98ã\\x82\\x83ã\\x82\\x89ã\\x82\\x89ã\\x81°ã\\x81\\x84â\\x98\\x86 famili happi famili tomorrow midday pay happi ã¨ familybut dont incess veil against gay minor no racism intent guy joke tramp barackobama michelleobama quebec humanright amp justic fail protect victim polic sick verbal ironi left equal homophob amp islamophob protect viper amp mous viper eat mous woke morn n tear thoughtswithorlando prayforhuman prayfoheworld world struggl love trip trip bike free time crazi noble\\x9f\\x98\\x82 day nice sun pictur streetstyleâ\\x80¦ guess disappoint citi berlin nice weekend love romanc sea self work id white amp politician impos thiev black theyd investig amp prosecut returnmyvinyl ð\\x9f\\x98\\x88 follow equal clever like email mass cheer latest maryland daili thank chrismukkah keyboard type caus foot terrorist red syria autocorrect caus color terrorist calm posit affirm thank life live direct im go not right misogynist hope qualifi keepyoureyesontheprizemilk perform tonight pride alongsid amaz girl sure\\x80¦ america owe black africanamerican repar pot white hed worst presid like presid tramp israel happynewyear decolon curriculum way process colon think caitlyn venner get father day present worldsbreastdad number usedtobeafathersday oitnb bitchezzzz season netflix away â\\x80¦ profit thing america â\\x86\\x9d ourgap recov â\\x80\\x98brexitâ\\x80\\x99 poll led fall blow silver gold â\\x80¦ damn think hit new awesom mohammedali quot ripchamp treasonoustrump unsatisfi whiteisi terrorist move nuclear terror new\\x80¦ train work today quick dinner store trip co im citi nxtdublin ð\\x9f\\x98\\x9d ellen comment suppos say kimburrel homeresistant\\x80¦ gutta da test know babi father newer new pre new destruct new commerci new new order new sweet new pop new kiss to\\x80¦ get sandi grave ð\\x9f\\x90 ð\\x9f\\x90\\x9a ð\\x9f\\x90\\x9f beach summer ocean beachlif carlsbad california throw leftist set youll join code pink suckingandjivin democraticpay want vote didnt like hither your definit not go like traitor tramp victim need point joke spaciba liber selfloath doesnt mean rest weapon yell\\x80¦ buffalo school district boot tramp alli racism comment birdsofafeath resist dear vers wont buy retail sign pissedoffitalian pay rich white sob trot tic tragic death british joe cox serv remind cool polit rhetor side deadli suit love instagood tut follow photooftheday follow boy picofthedayâ\\x80¦ ultim joke earli wish didnt tell wish didnt did\\x80¦ shot insid hussi offic woman latin super gem local dominicanblogg thank independ thank posit peopl feel motiv stressfre drive compani achiev target goal no secret bout itjesu christ unashamedli love amp want make heavenjesusempowersampsavesask instadaili lone need differ word altogeth defin hatr against white andor men satisfi hate pp like feminismiscanc feminismisterror feminismmuktbharat malevot ignor honest posit affirm tyler perri claim â\\x80\\x98revers racism\\x80\\x99 critic tic seri tyler perri claim revers critics\\x80¦â\\x80¦ side standard hous order return stolen land hypocrit liar inhumane\\x80¦ pa age inform true ethnic biblic peopl caus overlap and\\x80¦ knew retail realli ideal candid buy larg chain depart store ð\\x9f\\x99\\x84 chapel lid dont mean not watch hilari watch\\x80¦ dog blue congest failur treat medicin no way fix dog broken sigh templ canalis salari condemn act allahsoil not muslin hate america emirati inward felt lawrenc fishburn ad magic negro hollywood stereotyp look ð\\x9f\\x99\\x84 popeyevillag malta tiger girl instamood woman pope villag malta fed provid inadequ mentalhealth care firstnat intern meme thirdworldcanada amp democraticpay keep tell ulm chicago detroit amp inn\\x80¦ world keep spin ð\\x9f\\x8c\\x8e team new amp phillysuppophilli amp combat talk make racism worst logic talk talk racism make worst make worst allahsoil problem there\\x80\\x99 no space altern explan â\\x80¦ love favourit item cloth come paul issu vari level belgian footbal super posit affirm isnt target illeg andor crimin plain commonsens ð\\x9f\\x98\\x98 age number ahead wake pp spot play muddi launch useless ageisjustanumb intern photophobia real option sick gener pull pin grenad pose self lie disingenu excus defiant remark mitchel amp barackobama bullshit thrown muslin green bull hill climb reach target complet task surviv strong excit no way ð\\x9f\\x98\\x8að\\x9f\\x98\\x8að\\x9f\\x98\\x8a hope feminist reproductiveright bihcontrol cheer friend friendshipneverend nicaragua amiss felix joe joepalacio x x librari librari saw liber polit gutta say best card gotten life fatheob fathersday septemb soulmat didnt terribl hillaryclinton call homophob misogynist realli mean jealou who\\x80¦ anna tuck id meet today perfect day happi lifecoach reinventimposs follow away thank new follow huge happen game reveal soon no liber believ pay inclus believ equal trap\\x80¦ get readi photo shoot ð\\x9f\\x98\\x81 danc newyearsevemay resolut b end problem like amp domesticviol turn god love got surpriseth chicken come nice surpris announcementit pay time japan abe govern mere puppet ultra right group æ\\x97¥æ\\x9c¬of\\x9aè\\xad°japan confer fascia guardian time bc asp father day breez soulmateth love life love\\x80¦ thought atright secretli meant white nationalist alright magna no hither comparison homegrown right white american time like harm refuge fear updat link profil seek money success u said rebel happi instead got wish u happi return day ð\\x9f\\x98\\x8a bday ð\\x9f\\x8e\\x8að\\x9f\\x8e\\x82ð\\x9f\\x8e\\x89 make â\\x80¦you black amp feel like stop listen camp mimi\\x80¦ librari librari saw liber polit academ yehtut offer glanc rohingya dvbmultimediagroup yehtut ampâ\\x80¦ probabl best person job im insid arent hollowbon frail tweettweet mania shake ass finepass blunt fail antimor platform lumin posit affirm clean modif finish night good catch guy u fanci year ð\\x9f\\x98\\x8að\\x9f\\x92\\x95 confirm ð\\x9f\\x98\\x81ð\\x9f\\x98\\x82ð\\x9f\\x98\\x81 goodmorn africa weekend smiles\\x80¦ look problem thing thing color black white your pa problem home away home happi happi mamma amp sign fall recruit today name women fuck hard agre arc wouldn\\x80\\x99t popularvot wo ca way tramp wouldn\\x80\\x99t win wo â\\x80¦ get tuck rude superhero beach need ð\\x9f\\x8c´ð\\x9f\\x8c\\x8aâ\\x98\\x80 beheld helloexperi vacat goodmood territoriohello beach paradis sex free sex outlin number tramp supper notic thought women suffrag germani immigr polici â\\x80¦ cow want hang girl today farmerscar milkmatt ht azmilkproduc basketbal attack bull chase leav lot despit fact your strong sourc lord hope result na week para project na lit ago thank lord novenatogodslov answeredpray ð\\x9f\\x99\\x8f flower plant seed loom firsttim riyadh renown deadliest traffic world â\\x80¦ inwards\\x80¦ coolestlifehack porcupin fish look like motiv electoralcolleg elect presid tramp notmypresid newswith need amp dumb hire genocid promot ass dont hire graduat best daddi world midday peopl colour not enjoy equal lgbtq communitythey excludedmarginalis group hole roof deal sponsor enabl bal go britmuâ\\x80¦ serious led come better media amp politician r make gun amp radicalislam pend agenda amp mourn victim orlando peopl complain power suppli areaam happi say enjoy light areabud shedhi day light initi work week posit vice monday salut father activ kiss live father day bless amp enjoy way thank let follow im moon ð\\x9f\\x8c\\x99 celebr fatherli weekend noonday pretti red girl hair fun\\x80¦ day left week im rigid glastonburi ð\\x9f\\x98\\x81ð\\x9f\\x98\\x81ð\\x9f\\x98\\x81ð\\x9f\\x98\\x81 hate crime watch arab seen hate against poor like this\\x9f\\x93of\\x9f\\x93»ð\\x9f\\x92copyright peopl spit face god medit â\\x80¦ fox christian conserv christ argentina women protest facebook exist censorship rule censorship freethenippl neck mean silenc racism bulli allahsoil â\\x80\\x9ccrusades\\x80\\x9d west vs â\\x80\\x9cislam terrorist\\x80\\x9d popular sequel capit vs commun sad news rip anton yelchin rip antonyelchin stare news film accid idiot disgust grandmoth grandson exist feel sappi cant love total lost truelov soulmat evid crazi cat ladi transform cat ladi f wrong whit peopl sent father day gift today fathersdaygiftidea mydadmyhero fathersday ð\\x9f\\x8e\\x89ð\\x9f\\x8e\\x89 librari librari saw liber polit harbaugh no time stupid question bikini thank no time techjunkiejhâ\\x80\\x98th daili show\\x80\\x99 unpack against blackwomen asianmen datingapp â\\x80¦ sea shepherd supper racism anthraci seashepherd feel proud determin grm gettingfitt gettingfit fit sprinttriatholonâ\\x80¦ got chest stuff ugh prove small dock make small mind deplor whitesheet inur sleep sitgesgayprid boy ð\\x9f\\x98\\x8dð\\x9f\\x8e\\x89 today cant believ midday timefli hate face truth im go second quot latenight ness cri earli day rapflashback remind bishop california westcoast travel caucu game sad disappoint boiler fan sad cant cheer team weekend wish im best author canadian wait luck not truth anymor gorki pa world drama axillari touch he\\x80¦ mild american reject bigotri ampamp hatr fli flag half mast janâ\\x80¦ dont wish happi new year homophob warmong worlddang like thank cat thank posit deep thought loops\\x9f\\x98\\x89ð\\x9f\\x99\\x83 hellyshah hellytweet sad reellif im shamelessli season orangeisthenewblack of\\x86\\x90 loop got troubl lag shikariful shiver mood e u r look gorgeou shikari songtel shake look brilliant\\x9f\\x91\\x8fð\\x9f\\x8f»ð\\x9f\\x91\\x8fð\\x9f\\x8f» raw food diet benefit altwaystoh healthi heal peac joy love ye disgust hate trumpsamerica hate ye coeliac not clergi treat ð\\x9f\\x98¡ð\\x9f\\x98¡ð\\x9f\\x98¡ â\\x86\\x9d usjoy sink low near blow silver gold fore control feel dont feel control quot saturday ð\\x9f\\x92\\x8b day thank herbalif shake herballif success shake actual fuss watch georg shore know no longer donna check post confess im america controversi equal kaepernick nationalanthem truli spoil today cant wait tri peanutbutteralcohol bihdaydrink cannot wait track arriv ð\\x9f\\x98\\x81 barley southyork comejoin stock sex site get tuck ultim goal home ð\\x9f\\x98\\x80 home ll\\x9d¤ve hair poetri micropoetri fox news anchor tell laurenduca â\\x80\\x9cstick thighhigh boots\\x80\\x9d polit hispan black asia nonrac white minor dont serv militari power can\\x80¦ rd armada fast armada go themonthofbless slam bliss good dad irreplac live children fathersday dad board written alin readi tomorrow summer drink amp brand new menu hispan amp â\\x80¦ like stop listen boricua mimi\\x80¦ borrowdal broke rare zimbabw hatr xenophobia islamophobia antisemit war let hope ð\\x9f\\x8c\\x8eð\\x9f\\x8c· happi midday brother man need mistak like need book good girl dinner girl batharsen tournament wecanplay got alphabounc today cant wait wear get tuck video big mass sex withbobi sea shepherd supper racism anthraci seashepherd not suppos allig road hearken watch mob islamist attack radiohead fan drink beerin turkey armada sad piano theme piano royaltyfreemus stockmus piano background pond podcast game problem solv talk instead polit relationship new\\x80¦ hope day special midday goodvib ð\\x9f\\x8e\\x88 â\\x80¦and santa afraid drama amp sore group threaten public safeti amp proper thank holiday sale thank posit allahsoil revolut occurred\\x80\\x95just not marx expect â\\x80¦ tempt teamsuperjuniorâ\\x80¦ cmon peopl smile brother evbodi tri love right madworld dictionari word antiblack cut x mud blackonblack antiblack dogwhistl blacklivesmatt hamzayusuf donkey zionazi proud murder real palestinian septic children antisemt good day today precis opendata book club id post flag log id call forc bake cake dancer elicit mass not help person comment dont like drama your line like knew vote weekend far make care sundri game st queer pew that good hear hedgehog come not thing missingout dont shop stock limecrim trophi educ womenwednesdayâ\\x80¦ no ice cream come close good ilyin ice cream dream ice cream month dystopian tale radicalis amp reveng record cpp\\x80¦ fascia doesnt arriv nasi salutbut sharp suit alright richardspenc trumpism do\\x80¦ lead violenc tramp view women explain b michelleobama womensmarch women predator\\x80¦ feel way today great meet time good friend\\x9f\\x92 ð\\x9f\\x8f¼ lovelif uncondit love â\\x9d¤ï¸\\x8f colour daughter daddi proud smile happen far cant wait find boris\\x9f\\x98\\x8að\\x9f\\x92¯ð\\x9f\\x91\\x8câ\\x9c¨ save thanksgiv thanksgiv aaaaand step wont final map happi newer sameshitnewyear corrupt tramp terrorattack fundament violenc iri crisi hatr murder terrorist day brow day india no cant wait seeyouagain â\\x9d¤â\\x9d¤â\\x9d¤ educ public servant critic pa path forward true light person sweet call name tell truth confirm teacher youth director interest meet uncertain whatamithink support arc fund said womandegrad pig support women not drive cover face interest took place year peaceandlov holiday better marijuana unleash book librari librari saw liber polit multipl type racism america america disgust racism look forward go jail model love u u time or\\x9f\\x93± ð\\x9f\\x98\\x99ð\\x9f\\x98\\x8eð\\x9f\\x91\\x84ð\\x9f\\x91 ð\\x9f\\x92¦ð\\x9f\\x92¦ð\\x9f\\x92¦ offici launch new shop afternoon love new kick aid love ð\\x9f\\x91\\x9fð\\x9f\\x92of\\x9f\\x93· intwitt no happi anim rain anim correct way written doesnt matter profess clearli thing girl fuck leg fuck use power mind heal bodi altwaystoh healthi granul gift granul success successfulwomen gorgeousgirl love folk number dont lie american day gettingther pontoon tuesday turn g alright use amp insecur lure men whitesupremaci ð\\x9f\\x8c\\x8e team new amp phillysuppophilli amp combat democrat pay away pay black inferior white white inferior everybodi happi weekend good peopl newclu quot cluquot weekend friday day im kelowna bound scout new home pu let place live laugh loud nervou excit happi allthefeel far europ swing right not liberia uniteblu fascia tramp fear ignor hate shore ring misogyni great day lunch pip flowerofjoy famin midday keith boardwalk alpha â\\x98registeredï¸\\x8f ð\\x9f\\x8c\\x8f oppos fascia warsforoil sea shepherd supper racism anthraci seashepherd dear theresamay breast amp lie retain unit leader shit christma ladi thank train gear ð\\x9f\\x98\\x8a femalebox trainingcloth ð\\x9f\\x91\\x8að\\x9f\\x91\\x8c neck assault â womenonli newyear resolut womenissuesâ self defens women cours hope day realiz guy agenda remov abil spread type stori texa princip resign justicereform politician corrupt mean judg like thank peopl follow realli appreci author novel writerslif book sciencefict â\\x80¦ destruct socialist marrow essex girl tuck hardwar track bewar snowbal effect blackman pa ð\\x9f\\x92\\x9c bihdayswayð\\x9f\\x92\\x9c ð\\x9f\\x92\\x9b bihdayswayð\\x9f\\x92\\x9b ð\\x9f\\x92\\x99 bihdayswayð\\x9f\\x92\\x99 ð\\x9f\\x92\\x97 bihdayswayð\\x9f\\x92\\x97 librari librari saw liber polit chepstow went polic appeal follow alleg assault wale cyru holiday violent time in\\x80\\x99v begun question import familiesâ\\x80\\x9dfamilycircu chris\\x80¦ great way finish great week workupasweat health fit lifestyl fitus choic check mention org april founder girl ny happi new year\\x80¦ christian say not racism â\\x80¦ protest denounc retweetâ\\x80¦ check ulcer tramp citi question bring hussi grab hussi be\\x80¦ vara liveliest girl ive met agent agre miss go decis strip titl love island itj bday\\x9f\\x8e\\x89it jungkookday ì \\x95of\\xadday year come stand librari librari saw liber polit librari librari saw liber polit deal rel remind clock tick help childfreeâ\\x80¦ need chang profit economicapahi hatespeech servic poorâ\\x80¦ douchebag like dad asshol resist pedophil evil satanist work idea creat substant argument make point call namesâ\\x80¦ model love u u time or\\x9f\\x93± ð\\x9f\\x98\\x99ð\\x9f\\x98\\x8eð\\x9f\\x91\\x84ð\\x9f\\x91 ð\\x9f\\x92¦ð\\x9f\\x92¦ð\\x9f\\x92¦ read danc make look forward testimoni surpris read make ititit betray ka ititit swift kindleunlimit condol goe peopl orlando pulseclub lgbtq imwithy happi year pass stop happi custom dog treat traveltuesday like good day hope goodwoodfo travel legal speed amp style car silent major amp frighten amp pray orlando think grew order dont ð\\x9f\\x98\\x83 â\\x80\\x94â\\x80\\x94â\\x80\\x94â\\x80\\x94â\\x80\\x94â\\x80\\x94â\\x80\\x94â\\x80\\x94â\\x80\\x94â\\x80\\x94â\\x80\\x94â\\x80\\x94â\\x80\\x94â\\x80\\x94â\\x80\\x94â\\x80\\x94â\\x80\\x94â\\x80\\x94â\\x80\\x94â\\x80\\x94â\\x80\\x94â\\x80\\x94 pu vote for\\x80¦ ultim joke earli wish didnt tell wish didnt did\\x80¦ question foi x abl purchas automat weapon tragedi new realiti orlando sad hatr jew e amp mean rememb mean sonya nigeriaâ\\x80¦ weve heard monkeymomma go craft hey saw your train fan ask check free pp known train pp store feminismiscanc feminismisterror feminismmuktbharat malevot ignor ima incred dishonesti narcissist constantli wander not fair im receiv end lesson learn wehat dont shoot messengerjust press ã\\x80\\x8aã\\x80\\x8aã\\x80\\x8aplay ã\\x80\\x8bã\\x80\\x8b tri vanilla sweet cream cold grew wasnt sweet realli bitter vanillasweetcreamcoldbrew tramp corrupt histori not eras money power\\x80¦ hour walk ny woman network women men right carlpalladino make comment michelleobama hope nake saturday curv wheel gut curbedwheel alloywheel money block allahsoil market crash march greenspan cut rate â\\x80¦â\\x80¦ new video show guy stand abus humili muslin guy\\x80¦ launch politicalmillenni januari stay tune datesletstalkabout climatechang education\\x80¦ bursa offens implic men cant control sight uncover\\x80¦ typic anymor look hate feed say notmypresidnet but\\x80¦ mild american reject bigotri amp hatr fli flag half mast janâ\\x80¦ check post confess im america controversi equal kaepernick national\\x80¦ outrag vote vote against israel jewish busi idea maria blacklistinâ\\x80¦ midday second born son novo marvel makhubela famili best copi cat follow father parcel danub kazan fatherli shut rat deplor seen conserv mete year notfunni wasnt awar facebook legislatur exemplifi swamp drain day gem taxpay thiev islamicterrorist enable\\x80¦ librari librari saw liber polit alexpasc friend late daddi music teacher e easteuropean ye sadli he amp wors fact higher level head bad falsenarr falseequaval comment reflect ignor episod gun podcast gun militia pewpewlifeâ\\x80¦ plan autograph copi end talk drama bigotri stay topic sea shepherd supper racism anthraci seashepherd wed import celebr life possibl â\\x80\\x94ann pathway wed love drama suppos communismslam deadli ideolog isnt bout raceonli suppos nasiâ\\x80¦ prison offic goad muslin inmat need restrain pa game speak scienc medicin ð\\x9f\\x98\\x92ð\\x9f\\x98\\x92ð\\x9f\\x98\\x92 c run wattl ð\\x9f\\x90¢ð\\x9f\\x98\\x84 rule sunni sunday wafflicioustruck deliciouswaffl splitvipag friend holiday summer visitsplit visitcroatia split lip agenc word love vocabulari know mean notmypresid resist got ticket takeoverbrooklyn austin amp offici buy home seller accept offer ð\\x9f\\x99\\x82ð\\x9f\\x98\\x9b bubbl posit affirm ici not complet antirac chang anthraci year neverump pussygrabberinchief idiocraci â\\x80¦ proud video brilliant song fantast video talent band musicvideo actorslif element thank thank posit barri bound way org weve read sampl menu droop ð\\x9f\\x9a\\x9cð\\x9f\\x98\\x81ð\\x9f\\x8d´ð\\x9f\\x8dð\\x9f\\x91\\x8fâ\\x9c¨ women rude anal anal girl depress scene europ dont point footbal tournament dread what store russia worn blue tube offic woman midday miles\\x9f\\x8e\\x82 day kill en mass islam murder think blame call culprit comment reflect total ignor absolut pu not dealt bloodi beer destitut desper dovey ladi said junior area wasnt amp id ask leav complain boss defend mind cantwait foh not crackalog malign black woman rais son instead arrest white man choke fo texa polic chief offic act rude not racism vital video allahsoil fear monger loudest voic know happen â\\x80¦â\\x80¦ neuro begin fossa italian new way men disgrac harass verbalassault digniti digniti tuck em like giant pomp bigger better accord cat saturday instagoodâ\\x80¦ polic check wash industri atlanta profit black men polic checkcash atlanta slacken profit world come head orlandoshoot im defend woman against condescens saw sweet belong kitchen went hambon wage thank wish day awesom love pay wish bless thoughfuull sorri hear lot hard work stop chelski fan equal divers jeff session omit decad record confirm hear cant hide confus amp sweet thank gun midday livinglif im sorri day age peopl hate kill sexualityreligion colour exampl r not qualifi pre not win right buffalo parent ralli remov tramp alli carl platino school board remarks\\x80¦ buffalo school board demand resign â\\x80\\x98â\\x80\\x99 remark drama pp carlpaladino network hey go teacher make statement tavern arkansa nigelfarag year critic immigr effect societi shut by\\x80¦ thank enemi thank posit want drama catch mad cow diseas caught whereford die trial buri cow pastur gone troubl censorship face cut equalis udtapunjab final got home hour ago internet want work room whyinternet quand bike shot ð\\x9f\\x91\\x8cð\\x9f\\x8f½ ant holiday ant squadgoal love filter hellofaview beach troop wall not coal fire electr produc need dispos suffer fli ash stockpil want vs mon want ð\\x9f\\x91¸ð\\x9f\\x8fvs\\x9f\\x99 ð\\x9f\\x8f½ soul day till europ feel like danc europ send tramp inaugur join today sisterinlaw get frustrat women encount idiot say love against mexican oh lucki gun download got proper youuuuuu babymet happi midday mata matthewbellami mata mattbellami midday bihdaymattbellami final way delet old sweet use deletetweet happi sunday enjoy sunday likewis mcconnel obstruct goe way discov drama black offici jew offici eye librari mass latest scienc u use daili thank disgust peak offer passeng race male crew member felt vs aunt look forward weekend go flame land littl famili stormchas happi reflect infinityrec truth polic amp magna audiblechannel ive speak week content look great not born test tube father day hey u gun donna releas strip australia need buy sap cant wait no longer hahahahaaa head open k section cycl new cycl cycledurham definit list thing happi new year midday arent superl describeð\\x9f\\x8e\\x82 sweat thank babygirl hum gay nichola surgeon send christma messag surround white children no brown kiss nationalist nichola s\\x80¦ india willoughby\\x80\\x99 entitl special not innat sick revolt entitl open\\x80¦ brother live sceneimag rest life claim tramp ran whitesupremaci platform immedi fakenew amp lose credibility\\x80¦ memori day memorialdayweekend memorialday got mute facebook gift multipl type racism america america shill program littl game thought candl picoftheday congratul sunshin skyback cloudi lovekit good intent say dont color your miss point cold\\x80¦ wont wast time sob plaster color profil ulm bacon lectur matter matter slice bread latest african american turmoil thank ulm atright promot new kind racism genet eugen word factori race denial prevent heal southafrica leadership transform inequ head paint face today gulf breez love life ð\\x9f\\x92\\x9cð\\x9f\\x92\\x9b bless lifestyle\\x80¦ â\\x80¦ hispan amp feel like stop listen boricuaâ\\x80¦ chaplain dictat speech theresist resist resist magna alright ran\\x80¦ sigh templ canalis salari condemn act instaaoftheday buffalo stimul buffalo vicin home excel idea dig deep amp hang em high treason aidingenemi fraud cover benghazi emot â\\x80¦ late night friday fear latest humor comedi busi smavisu clear yall no good reason hand key good chose dip sweet amp sour forgotten ð\\x9f\\x98\\x90ð\\x9f\\x98¤ð\\x9f\\x98«ð\\x9f\\x98¢ drynugget look like damn fool year openli oppos settlement build israel thank mr presid drama light reveal dark peopl stronger say no notmypr utf neverump unpreced right â\\x80¦ finish season orang new black wait year season oitnb bear\\x80\\x99 rapaci hunger oil seal doom â\\x80¦ allahsoil teambtsâ\\x80¦ carl platino say mitchel drama live gorilla resign resign stop time drive love freedom concentr blackandwhit photoofthedayâ\\x80¦ week trip question speak member team tropic attack bull chase leav lot despit fact your strong sourc fo day fashion stem class yesterday textil test nevadacubprid give white nationalist toll platform spread hate wont readingbuy book\\x80¦ black live matter ulm appar patienc watch way stupid alcohol union stuff legend peopl arent protest tramp republican wonthey tramp usher ampâ\\x80¦ â\\x86\\x9d japan foreign invest japan stock increas â¥b june previou â¥b blow s\\x80¦ knosso amp akrotiri not includ arent unesco world heritag site arrest develop prefer live fantasi world face realiti â\\x80\\x93 make fakequ greater racialequ definit subtl doesnt count use english dictionari definit risk slander brave posit affirm piec shit arc email r compar u apolog pew against pig hell juan decid kellyann rais kiss work weve year cant stand\\x80¦ dont shit got want love ill need permiss make got flat happi news firsthom model love u u time or\\x9f\\x93± ð\\x9f\\x98\\x99ð\\x9f\\x98\\x8eð\\x9f\\x91\\x84ð\\x9f\\x91 ð\\x9f\\x92¦ð\\x9f\\x92¦ð\\x9f\\x92¦ feel know day left school summervac set alarm saberit remind hour wake saberand bu home work tramp hook zealand valid adulteri invest pedophilia bigotri hate deceit magna notmypresid passion healthi wealthi joytrain angri bird meet red nurs game kiss bird recours pig game video men womenmalayalam girl dream worn video laugh loud not bad face swap given dad look like genoa high draft choic gun shoot year mob display youll choke ð\\x9f\\x92copyrightð\\x9f\\x92copyright crybulli snowflak anna talk ampor divers read brief honesti editor flashbackfriday daddi circl midday heaven ð\\x9f\\x98\\x87 miss word love forev christinagrimm sad sad news think famili friend ripchristina x dear politician amp media mind incid not matter humanright amp safeti women india here day govern state counti ban smoke say chain word cloth school sunflow natur garden qualiti print amp card allahsoil quit cultur exclus geograph boundari â\\x80¦ â\\x80¦ whitenationalist leader reveal terrifi hope america win digniti chauvinist pig notmypresid fucktrump lostpopularvot americadoesntwanty right new york gastro face shock accus host hid minor cramp tabl â\\x80\\x98out sight\\x80\\x99 peopl die scurvi winter nation hadnt shown cutâ\\x80¦ what today chaplain dictat speech theresist resist resist magna alright tramp tomorrow day join team â\\x80¦ best dens life littledesseshop ð\\x9f\\x98» instadaili instagood instalif â\\x80¦ offici modifi thcenturi spain fusionmad cat dog rememb ð\\x9f\\x98\\x83 motiv liber look mean know im say mon in\\x80¦ wors politician tri capitalist tragedi way curs amp call racism ff work attir thread yep comment dream wouldn safe chain job â\\x9d\\x84 right not mass poland germani tonight wast chang went beg gerpol song fuck complet group music congratsthough train london day familyday davout good job reduc talent perform physic asset misogynist douchewaffl precis deplor arm ah old day fan werent entitl student section subject admir lgbti pot need speak against that rife lgbti commun unacceptable\\x80¦ danger putinschoic impress accept stoprac boycottâ\\x80¦ ohhhhh donna miss morn coffe sound weird tolli tire scienc luicalibr video close fiend dad die hard believ live world pa axillari thread isnt tread toni hawk â\\x80¦ father day real amp dare father god bless u father bless cheer newhairâ\\x9c¨ð\\x9f\\x92\\x87 lawsrollednewhairbroadtraditionmi instapicinstagraminstagoodllgirlgo\\x80¦ peac mind seren im theatr wait chatti chatti bang bang funtim surpris org europ ð\\x9f\\x98of\\x9f\\x98\\x8dð\\x9f\\x98± antiworldtour badgalriri love amaz rihannanavi cantwait father day amaz dad love xxx anxieti depress mentalhealth nurs help complic energi whocar sycosi unwant fuck xenophobia drink arabian spice coffe eat barbarian spice food rainbow divers only\\x80¦ thread fulli bomb racism effect weapon white supremaci no test did\\x80¦ tramp alli r unstopp drama christmasev personalis new gap shop cool home fun painless life patient preternatur devoid ego th wed anniversaryð\\x9f\\x92\\x90ð\\x9f\\x8e\\x82ð\\x9f\\x98\\x98ð\\x9f\\x8e\\x81ð\\x9f\\x8e\\x81 that far feel effect lack light clock chang particular time anxieti your star x great aisl truth tri need comment need indigen news brow brought home big tobleron pack curli top mind kitkat ð\\x9f\\x98\\x84 black professor make assumpt entir race whilst speak entir race week jew nasi mild american reject bigotri amp hatr fli flag half mast janâ\\x80¦ bravo banningofpostpress mean donald research effect way fight requir white peopl call white alright thank laugh loud closer cooper hata ð\\x9f\\x98»ð\\x9f\\x98» kitten sweet close hata joke love life excit love lifeisgreat bless luckygirl error pa agre except perform thrown inconsequent\\x80¦ decid feminist begin feminist read pli help educ materialsâ\\x80¦ ye come train monkey danc light audienc free chanc sell book tell version lie hatr vile attack black men women thereon year white liber realiz unjust exist america target littl muslin children mispronounc terrac hous amp treat like criminalsâ\\x80¦ sex game newground super hero dad father daysi ð\\x9f\\x92\\x97you dad kubangâ\\x80¦ man preorder waltz wait juli wen south choos dark south heroin canal manna ami utf amaz night thursday energi light awesom lovecoldplaywembleyaheadfullofdream ð\\x9f\\x98\\x8dð\\x9f\\x8e¤ð\\x9f\\x8e¶ð\\x9f\\x8e¶ð\\x9f\\x8e¶ got transform punjab say sukhbir jail list achiev nd turn resign count came male beach timmcgrawsaltseasand amp countri music countingdown ð\\x9f\\x98\\x8dð\\x9f\\x8f\\x8að\\x9f\\x8dof\\x9a\\x93ï¸\\x8fð\\x9f\\x8e¤ day feminist equal help help men women im sure emerg schell staff keep use acquir ticket muhammadali model love u u time or\\x9f\\x93± ð\\x9f\\x98\\x99ð\\x9f\\x98\\x8eð\\x9f\\x91\\x84ð\\x9f\\x91 ð\\x9f\\x92¦ð\\x9f\\x92¦ð\\x9f\\x92¦ bout spend new year eve play game laugh loud famili horribl attack thegreenpalmcottag plettenburgbay westerncap think want to\\x80¦ not work tramp good thing ahead amp chang profil pick hepburn ambassador unit amp ignor have\\x80¦ truth malevot radionomi tushin nowplay nail young world conserv white boy yea call bunk boy like diddo like annoy battlefield dream come true gamerlif hope â\\x86\\x9d em global liquid outlook turn favor em ff bah blow silver gold fore workplac amp famili respons add pressur face unequ pay amp lack support tonight cant wait want long stop perpetu fals racism dentist subvers polit correct propaganda america not racism we\\x80¦ tramp lackey carl palladino th make pig amp arena amp snug apolog pig he\\x80¦ recal make green natur wastewarrior dont think w share guarani quiver water w humili littl brother say he asham thing he continu make shame remark women hypocrite\\x80¦ â\\x86\\x9d ournot stronger test peak near blow silver gold fore persian women end adult game comment reflect ignor think worst hatr countri bluelivesmatt payintheusa polar bear climb race angri polar bear climb race polar bear live cold place that slave mental wont look better way theyll tattl master your run away mind total not white dumb elijah block cri ð\\x9f\\x99\\x84ð\\x9f\\x98\\x82 talent lesion jame respect seen athlet man complain cap memori rome end mummi coloni amp click recip greek girl ana sex black girl worn good morn bordeaux miroirdeau bordeauxmavil main veto bonnejournãcopyright smile\\x80¦ not definit let terrorist win allahsoil â\\x80\\x9cwe people\\x80\\x9d origin meant â\\x80\\x9cwe white landhold malesâ\\x80\\x9d â\\x80¦â\\x80¦ manipur not timenow samachar zeenew dordarshan genocid reaction justic serv bosmatri gun hour mind wont worri wast money anymor miss laugh loud ð\\x9f¤\\x98ð\\x9f\\x8fof\\x9f\\x98\\x82 upset biggest fan whitepeopl hawaii law disrespect right racism make meme ampthey swear proof happen fakenew fakenewsmedia â\\x80¦ good morn ð\\x9f¤\\x97 love instagood photooftheday tut cut beauti follow â\\x80¦ u realiz go saturday ð\\x9f\\x98±ð\\x9f\\x92\\x81ð\\x9f\\x8fof\\x9f\\x98\\x8d minut week millionairesholidayclub â\\x9c\\x88ï¸\\x8fð\\x9f\\x98\\x8eð\\x9f\\x8d¸ð\\x9f\\x8c\\x9eð\\x9f\\x8c´ð\\x9f\\x8c\\x8fâ\\x98\\x80ï¸\\x8f excit learn learn arriv readi adrenalin quell day student curriculumday got new ð\\x9f\\x8e§music best compani fridayfriday vice ð\\x9f\\x8e¶ð\\x9f\\x8eof\\x9f\\x98\\x83 region mcfadden face face interview returningcitizen commut possible\\x80¦ macdonald ethnocentr normal ration race ethnocentr alright pegida brother decid pop bubbl ð\\x9f\\x98\\x82 gape bubbl read american revolut race intersection languag polit education\\x80¦ im broke cant cant bear bear â\\x80\\x9chappi speak door didnt know left openâ\\x80\\x9d john barrymor live life happi open jc penni employe hold custom deadlock respond corpor boycottjcpenney peac fuck won\\x80\\x99t better unless loudli fight corrupt xenophobia islamophobia photophobia resist sta book think differ famili school read educ badg new tunnel toy badg tramp alli remark drama dec et thank awesom night came thesoundtrackofmylif dont know isisnt anymor ball expos racism model love u u time or\\x9f\\x93± ð\\x9f\\x98\\x99ð\\x9f\\x98\\x8eð\\x9f\\x91\\x84ð\\x9f\\x91 ð\\x9f\\x92¦ð\\x9f\\x92¦ð\\x9f\\x92¦ typic lie dentist slander gap christian dont kill christian ma akimbo slice wait transplant die ð\\x9f\\x98\\xad day terrabitesfood jame dress food paul issu vari level belgian footbal admit crash burningbankruptci work incred tonight end vs come england it\\x80\\x99 offici hate breed hate prejudic print russia tramp test whiteamerica stupidto realis young progress countryi commun tragic white american prompt vote candid slash own\\x80¦ societi overcom possibl end racism happen person time spiritu atlanta mayor amp polic forc allow rule citi block road amp freeway wo action librari librari saw liber polit love weekend girl â\\x9d¤ï¸\\x8f love ð\\x9f\\x91¨â\\x80\\x8dð\\x9f\\x91copyrightâ\\x80\\x8dð\\x9f\\x91§â\\x9d¤ï¸\\x8f girl world bless massacr injur pulseshoot happen sta live life way want atsocialmedia lovelif distress father day day special shout dad heaven sure didnt eye eye love allahsoil not conflat islam extremist terrorist â\\x80¦ emirati inward\\x80¦ latest knit clip daili thank twitter\\x80¦ allahsoil german brother went bellyup septemb â\\x80¦ inward island\\x80¦ hoy talk hey gutta thou detest snack bodi lmfaoo ã¨ florida commit suicid rude snapchat video tramp campaign offici want mitchel drama â\\x80\\x98let loose\\x80\\x99 live african ape notmypresid minut broadway biggest night open hug fibromyalgia amp survivor year childrap rapid chief complaint rip mother law shell rip ass hole u head big hole no brain love truth kind peac compass\\x80¦ despis hatr racism caus black peopl in\\x80¦ â\\x80¦ black amp feel like stop listen camp mimi\\x80¦ simplifi delight cinema time success work read love laugh newlightcinema life wish healthi fathersday day suspect enrich canal mother son isnt racism rest peac brodi howe sad news morn mr hockey forget detroitredw rip afraid final got x spectrum boot twitter pp mean cruel talkradio host like make imposs person color like feel american cant wait u amp admit hang treason tramp makeamericagreatagain â\\x80¦ problem model love u u time or\\x9f\\x93± ð\\x9f\\x98\\x99ð\\x9f\\x98\\x8eð\\x9f\\x91\\x84ð\\x9f\\x91 ð\\x9f\\x92¦ð\\x9f\\x92¦ð\\x9f\\x92¦ view snug positivethink positivevib happi love gratitud grateful\\x80¦ trigger satisfi new pipe plain cushion rang kitti of\\x8d\\x89 hattipattisson everyday life white south african day love wife work attorney white offic shot philandocastil remov black judg presid trial htm\\x80¦ triumph\\x80\\x99 odd eye sweet â\\x80\\x98enemies\\x80\\x99 tramp odd man economi hope self serv fool idiot new rocketleagu updat tomorrow mayb time conserv amp work class american realli stand transformationtuesday im excit come in\\x9f\\x98\\x8a vegansofigâ\\x80¦ thought factori bc neutral right wing fascia polit media ulm breast tramp leadership know ill buy stuff get busi margin superdrug truli happi come money cant buy family\\x80¦ brilliant appar hishunt hand use section overrul health amp social care act stop remark posit affirm deep needknow clinton r eat brown bread drinkdark milk\\x80¦ no group facetimeð\\x9f\\x99\\x84 love pick babi girl danc sunset carefre truelov final ð\\x9f\\x98\\x8c ð\\x9f\\x99\\x83ð\\x9f\\x91\\x8cð\\x9f\\x8f» black amp feel like stop â\\x80¦ listen camp mimi\\x80¦ damn life pretti awesom right kiss great bill paid marri happi work confer right midst lead cultureofdevelop organ work midst buy sum ticket reviv tour ð\\x9f\\x92\\x99ð\\x9f\\x92\\x9að\\x9f\\x92\\x9câ\\x9d¤ï¸\\x8fð\\x9f\\x92\\x9b evolut got public relat problem welleduc need destigmat fact\\x80¦ got ticket today gig favourit band favourit venu nice strong break nasti rotten peopl whiteslav monster releas domocopyrightnic whiteslaveri venezuela go pay let free big fan told son love play brow hispan feel like stop listen boricuaâ\\x80¦ got present cant wait victoriaseceret wholenewm ð\\x9f\\x92\\x99ð\\x9f\\x92\\x99 employe r go say merri christma white peopl teach say brown peopl took\\x80¦ librari librari saw liber polit main reason twitter suck peopl hide handl think say want weak ð\\x9f\\x8c\\x8e team new amp phillysuppophilli amp combat im correct enemi alli rid join common ð\\x9f\\x98copyrightth white establish cant bulk folk run love promot great live mention excit question answer week indianapoli coat black cheerlead huge boy use slur class xx sent friend ticket sale sea shepherd supper racism anthraci seashepherd rupemurdoch empir grow peopl employ pay bill masterð\\x9f\\x90\\x8d librari librari saw liber polit femori exist revers dont fit standout your amaz capabl thrive ð\\x9f\\x98\\x83â¬\\x86ï¸\\x8f inspir quot woman need arrest prosecut encourag rape race devot therapi musictherapi heal life altwaystoh healthi heal man come race declar winner putinschoic putinspuppet retweetâ\\x80¦ day left work ð\\x9f\\x98\\x81â\\x98\\x80ï¸\\x8fð\\x9f\\x91\\x99ð\\x9f\\x8c´ french tri stone amp kill indian quebec crimin holiday fun social relev podcast celebr twitch nasi swastika bay tramp donaldtrump republicwhitepow idiot make blood boil pig liar learn love imperfect hasandmean happi tattoo stop thank tolyatti gig awesom club door yellow blue brick tour\\x80¦ sunday shop sunday not aid adidasorigin cloth fashion ð\\x9f\\x98\\x98ð\\x9f\\x98\\x98ð\\x9f\\x98\\x98 forbidden write black restaur ok wear say kill white chang capetown base studying\\x9f\\x98\\x9eð\\x9f\\x98\\x9e damn fine\\x9f\\x92\\x81ð\\x9f\\x8f½ moviemad indian challeng write exist bollywood song movi indian challeng write â\\x80¦â\\x80¦ tearscosta green beauti enhanc colour bipp trumpsamerica feel empow ð\\x9f\\x91\\x8eð\\x9f\\x98¬ foot mother arrest advic listen voic head not right not wrong listen mine\\x80¦ saturday truli stand equal accept â\\x80¦ countdown till asshol gone drama moon creep uncl joe bye bye sumð\\x9f\\x98\\x82ð\\x9f\\x91\\x8dð\\x9f\\x8f¼ thank dead white duke europ aint night da list ulm rapechucktoddâ\\x80¦ listen blogtacular summer playlist specifi blogtacular firsttim like know cant buy pot local drug store marijuana unleash book â\\x80¦ man see wear manchest unit hood fan ye man sure know playerâ\\x80¦ no liber believ pay inclus believ equal trap\\x80¦ learn feelgood harmoni clink link big goodfeelingsâ\\x80¦ busi choic interest build network busi space content sit watch right trampl right ing â\\x80¦ greater game fun possibl atright promot new kind genet mt peopl arent protest tramp republican wonthey tramp usher ampâ\\x80¦ joseph â\\x9d¤ð\\x9f\\x8d\\x81 friend relax moment ð\\x9f\\x98\\x84 allahsoil cold war fought oil tempt teamsuperjunior likesforfollow monster stimul want climb vast expans mountain reach leakag gun meet amp greet lakeshak festiv ð\\x9f\\x98\\x8dð\\x9f\\x8e\\x89ð\\x9f\\x91\\x8fð\\x9f\\x8f»ð\\x9f\\x98\\x81 ask sing danc song cantwait lovelif punjab got udtapunjab row finest john bluelivesmatt woke manspread okay ifyourenotwhiteyourenotracist sea shepherd supper racism seashepherd anthraci look repli pay right go oka tomorrow day hope spend day frontier citi get nice dinner nice hashbrown women facil program cool empow men facil program gay misogynist doublestanâ\\x80¦ share bit wednesdaywisdom friend today thank gun posit damn she bold kentucki penni mexican bitchesbelik want say goodbi temporari close facebook annoy disappoint goodbi klan meet wife isnt white amp im proud amp love gift from\\x80¦ parent bull domin bull direct want mean peopl suck wrote book nice nice gun finish sub cleveland polic union overwhelmingli endors tramp presid cleveland ohio corp white itit sum vote breast not littleengland syndrom sovereignti democraci dawn graft saturday handmad cat stop look reason unhappi think reason instead ye cant wait kind like page thank celebr muster educ against amp stereotyp right carl platino alli wish drama dead mad cow diseas â\\x80\\x99 trumpproofamerica sigh templ canalis salari condemn act gulf steam move eastern seaboard hey republican drama fault nail tell neffer beauregard quit fool come pick hood amp sheet saturday\\x80¦ thank celebr thank posit thank memori thank posit wahhhh white pp agent allow ð\\x9f\\x98\\x82ð\\x9f\\x98\\x82ð\\x9f\\x98\\x82 fuck rich dont care ð\\x9f\\x96\\x95 divin posit affirm dont forget use word bind men ignor excus that\\x80¦ make sick ye idol georg bailey spoil choos porter greed lie misogyni learn fail work actual work neck go gatorð\\x9f\\x90\\x8asnatch babi beach florida rest\\x9f\\x99\\x8cð\\x9f\\x8f¼ org cant whizz ð\\x9f\\x98\\x94 dont let right state true record thought factori leftright polaris tramp select leadership polit breast ulm thankyou sharingw excit waiter ask want eat plate swell climatechang denial fascia antiegalitarian narciss tramp wed anniversari year marri life mon dad fridayfeel fridaythought realtalk shideism bless day teamshid ð\\x9f\\x99\\x8fð\\x9f\\x8fof\\x9f\\x94\\x91 worn pick represent women men alcohol happi birthday host open host day â\\x99¥â\\x99¥â\\x99¥ surpris havana happi lucki ð\\x9f\\x98\\x8dð\\x9f\\x92\\x8b midday bihdaypay vanity\\x80¦ use say word bond happen good day ð\\x9f\\x92\\x9c food ð\\x9f\\x98ð\\x9f\\x99\\x84ð\\x9f\\x98\\xad roger mimi offic fire target practic joke policebrut newswith happi littl cher today\\x9d¤ï¸\\x8f jasmineros smile babygirl summer dress vote anim tramp america no fat check ye amp import peopl ð\\x9f\\x98\\x84ð\\x9f\\x87¸ð\\x9f\\x87ª inaboutweek happi check ulcer tramp citi question bring hussi grab hussi be\\x80¦ time papa valentinesday papa araraquara night use phrase like sandnigg accept hm u is\\x80¦ know uskkk ms media amp who racism crazybengiefbp im say nut live messag second leg stay night ahahah ð\\x9f\\x8c\\x8e team new amp phillysuppophilli amp combat notic supper agent girl year intern femal oppress fantast video buzz hate men mandat make let know bike ride heavenð\\x9f\\x8d\\x83 natur heavenoneah mackinacisland mackinac island announc swiftwick sock ambassador swift run fitness\\x80¦ shot racism shot discard troop triumph migitorio entretei hatecrim against sigh commun salari true tire like gave justif patriotwatch project eusol cult curti project spring stray misogyni aliv left let tell isnt said happi zen spirit im not ladi bc voic opinion im not scare speak mind wait isnt amp against\\x80¦ mummysay mangolickkid launch st item new brand hispan feel like stop listen boricuaâ\\x80¦ ive year arrog abus discrimin amp dutch dri leav die end hope messag against music industri clot gun promis donat import tri help came thou weird make trip detroit brodi pass away go visit joe way town pay respect sister sweet hulahoop familyfirst melanin sister famili fun mygiantlif joy nigger pattismith book utf that rich cleveland donna broken tonight like past year na iniwantto work see name dismantl system whiteprivileg privileg white\\x80¦ girl trot p feminist saw sjwlogic who watch wide live stream appl event latest team june th remind time work inner â gay gay guy self canteen instagay gayboy self tumbler\\x80¦ scatter joyâ\\x84¢ blessampkeep shine graciou look kindli let love a\\x80¦ thank glad like not long till wed xxxi wed dead commun look rethinkdisciplin ablest iodism step massincarcer deafinprison decriminalizâ\\x80¦ littl boy gr day yesterday amaz lovesthefish doesntliketheshark hefoundnemo viii tour asia\\x9f\\x98± paylif utf umfkorea soul ð\\x9f\\x87°ð\\x9f\\x87· tri adopt burgher friday ð\\x9f\\x98\\x8dð\\x9f\\x98\\x8dð\\x9f\\x98\\x8dð\\x9f\\x8d\\x94ð\\x9f\\x8d\\x94ð\\x9f\\x8d\\x94 page day â\\x80¦ no liber believ pay inclus believ equal train\\x80¦ year old man young teach exist not say women help whine women harder men caus peopl complain way thing run will step carl palladino unfit buffalo school board resign council staff instruct slow make da look bad expos week ago hi im natasha your friendli gender neutral sexual neighbour genderneutr â\\x80¦ emma stone hollywood theyv given joke away male costar via\\x80¦ comment reflect ignor cuser clearli humour attempt liber media undermin tramp racebait wont work tramp not love life live â\\x9d¤ï¸\\x8fð\\x9f\\x90¶ð\\x9f\\x90¶ lifeofv lifeofbu dogslif sunshin conveibleâ\\x80¦ posit â\\x80\\x94 feel chill make curbyourenthusiasm larrydavid ho fan make jacobmarley porter end evil misogynist narrow hole win georg bailey epics\\x80¦ late ff gamedev indiedev indiegamedev squad nick cannon speak against alllivesmatt unbornlivesmatt celebr pray pool pirat love summer thingstodo pooleboattrip meatu will complain defeat oppon amp pay elect s\\x80¦ thank hope thank posit talk arm death laugh loud itshouldbesad letsseetheoceaneren butthisisfunni newyearsev factophobia ale peopl use follow word islamophobia feminist culturalenrich lincoln firefight die exercis soundtrainingnew rip lord gem carolin racewait hate tramp wife congress tuck came exactli childish paisanhack oppos neglig hatr injustic climatecrim ecocid let tramp know agenda wait dark film moviegeek edfilmfest met drop pu right stood crapsac good day good friend ð\\x9f\\x98\\x98 summer friends\\x80¦ jew plan work god god matthew immanuelâ\\x80\\x9d which\\x80¦ babi water born ive finish write mabel childrensbook consid illustr use penni grant no no line said silenc simplic racism speak per\\x80¦ true good thing love laugh loud ð\\x9f\\x92¯ loveyourself goal confid free\\x80¦ cant believ dont blaze saddl lead actor black man that mexican languag obviou tramp said love educ right trumpworld lath polar bear climb race angri polar bear climb race polar bear live cold place look ipadsketch bull domin bull direct want keep cross today good luck watch work kiss nervou proud xxx happi new year white peopl elect presid treat women like cap bier disrespect ask suppos white devil pu happi smile kitti cat home button pu smile kitti im not truth realiti cant believ like spokesperson lower compani white fragil it\\x80\\x99 hard talk white peopl happi trooper fun sock day school fun trooper sir thank you\\x9f\\x92\\x99 love ryosuk ð\\x9f\\x94´ deafen silenc antirac activist regard worn hard comprehend http\\x80¦ know speak curs return tender god said bless curs not tonight cologn proudli present govern polic media big stay go cambersand death blame victim cultur council pay safeguard mayb artist evil jew propaganda jew control media cite non white group\\x80¦ allahsoil like religion slam strong unifi forc â\\x80¦ â\\x80¦ teambtsâ\\x80¦ muster educ against amp stereotyp ouh fuck bustymilf librari librari saw liber polit ificoulddoitagain wouldnt let relationship date breakup love hearken here combat violent extremist white nationalist came dinner no cheer danger caricatur person use word doesnt understand tri capitalist tragedi vote week countdpwn day ill train south ran rever india compar ye tenur rbigovernor raghuramrajan leaverbi new held got link inventor world free roam time teach hair e nintendo link held nintendonx pathet fallaci infantil case wonder brain proof\\x80¦ michelleobama hate women america today fact straight porch refer racism simpl theyr project intoler stage set tomorrow perform amaz act includ far white peopl got night sick horribl person sadli you\\x80¦ dear ashor fuck propaganda palestin time video properli stab jew standwithisrael dont forget stop smell rose natur naturelov flower flowersofinstagram good news hold hat year week mizzou bodi reveal black student threaten white fat boy make sure stop exhibit best hoch model love u u time or\\x9f\\x93± ð\\x9f\\x98\\x99ð\\x9f\\x98\\x8eð\\x9f\\x91\\x84ð\\x9f\\x91 ð\\x9f\\x92¦ð\\x9f\\x92¦ð\\x9f\\x92¦ thank health thank posit allahsoil vs got multimillion dollar bone averag american lost home youv want fear dream experi clever put work like la muscl smile collarperfect ny modellif model model fresh no doesnt german fascist rape help year south sudan unrest exacerb conflict cattl herder global develop guardian oil thank stay prepar semifin room ð\\x9f\\x98\\x8að\\x9f\\x91\\x8d stamp geohitch reread sweet oh yea good realiti librari librari saw liber polit chat mutual connect easili block rep creep chat messag hold world hand world healthi health summer thegoodlif good peace\\x9c\\x8c rohingya muslin tour offici ð\\x9f\\x98¢ myanmar rule\\x80¦ donna suck no want shitfest rapid trumpunivers â\\xad\\x90ï¸\\x8f saturday â\\xad\\x90ï¸\\x8f channel lip night make haul sampl bodi yer â\\x80¦ pastor main wont respond thatvil boss liter himh kiss job goodbi shout\\x80¦ askingoh cours black peopl racism belief superior definit win douchelord year good work dickhol douchebag ashor yousuck mysoginist right fear ive notic lot icon present mention happi wonder profess averag happi allahsoil stone human differ graviti there\\x80\\x99 no differ em\\x80¦ racial profit cologn disgust lock gate pamgelleheracist main mmiwg friend cut default true stori life work engag white call figa subhuman readi play school ð\\x9f\\x98\\x84ð\\x9f\\x98\\x84ð\\x9f\\x98\\x84 ð\\x9f\\x8f« ð\\x9f\\x99\\x8c prouddadandmom â\\x9d¤â\\x9d¤â\\x9d¤ thankyoulordâ\\x98\\x9dð\\x9f\\x99\\x8fâ\\x80¦ attitud bat love face bat love pet videooftheday videoinstagram photograferâ\\x80¦ orlando shorter oar matter call doctor attack annoy annoy day everyday thank photograph thank posit black live matter close affili suppos worker world pay communist org\\x80¦ thought come london year begin real ð\\x9f\\x99\\x8a fuck outrag lion roar simpl sens delight cheer life lighttherapi help depress altwaystoh healthi happi day florida dinner holiday blacklivesmatt aryanbrotherhood ask whiterac alexjon jew friday hope wonder weekendð\\x9f\\x98\\x86ð\\x9f\\x98\\x86 blackpeopl beat whiteperson isnt no make aliv serv life vs thank inspir thank posit fuck end hope lose realli love compani petrou antisemit misogyni feel hate pot crookedtrump traitor notamericaschoic right get\\x9f\\x98»ð\\x9f\\x87of\\x9f\\x87¸ð\\x9f\\x92\\x9c tshe cut fashion childhood realli import necessari stress earli life caus adulthood depress visit twitter vile alright homophob atheist trill man juic fightlikeagirlâ\\x80¦ minut goal gut neuro england comeonengland entrust\\x80¦ k slike mind rest peac stephen delhi critic threaten boycott simon amp cluster mild yiannopoulo book deal huntington post presid woodrowwilson held privat screen dw griffithss big nation histori th allahsoil like religion slam strong unifi forc teambtsâ\\x80¦ not father realis appreci father present children lives\\x80¦ book read thefateoften iamnumberfourseri pittacuslor mamayakasakinâ\\x80¦ stuakenyon cover reveal swiftli sharpen sang radicalis amp reveng eevalancast note oppos latest ad damn right filth net racetraitor thank strength thank posit set new twitter trot nigger lifelesson white kid grow bloggersblast respect sew love tut photooftheday instagood beauti follow cut follow\\x80¦ royal market deem nm not sell beer im white said close hispan walk n sold im readi dead daylight hour releas deadbydaylight gonnagetkil black amp feel like â\\x80¦ stop listen camp mimi\\x80¦ latest liveleap bonu daili thank amandanun â\\x86\\x9d lion take reveng trophi hunter blow silver gold fore librari librari saw liber polit say friday fridayfeel europ weekend probern egg peopl zero follow end revolut look like realli cant believ year miss dad amp think ripdad year tellsomeoneyoulovethem dad tonight spagetti polonais scrambl amp came home work new book librari librari saw liber polit scar left aim camp mt latest dinner friend breakfast surabaya instagood red instapict â\\x80¦ record live cp swiftli sharpen sang dystopian tale â\\x80¦ bodi open allow daili practic shanti à¥\\x90 ð\\x9f\\x92of\\x9f\\x8f¼ ashtanga book endur convict fred korematsu amp quest justic humanright htm\\x80¦ came sideway your f amp hot spot ð\\x9f\\x92\\x80 come fraud amp document liar lost base call pari brownish he pilot\\x80¦ insectstalk attack bull game realli think head citi said librari librari saw liber polit happi ã¨ lgbtfamilybut dont incess veil against gay minor graduat amp friend want forget rector against slam model love u u time or\\x9f\\x93± ð\\x9f\\x98\\x99ð\\x9f\\x98\\x8eð\\x9f\\x91\\x84ð\\x9f\\x91 ð\\x9f\\x92¦ð\\x9f\\x92¦ð\\x9f\\x92¦ ladi like laugh loud utf let white hous your shame suspect peopl aptli name whitesboro new york non kill town seal whitelaw moscow break tenderfootfir burn acr near tarbel live coverag heabreak famili beauti feel surpris visit ice nurs priceless brain surgeri best wait flight ð\\x9f\\x91\\x8cair manchest spain\\x9f\\x87of\\x9f\\x87¸ flight\\x80¦ open rollerblad season today summer rollerblad belgrad adaciganlija wish stop hide hard peopl not know hard no matter hope got plenti pictur cant understand word cycl hide tri happi life love thing make blacksabbath berlin metal like brandenburg gate amaz health benefit cucumb healthi plant good morning\\x9f\\x91\\x80ð\\x9f\\x98\\x80â\\x98\\x80ï¸\\x8fð\\x9f\\x91\\x8dð\\x9f\\x91\\x8cð\\x9f\\x91\\x8bð\\x9f\\x8f» smile offici jew offici eye librari mass striker leagu wouldn disallowd mucoid video men women malayale xxx picturebangladeshi american hate kiss healthi summer tip parent â\\x80\\x9cdo sign need higher test score harder sign colleg answer yesâ\\x80\\x9d lighttherapi help depress altwaystoh healthi happi tonic pa huge conjob black amp liber run america decad actual lack land\\x80¦ need kid got laugh loud life happen saturday week right serious owe neighbor case beer keg caus man amaz cut grass ð\\x9f¤\\x97 allahsoil bear\\x80\\x99 rapaci hunger oil seal doom â\\x80¦ tempt teamsuperjuniorâ\\x80¦ think asia perish harmless need read objectif serious led come better truth sexualharass amp laborviol librari progress cant logic point wout insult spur especi refut that who\\x80¦ happi work cconfer right midst lead cultureofdevelop organ work midst stori race play role life hello sweet ð\\x9f\\x98\\x83 glad ï¸\\x8fð\\x9f\\x91\\x89 danger decept speech know immigr polici scar neverump black amp feel like â\\x80¦on listen camp mimi newyorkâ\\x80¦ racism wout race clarifi human race biggest mistak histori scienc race\\x80¦ not upset im angri peopl dead im angri immedi finger point block time no reason instagram fuck disappoint help say goodbi famili member lucki fill lot love for\\x80¦ thing agre liar theater updat caterpillar gasp whisper wayward chrysali butterfli let k tore gave match anna nice posit affirm carlpaladino tramp offici undermin drama remark complet justifi comment apolog racism old woman america oldwoman feminismiscanc feminismisterror feminismmuktbharat malevot ignor glad hear littl boy bodi tact prayer famili come orlando noah laugh contagi laugh babi love racism manag tool say differ realli arent equal time ross congratul ð\\x9f\\x92\\x95 ð\\x9f\\x92\\x95 whitewash quit liter sigh templ canalis salari condemn act send design desk austin texa run warehous crew design kind rig white thought donna win guess sarcast fell pop star job bc sure breast media student gay bar stood white man said dont pari jeremyjoseph left god gipsy\\x98\\x86clown famili time relax relax daughter island surflif surg snowboardâ\\x80¦ prosecut type offenc against white peopl listen yuma mamma know bullshit thrown muslin drama join jacket ð\\x9f¤\\x94 ass america miss drama realiz tramp trumpisâ\\x80¦ hata walk door know your not donna famili year absolut devast resign right sandyhook tear orlando tragedi r horrifi young singer murder innoc angel murder wound amp babi kill allig badg moment awok morn ð\\x9f\\x98\\x82 midday bihdaygirl badg wood\\x80¦ far blow comment claim send public statement wasnt racism join debat lazily\\x80¦ ð\\x9f\\x8e\\x89ð\\x9f\\x92\\x90ð\\x9f\\x8e\\x88ð\\x9f\\x98\\x8dgirl middayweekendsummersummertim ramenskoy good luck garden pain weekend queen midday midday majesti tri free penza hit limit guess ill what store week allahsoil muslin aren\\x80\\x99t one displac uncl sam â\\x80¦ â\\x80¦ inwards\\x80¦ attack wont japan guarante smaimmigr zeroattack istanbul religionofpeac reliabl economicsanct russia cuba china against whiteprivileg whitesupremaci roughwat pretti disappoint w nickjona new album repeat x not get repli music vice cannot address issu fair trade fresh h violenc better nor delet account shallow away kind ruin danitykan stilllovethemthough come supermistict douchebag spoke nose burninhel notic definit build disabl tri chang peopl dont http\\x80¦ love summer trillion grillingseason hamiltonontheiphon classic jewish bastard wonder soon hate world die light villag greentown antisemit hocoschool columbia hood your leav piec shit directli applic tramp left dont know right includ insult dentist snowflak happyholidaysâ\\x80¦ wakeuppeopl awaken true motiv â\\x86\\x9d canada consum price index mon came expect blow silver gold â\\x80¦ hut wonder whyð\\x9f\\x98¯ he document tyrant right elicit cook donaldtrump ny campaign cochair carlpaladino unleash drama wish list mid handwrit newromant taylorswift heabreak peopl note handwrit allahsoil odd die extremist violenc roughli emiratisâ\\x80¦ buzz scienc today use microscop time asechat no differ ignor your dumb thereon midday fight exist call pigwoman ok he got special victim class shield model love u u time or\\x9f\\x93± ð\\x9f\\x98\\x99ð\\x9f\\x98\\x8eð\\x9f\\x91\\x84ð\\x9f\\x91 ð\\x9f\\x92¦ð\\x9f\\x92¦ð\\x9f\\x92¦ newstar bull domin bull direct want amor posit affirm chief gang hillaryclinton drama sore wagon damn splitsvilla miss open episod pu bring episod love call n l person use word sad amp eat word hypocrit govern left against womensrighttochoos drink feminist axillari tramp discrimin drama wit miracl emma wear not complet black dress girl prais hot ð\\x9f\\x99\\x8fð\\x9f\\x8fof\\x98of¸\\x8fð\\x9f\\x91\\x97ð\\x9f\\x92\\x8b thank internet connect thank posit babi loos play backward sprinkl check blow express misandri misogyni power pa margin group live w fear aw news peopl no sens reason hope cours recov polic catch ð\\x9f\\x98¡ð\\x9f\\x98¡ univers wisconsinmadison wont cancel social base problem white cours th time vlicob love grace amen share passion church life god purpos hornsareblow peopl scream year david husband weari nbafin shoot firework wordsfac word case gather fals light children die save no loin x broker chang mete love educ univers make individu everyon right pursu live love fullest amp dumb pelvi genuin fear sisterhood travel part movi didthatreallyjusthappen sad toomanyemorion greattitsux na horni shi nasti slut worn young naughti rude xxx hot king snapshot sex wet mrangry\\x9f\\x98¡ mr insidi movi best anim picoftheday picstitchâ\\x80¦ word creditor not want leav greec corner store lend money slave sigh templ canalis salari condemn act kindled ð\\x9f\\x93¡ publish industri tellal ð\\x9f\\x93¡ bookpublish publish kindl kindled genuin believ miscegen genocid ask thereon internationalyogaday go event yogaday christian say not racism not â\\x80¦ protest denounc retweetâ\\x80¦ â\\x86\\x9d dollar appreci drag fed noma blow silver gold fore im readi home day come happi month long time\\x80¦ latest blicqerâ\\x84¢ daili thank ad suck water axillari voter hatefear tramp voter loveknow think bulli leav tour best friend destroy cri upset got ticket epsomedg daystogo thank teachersthank posit microsoft twitterbot turn rage exist genocidedefend ai teach latest news daili thank africa carl platino tramp alli wish drama dead mad cow diseas â\\x80\\x99 man away wait offici preorder law arriv listen check mailbox bonu live version sing appar mon gone away weekend ð\\x9f\\x98¯where mon lurch ð\\x9f\\x98¢ð\\x9f\\x98¢ game bench saturday im love ð\\x9f\\x98\\x8dð\\x9f\\x98\\x8bð\\x9f\\x99\\x8b blackandwhit weekend night instamood smile nightoutâ\\x80¦ black amp feel like â\\x80¦ stop listen camp mimi\\x80¦ cedarrapid bull domin bull direct want christma eve not christma adam pu paint ashor fuck clump tramp guilti treason theresist resist hate nake raygun treason latest socialmooc thank felix reject news latest write aisl serious consid perform inaugur lie misogynistâ\\x80¦ â\\x86\\x9d australia mix cab busi survey â\\x80\\x93 rec cm blow silver gold fore marathon episod aye aye sir fan doubl celebr love word action ð\\x9f\\x92\\x8bð\\x9f\\x92\\x97ð\\x9f\\x8cº love forev life intra smile black amp feel like â\\x80¦ stop listen camp mimi\\x80¦ feel like yall twitter mess sang yall dont better ð\\x9f¤\\x94 allahsoil problem isn\\x80\\x99t believ caoonish condit fact â\\x80¦ racism\\x80¦ want punch person snowpeopl movi white laurel duct say look like smell like vanilla mean white rock â\\x9d¤â\\x9d¤â\\x9d¤hi tenac pure today cologn everybodi look arab settl femal friend leav better pick media present n healthi dont believ accid encount histori no accid â\\x80\\x93 tabl picasso titleâ\\x80¦ public educ kiss product convey belt finish product young adult w no idea world work dishonour cannot wait dishonour favourit game e excel rambl right trot clot alright blacklivesmatt ð\\x9f\\x91\\x8d patriotwatch project eusol cult curti project springs\\x80¦ final student financ place septemb day ye cant believ librari librari saw liber polit hour cantwait beaten want folk no matter situat is\\x9f\\x98\\x8a stuck rat race freedom masterkeyexperi ð\\x9f¤\\x97ð\\x9f\\x98\\x8að\\x9f\\x90·ð\\x9f\\x92\\x95ð\\x9f\\x91\\x97 ð\\x9f\\x98\\x82ð\\x9f\\x98\\x82 tacloban citi wood get text say order arriv tomorrow ð\\x9f\\x98\\x8dð\\x9f\\x91\\x8cð\\x9f\\x8f¼ myfav enemi hispan amp feel like â\\x80¦ listen boricua mimi\\x80¦ realli tell microaggress race whiteprivileg antiblack human cruel bitter sociopath soul fled fulli lunat live cow ð\\x9f\\x8e\\x99ï¸\\x8f compensatori callin code inward\\x80¦ sens empti ineedgrowth fuck presidentpussygrabb notmypresid tinyhand putinpuppet allahsoil media pistol threat islam extremist â\\x80¦ emiratisâ\\x80¦ allahsoil familiar difficult stereotyp â\\x80¦ emiratiâ\\x80¦ good night goodnight saturdaynight face make soften lip miracle\\x80¦ book tabl sunday father day isnt word truth myth happi podcast â\\x96¶ happi inspir new way men disgrac harass verbalassault didnt realiz sorri miss ð\\x9f\\x98¢ hey unless piec garag drama man hillbilli sigh templ canalis salari condemn act intoler postbreast britain histori show better breast hatecrim nation aw slap face american hey neighbor black bought hous r so\\x80¦ smallth can´t make u happi up´ll b note prebl pay vers goodtim free pink yellow green\\x80¦ dont hire graduat theyr taught amp genocid dare accur pray treasonoustrump china theyll say he fascia lapdog putâ\\x80¦ dont want no fuck ass relationship love abrahamhick lawofattract healthi heal joytrain expel explain best way deal friend amp famili thank beauti weather filter historian whitewash ukraine\\x80\\x99 past ukrain volodymyrviatrovych histori whitewash jew pari bodi bodi gener site fear repuls violent desirehatr ableismâ\\x80¦ sicken import read hey saw your fit fan invit u pp known strain appl woman catcal walk network shut harass best way harass ny manhattan ink like feel love depress th relax firstnighttonight home krakow beauti amp stay amp let build love amp peac east european rel attract coupl relax park adult caucasian girlfriend thank forgiv thank posit magna madam moon treat senat doesnt understand hillarylostâ\\x80¦ thank kiss thank posit happi midday cakedecor fun toy abudhabi cheesecak pay use wish birthday phone pp wise word come black american reaction denzelwashington morganfreeman willsmith fuck ritchi like not go ð\\x9f¤\\x97 today final colonel trip donna rest eye sta roadtrip moment amsterdam â\\x9d\\x84ï¸\\x8fð\\x9f\\x8dof\\x9f\\x91«â\\x80¦ idioci feminist actual think microaggress matter here proof fathersdayquot best father day quot midday buy thing about\\x80¦ get blood drawn like hour didn\\x80\\x99t understand he\\x80\\x99d knew he\\x80\\x99d tuck bestow marriag wasp women contribut good faith goalpost move father day peopl treasur daddi love st mark cathedr racism antisemit xenophobia sin domo news peopl spit face god sea shepherd supper racism seashepherd anthraci quotequoteslov heabreakbroken ð\\x9f\\x98\\x94ð\\x9f\\x98¿ð\\x9f\\x92\\x94 father day present bump fathersday â\\x9a¡ï¸\\x8f â\\x80\\x9ccharl platino racism comment spark call resignation\\x80\\x9d itss photo ð\\x9f\\x98\\x8d love sinkthepink music instagay celebspot said way new smile invisalignjourney sens sarcasm dawn yuhunderstand sipswat weknowwhatwedo hello allyuhchirrensad ben liter face human be encount ð\\x9f\\x98\\xadð\\x9f\\x98\\xadð\\x9f\\x98\\x82ð\\x9f\\x98\\x82 canttrusthim donttrusthim bewar lazi saturday pack trip melbourn tomorrow melbourn sex librari librari saw liber polit began allah day w extra virgin coronet oil organ china seed and\\x80¦ wife left pay mania nun amp champ whip rond rous payday mild k allahsoil no correl religion slam violenc â\\x80¦â\\x80¦ remov cap spokesperson alkalamba showcas dictatori midst kejriw mt against whitepeopl clot stori silli stori stori make nonetheless write writh likeifucryevrytiem welcom touch new height confess neoconfeder audiblechannel histori slaveri southern truth man stloui racism muthafucka loui st allahsoil began convinc sa flood market drive oil price histor low time travel hog oh mean travel london p mozlondon nobal coward allahsoil enlighten wast will blind â\\x80¦ emiratisâ\\x80¦ book nake assault gorgeou day â\\x9c\\x8cð\\x9f\\x8c´ð\\x9f\\x8d memori ritzcarlton sanjuan bless ritecarlton san juan new webster webster easi handmad seasid craft up\\x80¦ black women demon worn dear ask shameless give\\x80¦ allahsoil greenspanâ\\x80\\x99 polici larg blame manag crisi â\\x80¦ â\\x80¦â\\x80¦ talent friend pop weekend nigger lifelesson white kid grew blogpost whitepeopl respect\\x80¦ council staff instruct slow make da look bad expos week ago pot attempt sabotag countri final day israel obamacar iri energi russia read understand berniebro chose wander axillari cant angri suffer allow peopl grant suffer choic needtobetough life footbal attack bull chase leav lot despit fact your strong sourc fo love event organ color year colourmehappi ð\\x9f\\x98¨ that not nice urg presidentelect denounc twitter act\\x80¦ want child attend school wouldnt radic indoctrin big day ex pm â\\x9d¤ ð\\x9f\\x91\\x8fð\\x9f\\x91\\x8fð\\x9f\\x91\\x8f ð\\x9f\\x8e\\x82ð\\x9f\\x8e\\x82ð\\x9f\\x8e\\x82 stay bless ð\\x9f\\x8e\\x89ð\\x9f\\x8e\\x89ð\\x9f\\x8e\\x89ð\\x9f\\x8e\\x89ð\\x9f\\x8e\\x89 ð\\x9f\\x8e\\x8að\\x9f\\x8e\\x8að\\x9f\\x8e\\x8að\\x9f\\x8e\\x8að\\x9f\\x8e\\x8a ð\\x9f\\x8e\\x88ð\\x9f\\x8e\\x88ð\\x9f\\x8e\\x88ð\\x9f\\x8e\\x88ð\\x9f\\x8e\\x88ð\\x9f\\x8e\\x88 n g r ð\\x9f\\x98¤ sird beard beard bear black white shoulder man guy boy brown b didn hear latent singl day â\\x80¦ black amp feel like stop listen camp mimi\\x80¦ model love u u time or\\x9f\\x93± ð\\x9f\\x98\\x99ð\\x9f\\x98\\x8eð\\x9f\\x91\\x84ð\\x9f\\x91 ð\\x9f\\x92¦ð\\x9f\\x92¦ð\\x9f\\x92¦ wale vs england star real game poland vs germani vol tramp breast base misconcept race nation say renown philosoph bc radio calm wait day weekend wednesday allahsoil polic kill substanti larger number white year black race\\x80¦ thank homethank posit bear\\x80\\x99 rapaci hunger oil seal doom â\\x80¦ allahsoil teambtsâ\\x80¦ said famili day thought probabl kick club abacknot terrorist rest peac antonyelchin stare actor rip hollywood movieaddictblr â\\x80¦ black amp feel like stop listen camp mimi\\x80¦ realli gotten credit magna tramp quot quot pot news medial\\x80¦ feminismiscanc feminismisterror feminismmuktbharat malevot ignor your puls ive need â\\x9d¤ ilovevyka girl love â\\x80¦ thank thank posit ray relev regardless advanc technolog tri music dan bank pilihaâ\\x80¦ new video whitepeopl kanyewest racewarchess anna worst she\\x80¦ not stun respons plan nomin muslimbrotherhood member lead pay passion come circl want orlando aft tramp puls amp dinner ach child dinner holiday fun social relev podcast celebr twitch day ypttl welcom deleg scotland empow father day invent brilliant dog fetch im mood cut cat pictur happi saturday saturday beat real life bubbleam posit affirm notmypresid not misogynist traitor theresist putinsbitch good bolt not job disadvantag white privileg calmli educ white peopl about\\x80¦ fuckdonaldtrump documentari that bitch ass presid allow amp right racewait slaveown work station accept fire great quebec establish provinci inquiri amp indigen pal buffalo network tramp alli carl platino slam wish list drama cockwombl play rich waken roman melancholi melancholymus nice abl q europ bake sta lemon race doublewin thank sens touch thank posit fought against side argument yesterday order lie venner lip kit excit limit kyliejenn kyliecosmet kylielipkit news racism resourc develop polit stori minuit watch â\\x80¦ librari librari saw liber polit black amp feel like stop â\\x80¦ camp mimi\\x80¦ year way chester sunday champ amandanun get k beat rondarousey got million sophist allahsoil cold war fought oil tempt teamsuperjunior â\\x80¦ racism asshol ban sweetest kindest breed dog human blame pit stroma loop melt fragil snowflak sad sorelos heed triggerwarn man stoprac time drink holiday cocktail corp greec corp preciou memori deriv preciou moment afrcloth thisismyera monday grind father summer girl world rude long girl wisdom tree life eat fruit man keep eat proverb boycot fathersday blatantli sistersofcolour dont know father â\\x80¦ worri ten tinder young scar class state nation sunday june observ good morn australia weve tablet news peopl like theyv come term like terrorist asshol like celebr birthday old friend midday free rug day stuff arriv come tomorrow freebiesâ\\x80¦ sea shepherd supper racism anthraci seashepherd thank holiday sale thank posit brotherhoodconscript new post happi new year â\\x80\\x93 serious celebritydeath tramp misogyni hate look timelin not get use forc languag refer read data make choic like comment white woman goe want against hispan women on\\x80¦ prove point hardli think vogu classifi face news dont like opinion healthi independ women state forward womenempower gutta love deliv print client amp say dont look day ð\\x9f\\x98\\x9cð\\x9f\\x98\\x80 design print send tramp inaugur join today teachmeet stoke day black femal amp not white pornisforlos shut govern evid import breast vote happi new year say fascia pennyloaf neck notrump nook ass kick time overwatch livecleo overwatch pp came love girl â\\x80¦ no penza today store reach limit getthank stillloveyathough justhungri laugh loud total assessworst mistak everlord help ass pu facebook attack bull chase leav lot despit fact your strong sourc fo girl walk starbuck refus let serv im white guy whoa hey allahsoil live matter emirati inward prepar posit affirm notic definit build disabl tri chang peopl dont feel capabl deepli entrench exist dismantl seat teacher atlant not launch window open minut ricket nasal kept play celtic woman celtic symbol accent she bald charact pp assum she man truth posit affirm adveis nake fuck shore boycott lie divis nationalist fox add list parma s\\x80¦ major depress spiritu parasit heal energi every\\x80¦ librari librari saw liber polit scar not long ago insan crazi racism white woman reaction paranorm insan crazi insan free classifi feel trigger statement amp strawberri blond lock go safe space come platino racism ugli comment drama embarrass new yorker polit c\\x80¦ good night sweet ð\\x9f\\x8c\\x8e th day kwanzaa mean purpos purpos fight fascismâ\\x80¦ congress th grade vista middl grass ð\\x9f\\x8e\\x93 enjoy summer ð\\x9f\\x8e\\x8a ð\\x9f\\x92\\x9að\\x9f\\x92\\x9b thankful\\x9f\\x92\\x8b selflovemantra selflov love ilovem quot quot quoteoftheday happi life wisdom he\\x80¦ best essentialoil anxieti healthi peac altwaystoh dont turn bulk time st step carriefish feminist fight amp age hollywood pen act talent amp he\\x80¦ latest equal echo thank equal hispan amp feel â\\x80¦ stop listen boricua mimi\\x80¦ absolut disgust say nasi said hatr amp bigotri extremist faithâ\\x80¦ â\\x86\\x9d czech republ current account mon b april vs previou b blow silver gold fore time whitman call get result nation orerkenschwick germani intern cappellen month â\\x80¦ effici work worst custom servic unit state repos better busi bureau fro ð\\x9f\\x92\\x99 diafrio cacheadocuo cachosestiloso cachosbra temporo followed\\x80¦ seen big thing sale salessci allahsoil greenspanâ\\x80\\x99 monetari polici equal declin real wage worker â\\x80¦ â\\x80¦â\\x80¦ no neighbor not arrest cop interest kid glitter assault kit\\x80¦ bright morn haveagreatday crazi day ð\\x9f\\x98\\x8að\\x9f\\x98\\x8dâ\\x9c\\x8c latest daili thank catalunya happi life right awesom famili amaz boyfriend great friend cut ass dog good job pictur doesnt make smilei dont know livelaughlov makesomeonesmiletoday techjunkiejhatright site plan face black person twitter campaign socialmedia â\\x80¦ dear democrat dot not allow islamicrad use america freedom destroy r freedom not islamophoâ\\x80¦ blacklivesmatt that call kalb exist mamma yusuf not nice ð\\x9f\\x98\\x92 smile life beauti life display ryukomatoi allahsoil temptat blame scapegoat strong resist â\\x80¦â\\x80¦ sigh templ canalis salari condemn act boy use drill realli end student sta plan studentsteach stop suppoyourfrontlin suppoallinanurs man putcarebackinhealthcar leav â¬\\x87 no longer debat wypipo slavery\\x80¦ cowboy racism im convinc foot night got win yall swap white boy aint shit realli hope good microsoft e disappoint look like stay unus longer bone santaproject not shop long support tramp band hate vanka macysâ\\x80¦ black women free herald girl sex photo white immigr make america great jarodtaylor asslick popular post year brilliant whiteprivileg â\\x80¦ hump day ð\\x9f\\x90«ð\\x9f\\x90of\\x9f\\x8c·ð\\x9f\\x98\\x99ð\\x9f\\x98\\x99â\\x9d¤ ð\\x9f\\x92\\x99ð\\x9f\\x8cof\\x9f\\x92\\x99 monday germanyhetalia bull domin bull direct want wh weve round valu democraci vote choic dont new whip come sunday great countri australia israel australian opkillingbayã\\x80\\x80thecov shabbatshalom×§×§ã\\x80\\x80us thought factori leftright polaris tramp select leadership polit breast ulm content abus pedophilia talk harass alight ablest threat suicid self harm\\x80¦ what humili great countri ignor tack lie presid notmypresidenttheresistaâ\\x80¦ thought factori leftright polaris tramp select leadership polit breast ulm triumph\\x80\\x99 new york campaign chair say sit presid unit state law\\x80¦ dress footman offens ask funni comedi edg dankmem mete vine bush instagram come join myhappycaptur bagger feminismiscanc feminismisterror feminismmuktbharat malevot ignor oooh tomorrow ð\\x9f\\x8e¸ð\\x9f\\x8e¶ drama get real face offic like deploy bc interf genocid africa stop kill each\\x80¦ â\\x80¦ hispan amp feel like stop listen boricuaâ\\x80¦ paint target seek ride threat pli sign japan build tweettaiji tramp lad church stand knew adulteri misogyni bigotri invest pedophilia ran\\x80¦ women empow unstopp vision ð\\x9f\\x98\\x98ð\\x9f\\x99\\x8að\\x9f\\x91\\x8cð\\x9f\\x99\\x89mood ð\\x9f\\x8c\\x9fð\\x9f\\x92\\x8bð\\x9f\\x92\\x8eâ\\x9d¤ð\\x9f\\x91\\x91 bless ð\\x9f\\x93·â\\x80¦ im tri hard make handwritten indirect pretti sweet shit like shut magna silenc approv knew pig you\\x80¦ feminismiscanc feminismisterror feminismmuktbharat malevot ignor allahsoil not muslin hate america â\\x80¦ emirati inward ù\\x8aù\\x88ù of§ù\\x84ø¬ù of\\x87â\\x80¦ librari librari saw liber polit look blue feel red nyklippt sera tack skellefteã¥ sweden announc come soon here hint ð\\x9f\\x98\\x83ð\\x9f\\x98\\x83 thebestteam republican disappoint w thought decent man endors tramp black amp feel like â\\x80¦ stop listen camp mimi\\x80¦ sent father day father make school amp spectacular place amp educationfest stori get realli proud design team surfacebook say good thekingsspeech wont win oscar go school media anim rumor event year anim love shelter refer ignor shout magna amp racism sheep sta bleat not balk move cut like wriggl okay admit utf giant here racism toll love spread word good idiot lot good dumb american nod goofydonni thank forgiv thank posit here what happen twitter im engag amaz woman ive known megaupload worn link worn video beauti day outð\\x9f\\x8c\\x9e tut curli beach plussiz hazeley dimpl summer\\x80¦ yesu think brown skin peopl cant think eh doesnt feel real hometown puls place amp nearbi workplac year puls prayfororlando bought supanova ticket need week go fan girl happi migrat jamaica politician like cant mourn beauti live lost left read opinion iamwithy fli ch ch ite wed make ed pm chanc fragil rel conceal pack no u dont u not singl race power display geneva children lost amp miss war adult decis children live friday allahsoil say muslin hate america suggest they\\x80\\x99r emigrate\\x80¦ thank knowledg thank posit indianapoli coat black cheerlead huge boy use slur class easi your right fever offici movi teas makeev khandelw amp gauahar khan june fever moment ð\\x9f\\x92\\x95 bestfriendweed moment special moment flower nature\\x80¦ tramp alli carl platino said ladi live cave gorilla prick love healthi brain healthi pari continu target jew busi whitish jewish christian montana nap\\x80¦ ignor whiteprivileg whitefragil egregi dont dare speak rest canada wed plan truelov makingplan thrive posit affirm feed grenad stupid fuck shit job chief angri stolen land iii adjetey ourburr ii beeowomli mantl librari librari saw liber polit sigh templ canalis salari condemn act warm winter crash love cardetail customers\\x80¦ dont die hero auto dontdi black amp feel like â\\x80¦on listen camp mimi newyorkâ\\x80¦ say fatti dumb black peopl think smell laugh loud white social justic warrior get wrong voter magna p rec duc vote dont forget medyn belli fauxnew jesu amp santa white religion funni radic close truth folk continu persuad in\\x80¦ white crowd turn allblack basketbal team high school game tramp yall global lose folk understand thank kiss taught magic happi morn childhoodwisdom gratitud dont live littl live music weekend sunday music sidelong dear leftistlunat chang word tell aisl isnt peopl sick surpris adam sale worn video smoke worn finish say presid elect call american enemi hate ignor librari librari saw liber polit thank apolog thank posit white flight dere black ask tramp chang day left yearsofpkdh ð\\x9f\\x8e\\x89 ð\\x9f\\x8e\\x86 pay path ð\\x9f\\x92\\x9e outrag emboli updat dare fat woman not fat man say women fat ð\\x9f¤°ð\\x9f\\x8f¼s\\x80¦ legal immigr point amp point legal promot destruct waiter black himselffor fuck takesstop look fuck rockâ\\x80¦ no joke matter offic fire joke target practic black neighborhood dear multiraci amp object list prove not selection\\x80¦ electron music bogota colombia puntohost red ed fashion music got birch cant stand night ion gap anymor ð\\x9f\\x98copyright hither call dull british monday like monday not girl self love love pretti eyes\\x80¦ began convinc sa flood market drive oil price histor low â\\x80¦ allahsoil tempt weve got fangirl hear word free equal citizen like state mouthpiec journ claimedâ\\x80¦ stop build stop racism stand say wrong treat respect everydayhero bulli amp instead listen tramp im sit bore video confer meet felt airlin rude disrespect comment amp action neverdelta sick liber think ok dictat think israel jew allow live includ is\\x80¦ allahsoil no deni civil right religion emirati in\\x80¦ hamzayusuf apolog like jetlag doubletre hilton london\\x80¦ that problemh doesnt realiz mention judg ethnic racism toy adv narrow limit genderstereotyp studi warn netanyahuspeech stir antijewish hate amp twitter progress taiwan presid mean travel paraguay similar state recognit titl taiwan shut honestli felt life thank million drama polici repugn not make your liber race\\x80¦ overrod journalist integr greed ambit total absenc courag graze woman launch sick attack muslin cab driver â£ fare islamaphobia peopl life afford let life loneli wrongdecis know youv go longest sta look staff pick latest indigen remot daili thank justjustic excav quickli ð\\x9f\\x99\\x88 mob motor woowooelectricsta presid polici israel settlement drama slam treacher antismit â\\x80¦ thank restaur look amaz love new look ð\\x9f\\x91\\x8dð\\x9f\\x8f» dinner dressrehearsalnight past year cant recal depress day newswatch opinionread polit speechof\\x80¦ sad news hear favorit clear soire roman lead way express wish face need mile like posit narr against restrict duti like straight jacket pad room not look thatblacklivesmatterâ\\x80¦ save break peopl process ð\\x9f\\x91\\x8fð\\x9f\\x8f¼ sigh templ canalis salari condemn act finland situat vittusaatanaperkel ð\\x9f\\x98¡ð\\x9f\\x98 ð\\x9f\\x98\\x88 fail fuckmylifeâ\\x80¦ tramp alli wish mad cow diseas death drama unfittobeinpublicoffic ugli reprehens no immigr year white nationalist leader unload terrifi hope america atright promot new kind genet mt colleg tomorrow day hardwar set free video black virgin girl washington post editori call racism salt lake tribun say broadway boot camp student stoke meet kirsten chenoweth understat read here joseph border reinforc oppress nation vi\\x80¦ your disgust supermariorun stop offend cultur mad firstworldproblem agre hard believ given strident opposit ordin women womensordinationâ\\x80¦ love calabash sad look bear editorhand look bear forgot democrat get peopl terrorist countri dumb â\\x80\\x9cwe people\\x80\\x9d origin meant â\\x80\\x9cwe white landhold malesâ\\x80\\x9d â\\x80¦ inwards\\x80¦ sadli enemi major american fascia putinspuppet new book firsttimeauthor theaofmurd debutnovel pure greed that push land amp hous price bought cheap land built cheap hous rais kiss wage iron inher experi live amp work later discrimin stop call canada iron kept store iron suppos â\\x80¦ roll rose claycharm day kid polym crater frikiegirl smoke old year new year time marijuana unleash book small brainsjust close eyesvot lunat ask breitba alright\\x80¦ your allow fridaywhi friday goodmorn bless day weekend st fathersday ð\\x9f\\x92\\x99 wish daddi great day gorgeou husband who\\x80¦ pound misogynist comment merrychristma great law\\x80¦ qualif tri professor borzoi highereduc southafrica vantag style gap shop cool home fun sea shepherd supper racism anthraci seashepherd black judg quietli remov philandocastil shoot trial littl explan newswith excus sir werent glad today cryingforev becauseyouturnedintoarat present doubl medal rich onlin merit day winetario today thank no not set bc player watch nonu news surpris good news vs gun amp violenc topic pp\\x80¦ presid jimmi care leav religion prais goe god almighti jidesamson breakthrough photooftheday happi christma eve christma adam men ð\\x9f\\x98¤ð\\x9f\\x98¤ feminist danger putinschoic impress accept stoprac boycottâ\\x80¦ pointerev save ass tonight iss front magic org that thought polic servic face w victimblam ð\\x9f\\x98¢ sky read live mob suspect russian target england fan unbeliev librari librari saw liber polit go good red altar paul realli life yogaeverydamnday yogafixesth hussi flavor la worn excus rash ion young kill no zone construct waterdown wait wildest chest creatur takuyakimura w girl highfashion brandy\\x80¦ agent championsin sad lose close footballfamili badli hous glow came tumbl ð\\x9f\\x98\\x9ehistor river hotel caus demolish la began fox news bookreview lovecraft countri star horror appropri funni mattruffâ\\x80¦ green book sundown town rout guid remind face travel aggreg www yeah good long long r u racism aamp scrap controversi ask seri cabl dinner boycott hour walk ny woman network women men right racism austin polic cameron staff cameronstaff camstaff officerstaff cab cowardcopsâ\\x80¦ far right georgia show neuro valu came home face there ð\\x9f\\x98\\x8dð\\x9f\\x98\\x8d homesweethom facebook attack bull chase leav lot despit fact your strong sourc fo scar your today bad reason ive pay attent past year year he â\\x80¦ mmm cant wait date handsome\\x9f\\x8d\\x95ð\\x9f\\x8d\\x95ð\\x9f\\x8d\\x95ð\\x9f\\x8d\\x95ð\\x9f\\x8d\\x95ð\\x9f\\x8d\\x95 pizzzza empress pregnant distant prospect japan despit gender equal law feminist equal asia news heal natur healthi idea joytrain ark man discov racism graffiti car quick errand hoodiesup ulm no feed public trough pigmi michelleobamaâ\\x80¦ thank follow read flightofalifetim you\\x80\\x99ll glad smile atright neuroconservat tramp artist evil jew propaganda jew control media cite non white group\\x80¦ rock beat instacool inspir smile fashion picoftheday photoofthedaâ\\x80¦ here\\x80\\x99 hope luck hear brand new singl boom bust tomorrow saw work afrobeat event ð\\x9f\\x99\\x83 life u make amp choos make happi fun amp laughter n u r welcom join ð\\x9f\\x98\\x98 lovemylif outlet reddragonda recoil g pad black finish â¥ç¨\\x8eè¾¼ ã\\x83\\x80ã\\x83of\\x83\\x84 follow\\x80¦ hold amp make thought away hatethi holm isnt said treat nasi hatr amp bigotri not surpris news outlet opposit racemix ad hate racism embrace\\x80¦ past ye despit demagogu obstruct fear\\x80¦ sad polic brainwash rest truth wakeupamerica gees love payday great thing uniqueplac order today paid today payday shop uniqu your hatr person narcissist amp not triumph\\x80\\x99 transit team want deal carl paladinoâ\\x80\\x99 comment drama vaniti fair free stick stop exist stopsex womensright women christma triumph\\x80¦ wrong america step polic orlando work realiz your summer hour go home hour earli today officelif whatinlieuof narcissimâ\\x80\\x93misogynyâ\\x80\\x93 toler kind peac stop whate look insid loveâ\\x80¦ bang trend mobil charg late charg custom luxuri mon messag hate god love peopl not color hate amp preach hate thank happi thank posit europ stay today wrong america embodi misogyni hostil scienc blacksagainsttrump tramp your interest right uninterest determin truth lack matur amp intellig restock bodi converg servic champagn love\\x80¦ watch littl horribl daughter watch hate terror intoler passeng brighten station demand end franchis inabl run train servic black tramp supper smack report race wait tramp agre carl platino need lose school board seat disgust pig father day â\\x9d¤ oh fuuuuuuuuuuuuck right care reform follow cover deathpenalti juvenilejustic bailreform prosecutorialmisconduct â\\x80¦ diet come break dietcok silver break women hung legend drink love smile â\\x80¦ itali tomorrow client work lifeofluxuri bestclient thought factori leftright polaris tramp select leadership polit breast ulm got tshe mindstick father day need magnet complet collect black amp feel like stop â\\x80¦ listen camp mimi\\x80¦ havent revis sunworld happi antarctica penguin bird k sunworld antarctica thought factori leftright polaris tramp select leadership polit breast ulm white peopl exist rest immigr class imperi new look\\x9f\\x98\\x9c tourlead life pick work aroundtheworld glasses\\x9f\\x91\\x93 cool love draw life reason stay coutur drawmi lifevideo stori librari librari saw liber polit smile random act kind buy coffe hold door doesnt newer new pre new destruct new commerci new new order new sweet new pop new kiss block new america stay cours lose win dinosaur thefutur belong near not inferioritycomplex felt like na fix bamboosl market nbafin nbafin day motherlandboyz sunday fathersday raddad one today thank freestuff read materi arriv booklet inspir newproject cant wait season real soon canon make happi canon badg camera review technolog feel fabul snug egotist annihil voter id myth video tramp magna whistl lookout ð\\x9f\\x92\\x95 join card session beauti keep â\\x98º happi grm fit meet th august book librari york vangogh amaniknew slam against racism mood not good mood good novgorod burn notion fun funni feel â\\x80¦ dick suck tutuila love slut wouldn want u way ð\\x9f\\x92\\x95ð\\x9f\\x98\\x98 justalil butstillontim ale detail flight fr le check destin wednesday travel\\x9f\\x9a\\x98ð\\x9f\\x9a\\x86ð\\x9f\\x9a¢ð\\x9f\\x9a\\x89ð\\x9f\\x9a\\x80ð\\x9f\\x9a\\x96ð\\x9f\\x9a\\x81 readi ilocano â\\x98of¸\\x8f support leagu ð\\x9f\\x92\\x99 fantast till goe wrong take hous stupid idea bike event money hell no right hire arrestsmil policecivilian encount usshootingaccidentsabus extrem rarethose\\x80¦ instagram photo semi â\\x80¢ pm proud thankyou best airlin feel use corydon saveourlibrari day til open nd eshop amazingli relax morn import person life afternoon roller blaze food love troop associ class bunch yesdart si brow usð\\x9f\\x9b«ð\\x9f\\x9b¬ busi amp excit time kingstreet today ð\\x9f\\x8d¦ð\\x9f\\x98\\x84 productlaunch minion noaddedsugar cant believ siberia fresh friday fresh princ feel werkwerkwerk instagram librari librari saw liber polit father day man come race declar winner putinschoic putinspuppet retweetâ\\x80¦ huntington attack bull game realli think head citi â\\x86\\x9d ourgap hit new fiveday low near blow silver gold fore librari librari saw liber polit no tissu man pale wait festiv period upset fright outrag when\\x80¦ littl unit run move new media dont board joint friend marijuana unleash book marco ruin no consider close weird statementdoubl platino mediami comment voic not liberia hate mental intrumpsamerica extend hand amp unit america unpreced rapid egomaniac librari cant believ hate muslin support tramp black woman im not damn slave end self love mess religion christian meccal platino label hasnt said shame public servant he\\x80¦ pp forget hard work actor moneyblood amp sweat piracydimaadi udtaviru final way delet old sweet use deletetweet talent woman reverend prayer sorri technic cleans east jerusalem bethlehem hey â\\x80¦ taharrush taharrushgamea rapeuge hotel soon rambl right blacktwitt trot clot alright boot blacklivesmatt peac â\\x9c\\x8c calm lover outspoken love romant gare§on believ passion femm franc canada ð\\x9f\\x8d\\x81 latest tattl thank afghanistan aint hip trend scald ach chronic amp choke like present no see a\\x80¦ famili horribl attack thegreenpalmcottag plettenburgbay westerncap think want to\\x80¦ wed moment bride groom bridesmaid happi unforgett love forever\\x80¦ remark posit affirm women fair white good dark bad it\\x80\\x99 twist version make india racism against peopl previou job white person respons mannequinchalleng amp that includ amp met\\x80¦ preorder sound realli great book model love u u time or\\x9f\\x93± ð\\x9f\\x98\\x99ð\\x9f\\x98\\x8eð\\x9f\\x91\\x84ð\\x9f\\x91 ð\\x9f\\x92¦ð\\x9f\\x92¦ð\\x9f\\x92¦ heard clip quot sweet drop expos view amp challenging\\x80¦ refrain rptlafamilya raulpereztarrago lafamilya motiv actor by\\x80¦ vs white unab obaman thing killer corp ampâ\\x80¦ say comment joke smith opinion dont think tori pay capitalist labour pay socialist green pay environmentalist liber pay coalitionist question axillari like consid age condit amp fact\\x80¦ shelv man social abus say kickitout shelv shoot â\\x80\\x98mass casualti situation\\x80\\x99 orlando gay nightclub breitba news heabreak orlandoshoot come work love pub environment well plan site spin amateur span lid against women workplac pp wait earach air miss connect flight flight later\\x80¦ speaker dinner eve ricsrur confer betterwritemyspeech book endur convict fred korematsu amp quest justic humanright htm\\x80¦ whitepanth na hot slut xxx worn sex rude horni king snapshot nasti naughti wet love â\\x9d¤ husband money love fun happi vilest\\x80¦ lighttherapi help sad depress altwaystoh healthi come powerhungrytraitor hereticfound stop call ive met bc he got big work ahead thank sera unforgett respons appal comment hearken doctorâ\\x80¦ beauti creatur lose life wild anim mountainlion shame new begin get rid nationdivid good radianc pu lame duck lame dick irrit like newghostbust water indisput intrus indec limit misogynist writer big gig cant wait bedgeburi feelslikechristmasev ð\\x9f\\x8e¶ð\\x9f\\x8cð\\x9f\\x98\\x80 hashtag laugh loud anybodi say against men doesnt exist hasnt tri buy dinnerlook townsthem scrub men sizescut lighttherapi help sad depress altwaystoh healthi spain guadalest place travel costablanca photo map best think ive heard nichola surgeon cant true librari librari saw liber polit damn realli tear littl muster thank certainli awesom inspir day ride\\x80¦ donna hangout tomorrow im guess smile man doesnt object smile smile woman actual not gotten conciliatori free sandwich debat wouldnt trade world bless white flight dere black ask tramp chang littl cousin st grade game fact american possibl orlandoshoot told amp voter law stillwithh liber democrat need wake amp really\\x80¦ photographerlist look rumbleoutthebox ottawa judges\\x80¦ im liter happi like ð\\x9f\\x98\\x83 â\\x99¡ follow â\\x9d¤ person lose best thing happen dont realiz ð\\x9f\\x92¯ ill work shop va loss make custom wig ð\\x9f\\x92¸ð\\x9f¤\\x91 blessedandthank sainsburi no red strike ð\\x9f\\x98\\x82ð\\x9f\\x98\\x82ð\\x9f\\x98\\x82 god good chippi market chippiesbananachip bless highlyfavour jamaica al jail tax invas not murder commit achil heel unpreced note soiler hearken turn womenswrestl pa age inform true ethnic biblic peopl caus overlap and\\x80¦ round destini fveri let maid go viewer supposmallstream no\\x80¦ hate life not surpris news outlet opposit racemix ad hate racism embrac ad sicken org use word broad peopl dont agre wyou theyr trigger â\\x80¦ grew teenagemutantninjatul amp nd film fantast amazingfilm rapp leo donn mike tulepow flower not think compet flower simpli bloom beauti mitchel drama great aisl truth tri need comment need indigen thought factori leftright polaris tramp select leadership polit breast ulm hear word free equal citizen like state mouthpiec journ claimedâ\\x80¦ hollywood present stereotyp solidar onelov allahsoil bear\\x80\\x99 rapaci hunger oil seal doom â\\x80¦ teambtsâ\\x80¦ conquer saturday smoke amp sleep shesthebest ã\\x82\\x82ã\\x82\\x82ã\\x81\\x93 æ\\x9c\\x88æ\\x97¥ midday aamp paid ask abdic stori push produc narr cancel clean posit affirm latest blicqerâ\\x84¢ daili thank tramp heal lawofattract low altwaystoh healthi weak sign check bag ah singl time unitedn resolv union form trophi educ saturdayblogshareâ\\x80¦ sick preprogramm hillbot rhetor uniti patriot love few\\x80¦ great addit reason shouldnt pot cant spell jeff session omit decad record confirm hear cant hide white girl sex black guy rude newzeeland port youd think blacklivesmatt b protest plannedparenthood doesnt fit ideolog worn video ran fuck girl stupid black white post black girl worn virgin sex pictur lighttherapi help depress altwaystoh healthi happi feminismiscanc feminismisterror feminismmuktbharat malevot ignor dont respond compliment quot latenight ness cri come ultra pu like surpris surpris magna play golf ð\\x9f\\x87of\\x9f\\x87¸ sigh templ canalis salari condemn act org tramp supper deplor dumptrump notmypresid deplor dementeddonni supper not real bright gentlepassionu na naughti shi slut rude sex hot worn horni king nasti snapshot wet world watchingthi head republican paya child call peopl name theresist notmypresid russiag votersuppress tyranni want fight pp\\x80¦ action against filthi plantat locat manag disgrac pu boycott pieceofm burnley promot hit women condemn assault amp terrorist war and\\x80¦ nice cri nice franc rain rainnyday somewhereoveherimbow life\\x80¦ goe wrong loveâ\\x99¡ denvercomiccon white girl sex black guy sex women rude cool year ð\\x9f\\x91\\x8dð\\x9f\\x91\\x8d tramp fascia amp right misogynist sexualpred prevent\\x80¦ incred content beforesex no wonder countri think america idiot time crisi point finger state democrat st tell joke ð\\x9f\\x98\\x82 ð\\x9f\\x98\\x82although im told andrew jackson cantanker no surpris tramp chosen administr mere basket resist axillari liar but\\x80¦ fun play afternoon drum educ wednesdaywisdom palmbeach receiv frame nobodyputsbabyinthecorn box readi no\\x80¦ thank laughter thank posit great movi agirllikeh netflix day school ni shiekha alic activ color kid mon dad of°\\x80of\\x8d\\x92of\\x86\\x9fof\\x86¤ofregistered\\x9fof\\x92ºó¾registered\\x9eof\\x94\\x9bof\\x94\\x83of\\x95\\x86 â\\x80\\x94 feel bless allahsoil islamophobia serv empow extremist emirati inward doubt vitaminsea sea instagood emmaston speak hollywood theyll steal joke given men move dad wordtrumplethinskin weekend chi leav â¬\\x87 no longer debat wypipo slaveri or\\x80¦ arc pp honestli dont c\\x80¦ today donkey zionazi proud murder real palestinian septic children call\\x80¦ say black crimin ulm team tramp lad church stand knew adulteri misogyni bigotri invest pedophilia rape fear root racism fear ego acknowledg human no wors better\\x80¦ guess theyll yell coupl sex bigboobsbeachgirl israel rape land not freedom palestin ð\\x9f\\x87of\\x9f\\x87¸ brã¼ssel indirect oneyear storyofmylif ð\\x9f\\x94\\x92 love â\\x9d¤ zacarylov content bless maramag bukidnon releas ebook book summer melt novel tiffani daniel scar break dark end stop act father son congratul mr ernest wall new ford ranger usedcar tuesday houston texa thankyou hey gun appar white black peopl slaveri thing that nice histori grm ð\\x9f\\x98 grm began diet food flower motiv health healthi love lush\\x80¦ dont think award bigotri self centr dick spoil gift enjoy breakfastð\\x9f\\x91«ð\\x9f\\x91of\\x9d¤ï¸\\x8fð\\x9f\\x91\\x91ð\\x9f\\x92¥ð\\x9f\\x98\\x8dð\\x9f\\x8e\\x81 father day mimi offic fire target practic joke policebrut newswith librari librari saw liber polit feminismiscanc feminismisterror feminismmuktbharat malevot ignor januari face come soon ð\\x9f\\x98\\x81 jaguarstb jaguarstellenbosch jaguarfpaceâ\\x80¦ im grate affirm love live â\\x9d¤ï¸\\x8f seasid view summer love home june alley wander katjabymyself open misogyni bigotri childlabor disgust need releas wild die mad cow diseas flagday flag day photo buy thing flag day â\\x80¦ quot uplift posit look bright ð\\x9f\\x98\\x83ð\\x9f\\x92\\x95ð\\x9f\\x98\\x83ð\\x9f\\x92\\x95 worn video sex latin lid shout follow cant wait til meet hangout live male privileg hut yeah trot feminist men wish site happi pride weekend stay safe fun sitgesprid â\\x80¦ manraghuramrajan led eye king land blind not seek second term bad sign friend hit u head founder bat pain clean space creat face allahsoil kneejerk reaction assum â\\x80\\x9cit irisâ\\x80\\x9d â\\x80¦ sex video fuck cross feminismiscanc feminismisterror feminismmuktbharat malevot ignor friday nationalvegetableday love ð\\x9f\\x8d ð\\x9f\\x8d\\x8bð\\x9f\\x8d\\x86ð\\x9f\\x8d ð\\x9f\\x8d\\x84ð\\x9f\\x8cof\\x9d¤ð\\x9f\\x8c· feverail canmiss fever youll rock â\\x9d¤ï¸\\x8f dare speak rest canada bc no dare bc massiv racism build get for\\x80¦ tramp politicalcorrect gone far know heard drama gone far play philip wise unknown music song figur mon rude mirror photo girl nake spot murrayhat happier murray bit like gaze hero drunk wifebeaterâ\\x80¦ thank year forecast worst hope fascia plan fail fashion cross mon dress justicemyfeet librari librari saw liber polit escap attent wash white isnt win elect dem seat lost â\\x80¦ self took min captur wild child energi babygirlâ\\x80¦ psychic xx psychic insan crazi happi stumbl pain worri suicid fuckmeâ\\x80¦ ð\\x9f\\x9a¨whitegenocid right tell white student dont deserv live reason wont dieð\\x9f\\x9a¨ black amp feel like â\\x80¦on listen camp mimi newyorkâ\\x80¦ id good no rock ran funni comedi pop bishop disgust watch defend career amp intellig inform futur gen laughabl ugli mt patriarch feminist feminist listen pip moodget grooving\\x9f\\x99\\x8c moodlifterâ\\x9d¤ gift let shine brighten world posit gratitud today great day beachbodi bull domin bull direct want right wing member for\\x96 gegenrecht nostrach for\\x96 road nopegida popul nonazi aufstehn marcorubio scene crime media prayfororlando tomorrow day ill wake crack dawn zero period memori di heuser broadband work lucknow twork tdoesnt tdoesn tback tgonetogonemi idea peopl arent protest tramp republican wonthey tramp usher ampâ\\x80¦ win seri tiger aureu decid play worst line possibl reaction get ga spot maraud strength offici bleedblu fuck rude need girl nake time neuro begin say your relationship sweet shit like want girlguy amp coupl day launch new look finditinworcestershir buyer hate raison detr invit mean usher jewworldord tyrannyâ\\x80¦ organ amp boston peopl japan abus claim right rough domo apach explain action netanyahu not claim discrimin u disgust worthless pig human beingassum human play traffic happi th midday junior ð\\x9f\\x98\\x8dð\\x9f\\x8c\\x9eâ\\x9d¤â\\x9d¤ð\\x9f\\x98\\x8d hope best dayð\\x9f\\x92\\x9cð\\x9f\\x92\\x97us midday christian ð\\x9f\\x8e\\x82ð\\x9f\\x8e\\x89â\\x9d¤â\\x9d¤ cant understand life especi consid what happen year ask realli want follow im  go hell not surpris vers chanc â\\x9d¤ im bless iron lovebeingalegend comment â\\x82¬ donat tefugeeswelcom â\\x9d¤ suck im constantli let lack fat male role model especi femori sad news thought pobox famili news parliament labourpay nottingham interest mile educ sigh templ canalis salari condemn act no platino feel econom anxieti make somewhat healthi anchor tonight ð\\x9f\\x98\\x9cð\\x9f\\x98\\x84ð\\x9f\\x91\\x8d love cook bodi balanc librari librari saw liber polit ð\\x9f\\x98\\x82 father great brother follow yeah marri awesom gun\\x80¦ danger putinschoic impress accept stoprac boycottâ\\x80¦ yall look like coupl congratul final ð\\x9f\\x98\\x8dð\\x9f\\x98\\x8d coffeeshop coffeelov instalik instacool vscocam iphoneonlyâ\\x80¦ lost trade sunglass ð\\x9f\\x98\\xad mad expens gone hey fan yall make subscript pass let going\\x98\\x86 rock on\\x99¡ wait watch biggestfan look got wake today loosen nd hole good note stillloos â\\x80\\x9cand make you\\x80\\x99v got kind he\\x80¦ bought new cap cap red newyorkyanke spot research play greatest role elect adam sale racism adamsaleh librari librari saw liber polit good time today thought tomorrow bob barley teamfollowback rocktheretweet realli tell microaggress race whiteprivileg antiblack work home great product share sweet boss wohasu work collabor w heikogunth amp come game donna beauti ive finish write mabel childrensbook consid illustr use realitycheck polici america cop audiblechannel policebrut socialjustic tonight present outer rootsandch nairobi sonya video lithuania lisa like cuckold write â\\x9c\\x94ï¸\\x8f â\\x8fª follow night fuck boy hit hussi vhafuwi im wing song u promis hell pebblecor pebbl wait till devic come home pebbl red laugh read screen ð\\x9f\\x98\\xadð\\x9f\\x98¢ trumpusa homophob misogynist realli say the\\x80¦ tramp luck nasi swastika bay tramp donaldtrump republican ask whitepow multipl type racism america america ð\\x9f\\x8c\\x8e team new amp phillysuppophilli amp combat babi grace fastact dix travel sand bouncingbabi good morn peopl coffe peopl amp grate money come increas quantiti multipl sourc continu basi today donkey zionazi proud murder real palestinian septic children call\\x80¦ rise day ð\\x9f\\x8f\\x8að\\x9f\\x8f\\x8að\\x9f\\x8f\\x8a instagood photooftheday cut beauti instap fashion selfish\\x80¦ bird fallen chimney wrap bird sub midday amaz strong amaz allahsoil riyadh renown deadliest traffic world â\\x80¦ inwards\\x80¦ white peopl black peopl brown peopl good amp evil not color race blow thank u love u need pp dont strain eye phone im dying\\x9f\\x98\\x82ð\\x9f\\x98\\x82ð\\x9f\\x98\\x82 battlefield seeyouinthebattlefield face gaze videogam gameinsight funni wonder bathroom plant felt l hear sound carlpaladino forev loyal citi buffalo real class act buffaloâ\\x80¦ women foul mood moodi thingsgowrong farmer beaten land invas crisi â\\x80\\x93 latent area southafrica crime far\\x80¦ govern allow behaviour watch periscop father daysnakish live save treasonoustrump trumpleak tramp misogynisttrump fund pictur real ð\\x9f\\x98\\x82 didnt forget homeownersâ\\x80¦ case best thing past ð\\x9f\\x94´ð\\x9f\\x94of\\x9aof¸\\x8fâ\\xad\\x90ï¸\\x8fð\\x9f\\x8c\\x9fâ\\xad\\x90ï¸\\x8f case n healthi greater friendship world tom hiddleston ff twhiddleston worksit baroni work longtemp free marri like live like no apaheid fascia great poster print stand v design print foggi happi thing win wet law feel rage angri blue sharp play hungri sharp game andro texa teach allahsoil american taxpay lost home million â\\x80¦ â\\x80¦ inwards\\x80¦ organ amp boston peopl japan abus claim right rough domo aberdeen root societi attitud black women hair read candid ganzeâ\\x80¦ mediamisogyni russian interfer crosscheckingvot suppress amp outdat doesnt reflect us\\x80¦ homophob misogynist realli say jealou dont forget women misogynist no enemi enemi outsid cannot african proverb quot inspir dandi of\\x80\\x99donoghu pay tribut murder voic contest rip montana say no racism whitish montana pari christma hanukkah richardspenc andrewanglin tyruswong babi list didn want children constrain line laid â\\x86\\x9d neuro area industri product data head not â\\x80\\x93 dens bank blow silver gold fore repay bier tramp movement tale ladi marriag age look husband time highth economi not help help amp follow chanc win watch amp ticket royalascot canal turn jewish famili minora swastika antisemit hate utterli love see team say goodbi wonder victoria ð\\x9f\\x8d\\x80thank go\\x80¦ share thought experi amp look caucasian differ watch like u tim danger putinschoic impress accept stoprac boycottâ\\x80¦ america great asshol xenophobia lockerroomtalk arent magna notmypresid dont appreci random select tea air morn surli profil dont let door hit way sorri ass youdisgustm kickrock dont come white dumbass happi choic choos ð\\x9f\\x98\\x83 astraea spiritsci peopl spiritu bliss smile tonight moon observ ð\\x9f\\x8c\\x91ð\\x9f\\x94\\xad tonight member astronomi club â\\x80¦ sad sad sadno wordsripchristina youtub prayforchristina truth list final watch conquer ð\\x9f\\x93of\\x9f\\x91»movi conquer scar nervou fun allahsoil use host innov architectur world â\\x80¦ â\\x80¦ meet wilmington peacekeep walk beauti week action peac dovey climate\\x80¦ not understand point stop give aim racism geoffrey lord dont cheap schedul colleg visit taylor ð\\x9f\\x98\\x8d kiss wish father day fathersday nice day fotokuapp love self follow posit war better send boy day amp quay your idiot fool sad traitor commerci show interraci coupl attack amerikkka supper wakeuppeopl sa motiv video men women malay hot super sex girl thank recent follow grate connect saturday welcom new world like amp share agre da dnaquot quot quoteoftheday love proverb lifestyl present ask c attack â\\x80\\x9cwe people\\x80\\x9d origin meant â\\x80\\x9cwe white landhold malesâ\\x80\\x9d â\\x80¦ inwards\\x80¦ know coupl look gun ð\\x9f\\x98\\x82 said tramp voter guilti normal form racism moral not movabl fear\\x80¦ melanin tramp help write speech end titl came great â\\x80\\x9ci have\\x80¦ prison offic goad muslin inmat need restrain pa game tysvm monday a\\x80¦ excit opportun turn littl kid cant control joy homelik pipe librari librari saw liber polit think babi like maintainhad break kick wriggl havent stop ð\\x9f¤\\x94ð\\x9f\\x98\\x86ð\\x9f\\x98\\x8d day debat ti season tramp network cochair make gorilla remark michelleobama carl platino disgrac pp shouldnt drive ughhhhh arm think seeyouinthefield readi cant stop save letstalkabout thepoliticalmillenni class educ feminist politics\\x80¦ blame blackbrown commun crack who blame doublestandard drugs\\x80¦ black hair come differ style â\\x80\\x94 slaveri coloni polici coloni slaveri tie no thing left commun amp islamophobia ive experienc white gay men saw commerci milk there fair live dairi cow amp calv veganfoodchat tyler perri say backwash tic revers racism new york daili news allahsoil term highlycontest concept â\\x80¦ tempt teamsuperjunior canal turn jewish family\\x80\\x99 home minora swastika bigotri newswith world end soon raghuramrajan great stand circl excel job respect india total happi fastinghappi saturday happi weekend happi holidayalway happi everyday â\\x9c\\x8cð\\x9f\\x96\\x90ð\\x9f\\x91\\x80ð\\x9f\\x98\\x82ð\\x9f\\x98\\x82ð\\x9f\\x98\\x82ð\\x9f\\x98\\x8fð\\x9f\\x98\\x81ð\\x9f\\x98\\x9c day armada ð\\x9f\\x98ð\\x9f\\x99\\x8fð\\x9f\\x8c¸ page ð\\x9f\\x91\\x8câ\\x9d¤ dont forget research show exist men psycholog problem tuckercarlson meet hugo mari spider bottl new land crew\\x9c\\x8cð\\x9f\\x8fof¸\\x8f plant latest blicqerâ\\x84¢ daili thank market holiday day â\\x98\\x80ï¸\\x8fð\\x9f\\x8dð\\x9f\\x91¨â\\x80\\x8dð\\x9f\\x91copyrightâ\\x80\\x8dð\\x9f\\x91§â\\x80\\x8dð\\x9f\\x91¦ð\\x9f\\x92\\x84ð\\x9f\\x92\\x8bð\\x9f\\x91\\x99ð\\x9f\\x92\\x9b firstfamilyholiday sun sea sand greec n healthi today improv tomorrow â\\x80\\x93 ralph marston dramafre gettingther colinpowel condoleezzaric secretaryofst word not use jumpedtheshâ\\x80¦ org break prayer famili god blessð\\x9f\\x99\\x8fð\\x9f\\x8fof\\x9d¤ï¸\\x8fð\\x9f\\x98\\x94 hate hatekil senselesskil ha good radianc blacklivesmatt great night not advoc kumbaya world like antisemit motiv singl purpos intellectu competit your defend woman against condescens turn defend woman verbal assail ff\\x80¦ tut choos church gay god call serv amp church turn right question foreign percentag main question accus democrat cant wait run stanley rode friday ð\\x9f¤\\x97ð\\x9f¤\\x97 barrelrac allahsoil like religion slam strong unifi forc â\\x80¦ teambtsâ\\x80¦ vol studi note practic account improv wmi belov husband saw spoke arab cell felt amp got thrown idiot screaming\\x80¦ beauti natur nainitaldiari traveldiari lake fish knosso amp akrotiri not includ arent unesco world heritag site pueorico environment injustic inflam protest coal ash ty\\x80¦ agre make travel babe happi travel kiss time grave dangerwith dissent recast treason unchang intoler marchampit\\x80¦ augusta buffalo stimul buffalo vicin home way allahsoil clinton\\x80\\x99 â\\x80\\x9cinvis hand job\\x80\\x9d champion conserv right â\\x80¦ â\\x80¦â\\x80¦ thought factori bc neutral right wing fascia polit media ulm breast tramp leadership sigh templ canalis salari condemn act check drugad surviv game set creep altern socialmedia flower cant solv problem theyr great sta thursday end vine monday awesomeday deadpool come door that ð\\x9f\\x98\\x84 marvel say antisept gee your bit trigger eh librari librari saw liber polit guy biggest leav bucket seen revolut occurred\\x80\\x95just not marx expect â\\x80¦ tempt teamsuperjuniorâ\\x80¦ hispan amp feel like â\\x80¦ listen boricua mimi\\x80¦ saysometh bull domin bull direct want let fun begin beaver scout rout legolandwindsor celebr bearer wish snapchat work ff imposs today extraordinaryladyspeak staraward sandranelson take chanc liber amp excit amp grow result livelovelif racism wont ceas white privileg beast god help melanin poetri write father day thalaivaa vital bdayspl week escap attent wash white isnt win elect dem seat lost â\\x80¦ thank comrad urica avenu make stop doesn hire indian domest whiteskin woman unfair experi india clear crisi compass countri read allow defil church misogyni adulteri rape bigotryâ\\x80¦ â\\x80\\x9cthe biopolit desir neonasi fashion icons\\x80\\x9d eugen jeffsess think wont notic react decad applic confirm jeffsess light outfit job xxxpoland hardwar music dont know bad anna kill right laugh loud lactat consult ive met woman hello yep say racism want support show imwithh knew sleep â\\x80\\x9câ\\x80\\x98all men creat equalâ\\x80\\x99 don\\x80\\x99t believ it\\x80¦mayb stop say itâ\\x80\\x9d huge humphrey bigotri miss sake ð\\x9f\\x8e\\x8bð\\x9f\\x8cof\\x9f\\x8cð\\x9f\\x8c·ð\\x9f\\x8c»ð\\x9f\\x87¯ð\\x9f\\x87µ home relax famili lover cut pretti garden winter\\x80¦ tramp real estat muddi carl platino wish drama dead mad cow diseas â\\x80¦ im pick new album tomorrow strangelittlebird tramp alli r unstopp drama christmasev guy look like brother who wife wanoth man sex document the\\x9f\\x92copyright pa picket norton live semifin australia open nay offic ð\\x9f\\x98\\x86 watch fox spot allahsoil riyadh renown deadliest traffic world â\\x80¦ â\\x80¦â\\x80¦ â\\x86\\x9d colleg star heroic overcom rape commit blow silver gold fore nice posit affirm ladi line bloodwhen woke morn heard dead amp thought small thing orlandoshoot true life tough feel helpless mon heabreak myliferightnow ì \\x95of\\xadday â\\x99¡ jungkookday predebut jungkook pick father day great pray nice dayyou truli deserv god bless sleep bring thefixtour newli ð\\x9f\\x98\\x9d im die share news ff got mouth shutð\\x9f\\x99\\x8a cant wait til tomorrow ð\\x9f\\x97£ð\\x9f\\x97¯ð\\x9f\\x97\\x9eð\\x9f\\x8e\\x89 need like not year time orlando florida tragedi guncontrol ð\\x9f\\x98\\x94 man come race declar winner putinschoic putinspuppet retweetâ\\x80¦ offici boyfriend got bu ticket go sake amp tokyo summer â\\x9d¤ï¸\\x8f dr japan hispan black asia nonrac white minor dont serv militari power â\\x80¦ allahsoil term highlycontest concept â\\x80¦ tempt teamsuperjuniorâ\\x80¦ overexcit man attack cat open present cat reap tramp millenni shock axillari quot think tramp tyitus midweekâ\\x9d¤ tramp new york cochair want drama die mad cow diseas mitchel male tramp save no loin x broker chang mete love educ univers share step stop racism attack interven beat bulli year ago listen davi morn amp vaniti way home use bright spot day father day â\\x80\\x94 celebr father day hispan amp feel â\\x80¦ stop listen boricua mimi\\x80¦ that progress r amp right pp selfhat lazi resist ll\\x80¦ sadli true disgust tramp loop carlpaladino didnt mean publicli post comment know real nigger face nigger amp piti nigger delet life raceplay â\\x80¦ victim islamophobia adam sale refer black peopl slave sketch atright site plan face black person twitter campaign socialmedia danger putinschoic impress accept stoprac boycottâ\\x80¦ broader phenomenon emerg race scienc american intellectu discours cityjourn book om famili come tonight cant wait mon brother food gettingreadi rush winteim stalwart friday got friday feel ð\\x9f\\x98\\x84 good day friday fridayfeel pack no safe place black countri peopl like bitter hispan feel like stop listen boricuaâ\\x80¦ power minut free podcast anxieti stress life success nowplay know red malevot amp womenvot profit red blackvotehispanicvot accept â\\x80¦ sigh templ canalis salari condemn act work â\\x9b° engin ð\\x9f\\x8c geolog nambija geolog ð\\x9f\\x93¸ engin engin azealia banksjimmi macmillanjam david man clinton tramp lafa no nonwhit peopl right prejud oppressed\\x80¦ comment reveal disgust realiti stupid circl tramp hey carl platino look like your fire humpday hour hotspot share hotspot love friends\\x80¦  white fragil it\\x80\\x99 hard talk white peopl agre arc wouldn\\x80\\x99t popularvot wo ca way tramp wouldn\\x80\\x99t win wo â\\x80¦ fun day thank hannah happi midday good place sta learn person amp right mtvwhiteguy come time life got stop dare what meant happen peac truth childless woman demand patern leav like headlin onion not hey vanka bracelet feel good profit xenophobia misogyni hatredâ\\x80¦ cut x mud blackonblack antiblack dogwhistl blacklivesâ\\x80¦ instagram bestfeatur dont want read stupid childish rude comment ð\\x9f\\x91\\x8dð\\x9f\\x8f½ msnbc amoy joe widen want thank tramp unpack america congressmen hang pictur nation\\x80\\x99 capitol volunt hut\\x80¦ final way delet old sweet use deletetweet stephen come contribut societi hope move canada tramp win lower ovehehil magna new sweet quit fr pp merci oscarpretori merci oscarpretori merci oscarpretori hearken allahsoil problem there\\x80\\x99 no space altern explan emirati â\\x80¦ askulm nasi sum hitlerjugend differ color skin dentist amp dem ideology\\x80¦ n healthi doesn\\x80\\x99t surpris surpris oneself great feat â\\x80\\x93 kirsten harley title\\x80¦ stupid idea tramp fascia destroy gone far drama terrorist pa mild reject putinschoic boycott busi amp hatr stopped\\x80¦ look like outlin fail write fuck donald tramp presid opkkk optrump illegitim oligarch plutocraci make special request best friend tonight perform dreamboy theatr xx peopl arent protest tramp republican wonthey tramp usher ampâ\\x80¦ th amend ulm discuss thank resign today chair school texa justicereform realiz high school closer end illmissyouguy neverforget â\\x80¦user great news im amp boss doorway theatr amp boston no agre wit wat gave fuck wouldnt got big u better crack time leafypag moment think row plane encroach sit ð\\x9f\\x98\\xad tut young women relev read women journal cant beat classic sake colour ð\\x9f\\x98\\x84 giant version flag rebellion sedit flap virginia order rose matter today ð\\x9f\\x98¬ð\\x9f\\x98¬ð\\x9f\\x98¬ð\\x9f\\x98¬ italian fascia carlpaladino need lobotomi that wish hell realiz ye carl right amp who post arc call donald tramp dont post not honest amp say big girl parti bandi mass ditch realli thank clare happi life time live not exist make no wast time\\x80¦ america isnt racism plethor reason not like drama your ignor fashion\\x80¦ joshwin like ð\\x9f\\x98\\x82ð\\x9f\\x98\\x82 what wrong guy pick jeff session scrub racism recordeven argu feloni trumpsamerica happen far dont sorri better godofwar e allahsoil infam maneuv affection baptiz â\\x80\\x9csaid sweep\\x80\\x9d â\\x80¦ â\\x80¦â\\x80¦ forev tropic paradis masswed ceremoni held sonya marriag whererefreshingbegin hope struggl observ dont need kind nativ day laugh loud run thing say peopl tell uyou real colour accident tell stillcantbeliveyoudidthi â\\x9e\\x95angry\\x9f\\x98¢ð\\x9f\\x98 peopl missingperson havingfunalon lone ð\\x9f\\x98\\x8f hotel ð\\x9f\\x94¥ð\\x9f\\x91\\x91ð\\x9f\\x92\\x8b black walnut wooden pictur horsehour woodcutwednesday wooden giftidea hors method craftshout everytim wear soccer join fire say look mexican fuck ð\\x9f\\x98\\x92 holiday fun social relev podcast celebr twitch urg epi conven pay meet udtapunjab issu â\\x86\\x9d usdcad risk balanc upsid â\\x80\\x93 scotiabank blow silver gold fore white peopl exist rest immigr socialclass money privileg â\\x86\\x9d step carri suspend na final blow silver gold fore presid polici israel settlement drama slam treacher antismit â\\x80¦ librari librari saw liber polit hispan amp feel like stop â\\x80¦ listen boricuaâ\\x80¦ hispan amp feel like stop listen boricua mimi network losangel awesom beginn pro mount super use fridaydownbytheseashoreð\\x9f\\x8c´ mylebeach morn friday male beach state park pier carlpaladino vile remark presidentobama amp micheleobama tramp deplor israel rape land not freedom palestin ð\\x9f\\x87of\\x9f\\x87¸ remark racism utter wife carlpaladino not involv educ saw video know clarababyleg didn make feel better dear\\x80¦ carl platino tramp campaign offici unpreced tramp snatch wig jame brown head amp time end day live live self cafenoirproject thank tonight bc final get watch oitnb season bless ye thankyoulif outsid logic wrong know construct build bridg wall tramp chanc hate for\\x80¦ allahsoil cold war fought oil tempt teamsuperjunior â\\x80¦ holiday book excit august holiday book familytim â\\x80¦ favor read kind funni stori ned vizzini man great book quot italian werent come countri women stone didnt enter illeg proimmigr by\\x80¦ good see sat im grate affirm dont know pp dont tire drink weekend caus drama\\x9f\\x91\\x8eð\\x9f\\x8f¼ like that disgusting\\x9f\\x98· sick group moretolif dad ordinari men turn love hero happi father day daddi globe father day concur nearli million voter th make hi doesnt token asia carolsbycandlelight thought femal fighter roll promot welcom look like go batshit dumb sow dumb notracist texa man kill latin stepmom celebr cowboy win newswith black geniu v white supremaci miss action freemason taught lesson nonsens hatefil wordsalad wb funni werent sad bigotri notmypresid colour make peopl happi truli believ statement colour colour girl accessori disbadeth levi wake happi ð\\x9f\\x98\\x8að\\x9f\\x92\\x9c bedstead momlif babygirl love famili listen discuss boy engag sexualbulli harass theresist notmypresid not treason narcissist alight jeffsess omit decad record confirm hear dont amp netanyah talk phone what drama think oh who\\x80¦ allahsoil think cultur separ distinct â\\x80¦ â\\x80¦ aleppo orlando syria tramp war berlinattack inequ band nice pari celebr gener donald put butt muddi commit suppos tramp make conserv act like liber your donna steal shit common cours steal right ð\\x9f\\x98\\x8dð\\x9f\\x98\\x8dð\\x9f\\x98\\x8dð\\x9f\\x98\\x8dð\\x9f\\x98\\x8dð\\x9f\\x98\\x8d midday wrap desaingrafi imagin blacklivesmatt lanasprayberri posit author got blacktwitt dont miss miriam herschlag blow ass journal racism muslin societi dr tsar teach slam solar thought effect shoot orlando peopl kill chang resign school board newyearsev factophobia ale peopl use follow word islamophobia feminist culturalenrich night ð\\x9f\\x98\\x8dð\\x9f\\x91« certainli dont look like anymor ð\\x9f\\x91\\x8fð\\x9f\\x8fof\\x9f\\x98\\x82 suicidenorman self love â\\x80¦ book day shepherd hut look wonder clamp disgrac asham person fellow newyork ð\\x9f\\x98¡ð\\x9f\\x92copyright lot happen foot dress room nobanterð\\x9f\\x98 like canadianvalu ignor realiti divid amp weaken hate amp scienc cdnpoliâ\\x80¦ ida anymor ð\\x9f\\x98\\x87 mild american reject bigotri amp hatr fli flag half mast janâ\\x80¦ librari librari saw liber polit thank spring thank posit happi babi ð\\x9f\\x91¶ð\\x9f\\x8e\\x82â\\x9d¤ï¸\\x8f babi babylon cut cake chocol sixmonth love remain collar origin pipelineexcit week ahead tranc trancefamili remain collar of\\x88of\\x81of\\x90of\\x90of\\x99 tuesday coffe tea beverag ice american iceamericanoâ\\x80¦ want lesson hypocrisi imagin drama kiss differ women drag graft hussi donaldtrump free sa sad live peopl like contribut kick contrari guncontrol need â\\x86\\x9d epi review expect ushad blow silver gold fore need happi ð\\x9f\\x98\\x89 beheld helloexperi friday paradis sun noonday caribbean racism school teach student white problem say no notmypr utf neverump unpreced right â\\x80¦ utf propaganda want russi flag wmuslin crest\\x80¦ enjoy life\\x9f\\x8dof\\x9f\\x8dof\\x9f\\x8dof\\x9c¨ flex day busi relax lifestyl felix felicidad life\\x80¦ slam against racism press librari librari saw liber polit dramaarrest agenda destroy good countri inflict bit hate think infect think look like oitnb like kind life ð\\x9f\\x8c´ summer palmtre breez place california swimwearâ\\x80¦ good morn bud breakfast marijuana unleash book rd th june help client exhibit royal highland import issu need discuss justic loserpizza understand girl post drama fight twitter make big fool today pornstar good luck unemploy line pay worn free video joke women tramp troop love tramp donaldduck sweetpotato bigotri mustfal rachelmaddow rhashtag epitomeofsorrow defineepitom ask sale assist heard quickli copper outhim wouldnt surpris said hispan amp feel like stop â\\x80¦ listen boricuaâ\\x80¦ â\\x86\\x9d andu watch consum inflat expect street blow silver gold fore real time day smackdown unitedstateschampion champion live great illeg talk ye mock probabl aw lot pain thank tri help aliv black man forc coffin white south african big gener happen ff attack peopl dont want toler peopl want tone right day come coldli aheadfullofdream ahfodtour coldplaywembley cantwait ð\\x9f\\x8e¤ move â\\x80¢ inspir peac crazyladi brother heat fan ive low key want iron cleveland chip shit saw video spark outrag white offic arrest black mother glitter argument bald thought log summer gun prayforoakland hispan amp â\\x80¦ like stop listen boricua mimi\\x80¦ rememb it\\x9f\\x99\\x8d lost empir dream success goal aim world believeiny neverstopâ\\x80¦ happi day joy fathersday ny new york new york mud radio songword showmeyoureawoman org listen word seventi classic signofthetim insult jew hate piec shit racism home anti advic good sea shepherd supper racism anthraci seashepherd forgot book school ð\\x9f\\x98\\x94 paul forcibl ask punjabi admit drugaddict launch new ventur codelabor jobboard profession stamp express photo sure breast u king win chess not queen downwiththetriarchi thefutureisfemal freedownload week ny come holder mon im check tag china haiti india nicaragua hondura amp ð\\x9f\\x98\\x9fð\\x9f\\x98¥ need ice bath work retail virginia ask leader not racism misunderstood christian trumpracist trumpconaist tramp weak nasti feminist count no god right wing white mug hope newer busi end endo tedtalk tedatibm love beauti video censur coutur hate speech ð\\x9f\\x98\\x82 enjoy magna everythingisracist triggeredâ\\x80¦ closest friend die cat die ugh damn hell deserv thisð\\x9f\\x98 ð\\x9f\\x98\\xad fuckmylif angri barefoot gulf catch take pictur feet gulf feet barefoot barefoot kick robbiewilliam act slut bc littlemix time no bath lid against men priyankachopra subject fought hard hollywood quantiti bollywoodâ\\x80¦ sigh templ canalis salari condemn act fathersday gift proud daysavail day tri hack facebook sent email say block attempt hardwar music rude asia women free good morn bless gratitud newli enjoylif carpediem lo angel california stuck indoor day work project got like sigh motorcycl aircondition love countri argu differ shade black ð\\x9f\\x98¨ ð\\x9f\\x98¬ ð\\x9f\\x91\\x87 great speech war veteran ran war profit militari invas senseless act violenc didnt happen rip lost live tragic event orlando lover stop angri visit usititit lover friend astrolog love fail understand day peopl believ race sexual orient defin person bad wrong\\x80¦ today good day got littl ð\\x9f\\x98\\x81ð\\x9f\\x98\\x81 tune pm tonight huge announc xx smile babi ð\\x9f\\x98\\x89 goodvib smile girl braziliangirl belohorizinteâ\\x80¦ who uglyladi new video super mari run exist christma ivankatrump manspreadingâ\\x80¦ that harsh post breast xenophobia time chariti call send buggy\\x80¦ black dad put babi mamma blast take brachial daughter brain okay need sack smoke friendsbut dont smoke anymor lonleyston stillblazin resist ceas want problem good peopl bullshit im liber claw liber progress happi got paycheck earli day ð\\x9f\\x98\\x8d adventureawait thank famili vacat thank posit joemixon esp minnesotavik goe say he homophob sucklahoma baby\\x80¦ goodbi bubbl im sorri live life wrap human entertain amp swam free seaworld allahsoil term highlycontest concept â\\x80¦ tempt teamsuperjuniorâ\\x80¦ saw indian away brown miss cap lose finalnev thought go game momentum cap feminismiscanc feminismisterror feminismmuktbharat malevot ignor chang come relax faith know chang good magnific come few\\x80¦ wish way fun berniesand tradit import mob congress cardin draft player fail drug test red cardin way fun day babygirl friendsforlif midday compani garden sexchat leed automobilizam meet click watch â\\x9e¡ hidden america rampart latent racism feel let girl there massiv queue gun smileyong kingconrad make hell ð\\x9f\\x92¡ð\\x9f\\x91\\x89â\\x80¦ mt baker sea snow beauti amaz hikingadventur funni cold replac lake ð\\x9f\\x98\\x86 marijuana prohibit sta detroit mi atlanta tennesse alabama georgia florida utah black amp feel like stop listen camp mimi\\x80¦ islamicinto cricket alltypespot poetri worldnew add tri fro air mala na aye stop follow tri best express feel unfortun english suck allahsoil neoliber priorit money oil pretti â\\x80¦ â\\x80¦â\\x80¦ pass life go moment proud thought factori leftright polaris tramp select leadership polit breast ulm late post amoy fall cbafamili summerout travellifeâ\\x80¦ tran song hymn long instagram campaign particip thankyoustudio wonder chose adel hello anniversari make sens famili time yesterday myoma familytim mummi rescu babi mummi natur weak doterra essentialoiladventur reason latest rich time negro good allow heaven servant etern accord mormon mormons\\x80¦ like ordinari girl ð\\x9f\\x98\\x80ð\\x9f\\x98\\x9d self travelingram ripinkylif giant version flag rebellion sedit flap virginia ð\\x9f\\x8c´ð\\x9f\\x8f\\x96 summer beach vacant beach love ð\\x9f\\x98\\x82 bout play game laugh loud half way dont realli like twitter wheresmyspac feel lone peopl friend famili fit insidethebelljar mad adventur time human final notic parent anxieti wont admit denial shock sore fund caus no matter r ok critic retard polici hypocrisi not okâ\\x80¦ â\\x80\\x98antiislamistâ\\x80\\x99 ralli organis neilerikson shown laugh death forag eusol tinfoilhat walk fo atheist babe look â\\x9a\\x93ï¸\\x8fð\\x9f\\x91\\x80 cuti love walk moments\\x80¦ feminismiscanc feminismisterror feminismmuktbharat malevot ignor â\\x96whi illeg hopeless photo women legal write comment stoprac facebook black brown women intersect mean bu thrown whitefemin â\\x80¦ cleveland polic union overwhelmingli endors tramp presid cleveland ask klan love tramp ohio what differ jew penza penza doesnt scream oven joke jewishjokeâ\\x80¦ messag say ive book hilton tonight let ð\\x9f\\x99\\x8að\\x9f\\x98\\x8a spoil random champagneonchil ð\\x9f\\x8d¸ organ amp boston peopl japan abus claim right rough domo age bc comment celebr sheð\\x9f¤\\x94 make smile thursdaythought carlpaladino ahol extraordinari guy tramp hero cours fascismo wish drama de\\x80¦ pew result like get clear not good fistpump â\\x80¦ russian default posit face accus doingviol marseillesbarrel bomb hospit syria lie eusol race cultur war mean defend action send inaugur fine soon forev wish dream peopl move everythingnic everythingisok anna mock countri bc no itð\\x9f\\x99\\x84 libtard allbc not if\\x80¦ queen evil bihdayð\\x9f\\x98\\x98lin lnicjustanevilbday midday suit evil love solo stop serious school board seek member jaw drama victim victim oppressor no econom power no black peopl cant racism australia japanes â\\x80¦ å±±æ\\x9c¬å¤of\\x83\\x8e æ\\x9c\\x89ç\\x94°è\\x8aç\\x94\\x9fã\\x80\\x80æ°\\x91é\\x80å \\x9a ç¤of°\\x91å \\x9aã\\x80\\x80ç¦\\x8få¶ã\\x81¿ã\\x81\\x9aã\\x81» opkillingbayã\\x80\\x80thecov boycottaustralia rise today stori polic brutal polic week go slow hurri sunday ð\\x9f\\x99\\x8a photo accept amp sale photographi wish day armada wish mydubai use pdcgroup marwaabdelaziz fuck di bag notmypresid fucktrump sexualpred liar incompet orang delus divid moon intercours video men women japanes armpit fairli rude pictur republican tramp muddi who rabid racism cant figur what wrong wsay violent hate thing ici percent say w job ð\\x9f\\x98\\x8e philippines\\x9f\\x87of\\x9f\\x87\\xad thailandð\\x9f\\x87ð\\x9f\\x87\\xad singaporeð\\x9f\\x87¸ð\\x9f\\x87¬ hongkong\\x9f\\x87\\xadð\\x9f\\x87° blackpeopl harlem worri bout whitepeopl nation move revers call free speech liber not evil twitch today word factori race denial prevent heal southafrica leadership transform inequ battlefield look unbeliev ð\\x9f\\x98\\x81 salt lake teach worker experi racism survey say deseret news librari librari saw liber polit want summer bodi bad food liter mind health class talk diabet obes gorgeou flower garden look instant happi countrysid sculptor nail love nail rebecca nail plymouth librari librari saw liber polit fusionmad dexter laboratori rememb â\\x98º motiv good year precis cell immemori okaaaay ð\\x9f\\x98\\x8dð\\x9f\\x98\\x84 fridayfeel best feel launch day not far away eliorfoodi eyes\\x80¦ polic horribl hyperviol maid cab happi danc cut elect fraud voter suppress congratul thank remind musket cancel bow power pictur take great human kind save life rate existence\\x80¦ bustyesco hata realli great ð\\x9f\\x8c¸ look time end day live live self cafenoirproject allahsoil not western islamophob â\\x80¦ emirati inwards\\x80¦ make happi greatest thing ive seen there comedian like stuck rat race freedom masterkeyexperi â\\x9d¤ï¸\\x8f friday â\\x9d¤ï¸\\x8f friday thinkingofu love weekend relax recov minion merit cowboy stop fakenew hate fear nonsense\\x80¦ csummer bag shoppingsan diegoreadyð\\x9f\\x98\\x8eof\\x80\\x8aof\\x93\\x96ð\\x9f\\x8f\\x8eð\\x9f\\x8f\\x8eð\\x9f\\x8f\\x8eof\\x9f±of\\x9f±of\\x9f± boss fire alleg told hate honestli commit equal want fuck donald tramp presid opkkk optrump illegitim oligarch plutocraci cakerymx graviti cake decor mampm ð\\x9f\\x8e\\x82â\\x9d¤ cakeryboutiquemx love mexico pay\\x80¦ time week sat ð\\x9f\\x8dº hand wait bodi arriv judg man question answer voltair wisdom leadership quot inspir happi father day yosoytupadr felizdiadelpadr fathersday domingodeganarseguidor sundaymorn hope cant imagin educ isnt activ utterli moral vote treasonoustrump â\\x80¦ black amp feel like stop listen camp mimi\\x80¦ content abus pedophilia talk harass alight ablest threat suicid self harm rape invest true wife sex stori get tuck petya pig ice cream finger famili pick nuro â\\x9c\\x88 bangkok ð\\x9f\\x92\\x83 got ð\\x9f\\x91\\x9c shop cantwaittoseegot org â\\x80¦ self lawn realitycheck polici america cop audiblechannel policebrut socialjusâ\\x80¦ time fightback against evil men donaldtrump homophob ego peac arc week class amp educ mon pm slide scale mamma harvard justic workshop ohhhh peopl realli think interraci relationship ampor childrenofcolor opt ð\\x9f\\x98regist firstli school goodmorn loveyoumizkulet goodluckó¾\\x8d\\x83â\\x9d¤ crazi stuff what go ð\\x9f\\x98« tomorrow mamma come visit omaha excit famili foe final eat ð\\x9f\\x98\\x8d italian girl boyfriend oishiiâ\\x80¦ set neuro offic neuro whosgoingtowin â\\x9a½ make connect comic sad littl princess baronfig sketch draw ink brush comic racism resourc develop polit stori minuit watch â\\x86\\x9d gapu batteri polish fed blow silver gold fore cant wait beauti botswana travel suppos clinton feminist basi care white center feminist that disturb disgusting\\x80¦ concur nearli million voter check saw kiss day father day\\x9f\\x98\\x8a model love u u time or\\x9f\\x93± ð\\x9f\\x98\\x99ð\\x9f\\x98\\x8eð\\x9f\\x91\\x84ð\\x9f\\x91 ð\\x9f\\x92¦ð\\x9f\\x92¦ð\\x9f\\x92¦ â\\x86\\x9d rasenturni london queen club arinka schmidt blow silver gold fore black amp feel like stop â\\x80¦ listen camp mimi\\x80¦ hussi keenli hazel rude pictur jessica want christma best â\\x98\\x91ï¸\\x8f â\\x8fregist ñ\\x83ð»ñ\\x8bð±ðºð° merri bradshaw amp georg karl insensit remark racism melon mike domain tramp embolden morn sweet exact thing newyearsev shyness present asia woman edinburgh bring asia woman live keith realli realli good nail address upstair eliza booth bay\\x80¦ feminismiscanc feminismisterror feminismmuktbharat malevot ignor fascia doesnt arriv nasi salutbut sharp suit alright richardspenc trumpism depot ð\\x9f\\x99\\x8fadmir more\\x9f\\x99\\x8fus kind friendship compass love\\x9f\\x92\\x93ð\\x9f\\x98\\x87 remax wish broker day agent associ broker world detoxdiet altwaystoh healthi nexu goe ensur qualiti servic maintain continu norm custom nexu ayrshir moment child teacher notic weight loss comment amaz look â\\x98of¸\\x8f love drive rain ð\\x9f\\x98\\x8fð\\x9f\\x98\\x8fð\\x9f\\x98\\x8f rain music travismccoy fordexplor seri ruler â\\x80¦ fedorarchibaldkotovski cat walk ground ð¡ñ\\x87ð°ñ\\x81ñ\\x82ð»ð¸of\\x8bð ðºð¾ñ\\x82â\\x80¦ look forward meet gang geekheaven trust brazilian not sound look fall unlik nun good luck tinker bell nake b hardwar chapter love father father father rip true ideal father day here collect coverag womenrel issu womensissu gender equality\\x80¦ holli rode happi aim give handjob type rode holli give aim handjob black amp feel like â\\x80¦ stop listen camp mimi\\x80¦ government\\x80\\x99 new antisemit definit conclav valid critic israel opendemocraci ð\\x9f\\x98\\x94 teach kncminer announc sale jupit chip directli public presid jimmi care leav religion requir job presid male stillwithh hillaryclinton neverumpâ\\x80¦ pa troop sweet want use project anger cut hate thought assist gladshesgon hope sad that sign mad no no twitter no ff no press month ago base recent commerci state farm old navi omarosa choic clearli food heal bodi plant healthi imposs hate skin color social statu gender believ god tell im nothappi rogansloadhous beam growth ð\\x9f\\x99\\x8fð\\x9f\\x91\\x8fð\\x9f\\x90\\x98ð\\x9f\\x92\\x82ð\\x9f\\x8e¼ anna win reject news write southafrica polit librarian whiter underlin enjoy littl thing ð\\x9f\\x98\\x8d chip home noonday â\\x9d¤ï¸\\x8f bledâ\\x80¦ ha ha pathet remain dont writ dont like pull blackmail racism home anti advic good silveragatka screenshot amp share snap michaelacoel import messag colour\\x80¦ priyankachopra subject fought hard hollywood quantiti bollywoodâ\\x80¦ thought factori leftright polaris tramp select leadership polit breast ulm dog bite self mobilephotographi syberianhuski dog doglov havingfunâ\\x80¦ latest e sweet daili thank healthi pray time break fast grant refus ampblessedramzan cost today cant wait meet click reason smiletoday lovelif librari librari saw liber polit hour road come babi sure way countri constitut risk allahsoil hither fought battl not africa access oil â\\x80¦ teambtsâ\\x80¦ that hate bigotri greed new religion makeamericagreatagain tramp goppropaganda wish amp famili happynewyear let work remov dovey xenophobia genderinequ world bihdaygirl chamber creed morn surpris time ð\\x9f\\x91\\x91ð\\x9f\\x8dof\\x9f\\x87of\\x9f\\x87¸ bloodi roast ð\\x9f\\x94¥â\\x98\\x80ï¸\\x8f wonder world weekend sex cord worn black girl worn hispan black asia nonrac white minor dont serv militari power msnbc sea shepherd supper racism anthraci seashepherd sad hatr jew e amp mean rememb mean sonya nigeriaâ\\x80¦ life theori strawberri vegetarian eathelthi china sunflow seed monday glutenfre cock recent crimin neglig author health amp detent staff caus death msdhu amp final miss marsh definit minut pack right allezbroadfield human unit love amp respect terrorist tyranni defeatedbut busi love object use happi monday ð\\x9f\\x92\\x99ð\\x9f\\x92\\x99ð\\x9f\\x92\\x99 ð\\x9f\\x98\\x81 wild food diet peac love organ began horizon men motor sale not women ð\\x9f¤\\x94 poweothewomen hate corrupt bankrupt buttholemouth whiteprivelag daddygavemeamillion hispan amp feel like â\\x80¦ listen boricua mimi\\x80¦ black penn frenchmen ad racism social media account â\\x80\\x98daili lunching\\x80\\x99 calendar univers stand hate ignor stupid lie colleg hot new releas swiftli sharpen sang radicalis reveng record câ\\x80¦ vital project hate n real talk ion girl fuck night near deserv claim wont fuck night dat actual deserv laugh loud no joke im tire cerebr act like im threaten leav theyr mexico want hand cant sit life driver amp talk african speak english bluntli moon got thou\\x80¦ stop give real sour cream like gross amp wors real stuff confus cours person open educ self make new friend year definit best decis ive life ð\\x9f\\x98\\x8a spot illustr girl nake sex video say make mediocr video your way flatter allahsoil it\\x80\\x99 consum hold media account tempt in\\x80¦ quot women kingfish girl xxx want line way long ð\\x9f\\x98\\xad conceproblem main stream news media like busili cover small hand misogynist notic morn idol love terribl depress news ppwe lose way awesom pp nowadaysso rite nowâ\\x80¦ no pose anymor love barri and\\x9d¤ï¸\\x8f dear defin systemicrac economicapaheid da intend add\\x80¦ offici half year australia colombia ifyousawinyouwhatise believ accus regard father racism aggreg peopl like mix race coupl face australia your profit base look isnt illeg button feelthebern kind expect tramp america sigh templ canalis salari condemn act wish black lot feminist shut amp photophobia invit help action peac dovey sept eh not sin not let sun wrath spi new product uniqu make get buy new lavra round notlongtogo thing peopl differ allahsoil like religion slam strong unifi forc tempt teamsuperjunior â\\x80¦ seen utterli pathet sorri hold who teeth clean met spent day miss doesnt help tri run busi frustrat white girl sex black guy best world sex dont happi friday jewish stanza jehovah wit right commerci show interraci coupl attack amerikkka supper morgan freemen respond ask solv racism morganfreeman commonsens sick preprogramm hillbot rhetor uniti patriot love few\\x80¦ enjoy vine â\\x9d¤ï¸\\x8f recordcollect vinylcollect record last\\x80¦ axillari way bern wander burn hell murder sandi hook kiss nevermind erago say let guy fall ground wail second call fight father day follow ff lanasprayberri fire think choke child wrong arrest parent acceptableâ\\x80¦ quit live laguna ball music live nighttim jazz vice dinner\\x80¦ boy girl game call michigan middl school build wall chant trot thank sock thank posit what best way ticket see cursedchild januari help needtix save date sourcen live wed thependulum newshow policebrutalityâ\\x80¦ librari librari saw liber polit relaps hussi women busi sex women nake hardwar athen men dont think misogyni issu way white peopl dont think issu tri listen instead\\x80¦ sigh templ canalis salari condemn act thank film thank posit think ð\\x9f¤£ð\\x9f\\x98\\x9b love girl world watt canada no sex fuck expos mean expos racism say wait thank shout loverow skerriesharbour â\\x80¦ black amp feel like stop listen camp mimi\\x80¦ lighttherapi help sad depress altwaystoh healthi fix center xingmi univers final second center ex chorea bless ok tri fail ð\\x9f\\x98\\x82ð\\x9f\\x98\\x82 midday type trash tramp platino attract dumbfuck convers go school home need creat space time commit help themâ\\x80¦ cool year ð\\x9f\\x91\\x8dð\\x9f\\x91\\x8d happi hump day step closer weekend humpday weekend handmad spoke british mean guy teammichaelpalag teamcanc best feel worldb stress free live fall go thing wonder resist narcissist psychopath mysoginist clown happynewyear tramp campaign offici want mitchel drama â\\x80\\x98let loose\\x80\\x99 live african ape notmypresid reasonswhyilovemyself strongindepend women doesnt no answer goalori success ilovemefirst review show church respons immigr polit amp mercyâ\\x80¦ get readi come stage oh god trigger pp wait air miss connect flight flight later a\\x80¦ corrupt day place expect â\\x9d\\x87 vital address worn influenc discuss sexual abus mean languag women htm\\x80¦ stop lie keithellison year antisept hate group keith dncchair antisemit complet st week today ceomonth get great exposur see began homicid rose big citi year wall street journal dovey iniqu illegalgun watch fantasticli tuck situat duke dukelacross amp democraticpay keep tell ulm chicago detroit amp innerc america ohio tramp campaign chair path miller said didnt hear drama polic said orlando shorter not area organ foi ad shorter lean chain ideolog shoot fathersday gift proud daysavail day happen given russia reason jolli hack fraud toni clair american bed night know not believ ran war right thing ed op not racism isnt here happi thought away low feelgood wisewel want play pokycopyrightmon turn pageboy color guess lost data year data game poleon wait send reject letter admiss aspieprid spite aspielif reject deject defeat final suppos leagueoflegend allahsoil death caus islam extremist occur civil war not terror attack â\\x80¦ race\\x80¦ go stone rose week ð\\x9f\\x8d\\x8b stuck gift fathersday gift set perfect gift dad shoe look not let ð\\x9f\\x98\\x82ð\\x9f\\x98\\x82ð\\x9f\\x98\\x82ð\\x9f\\x98\\x82ð\\x9f\\x98\\x82ð\\x9f\\x98\\x82ð\\x9f\\x98\\x82ð\\x9f\\x98\\x82ð\\x9f\\x98\\x82ð\\x9f\\x98\\x82ð\\x9f\\x98\\x82 cow sunday amp father day time amp enjoy benefit famili amp fresh food garden horsemen sunday servic famili time boy di collar pub iphonesiâ\\x80¦ racism truth canadian immigr cdnpoli canpoli canada u lose right racism sweet like hypocrit whitegenocid stupid of discredit white privileg duti no texa law allow choke kiss msnbc w drop jesu not black nor white promot hate biggotri need call vile sum justhourleft advancewish love bihdayanjana mam respect hbdanjana mam great countri australia israel australian opkillingbayã\\x80\\x80seashepherd israel\\x80\\x80pop kpopdanc germanyhetalia bull domin bull direct want wh jew christian muslin believ good prevail emiratisâ\\x80¦ black cant racism seen white woman act doesnt way perfect metaphor\\x80¦ fuser friday camiilabeck divulgaã§ã£oeparceria shot girl cut summer blur sun fun dog\\x80¦ exist plant media represent women need chang plant media represent women needs\\x80¦ reject news latest write aisl lover stop angri visit usititit lover friend astrolog love reason muslin great sta weekend say presid elect call american enemi hate ignor everyday day sparkl quot sparkl keepshin jewelleri jewelmaz yellowcab buffalo stimul buffalo vicin home way thank dead white duke europ aint night da list ulm rapechucktoddâ\\x80¦ live countri think ladi vulgar black ladi triumph\\x80¦ latest cogniz longer thank fostercar basic sum breast mean britain\\x80\\x99 euroscept xenophob isolationist tribalismâ\\x80¦ no ball lump girl spot lump toni say prove lump bwahahahahaha rememb youth creator day youth b day troubl came youth day wonder intellig woman stand ground against condescend jerk bodi equal bodyimag bodi appear women uniti nake natur beauti nudistâ\\x80¦ go wager middl school tour white nationalist leader reveal terrifi hope america water tramp alli wish mad cow diseas death drama hatr insult think name true coman traitor draftdodg coward\\x80¦ flashbackfriday racism democrat fals accus latin nomine amp raid busi embarrass pre who\\x80¦ tramp media normal ask alter immatur tri make fool xenophob immatur moon right idea deal nasti pueorico environment injustic inflam protest coal ash ty\\x80¦ tomorrow month papa ð\\x9f\\x98\\x86 fuck sake orlando disappoint surpris carlpaladino comment drama make late contend loathsom charact guess white women arent blame work propaganda alllivesmatt wood sex america asham serv feminismiscanc feminismisterror feminismmuktbharat malevot ignor protect mean reachout life final work got amp manchest septemb today accept perman posit famili dental center fayettevil ive love work past month salon bodi scab\\x98of¸\\x8fâ\\x9c¨ salon bodyscrub bodi beauti of\\x8eåregist è\\x82\\x8c say æ°´è°·ç´\\x97ofcopyright life\\x80¦ new law make accept clip racism cab driver round ear satir systemicrac imposs real act racism easier stand unfortun you\\x80¦ case commonwealth internet vs evid prove guilti antisemit misogyni newstar bull domin bull direct want stop girl magna mt went fullretard video nzpol eusol meckel retard sister mansplain vol review video show white texa cop arrest black mother repos assault son law\\x80¦ comedi comedian klan meet pro son marri irishman org exist aisl men amp add go irish ho monday frustrat curb enthusiasm larri david curb yesaward great sta dinner award repeat concept blackvot hispanicvot womenvot malevot talk womenvot e\\x80¦ fuck homophob misogynist xenophob whitesupremacist fool not major best pancak brown wildwood vacat breakfast pancak unclebil altwaystoh healthi peac think altern idea dad happi gap shop cool home fun terriblethi remind helenaa beauti talent rise star like christian murder sum perfect ass pot worn pot povporn blowjob retweeetm note church servic look bibl map biblic event took place jesu amp discipl r pp color ð\\x9f\\x98± nick cannon speak against alllivesmatt union\\x80¦ spend time thing make amp time dare peopl think mondaymotiv didnt come straight home work amp no hous notic notalonebutlon whatdoidonow rep learn therer men breast feed repuls amp father make sens whatsoev eyetalian joke nation african ape your not atheistâ\\x80¦ comment mr drama offens confirm racism jacket idiot librari librari saw liber polit thank summer thank posit pink box arriv thank ð\\x9f\\x91¸ð\\x9f\\x92\\x9cð\\x9f\\x92\\x86ð\\x9f\\x90\\x8cð\\x9f\\x8d¯â\\x9c¨alter altheakorea koreanbeautyhaulâ\\x80¦ felt coutur prankster remov flight speak arab count day downloadfestiv metal smile beard goodtim blow awesom thank cloth thank posit end smoke refer go crazi listen negro music eat mr ansling connai swingtanzenverboten actual father gift gooooo hungari ð\\x9f\\x98\\x8dð\\x9f\\x8f\\x9fâ\\x9aof\\x9d¤ mason love love milk ikozosseg hungarian mommylif â\\x80¦ pipe ladi love act like your nail total adam mess head time parma loveisland child happi day puppi day puppi rainyday awesom black man get ask member disavow befriend blacklivesmatt excit begin â\\x9d¤ï¸\\x8f away switchov â\\x86\\x9d gapjoy recoveri remain tap ahead data blow silver gold fore boy play sex women ð\\x9f\\x91\\x87ð\\x9f\\x8fof\\x9f\\x91\\x87ð\\x9f\\x8fof\\x9f\\x91\\x87ð\\x9f\\x8fof\\x9f\\x91\\x87ð\\x9f\\x8fof\\x9f\\x91\\x87ð\\x9f\\x8fof\\x9f\\x98\\x9dð\\x9f\\x98\\x9bð\\x9f\\x98\\x9dð\\x9f\\x98\\x86ð\\x9f\\x98\\x9b lost great come coin deliveri fellow come labia oh no agiftofmag remain dens island book happi weekend ð\\x9f\\x91\\x80ð\\x9f\\x91¯ girl friend weekend opinion rife left commun gay peopl cant demand equal discrimin suspect famili section improv reduc size famili section larg gener gap shop cool home fun look like yearold post dictionari definit amp act prove point ive seen say guy vote candid foi investigationbow clinton father day ð\\x9f\\x98\\x81 famou posit affirm â\\x86\\x9d gapu drop breast gilt blow silver gold fore link dayslinki read mamma longer leagu allow tear dock player game check no step get paid game worn video free rude beach photo fn cant believ justifi wat pay st happen countri st tyler perri say backwash tic revers racism pp spiritu blind not social courteou idolatri clot ness bull hill climb reach target complet task surviv strong excit librari librari saw liber polit settl no offenc self bore sunday afternoon use look forward day ay day go hell not surpris vers ms barrackobama tramp vein astronomi predict presid donald tramp tramp fascia amp right misogynist sexualpred prove word f ð\\x9f\\x87¦ð\\x9f\\x87º govern deliber tour refuge coloni inquest amid death amp music\\x80¦ cant wait topeka gorilla simul need adapt environ need tear citi materi model love u u time or\\x9f\\x93± ð\\x9f\\x98\\x99ð\\x9f\\x98\\x8eð\\x9f\\x91\\x84ð\\x9f\\x91 ð\\x9f\\x92¦ð\\x9f\\x92¦ð\\x9f\\x92¦ look forward afternoon tea tomorrow celebr engag liveli amp phoenix new look team play not walk tomorrow wish dad\\x80\\x99 happi father\\x80\\x99 day day fathersday intellicr fuck asshol dumb mafucka ð\\x9f\\x96\\x95ð\\x9f\\x96\\x95ð\\x9f\\x96\\x95 freebiefriday hip hip doorway let fun today x realiti teach industri regularass peopl teach discrimin attract posit affirm great starvat famili florida day awesom citi call new york riasworld parad harricrishnaâ\\x80¦ shore ring misogyni allahsoil death caus islam extremist occur civil war not terror attack im liter right dramat cprceifi rememb chamber sand death blame victim cultur council breath wave mayb need resid dystopian tale radicalis amp reveng record cpp\\x80¦ work ellicottsquarebuild buffalo own garag person carlpaladino here lie\\x80¦ no monster law republican lawmak disfranchis black voter near surgic precisionâ\\x80¦ day captain practic new pair trainer new pair flat whoooool lost mile til c ð\\x9f\\x98\\x81ð\\x9f\\x98\\x81ð\\x9f\\x98\\x81 cantwait happen theshield ring tonight wait raw date babi ð\\x9f\\x98\\x8d babi deer instaanim love natur naturelov outdoor lifestyl sigh templ canalis salari condemn act stage readi summer fast ð\\x9f\\x90¢ weekend river state cruiser pick picoftheday photo pari â\\x80¦ crazi thing women complementarian complementarian newer wish list certain carlpaladinoelect cochairman presidentelect tramp mrampmrs\\x80¦ stand swim world diet today food eat cant wait slimmingworld healthyeat diet thank encourag model love u u time or\\x9f\\x93± ð\\x9f\\x98\\x99ð\\x9f\\x98\\x8eð\\x9f\\x91\\x84ð\\x9f\\x91 ð\\x9f\\x92¦ð\\x9f\\x92¦ð\\x9f\\x92¦ f r ð\\x9f\\x91\\x8að\\x9f\\x8fof\\x9f\\x92of\\x9f\\x8f¼ week complet karl awesom challeng weeksofexerciseâ\\x80¦ neeecxttt stuttgaopen ð\\x9f\\x98\\x8að\\x9f\\x98\\x8a areclueless muddi regard long stand american polici comment reflect ignor real winner lower time load war hawk america woman get chang black man adult rider scrutin savor amp dispos unbeliev chosen headlin revolut against racism human frontier ass boy walk away thing dont make happi respectyourself defeat ugli prejudic left life busi happi lifepleas follow instagram follow goal great aisl finland white equal typic lie dentist slander gap christian dont kill christian\\x80¦ allahsoil â\\x80\\x9ccrusades\\x80\\x9d west vs â\\x80\\x9cislam terrorist\\x80\\x9d popular sequel capit vs communismâ\\x80¦ love gibson guitar girl jamaica jam music jovirockwel watch present wed ring simpl awesom ð\\x9f\\x99\\x88 ill sofa ð\\x9f\\x98\\x82 scare f stay day im get old nervou canadian teach p sherman allay way sydney rememb dontforget dri ambassador say union form israelisettl illegalisraelisettl terrorist f ð\\x9f\\x87¦ð\\x9f\\x87º govern deliber tour refuge coloni inquest amid death amp busi usual happi father day\\x99¬ð\\x9f\\x99\\x8f ã\\x83» fathersday fathersday memori memori famili ç\\x88¶ã\\x81registeredæ\\x97¥ æ\\x81¯å\\xad\\x90ã\\x81registeredâ\\x80¦ major kind peopl aren\\x80\\x99t talk environment â\\x80¦ kick flight spoke arab boycottdelta thank school thank posit ff gamedev indiedev indiegamedev squad watchinglisten netflix special laugh hard origin stuff ð\\x9f\\x98\\x82 neonazi alright attack fellow american hate real enemi laugh gate no way man allow attorney gener liar assist urg love quot lovequot deepquot cutequot love love ilovey imissy tire confus e\\x80¦ alabama victoria secret shipper face racial discrimin video cut sigh templ canalis salari condemn act tonight ð\\x9f\\x98\\x81 â\\x80¦ black amp feel like stop listen camp mimi\\x80¦ get tuck c thoma lowel nake ð\\x9f\\x93· lensladi bed photographi weekend happi weekend lot gun work credit right didnt sell matter foi drop ball oscar tabarez talk loui sure reaction uruguay vs venezuela squar antiwhit new black planter recent milwauke chant free die crack amp fc pigsâ\\x80¦ anti zenger agenda blur sens nation u turn scenario suit anti zenger agenda allahsoil jew christian muslin believ good prevail bc msnbc inward â\\x80¦ pull chain stoptalk sob eusol make overnight dog dog health problem guy lunat angryignorantand viciou man woman scream racial spur aim guns\\x80\\x99 laser pointer black macdonald\\x80\\x99 custom â\\x80¦ silenc betray innoc activist hunger animalright noyulin wildlif began left father day team sonya develop msnbc amoy joe widen want thank tramp unpack america look dog take make happi food load love gem no issu action look lie choic babiesmatt wait wildest chest takuyakimura highfashion brand cosmeticsbrand worldcampaign ad ampâ\\x80¦ wonder year your crave authoritarian hand life slam ramadhan everybodi bekindtooneanotherâ\\x80¦ look unless your help outlanderfanmilyð\\x9f\\x8c\\x8e kindnessmattersð\\x9f\\x98\\x87 drama join jacket ð\\x9f¤\\x94 ass america miss drama realiz tramp trumpism generationkkk preach ulm skywilliam preach hope doesnt clash got book carron diaz nake pick real antisemit progress minion not freedom love american grow breast buggeroffbori regret voteleav leav librari librari saw liber polit latest seattl daili thank seahawk best way employe leadership product suicid depress wonder suicid best choic day work fli coster xxxix tomorrow followup day ð\\x9f\\x98\\x8dð\\x9f\\x99\\x8a imaginesnegro loveyoubab cut boyfriend man come race declar winner putinschoic putinspuppet retweetâ\\x80¦ atright promot new kind genet mt end hope messag against music industri via\\x80¦ seri final hous lie tonight tri time siberia footballso ð\\x9f\\x92\\x94ð\\x9f\\x99\\x8f run world cup not neg better suppos corrupt ion amp white american actual believ chanc peac w sexualpred amp alright helm moronsmatt ebrochur check rest webster open involv events\\x80¦ scapel woobietuesday your block toll promis blacklivesmatt ampâ\\x80¦ advanc valu chain video valuechain ð\\x9f\\x98\\x82ð\\x9f\\x98\\x82ð\\x9f\\x99\\x88ð\\x9f\\x98\\x82ð\\x9f\\x98\\x82ð\\x9f\\x99\\x8a face fantasist caught no â£ hilari tri year ago desper lui life standard day work volunt itwasagoodday roxborough reservoir ye endless lie contempt left activist u realiz clariti came clean wus\\x80¦ breath exercis help relax highli recommend practic walk littl friend tonight day lock hous real play czech republ china championship huge now instrument promot fals narr amp bet divis ulm agenda european tour stay sweden today proud mayor like isn afraid speak truthand ye complet right\\x80¦ think feel think care feel happi love motiv sundri treat massag happi end treat sundri massag end bliss posit affirm â\\x9a¡ï¸\\x8f â\\x80\\x9ccharlespaladino comment spark call resignation\\x80\\x9d feel not mutual ablest islamophobia transphobia misogyni photophobiaen right ð\\x9f\\x98\\x88 bottl eh dug stay tell dead deep tumblrlif polar bear climb race angri polar bear climb race polar bear live cold place l allahsoil jew christian muslin believ good prevail bc msnbc inward â\\x80¦ black live matter bal appar patienc watch way flag polic manhattan travel network manhattan ny today fromwhereistand news cricket intofunni follow petti girlno friendship follow thiss insan act organ trampl nation flag nation clearli rapecultur look eye like champion today new york count campaign cochair unleash drama wishlist fucktrump came late im happiest girl ð\\x9f\\x8cof\\x9f\\x8d\\x82ð\\x9f\\x8d\\x83ð\\x9f\\x8d\\x81ð\\x9f\\x8c´ â° â° â° world naturalbeautyâ\\x80¦ go ball hashtag ask endors latent free girl pick galleri girl tuck act appeal horrifi attack norrisgreen possibl futureth year advanc far lazi come hug futureofwork laugh happi weekend joke weekend love red amp white inspiregram request week proud canadian canada realli dont think exagger ill share time come tramp vote â\\x80¦ allahsoil marx revolut occurred\\x80\\x95just not expect â\\x80¦ â\\x80¦ teambtsâ\\x80¦ wonder film grip funni romant tear lovestori magic castl hollywood solotravel travel la america magiccastl magiccastlehotel hotel hey chines communist oh theyr not white that right dumbingdownofamerica save date sourcen live wed thependulum newshow policebrutalityâ\\x80¦ u soon station u attend come wanderlust fashion free creampi sex move dragon worn low key play tramp foolish request chang judg got wall wall coverag weather tick jesuit tick gorg tick tick openwaterswim greatnohswim rocknrol essenti read follow donkey zionazi proud murder real palestinian septic children antisemt rebellion dontbuythesun amp rag spread tori propaganda fear hatredâ\\x80¦ note abl pop neck that day ive beensqueez daysâ\\x80¦ ill abl count hand time actual stand tonight no perspectivebehappyweareher play moon ate dark capsul melancholi melancholymus thecal help support veteran join he good guy ð\\x9f\\x92\\x9a greenvscocamlikewisenaturelikeforliketreedropleafblackestvscoturkeyphotographi loverisescot\\x80¦ green book sundown town rout guid remind face travel aggreg lee water caught n tape explain southern strategi began cabinet th notic sum tramp fire lone know anger cost dear life lost determin delet account shallow away cellar year greed kill planet human race extinct stopthewar â\\x80¦ wait camera nextisnow instagood instadaili hospit wait ice â\\x80¦ â\\x86\\x9d no hous heat radiat â\\x80\\x93 blow silver gold fore netanyahu demonstr disrespect against drama ye feign outrag excrement israel beauti broken ð\\x9f\\x9a£ð\\x9f\\x9a£ð\\x9f\\x9a£ where need apprais victimhood pm sunday scumbag southsudannot play mind game blast neighbor music intermitt racism\\x80¦ essay good sta met charm amp talent amp time person ambassador arriv day herewego njhobi he unionist expect good morn layer mood today happi red ð\\x9f\\x94\\x9bð\\x9f\\x94\\x9dð\\x9f\\x92\\x8b maxidress red lace laverboutiqu â\\x80¦ librari progress cant logic point wout insult spur especi refut that who\\x80¦ think beauti left happi ann frank quot beauti new post happi curiou life link big sad anger jealousy\\x80¦ pick jeff session scrub racism recordeven argu feloni trumpsamerica think alexjon say draintheswamp populationcontrol good video got hope guy wont say come tramp get speak mind ð\\x9f\\x98\\xadpeopl pp sarcasm\\x80¦ mayb im cri mode modefashion instlov instamood instgood today father day sweep day fan loss dont matter fan she lost twice trash doublestandard princ charl issu veil warn tramp return dark day princecharl best thing kiss breadwinnerbabi earli fathersday boobieboyz bababi by\\x80¦ smile reach bit fashion skin style blow life fashion pumps\\x80¦ aamp pull controversi realiti ask learn produc paid hategroup member hate thinkbigsundaywithmarsha let spread leadership quot like mind peopl k peopl sunday stamp theresist resist stand brother sister â\\x80¦ quick shit vill comment note black resistsâ\\x80¦ garden ð\\x9f\\x98\\x98 ð\\x9f\\x91\\x8dð\\x9f\\x8f»ð\\x9f\\x91\\x8dð\\x9f\\x8f»ð\\x9f\\x91\\x8dð\\x9f\\x8f»â\\x9d¤ï¸\\x8fâ\\x9d¤ï¸\\x8f healthybodi recip salad veganfitnessâ\\x80¦ happi smile ð\\x9f\\x98\\x8a smile alhamdulillah outfitt outfitt fixiti homesweethomeâ\\x80¦ racism austin polic cameron staff cameronstaff camstaff officerstaff cab cowardcopsâ\\x80¦ entri new person chang lifestyl make person he american fact racism america kill drama muslin not welcom sign new mexico draw critic â\\x80¦â\\x80¦ cours liber look world racism eye sea shepherd supper racism anthraci seashepherd motherfuck got blood sampl u score duke feel henow ã\\x80\\x90both\\x80\\x91 kitazatoshibasaburo tetanusimmun colleagu kitazato didn nobelpr colleagu white obvious trot get amp inaspanof mayb allow second board think know what\\x80¦ commentforcom bull hill climb reach target complet task surviv sir photograph bull hill climb reach target complet task surviv strong e tell predict ask box pu huge selfpromo young beauti shot girl cut summer blur sun fun dog hair beach\\x80¦ final night disco flow wild iri natur photographi qualiti print amp card allahsoil american taxpay lost home million â\\x80¦ inwards\\x80¦ wellybel na xxx sex slut nasti worn naughti hot young wet king horni shi rude look feel joy join speaker free summit unleashyourjoy happi midday red line sink faster titan weakdonald lower listen sam cook ridicul pack pavilion help calm breath procrastin shitshow funni look hidden ð\\x9f\\x98\\x82ð\\x9f\\x98\\x82ð\\x9f\\x98\\x82ð\\x9f\\x99\\x83 oh ugli puntacana funni babi fishespric fastfind dome backpack dinner bag black bouncingbabi drama destruct presid histori amp legend iri ran copkil syria midday ð\\x9f\\x8e\\x82surround peopl love motiv encourag and\\x80¦ radio hour hope exclus check em black nutshel ð\\x9f\\x98± org ð\\x9f\\x92\\x95 soon beauti ð\\x9f\\x98\\x8d not tear ok ð\\x9f\\x98\\xadð\\x9f\\x98\\xadð\\x9f\\x98\\xad ð\\x9f\\x92\\x95ð\\x9f\\x92\\x95ð\\x9f\\x92\\x95 lesson histori choos care main l king malcolm x reconcili vengeanc blacklivesmatt go\\x80¦ past week open door opportun yegbiz coachshelley financ lifestyl thank ð\\x9f\\x92\\x8b regist biggboss wait confirm invit dignitari positivevib fingerscross hispan amp â\\x80¦ like stop listen boricua mimi\\x80¦ clickbait that\\x80\\x99 realli thirti headlin chang today perfect day happi lifecoach reinventimposs nrlrooki awesom kick watch ð\\x9f\\x91\\x80ð\\x9f\\x91\\x8fð\\x9f\\x91\\x8d think final come again\\x9f\\x98\\x8c low â´ridicul excited´ neuro open spot neuro open not tramp supper racism racism tramp supper irrefut trust toler allahsoil familiar difficult stereotyp â\\x80¦ â\\x80¦ typic scumbag ride trumphat machin sic reli bankruptci protect ego millionair use xenopbobiaâ\\x80¦ ð\\x9f\\x94\\x9d love instagood photooftheday tut cut beauti follow follow appar dragon not christma herb flog ð\\x9f\\x98\\x86ð\\x9f\\x98\\x86ð\\x9f\\x98\\x86 latest blicqerâ\\x84¢ daili thank market your run later birch whiteknight ð\\x9f\\x92copyrightð\\x9f\\x92copyrightð\\x9f\\x92copyright ð\\x9f\\x92copyrightð\\x9f\\x92copyrightð\\x9f\\x92copyright work wrote power essay applaud women thought factori leftright polaris tramp select leadership polit breast ulm followalway monster stimul want climb vast expans mountain reach leakag end self love mess religion christian meccal lot stuff confirm book open day detail finalis biggestev cant believ no cotton say song white christma joy world instead terrorist hate war waronchristma spreadlovethischristma love danger putinschoic impress accept stoprac boycottâ\\x80¦ face activist amp univers stand hate ignor stupid lie colleg record copi hot new dystopian swiftli sharpen sang c p day loui led beach hotel patho region it\\x80\\x99 ë\\x9ac today got threaten worker money say black male illeg realli racial discrimin interact genet impart health african american book martha rude women behold peopl er pithi club hang girl danc famili pay ilovemyfamili togetherforev surpris read make ititit betray ka ititit swift kindleunlimit motherfuck need prison\\x9a¡ï¸\\x8f â\\x80\\x9ccharl platino racism comment spark call resignation\\x80\\x9d facemask run risk look unintent moreau edinburgh u expecttramp father that wont denounc ask racismfacinghisâ\\x80¦ dig armorofgodstudi women seabreez church larg prayerwork activatedlif sigh templ canalis salari condemn act no comment australia opkillingbay seashepherd helpcovedolphin thecov remov hate amp violenc time accept prayer confus orlando ripchristina pli sign japan build tweettaiji make call buddysfamilyvac gorg food peopl bed hungri train counsel shift childlik tomorrow mainstream american news finest tell u want u know u want\\x80¦ mayb need follow new peopl stream mile no convers sunday america today orlandonightclubshoot senselessviol ð\\x9f\\x94«ð\\x9f\\x94«ð\\x9f\\x94« there surpris wonder bit research cost racial profit cologn disgust thrill ybpwithnamratasoni ybplaunch dont let misogynist loofah incred job journalist men propos ampfunni humour lateview murder soul suspect murderedsoulsuspect box bellkil award play love forev best director best scene design best play proud comedian stage tri idea list daytoday practic help chest tshe dress today mmmsound familiar hasnt held news co\\x80¦ great opportun famili fun count healthi famili bitter your minoritypresid lost peopl million magna impeachtrump bridg appear denial indigen peopl racism ergot â\\x80¦ happi white kwanzaa holiday african whitesupremacist celebr happykwanzaa happyholiday merrychristma aw slap face american hey neighbor black bought hous r so\\x80¦ sigh templ canalis salari condemn act cpcldr enabl up make statement great atright work cdnpoli triumph\\x80\\x99 pick attorney gener show race histori wellduh session thought kind comment not allow twitter break rule magna â\\x80¦ pastor mmusimaiman prayer amp medit respond spin this\\x80¦ dont find dri dri angl team unfortun continu spend hard earn money gun cologn go stupid comment â\\x82¬ donat refugeeswelcom sucks\\x80¦ need exit polit journal world exit stage left call carlpaladino step wont know pew no consequ ð\\x9f\\x96\\x95 smile posit effect racism impress love closest peopl one turn stab in\\x80\\x99v id check polic zero time month cours discrep im who\\x80¦ sign bunch free flower use invit code beauti aaaaaand come look pu travel entrepreneur day school ð\\x9f\\x8e\\x92 go grm lay day not motiv carefre sunday gameofthronesâ\\x80¦ perspect refresh whitesupremaci resist kind say librari librari saw liber polit peopl arent protest tramp republican wonthey tramp usher ampâ\\x80¦ america kill drama muslin not welcom sign new mexico draw critic islamaphobia sunday pub adventur pa midday base midday drink colleg smiling\\x80¦ queenð\\x9f\\x91\\x91ð\\x9f\\x91\\x91ð\\x9f\\x91\\x91 love alloverbyathina necklac queen gold\\x80¦ josephjett fatherhood nor shall engag aberr social behavior result disdain mere common\\x80¦ corpor warmong remain laugh pig go insan breast come voteleav mayb arebut dont dare demon innoc infant born white skin happysong written amp record song onehundr yesisaidonehundr happiest iv long time feel weight lift amp not drag anymor â\\x98of¸\\x8fð\\x9f\\x99\\x8cð\\x9f\\x8f» newbeggin sigh templ canalis salari condemn act food heal bodi altwaystoh healthi hi celpidri yesterday live amaz peopl â\\x80¦ hey winner bmwrugbypathway competit select greatpriz lucki saychees gambler commun center dussehra celebr victori forc good evil besteduonlin think told dictionari enjoy excel product nbslim naturalbeautyslim amaz healthi good idea repos abus content toll record live cp swiftli sharpen sang dystopian tale â\\x80¦ universityofwisconsinmadison offer problemofwhit cours theyr donna blatantli not snowflak organ shipper shop local getwhatyouw la la land here idea pot make film u em quit itch white white allahsoil victim islam extremist attack continu muslin emirati â\\x80¦ war time act wont pacifist amp societi term win wont wast time sob plaster color profil ulm bacon lectur matter matter slice bread fish ð\\x9f\\x98\\x8dð\\x9f\\x90\\x9fð\\x9f\\x90 bunch dark moviefon postholiday nowthattheholidaysaredon news video men womenmalayalam matur worn video day train look like rachel today enjoy life\\x9f\\x8dof\\x9f\\x8dof\\x9f\\x8dof\\x9c¨ flex flex day busi relax lifestyl felix felicidadâ\\x80¦ case not treat lightli judg wouldv given call man longer sentenc care motherfuck need prison\\x9a¡ï¸\\x8f â\\x80\\x9ccharl platino racism comment spark call resignation\\x80\\x9d radic woodrow wilson\\x80\\x99 racism blacklivesmatt trot blacktwitt clot remov toxic peopl â\\x9d¤ anxieti phobia panic agoraphobia old bed peopl want promot genet amp mete natur not seen xenophob natur extrem excit year old comegloucesterjessglynnedaught tooesrlylov bliss posit affirm girl summer camp tariff girl confid book pu tremend opportun countri year misogyni tax break corp ð\\x9f\\x8c\\x8e team new amp phillysuppophilli amp combat he\\x80¦ today midday year midday celebr yearsstrong bihdaycak godlik love summer midday prayer orlando prayingfororlando loveconquersh amp design gender neutral jumpsuit subtl remain involv button clusterfuck address mass murder arab state s\\x80¦ killer dead injur somebodi intellig et respons sta work subject week till im tibia guarante wont want come home tibia cantwait girltim â\\x9d¤ï¸\\x8f shuckinandjivin democraticpay want vote thank sue he happi hound even ð\\x9f\\x98\\x8a putinpl comment reflect ignor traitorump endofth world young boy asia boy childhood friend obamalegaci show neg stuff im confus drama pot donuldtrump absolut pass replacyclay magna happi th midday share robe watson midday share watson australia cricket invit help action peac dovey sept tonight night head amazingmessag dont think ive read fit like scarandcatknightletittakecontrolhazeremixsdwebugh web hardwar abb spot poster opernhau ð\\x9f\\x98\\x8d thank ð\\x9f\\x99\\x8cð\\x9f\\x8f»â\\x9c¨ dasischzã¼ri thank londonjameszurich joy love sister aint know watch argu night ð\\x9f\\x98\\x82ð\\x9f\\x98\\x82ð\\x9f\\x98\\x82 wait say wrong shit luiâ\\x9d¤ï¸\\x8f chizuru amp fatti happi bihdayð\\x9f\\x92\\x8b midday pay friend lui ð\\x9f\\x92\\x9c time celebr wish father differ way father\\x80\\x99 day http\\x80¦ word factori race denial prevent heal southafrica leadership transform inequ patriarch misogynist cult christian hey emilypbu want check latest updat bsthydepark ð\\x9f\\x94¥ im genuin disappoint perform great judg hair he\\x80¦ great feedback receiv today thank star im pleas backward unrecogniz recommend\\x80¦ sound sunshin michael frantic amp spearhead bring spirit life buy record mainli ran album discuss ran bishop lip record forsak music love bay ã\\x80\\x90both\\x80\\x91 root whiteaustralianpolici garag prison manifestdestini sooooo funni wish fathersday teamcirc great day amp liber democrat institution white supremaci uniteblu trot magna nap racism\\x80¦ comment â\\x82¬ donat refugeeswelcom â\\x9d¤ fascist suck kissmyars smooth new year eve marijuana unleash book left john smith holdal train day happi midday ð\\x9f\\x8e\\x89ð\\x9f\\x8e\\x89ð\\x9f\\x99\\x8cð\\x9f\\x99\\x8c shot girl cut summer blur sun fun dog hair beach\\x80¦ retro christmasadv year whilst love good bit tupperwear not want\\x80¦ suburb pennsylvania fli post outsid mosqu muslin templ women thrive outsid home â\\x80¦ supremec imposs challeng systemicrac scout kaepernick stereotyp im happi letterofaccept iwillbebackâ\\x80¦ blew nothingquotetumblerexceptdepressionquoteangryquotesheabreak nesssuicideimissyouquotesquâ\\x80¦ pictur cloud flower love thing ð\\x9f\\x98\\x8a allahsoil marx foretold revolut day sweep globe â\\x80¦ teambtsâ\\x80¦ shill ranger aim hazimhafizuddin saturday tunes\\x80¦ tramp bier non stop elect black amp feel like stop listen camp mimi\\x80¦ ye appar qualifi job depend ethnic footbal amp major cheat night tonight ð\\x9f\\x98\\x81ð\\x9f\\x90·ð\\x9f\\x98\\x8bð\\x9f\\x8c\\xadð\\x9f\\x8d\\x94ð\\x9f\\x8d«ð\\x9f\\x99\\x8að\\x9f\\x92\\x81ð\\x9f\\x8fof\\x9f\\x8d¡ð\\x9f\\x8d°ð\\x9f\\x8dð\\x9f\\x91\\xad girlienight donaldtrump cant wait good racism misogynist misogynist women like anim miss ð\\x9f\\x92\\x9cð\\x9f\\x98\\xad devinhay day work arriv ð\\x9f\\x98\\x9c work hospit sum chang energi premiumnutrit lovemylif gorilla planet ape happen haramb prayharamab meet brighten morn let hope like idea ð\\x9f\\x91\\x8c nervou nation not judg treat highest citizen lowest one nelsonmandela justic ran\\x80¦ against white damn sajnani damonsajnani reach realli lame class want ageoftrump grassrootsact citizenact citizen publicpolici socialjustic ð\\x9f\\x94\\x9d love instagood photooftheday toptag tut cut beauti follow follow\\x80¦ latest blicqerâ\\x84¢ daili thank magna cinema laugh dont know laugh dont want left scrutin savor amp dispos unbeliev chosen headlin revolut against racism human decid feminist begin feminist read pli help educ materi feminist gracemugab husband mugab zimbabw delay cancel go week need go ð\\x9f\\x98¡ð\\x9f\\x98¡ð\\x9f\\x98¡ð\\x9f\\x98¡ð\\x9f\\x98¡ð\\x9f\\x98¡ look like make orlando tragedi far bet eye love realli cool hardcoresex â\\x86\\x9d technic blow ushad ha blow silver gold fore how mar bar charg gun â£ entri girl â£ isnt like modern exist shame\\x80¦ wetterwarnung stake glitter schwandorfchwandorf warn letter tramp new york cochair wont resign despit racism remark drama polit drama school evid suit told say denver radio legend sandi slough  repay bier tramp movement thank kiss thank posit happi best friend day ð\\x9f\\x98¢ justkid lost knight usaguncrim orlando orlandoshoot rip giveback gun decis perform tramp forev stain mormon valuesâ\\x80¦ got lot answer racism can\\x80\\x99t honestli say not lead fulfil life step assess life sin enter look like number work stand ð\\x9f\\x98\\x89 infect oral sex white girl sex black guy blacksupremacist final get suprem call magna rich island day welcom cruz home fundrais succul favorit addit â\\x9c\\x8cð\\x9f\\x8f»ï¸\\x8fð\\x9f\\x8cof\\x9f\\x92\\x9a humpday succul sunshin summerlov did\\x80¦ adv webster exhibit notlongtogo jewelleri red lip x navi girl self repli navi blueey smile even kitchen\\x80¦ small gain ð\\x9f\\x92of\\x9f\\x8f» fit fitnessjourney fitnessaddict motiv goal goodvibesâ\\x80¦ great session afternoon tough glad ive good mood day repeat ill með\\x9f\\x98\\x8að\\x9f\\x98\\x8að\\x9f\\x98\\x8að\\x9f\\x98\\x8a saidthisbefor latest blicqerâ\\x84¢ daili thank news soon deservekoto israel invent apaheid grim word www august colleg ð\\x9f\\x98\\x9eð\\x9f\\x98\\x9eð\\x9f\\x98\\x9eð\\x9f\\x98\\x9eð\\x9f\\x98\\x9eð\\x9f\\x98\\x9eð\\x9f\\x98\\x9eð\\x9f\\x98\\x9e serious got reject driver soon got car im white finest no joke matter offic fire joke target practic black neighborhood www yeah good long long hispan amp feel like stop â\\x80¦ listen boricuaâ\\x80¦ time say notallmen youv miss point misogyni â\\x80¦ hope dismantl racism alliesforblackl happyholiday blacklivesmatt dismantl â\\x80¦ flight attend gender genderequ word journey stay watch orang new black orangeisthenewblack librari librari saw liber polit stand ground interview repres fakenew amp latent misrepresent valid statement\\x80¦ itstheendoftheworldand ms honestli expos deep root hatr barrackobama base amp tramp hey hate come close fearmong misogni sum dont live paycheck paycheck life simpler â\\x86\\x9d no cost rate cut great blow silver gold fore librari librari saw liber polit screenshot amp share snap import messag colour tramp offici platino make crude drama remark alsol happen salin muslin senat chat maria librari librari saw liber polit wakemeupwhen left stop hypocrit liberallog model love u u time or\\x9f\\x93± ð\\x9f\\x98\\x99ð\\x9f\\x98\\x8eð\\x9f\\x91\\x84ð\\x9f\\x91 ð\\x9f\\x92¦ð\\x9f\\x92¦ð\\x9f\\x92¦ time enjoy wait fall asleep word factori race denial prevent heal southafrica leadership transform inequ dylann roof face new compet hear ignoranceh sex worn dont let thing cant control bring keepsmil â\\x86\\x9d delay inclus ashar wont chang china capit market reform blow silver gold â\\x80¦ sorri midweek friday milanobeach cristinaoegaphotodesign ginton premium say low u stand highstool rais know ulm a\\x80¦ innoc snostalgia id love gollybar said irish kid latest merocrush daili thank media hot girl sex game white girl sex black guy heaven doctorwho elbenwald berlin need whovian say im speak collect ive known show lot white rage time women got physic macdonald ð\\x9f\\x98±ð\\x9f\\x91\\x8að\\x9f\\x8f¼ equal garbagepailkid allgrownup assault midday king raw ill come love see face everyday make â\\x9d¤ï¸\\x8fâ\\x9d¤ï¸\\x8fâ\\x9d¤ dog yogastudio yogaliliesâ\\x80¦ moon lead path potenti damag destroy world â\\x80¦ tramp close geniu fact singl digitsâ\\x80¦ pa mild reject putinschoic boycott busi amp hatr stopped\\x80¦ superfici girl fall thing dont need love amp hope inaugur wait wont watch idiot minor boycott greatest gift came god dad father day love u dad germanyhetalia bull domin bull direct want wh steward littl broke steward littl poor broke end hope messag against music industri via\\x80¦ thought factori leftright polaris tramp select leadership polit breast ulm scapel progresverebel ha good radianc blacklivesmatt fell pop star job bc sure breast media jeff session tri delet decad lui hottweet like â\\x96¶ â\\x99¥venusexchangeâ\\x99¥ despit demor newer class free sage posit newyearsev ye endless lie contempt left activist u realiz clariti came clean wus\\x80¦ special messag not land tramp trumpsamerica day\\x80¦ donna miss best friend week ð\\x9f\\x98¢ð\\x9f\\x98\\xadð\\x9f\\x90¶ð\\x9f\\x92\\x96 bailey goldenretriev self laugh loud spongebob love instagood photooftheday tut cut beauti follow follow\\x80¦ thehistoryp donald tramp mike son motiv interview job tomorrow filmschool everythinghappensforareason cant imagin famili go prayersfororlando enter trumpdarkzon tramp myoneresolut rockinev sexpred sexualassultâ\\x80¦ th year anniversari michael jackson vindic make decis your make promis your happi wiseword come england lucki part europ footbal penni make happi flower penni lovelif sunshin pink flowerpow torontoâ\\x80¦ bad news journal monthli neighborhood newslett page mt against whitepeopl clot gun ambul think go die ð\\x9f\\x98\\x8dð\\x9f\\x98\\xad tri kill ð\\x9f\\x98\\x8dð\\x9f\\x98\\x8dð\\x9f\\x98\\xad é¡\\x94of\\x8dè¨¼ ð\\x9f\\x94\\x8e highlowalbumdiddolov happinesssmil ð\\x9f\\x98\\x8d todaylloff place race west mile nonstop bicycl race follow facebook introduc denot speaker eclipsecon franc comment reflect ignor endofcivil allahsoil quit cultur exclus geograph boundari â\\x80¦ emiratisâ\\x80¦ msnbc amoy joe widen want thank tramp unpack america arab islamofascist arabs\\x80¦ repli dead ð\\x9f\\x99\\x84 send tramp inaugur join today sea shepherd supper racism anthraci seashepherd kind peopl need eras each surfac not denial resist normal hatr nofascist let newer america crop obes knock amp prejudic pridemak better amp enjoy lifestyl â\\x80¦ hispan amp feel like stop listen boricuaâ\\x80¦ racism amp fascia not rate aamp peopl resist time happi sunday â\\x98\\x80ï¸\\x8f camillasorum mumabroad blow sunday flowergirlâ\\x80¦ award win chill fauc ð\\x9f\\x98\\x8dð\\x9f\\x8f\\x86 celebr chillisauceâ\\x80¦ watch janeelliot blueeyesbrowney mean win joke women peni jump girl love get mail new maker queerli arriv today print paper work industri sweet orlando want promot orlandoshoot notcool wish retreat discourag ive like helpmepleas thankyou ijustwanttofeellikesomebodi cant wait new season wag special kind stupid liber no basi realiti histori case emerg stroll amp smile make better ak jaredgifthread htm\\x80¦ what\\x80\\x99 matter not carolina progress reactionari fascia left ð\\x9f\\x8c´ð\\x9f\\x8d\\x8dð\\x9f\\x8c´ summerhotfriday holidayslet bet white fire year ago fact librari librari saw liber polit readi hit trail weekend jeeplif kid throw not like futur year old win health white christma household onlywhitechristma organ amp boston peopl japan abus claim right rough domo bluntli sweet cologn polic announc racial profit main station stop tri isnt happen airingofthegriev wait camera sad duke hair rude hair love poetri gaze nice poetri daili free poetri dost leg pli tri follow thank shake father day vote anim tramp america no fat check absurd comment reflect ignor midday lee cri happi father day everyday crash husband everyday friend father day to\\x80¦ luckybamboo make bamboo lovemyoffic want send stick peopl got no semi viewer warn case gravitypoison week manger station frustrat real issu dullest video whiteguy mt easi breakfast make coffin tin time busi birmingham friend dont miss special lectur bonhoeff racism bonhoeff expel sleep night terribl person sir repres wrong countri gay librari librari saw liber polit fish sofa scare peoplewith need shout fear outnumb sea shepherd supper racism anthraci seashepherd morn gun amaz day ð\\x9f\\x98\\x98 lovelif achiev dream posit bossbab ossium relax techjunkiejhâ\\x80\\x98th daili show\\x80\\x99 unpack against blackwomen asianmen datingapp â\\x80¦ let god judg go kill peopl sexual prefer rebellion dontbuythesun amp rag spread tori propaganda fear hatredâ\\x80¦ view lunch ð\\x9f\\x98\\x8b spain excit holiday love friend famili wed alter spain aris sir mo sarah countri islamophob immigr hate clump everyday respons photo accept amp sale photographi best essentialoil anxieti healthi peac altwaystoh young beauti shot girl cut summer blur sun fun dog hair beach\\x80¦ mitchel drama â\\x80\\x98ape heels\\x80\\x99 case begin donaldtrump america liber gutta hand keep pretti dark cool face latent â\\x80¦ scientist suicid secret die protect goodread learn secret long life anti bed trumpusa homophob misogynist realli say jealou we\\x80¦ sorri golf tournament organ unapologet motley target misogynist ignor pathet your mad interraci coupl sweet fuck republicantrash crack whitepeopl think peopl realli stupid lie blatantli neve tolerated\\x80¦ presidenttrump hope stop fund apaheid terrorist illeg state israel pay billion new forum help spread word mission help sonya e e gaze nice post\\x80¦ ride die love ð\\x9f\\x98\\x98â\\x9d¤ï¸\\x8fð\\x9f\\x99\\x86ð\\x9f\\x8f½ haleymari nationalbestfriendsday best smilelov sweetiepi dont smile ive told look mad or\\x80¦ come powerhungrytraitor hereticfound alabama st south long dollar roll silent on\\x80¦ agre porch show support axillari corrupt amp busi middl east non tattoo relat news boy crystalpalac moscow home game against liverpool season ð\\x9f\\x94´ð\\x9f\\x94µ ð\\x9f\\x92\\x95ð\\x9f\\x91\\x91 ð\\x9f\\x94\\x9d love instagood photooftheday toptag tut cut beauti follow follow\\x80¦ big michael rappapo look welsh bc halftim panel spirit anim everyonescrap everythingisterr miss grandpar grandpar love sad hear pass knew day rest easi sir loss rest easi good time gone galaxi make laugh think motiv hungri amp hope friend want spread word ive no problem univers teach against wrong teach white worn lid web free sex japan abe got oppress freedomofspeech hatespeech time guardian humanrightswatch iamnotab anonym asp realiti teach industri regularass peopl teach discrimin ð\\x9f\\x92\\x9aask mayb dri hand tie theyr awar amp recogn chronicl ignor ð\\x9f\\x92\\x9a night dayphotophotograph photowal naturea lovelikelllikingnic follow\\x80¦ current leav placement week time neuro brutal rule new year anu close anu eusol australia refugeeswelcom border ku klux klan origin arm southern democrat pay terrorist freed slave republican sympath texa entitl proof cant want pa cultur austin ut latest african american turmoil thank blacktwitt emot amp hip hop beat deeper emotionalsadhiphopb photograph szymanski captur shot new prospect taylorswift bull domin bull direct want w trumpusa homophob misogynist jealousi lower down\\x80¦ come platino ugli comment drama embarrass new yorker â\\x80¦ hispan amp feel like stop listen boricuaâ\\x80¦ sleep broken thought famili friend suffer tough time stop annoy dog thing kaitlyn go tri actual make happi want muddl every\\x80¦ free worn thailand white girl sex black guy exist harm men mental healthmen woman midday dear ladi power women work tramp racism exist base tramp â\\x80¦you black amp feel like stop listen camp mimi\\x80¦ realhousew star alleg neighbor pay permit road\\x80¦ sea shepherd supper racism anthraci seashepherd storyvil forev pure footbal jerusalem â\\x80¦ librari librari saw liber polit sex posit pictur white girl sex black guy went walk today snowdon explor summershow thegreatoytdoor wales\\x80¦ learn pursu want â\\x80\\x93 jimrohn networkmarket ulm hispan amp feel like stop â\\x80¦ listen boricuaâ\\x80¦ watch white water acut overcoat count hour anxiou excit readi happi woof drama tell tramp american peopl fk leav cant say crook axillari clinton rate black peopl axillari clinton black word factori race denial prevent heal southafrica leadership transform inequ week pretti starstud meet fill perksofthejob girl wake happi friday weekend love bubbl ripleyraderâ\\x80¦ answer repli coutur commentsy not repeat not know im angri goodluck iron brand associ tramp brand vanish reput mitchel drama â\\x80\\x98ape heels\\x80\\x99 case begin donaldtrump america no your suppos quiet look pretti â\\x9d¤ seri yearsofpl wait pllseason savehanna pllsquad prettylittleliar thank eyesight thank posit hussi penza ð\\x9f\\x8d\\x95ð\\x9f\\x98\\x8d pizzalov hussi sunday spring barcelona unknownaist barcelonaâ\\x80¦ tell neffer beauregard quit fool come pick hood amp sheet saturday\\x80¦ friday end term sight ð\\x9f\\x99\\x8c friday friday school\\x80¦ imagin final asham past tri hide misogynist homophob appet scar women need throw speckl salad food food â\\x80¦ world man took dive like peopl say fix bc rondarousey woman expect guy racism ignor hatr right ignor sad favorit show news new season stay love gun â\\x99¡ â\\x99¡ â\\x99¡ year not hang accus accessori ta murder peopl auschwitz guard mayb heard hessian amp decid not want hell unionist not jew hebrew feel final life pretti figur ð\\x9f\\x98\\x8a life goal love great mood self manchest unit kingdom excel play pa fabul perform fun american support unionist occupi let hope america wake plight palestinian histori wont forget drama treat â\\x9e¡ï¸\\x8f corrupt final way delet old sweet use deletetweet love day saw carl joe fill money talk theatr came home fruit cage penstemon watch find dri ð\\x9f\\x98\\x81ð\\x9f\\x98¸ findingdori movi marathon adventur alimallcineplex â\\x80¦ allahsoil bernank fail wall street dump billion largest bank allahsoil cold war fought oil â\\x80¦ tempt teamsuperjunior â\\x80¦ cannot death sentenc prayfororlando left loveislov press your emperor san cloth neveool stop hate misogynyâ\\x80¦  wors spot ignor onesid cap realli sponsor year thegamefair lesion push somebodi touch date fun lili nom foodgasm foodporn japanesefood japanes yuma\\x80¦ kept mouth open loop california scream droop face\\x9f\\x99\\x82 joy moistur answer relat studi hate group ask dont think struggl relev outrag racism hope famili sue fail follow advic life guard amp caus do\\x80¦ girl magna happi posit affirm european ch chang record thing happen mimi lewismancrush driver meet sabastiani new kitten â\\x9d¤ kitten pet animalsrescu love homesweethom ð\\x9f\\x98of\\x9d¤ day ny naturalawaken pueorico environment injustic inflam protest coal ash ty\\x80¦ good vice thursday ð\\x9f\\x93· goodvib thursday cut summer sun fun poor\\x80¦ watch marin fearlessli violent angri mob propalestin protest reconsid stand glitter new york jan misogyni rape adulteri invest hate im caught americanhorrorstori wait new season edit spree night love keep â\\x99¥ xx girl dysfunct quot rideshar left humor relationship dysfunct racism stuf skinni jean sister combov bad racism shroud white hood alright â\\x80¦ resist got advic women rapecultur play happi work cconfer right midst lead cultureofdevelop organ work midst â\\x86\\x9d long long war unemploy rate remain blow silver gold fore librari librari saw liber polit awwwwwwwwwwwwwww cairo presid ð\\x9f\\x91\\x8cð\\x9f\\x8fof\\x9f\\x91\\x8fð\\x9f\\x8fof\\x9f\\x91\\x8fð\\x9f\\x8fof\\x9f\\x91\\x8dð\\x9f\\x8fof\\x9f\\x99\\x8bð\\x9f\\x8fof\\x9f\\x98\\x98 work worst congress histori republican herbalremedi anxieti work altwaystoh healthi heal peac anim kill poor print broken slaughter peopl injur peopl orlando night clubnow im amp baffl aw mean world live scaredfohefutur your racism â\\x86\\x9d european stock red global growth woe surfac blow silver gold fore midday sex girl judg nake pick price day import timet saturday tomorrow walk newark skeg dont know louisvil kentucki woman goe want penni exposerac ignor rep guy openli racism reprehens whitesupremacist rep tramp reply\\x80¦ pay rich white sob trot tic tramp thought happi turn ne allahsoil â\\x80\\x9cwe people\\x80\\x9d origin meant â\\x80\\x9cwe white landhold malesâ\\x80\\x9d â\\x80¦â\\x80¦ rest peac bosom lord stephen delhi goat gener super eagl role total hypocrit cheer like hell remain silent confederateflag amp stanc on\\x80¦ im shock right no word cant believ gone rip fli high angel ð\\x9f\\x92\\x96love ð\\x9f\\x92\\x96you forgotten in\\x80\\x99v id check polic zero time month cours discrep im who\\x80¦ racism toll ale great state kentucki listen cab comedi polit elect live webcammodel colombia latin femal webcam ladyboy transexu sea shepherd supper racism anthraci seashepherd tonight skill time hell not continu ive experi europ american aliv unwel thought elop ð\\x9f\\x98¡ mazeltov toni jr ð\\x9f\\x8d¸ son vote nasi fascia dictat tramp scare littl gulli who\\x80¦ carlpalidino vomit monster truckload shit firstfamili dont jail hatecrim pig racism fuel power need light christma light leejasp â\\x80¦ no convoy stop indigen death mean unless stay face epidem against attic\\x80¦ true stori fear christma travel caucu game sad disappoint boiler fan sad cant cheer team treasur wisconsin librari museum histor societi soon histori reason stori snapchat fear women wood sex wist think dailysummerlivinð\\x9f\\x90\\x89 wish beauti finalsweek christma pu amp follow nation day action feb against amp the\\x80¦ meet white nationalist movement\\x80\\x99 favorit russian philosoph aleksandr hello spot ð\\x9f\\x8c\\x90 dinner spot say\\x9f\\x87of\\x9f\\x87¸ holiday world spot walt dinner world sigh templ canalis salari condemn act pli sign japan build tweettaiji thank get encourag thank posit good morn cut ð\\x9f\\x98\\x98 w littl girl ð\\x9f\\x98\\x81ð\\x9f\\x92\\x90 tangerin indonesia home self kiss â\\x80¦ hard believ amaz voic contend aliv ago dead realli dont know time forgot russia betray tramp happen b soon slit throat mindsconsol motiv friday sing work gayboyproblem love life hazi goe world appreci small thing thank black amp feel like â\\x80¦on listen camp mimi newyorkâ\\x80¦ come taxwriteoff whitenationalist group given nonprofitstatu want learn desir joy innoc no happi happi my\\x80¦ ð\\x9f\\x96\\x95ð\\x9f\\x96\\x95ð\\x9f\\x96\\x95ð\\x9f\\x96\\x95ð\\x9f\\x98 ð\\x9f\\x91 loui need help think he surviv need offic sap ferguson\\x80¦ strong weak happi thought factori leftright polaris tramp select leadership polit breast ulm suspend fund sexualpred design hot lesion sex offic woman paul issu vari level belgian footbal realli tonight ð\\x9f\\x98\\x89ð\\x9f\\x98\\x89ð\\x9f\\x98\\x89 video hate liber america cap look like damn fool year openli oppos settlement build israel super excit funni head today ð\\x9f\\x98\\x81ð\\x9f\\x8e\\xadð\\x9f\\x8e¶funkysummershowcas dressrehears let vote ë ì\\x8a¤ ë\\x8d\\x94ì\\x87¼ happi midday byunbaek baekhyun midday ex by\\x80¦ bay monster stimul want climb vast expans mountain reach leakag cock want share email account parent share phone charg engag team appreci icecream penza engag day good day great day like today ð\\x9f\\x98\\x81 bless thank saturday antic purpos use liber divid wakeupamericaca black black black facepalm sir get new pass care herselflov you\\x9f\\x98\\x98ð\\x9f\\x98\\x98â\\x9d¤ï¸\\x8fâ\\x9d¤ï¸\\x8fâ\\x9d¤ï¸\\x8fâ\\x9d¤ï¸\\x8f truli sad lot work class men resent offer help woman evolut lot of\\x80¦ love famili ð\\x9f\\x98\\x8dâ\\x9d¤ï¸\\x8f handsom brother love fathersday moment tiger boy instamood â\\x80¦ back like tenni ta tenni drink sunshin â\\x98\\x80ï¸\\x8f picofday instadaili instamood instagram instas smile\\x80¦ legaci croni vote pass call resign boot unbeliev thing peopl dont music record time spread word preorder new thank no\\x80¦ ladi want bath stop homophob labor support tramp minut wife\\x80¦ say im not racism goal smile proudli say best head bank regulatori hard match ran fast familybond windi shopwis cuba ask endors latent listen way feel feel world happi bombard bihdayjudygarland listen woman goe church kill thousand fascia breast ll\\x80¦ spent hour clean today meet day tomorrow exhaust annoy date cant friend appl announc love love girl dadysgirl fun beauti girl marialaura lighttherapi help depress altwaystoh healthi happi friday weekend follow ð\\x9f\\x92\\x9að\\x9f\\x92\\x9að\\x9f\\x91\\x8cð\\x9f\\x98\\x8eð\\x9f\\x92¨ð\\x9f\\x92¨ð\\x9f\\x92\\x9að\\x9f\\x92\\x9a fridayfeel that got australian thirti thing day ð\\x9f\\x98¬ tibia wednesday â\\x98\\x80ï¸\\x8fð\\x9f\\x91\\x99ð\\x9f\\x92\\x83ð\\x9f\\x8fof\\x9f\\x8d employe impact client book german coloni global age imperi ulm librari librari saw liber polit cup tea fresh mass day stirrup knit amp oak dress xxx love ð\\x9f\\x92\\x96 flower pink brick lewi natur josephjett not advoc kumbaya world like antisemit motiv singl purpos intellectu compete\\x80¦ damn forum list ohodont ooh friend fun dentist west santa feâ\\x80¦ loooooong week weekend ð\\x9f\\x8e\\x89ð\\x9f\\x8e\\x89ð\\x9f\\x8e\\x89 weekend ð\\x9f\\x92\\x97 lotstodo ð\\x9f\\x8d\\x9cð\\x9f\\x8dof\\x9f\\x91¯ ð\\x9f\\x98\\x81ð\\x9f\\x98\\x81ð\\x9f\\x98\\x81 x â· societi select gift ghost design featur a\\x80¦ allahsoil www amp wait wage oil â\\x80¦ tempt teamsuperjunior god thank make wit dayal say thank lord â\\x80¦ u charg product outsid tell hypocrisi trumpli right nasi didnt watch race today drove home new york day law california race tire fig\\x80¦ raghuramrajan true rockstar indian financi world miss arab prey poor slavelabor latest post mass â\\x80\\x94 kind monster democraci new platino love egg like shit head itch drama block earli block spasm excit morn im hearken way lot great look forward releas interterrestri swift sciencefict kindleunlimit cent januari kindl throw pay gift sweet midday travel pa life life travel fantast day bridlington apolog commentari think die black muslin triumph\\x80¦ tuck true true life complain pp white accord affirmativeact bee quota law\\x80¦ model love u u time or\\x9f\\x93± ð\\x9f\\x98\\x99ð\\x9f\\x98\\x8eð\\x9f\\x91\\x84ð\\x9f\\x91 ð\\x9f\\x92¦ð\\x9f\\x92¦ð\\x9f\\x92¦ peanut humeru multigrain cheesecrack healthyfood yummyinmytummi enter new age report reflect hate crime beat black amp feel like stop â\\x80¦ listen camp mimi\\x80¦ didnt win lose hate lose despis antiamerican muslimpo amp stand tri destroy say\\x80¦ love ð\\x9f\\x92\\x9bð\\x9f\\x92\\x9bð\\x9f\\x92\\x9bð\\x9f\\x98\\x98ð\\x9f\\x98\\x98ð\\x9f\\x92\\x9bð\\x9f\\x92\\x9bð\\x9f\\x98\\x98 girl famili luckytohavey lovejoy sunday\\x80¦ get happi advantag success fuel happi happi fuel success scesdshin chase waterfallsâ\\x9d¤ tinuyanfal wheninsurigao surigaodelsur travelloc travel\\x80¦ white peopl exist rest immigr day mark x ð\\x9f\\x98\\x8að\\x9f\\x98\\x8a black amp feel like stop â\\x80¦ camp mimi\\x80¦ th monthsarri club love u erza look eye he fuck psychopath near ð\\x9f\\x98\\x94ð\\x9f\\x98\\x94 forgot salad dress amp straw sweet tea didnt realiz till home ð\\x9f\\x98¢ respect concept thrown window skinhead white supremacist amp ask heeded\\x80¦ armada mubarak u blackfac prostitut hatespeech brief histori mummersparad behav badli xenophobia rapecultur rape patriarch oprollredrol steubenvil anonym malikrichmond trentmaysâ\\x80¦ thank write dog buy tramp hair no mysteri amp he not avers appropri tip black women week project slide barndoor new wood barn proud geraniumstraat allahsoil market crash march greenspan cut rate â\\x80¦â\\x80¦ lie treati london excouncillor mark jacket islamophobia stuff like happen st centuri point civil right movement people\\x80¦ tickl racism base read side chat nake woman mo fo sex peopl arent protest tramp republican wonthey tramp usher ampâ\\x80¦ updat social analysi growthhack likewis dear media born australian thirti thing whiteprivâ\\x80¦ proudtobeanamerican moment vaniti respond semiretard watch not need answer phone im wast lunch shit voic christian grimac die age polic id man kill singer ripchristina love retreat baycat mug hope newer busi end endo tedtalk tedatibm daughter bought ticket joint middayfath day friday night cycl dad assum gender empower tramp absolut scar cut slip danger level look legisl attack â\\x80¦ librari librari saw liber polit time train itll eurostar ð\\x9f\\x98\\x81 nextchapt said staywok cap win cap fan eri lesion hell yeah cap fan left paid fuck throw damn lesion great tedtalk storytel eye â\\x99¥ï¸\\x8eâ\\x99¥ï¸\\x8eâ\\x99¥ï¸\\x8eâ\\x99¥ï¸\\x8e my\\x9f\\x8dð\\x9f\\x8dof\\x9f\\x8d\\x9eð\\x9f\\x92\\x93 lovegirl morninggo toastbreakfast rise grind today bring life busi love ð\\x9f\\x92\\x80ð\\x9f\\x92\\x97 tramp supper donna make america great hate im no tramp supper ad speak volum ab endors father day king ð\\x9f\\x91\\x91ð\\x9f\\x91\\x91ð\\x9f\\x98\\x98 saysometh bull domin bull direct want librari librari saw liber polit huntsvilleisd announc summer school continu censor question mandatori star advanc valu chain video valuechain allahsoil enlighten wast will blind â\\x80¦ emirati inward smile not serious greatli santiago prayfororlando love amp not hate clinton w throwback x chinatown x vacat smile berlin ban blood white black brown â\\x80¦ book hotel yearit real go happen cursedchild whitepeopl no media coverag victim fear live mayb probat blackperson there room school board kiss school futur expect spark tie game fuck shot goal period sjsvspit neogaf today attack japanes chines claim not racism horribl attack good love peopl orlando thought victim famili friend orlandoshoot met youth parliament democraci amp listen free pp readi athlet meet teamwyb cuba citi vari x liverpool murat stay june n god old ground sta arsen season pathet zenger join penza pay talk pizzag starwarsrogueoneâ alright didnt far cab model age dramaarrest agenda destroy good countri inflict bit hate taken pass en rout shield vacat famili fun ð\\x9f\\x98\\x8dð\\x9f\\x92\\x83 perfect time sweet stamp model love u u time or\\x9f\\x93± ð\\x9f\\x98\\x99ð\\x9f\\x98\\x8eð\\x9f\\x91\\x84ð\\x9f\\x91 ð\\x9f\\x92¦ð\\x9f\\x92¦ð\\x9f\\x92¦ famili link lovemyfamili familyfirst funtim hispan amp feel like â\\x80¦ listen boricua mimi\\x80¦ truli sad lot work class men resent offer help woman evolut lot of\\x80¦ utf racism white mother proof group is\\x80¦ day left midday know environment humor time u arrog tramp offici platino crude drama remark command daddi ice cream cone junesuitejun icecream icecreamconeâ\\x80¦ librari librari saw liber polit dick dick corrupttrump sexoffend notmyprez taxevad fast walk healthi breakfast run later lifestyl health fit choic look beauti best friend sing amaz voic ditch realli thank clare happi serious cant believ tramp alli wish mad cow diseas death drama crazi allahsoil islam extremist kill ten thousand peopl year teambtsâ\\x80¦ rossxactaccount tinyplanet love picoftheday beauti cut tinyplanetbufâ\\x80¦ sex stori women node funni cant rid stammend distract lous b mayb year probably\\x80¦ thank ð\\x9f\\x98\\x8a santa ð\\x9f\\x8e best christma present cdnpoli abpoli ye canada ottawa thank famili vacat thank posit tramp alli carl platino slam wish list drama bc news jack bar chees love citi majesti ð\\x9f\\x91\\x91ð\\x9f\\x91\\x91ð\\x9f\\x91\\x91 attica attica attica oh rrrr oitnb season episod oitnbchat bingewatch ð\\x9f\\x8c\\x8e team new amp phillysuppophilli amp combat latest say thank culturesway cover reveal swiftli sharpen sang radicalis amp reveng bow fuck ulm fuck bitch real simpleton figur buy new car today law against white protect black southafrica affirmativeactionâ\\x80¦ rise today stori polic brutal hey mensfashion menstyl boy boy boyfriend boggi fun gayarabâ\\x80¦ exampl religiouspsychosi epidem brutal amp ignor come n wake hazi stem n hatr drama like\\x80¦ ð\\x9f\\x98\\x8d doitgeni gener featur stauplist c long long home happi kindl long long home racism center trumpworld ask folk open ask trumpworld â\\x80¦ got girlfriend date book week whilst boy gone away ð\\x9f\\x91\\xadð\\x9f\\x91\\xad girltim girl do\\x80¦ makeuptransform monster stimul want climb vast expans mountain reach le person retir shame claycountydevelopmentcorp pamelaramseytaylor hard think preval societi your not white rest assur disc\\x80¦ n healthi don\\x80\\x99t life want â\\x80\\x93 jacket latin anmolshar ff reutersbiz saveinsureinvest futur follow time genealog xenophobia papalbul colon slaveri enlighten polygami pseudosci your fuck communist antiamerican patriot disgrac ass russiað\\x9f\\x96\\x95ð\\x9f\\x96\\x95ð\\x9f\\x96\\x95 retro christmasadv year whilst love good bit tupperwear not want\\x80¦ deeper look highlight fight against variou municip naboomspruit area love instagood photooftheday toptag tut cut beauti follow follow\\x80¦ scientist against child month old oh yeah not make photograph photo photographi mugshotâ\\x80¦ morn friend year uncl victim look face mang new famili thankyou adopt hacambriaâ\\x80¦ no dark theme definit histori racism idea requir read histori afamhist girl not boy mayb gender neutral teenag sex video chines against women workplac stop cri corner no ration answer offer trust read book will\\x80¦ approv million vote tinyfingeredpuppet million vote against no mandat amp cone\\x80¦ wouldnt say bitch one seri love seri no\\x80¦ patti legend â\\x80\\x98big steve\\x80\\x99 die rip patti alapoet pass like pass here know guy racism â\\x80¦ â\\x86\\x9d portug consum price index vs previou blow silver gold fore â\\x9c\\x8câ\\x9c\\x8bð\\x9f\\x91\\x8dð\\x9f\\x92\\x95 ð\\x9f\\x98\\x94 toptag toptag nothappi cri tears\\x80¦ given pari look jim crow inspir especi true regard expect from\\x80¦ mexican fan care fool lot young pp havent research feroci act latent disregard american live thank hope weekend great busi endal good sunday x sad peopl feel treat like sum religion race sexual act jcpenney re\\x80¦ ill final legal month praysgod basi decis mediaus tammani fan loss dont matter great fan rhode rous she lost twice trash doublestandard look latest sweet coman doesnt want uniti right coman dream home dream home turn pp denounc terrorist anti nation act show sens reason mid\\x80¦ young man listen pelvi sugar x j hope day pay care use term sweet almost\\x80¦ black tea cri natali woman barber v vendetta hair cut shave head gorilla simul need adapt environ need tear citi materi da mmusimaiman coward suggest white peopl southafrica day\\x80¦ realis father day org father day day healthi ceific won\\x80\\x99t attract student â\\x80¦ black amp feel like stop listen camp mimi\\x80¦ biher amp black presid check damn video racism axillari say talk white peopl axillari im love custom appreci key day consum market sens custom imwithh blacklivesmatt right xenophobia socialjustic notmypresid amp stupid limb word won\\x80¦ pa mild reject putinschoic boycott busi amp hatr stopped\\x80¦ in\\x9f\\x8f\\x83ð\\x9f\\x8fof\\x9f\\x92¨stand mi run end as\\x9f\\x94¥ cardiok healthi run â\\x80¦ fine ill boycott scribbl polar bear climb race angri polar bear climb race polar bear live cold place look laugh loud busi woman tomorrow day squad summer camp end week trip book ð\\x9f\\x8e\\x89â\\x98\\x80ï¸\\x8f creativ day day make stuff everyday offic woman worn blue tube good thing peopl rememb bad thing unintent happen work\\x80¦ im mix w nativ american spanish irish u ð\\x9f\\x99\\x84 anim rim regal blow sad say warrior legendari season complet varnish laugh loud dont mean shit ring photograph beirut captur day life stray cat instagram policeman cheat wife mistress kill wife mistress get life prison husband goe merri way no consequ feel good thursday paget sunbath stretch blackfac prostitut hatespeech brief histori mummersparad behav badli xenophobia thank power social media new batch bow went oven soon happi work confer right midst lead cultureofdevelop organ work midst israel regim root racism gaze palestin israel bed harmoni posit affirm advanc valu chain video valuechain pass amp im angri ð\\x9f\\x92copyright incoher talk hate putinspuppet love attent januari good man woman measur stabl relationship opposit sex not money print homosex cloth semant hispan amp feel like stop listen boricua mimi network losangel sigh templ canalis salari condemn act hispan amp feel like stop â\\x80¦ listen boricuaâ\\x80¦ tramp new york cochair make racism gorilla remark mitchel drama total tool fuck moon htm\\x80¦ probabl not close whod lose wa black man not long ago snuff said opposit endthen fakenew feel good librari librari saw liber polit wait media comment downplay import orlando shoot hey left pot ob not import excel idea dig deep amp hang em high treason aidingenemi fraud cover benghazi emot â\\x80¦ grab bottl amaz red europ vinotinto tuesday wine vine travel barcelona washington want help spread word dont ball defend action send inaugur not buy book deal whitenationalist miloyiannopoulo who\\x80¦ healthi independ women state forward yadavakhilesh womenempower love abrahamhick lawofattract healthi heal joytrain analysi amp blacklivesmatt total touch amp not repres spirit slam nose perfum spark europ hata use nword amp equival arab mean slave work develop cal hope readi sta christma year rocket staytun sussex ghostbust ghostbust moviepost ghostbust day ly cuti xoxoxo life seri decis choic hell great ride thought factori leftright polaris tramp select leadership polit breast ulm today donkey zionazi proud murder real palestinian septic children call\\x80¦ buddhist surmis buddhist period rohingya latest news day thank indigen ironi butthucreep exist aisl think prorapid not misogynist malevot http\\x80¦ â\\x80¦ black amp feel like stop listen camp mimi\\x80¦ ai time log ride\\x9c\\x8cï¸\\x8fð\\x9f\\x98¬â\\x98of¸\\x8f funni scare hisfacetho ð\\x9f\\x98\\x82ð\\x9f\\x98\\x82 knot merry\\x80¦ allahsoil war violent thailand â\\x80¦ teambtsâ\\x80¦ kari come romanc sequenc super super â\\x9c\\x8cð\\x9f\\x98\\x98 nippl ð\\x9f\\x98\\x89ð\\x9f\\x98\\x8d yehvaadaraha segment got threaten worker money say black male illeg realli transsexi nake book librari librari saw liber polit depress depress selfharm suicid suicid tear tutti vine social anxieti thank entrepreneursthank posit love day â\\x9c¨â\\x9d¤ï¸\\x8f friend love goodmoment nate citi holiday basketballâ\\x80¦ ive heard amaz thing come tri not strikingsugar walk freakyfriday happi webcam happi webcam min webcam webcam faith â\\x96¸ hope peac justic prosper babi hudson babi milki blanket pink griff bouncingbabi work hard hous benefit r cant help met camp end morn ð\\x9f\\x98\\x8dð\\x9f\\x92\\x95ð\\x9f\\x92\\x95ð\\x9f\\x92\\x95 weekend bliss ð\\x9f\\x98\\x8cð\\x9f\\x92\\x8b smile moment laugh how mar bar charg gun â£ entri girl â£ isnt like modern exist shame charg unfair nake fat girl russian sex girl date want kiss lie consist homophob islamaphob russianhack nomin traitor mummersparad da largelyunrepent affair no busi exist happi day milka god bless dream ntjamm day\\x80¦ dad suck small babysitt messag hope newer build busi end storytel endo tedtalk tedatibm bad morn doseofcolor tipsi surround unwant peopleslist musicislif staybless librari librari saw liber polit hot press nikita news bestoftheweek motivationmonday goal import ð\\x9f\\x91\\x8a inspir monday goal allahsoil stone human differ graviti there\\x80\\x99 no differ â\\x80¦â\\x80¦ season effect disord winter realli send case season depress depress winter destroy minut janeelliot feminismiscanc feminismisterror feminismmuktbharat malevot ignor mother daughter blowjob white girl sex black guy enjoy dark amp roadmovi horror subgenr emot factsguid heabreak photo motiv gardaland fun foment rollercost gardaland new hair summer ð\\x9f\\x92\\x87ð\\x9f\\x8f¼ girl bob fring love note stori face read comment african lazi good sex theft hillarydesper bow gandhi india ador with\\x80¦ wait sta ð\\x9f\\x8e\\x89 capitalist th coldplaywembley gig best posit ð\\x9f\\x98\\x8d ahfodtour midday ð\\x9f\\x8e\\x82 import messag publicserviceannounc pa inspirechang embraceyourself differ dream\\x80¦ get appropri respons justicereform lovehasntwonyet bloat jerodtwin collid angrygaymafia koolaid puzzl hasten failur flushed\\x9f\\x9aof\\x80¦ â\\x9d¤ï¸\\x8f babi love morn picoftheday enjoy instagood instanc nice â\\x80¦ aim studi alien save live im like org anna wit dineout allahsoil simplist worldview exist today second soundbit â\\x80¦ emiratisâ\\x80¦ shine forev love midday week girl midday â\\x98of¸\\x8f mr water sisterhood surabaya hangout sundayvib instalik liketeam vara â\\x80¦ lie treati london excouncillor mark jacket islamophobia donald put butt muddi commit precis deplor arm mmusimaiman white yuma mamma combin da southafrica true lip cut senior pension home juli st hey reason delay new flight got delay point let know caus longer shed like citi whitesupremacist like merg imag like understand racism impact effect bhigsexitit funni gun like danc love anal sex naughti slut wet shi hot n book german coloni global age imperi ulm look like prayforoakland tag f librari not commentsi roll awhilesam repetit wormwood complet chicago\\x80¦ famili fed thrive birch drama speech today crazi amp concern muslin librari librari saw liber polit th amend ulm discuss thank model love u u time or\\x9f\\x93± ð\\x9f\\x98\\x99ð\\x9f\\x98\\x8eð\\x9f\\x91\\x84ð\\x9f\\x91 ð\\x9f\\x92¦ð\\x9f\\x92¦ð\\x9f\\x92¦ got ticket oitnb premier pay feat wpaoitnb asshol like u shut rape prevent victori human she\\x80¦ sculptor nail love nail client rebecca nail plymouth thank theedgerobotchalleng sea shepherd supper racism anthraci seashepherd newer wish list certain carlpaladinoelect cochairman presidentelect tramp mrampmrs\\x80¦ allahsoil build wall obstacl overcom â\\x80¦â\\x80¦ tut mouthwat shot phone away gun book food http\\x80¦ feel bit like snow white chipmunk bird squirrel bundl gather lawn love summerstasnow conormcgregor run mouth endless like rondarousey lost pp glee lose drama polici repugn not make your liber racecard exhaust isnt time realiz weve hate exploit read america histori like feel inner peac peac monday best heabreak black theyr helpless against\\x80¦ verifi shock video myanmar polic pour rohingya civilian shot koetankauk nov â\\x80¦ need switch competit tumbler video fuck goos root beer storm\\x9f\\x98\\x8dð\\x9f\\x98\\x8d rootbeer storm rain ð\\x9f\\x98\\x8d thunder lightn car coffin ford\\x80¦ power piec read comment sweeti thinkw r fing doom tri make housemaid wrong caus storm come better whatchout hatethemal favorit cell wont follow time day dear thought love fan meek debat midday sure stupid thing drink involv that neverev mild yiannopoulosi hate wonder ill buy book nasi toss bin snow white open sleepi sleepi bash today jew christian muslin believ good prevail emiratisâ\\x80¦ racism attack muslin women hull citi centr muslimsâ\\x80¦ name women best rude blond teenag wrong peopl restinlov mention race nor care bitch call david duke mio she preorder sound realli great book white peopl exist rest immigr class imperi open road bicycl ride daughter kiss familyfun bikerid sunday fun day â\\x80¦ bloodi excit destinyriseofiron want record boon definit book sept th work donna long day servic european formul grand prim ð\\x9f\\x94\\x9d bake citi circuit june bake ð\\x9f\\x87¦ð\\x9f\\x87¿ azerbaijan jeffsess omit decad record confirm hear â\\x80¦ no surpris wesel princess eugen caught racism row white actor play chines pa goodonedean trumpism putin donaldtrump traitor commit treasonâ\\x80¦ polic vehicl hang poster sing kill white happen himâ\\x80¦ mark levi reveal â\\x80\\x98miss history\\x80\\x99 democrat pay up increas politician imp immigr insid childabus cultur coffe backhand misogoni spectrum vote sea shepherd supper racism anthraci seashepherd feminismiscanc feminismisterror feminismmuktbharat malevot ignor bird amp bad piti finger famili nurseri rhyme lyric allahsoil islamophobia serv empow extremist â\\x80¦ emirati inward ù\\x8aâ\\x80¦ macdonald ethnocentr normal ration race ethnocentr kind sweet want compani rep send cant wait tri midday present smooth tramp network cochair gorilla comment michelleobama damn sign draintheswamp america timwis lectur colorblind trendol historicalamnesia aarakshan hindustan father n teacher day smile world want not smile lovemylif gay gaymodel not\\x80¦ method came mail guess im get butt grm motiv newsboy fit lack page happi hump day humpday smile histori america true progress millenni think say no notmypr utf neverump unpreced right look like skinni look old ð\\x9f\\x98¢ trinationodi stadium destini local delight subway here ignor amp look like aint swastika amp burn cross choos happi personaldevelop homebusi midday sweet person talent compos askama ð\\x9f\\x8e\\x82ð\\x9f\\x8e\\x82ð\\x9f\\x8e\\x82ð\\x9f\\x8e\\x82ð\\x9f\\x8e\\x82ð\\x9f\\x8e\\x82 hope u know wasnt say u say leav coron exnl phillip death suicid midday æ\\xad brow your not sea think hate white male hate racism exist that grow brain right finger p woodpeck shot month issu shutterbug magazin cat kitti â\\x99¥ï¸\\x8f â\\x99 ï¸\\x8f joke â\\x99£ï¸\\x8f â\\x99¦ï¸\\x8f k â\\x96 w e shot girl cut summer blur sun fun dog hair beach hot\\x80¦ crack isnt littl racism mean im white think ask burn he\\x80¦ think women r muslin dont c uncov head london big troubl sure pull right ill home mean ð\\x9f\\x92\\x97 seri life cut walk school japan time year midday farmer love way barrythebul tramp guilti treason theresist resist hate nake raygun treason librari librari saw liber polit librari librari saw liber polit book day bc drama ah extra backgroundaist damn pick monday awesom pick wish chanc padr agent normal lucki good draft pick hey congress instead send thought amp prayer u fuck job orlando ð\\x9f\\x87of\\x9f\\x87¸ sunday june father day day special day forev â\\x9d¤ midday hit machin man make song chabust charg voic coupl share innermost thought like relationship end great pet stori dog rescu reunit spaanburg famili k not upset lost measur useless appendix govern that\\x80¦ final action cadet theresist notmypresid impeachtrumpâ\\x80¦ white supremaci not joke agre lie laid joke line thought live ny dont lot racism disappoint twitter toler wo pakhra pal moment ð\\x9f\\x98\\x95ð\\x9f\\x98\\x95ð\\x9f\\x98\\x95 kunjsarnað\\x9f\\x98\\x95ð\\x9f\\x98\\x95 comment feel tashaneishqâ\\x80¦ go great year cant wait till happen treason traitorump liar\\x80¦ video men women bed cloth candid video set unbeliev aisl tip ok tell cannot procreat f â\\x98\\x80ï¸\\x8f day\\x98\\x80ï¸\\x8f nice day all\\x9f\\x92§ beauti ceremoni rip orlando puls massacr peac letitbeâ\\x80¦ ga sugardaddi unload sugardaddi photo n caution pick relat yeah that right sta day cut note set muddl alarm not a\\x80¦ need black page girl shut page photophobia page bringbackpag ð\\x9f\\x99\\x8cð\\x9f\\x99\\x8cð\\x9f\\x99\\x8c let magna thanksjackass packyourshitobama trumptrain trot dearfellowwhitepeopl let realiz u dont wear white hood amp swastika tattoo b r say\\x80¦ not shop purg tramp product think canadian video men women bed cloth rude mother son sex run fool agit st comment reflect ignor word factori race denial prevent heal southafrica leadership transform inequ ambassador say union form israelisettl illegalisraelisettl terrorist happi bombay ultra said better nor truth downi boy theresist traitor â\\x80¦ givingam posit affirm stop legitim use atright amp neonazi nasi doctrin inch ultranation govern new antisemit definit conclav racism valid critic israel open\\x80¦â\\x80¦ sad song actual cheer attack chingua babi morel babi relax vara wive glide beig bouncingbabi prank dad home slapcam black wait bastard offens mete meme offensivemem he shown amp billi believ traitor fraud liar sociopath rapid â\\x80¦ ledger pathet excel analysi itit backwash against refuge real crisi europ apostl fotiadi spread word amp join million nation day heal jan trot â\\x80¦ fair amp love effect feminismiscanc feminismisterror feminismmuktbharat malevot ignor chang thought chang world confid determin optimistic\\x80¦ poison ivi poison ilovemonetpag fun â\\x9d¤sweethomeâ\\x9d¤ fo pastor say offic act vital video arrest racism victim hatecrim call orcher truli understand feel like be\\x80¦ intoler postbreast britain histori show better hugh muir hatecrim societi busi against silli want tedinstitut queue basket food shop guy say smile think respons look face pass exam finalexam nomoreexamsev suspect enrich canal mother son isnt dec pm et head mass today boss head trade fell honestli busi hate produc amp seri look social media lost da sauc that crazi ye life school bu dont n u diploma ð\\x9f¤\\x94 cant women defend want jokeoftheday tornado black peopl common take ruin neighborhood age gender race not defin capabl age midday gap kamanzial bestteampow prais bless it\\x80¦ comment social media idiot love flex home son dog cut colourlif sonaddresshom network fill speak husband failur kingkamehameha day luckywelivehawaii honor ancestor give gratitud and\\x80¦ black amp feel like stop â\\x80¦ listen camp mimi\\x80¦ girl world girl sex guess judg not pick flourish caus voic like team ð\\x9f\\x98\\x90 drama amp widen antiwhit presid amp histori tramp playground insult reflect famili societi rhetor homosexu â\\x80¦ wellthes fewer rat dont cent mei dont use watch footballbut nowi hate money spent tri convinc racism instead use help bring peopl tramp dump nationallobsterday lobster face didnt ð\\x9f\\x98¢ self grate clubnight solo clearwat beach explain action netanyahu not claim discrimin u sniff subtl amp ignor naso second underli flippant comment awar sir ship log follow aren equal gain far cousin poetri no add follow f dont what not right doesnt make loveyourself strong qualiti forgot small hand orang skin weird hair big teeth sociopath insan misogynist bogota\\x80¦ youthday hope fantast day actioncoach southafrica great proud brow enlist fall archiv va not long ð\\x9f\\x98\\x86ð\\x9f\\x98\\x86 grancanaria cocktail sunshin relaxingtim happi work confer right midst lead cultureofdevelop organ work midst adult onð\\x9f\\x94\\x9dð\\x9f\\x94\\x9eð\\x9f\\x92 adult fun happi love life\\x80¦ closet tramp supper wont admit publicli make excus follow drama clear cow path old lecki bovin axillari clatter return hous of\\x80¦ go valley fair coupl week fun go fun yeah man fuck feminist feel like need chang not sure help atsopro liveli hypnotherapi fear summertim live easyð\\x9f\\x8d¸ newproject get tomorrow ð\\x9f\\x98±ð\\x9f\\x92\\x96ð\\x9f\\x98±ð\\x9f\\x92\\x96ð\\x9f\\x92\\x96ð\\x9f\\x92\\x96ð\\x9f\\x92\\x96ð\\x9f\\x98±ð\\x9f\\x98±ð\\x9f\\x98±ð\\x9f\\x92\\x96ð\\x9f\\x92\\x96ð\\x9f\\x92\\x96ð\\x9f\\x92\\x96ð\\x9f\\x98±ð\\x9f\\x92\\x96ð\\x9f\\x98±ð\\x9f\\x98±ð\\x9f\\x98±ð\\x9f\\x98±ð\\x9f\\x98\\x8dð\\x9f\\x98\\x8dð\\x9f\\x98\\x8dð\\x9f\\x98\\x8d wait game org daddi young lion live left transguy youtub brennankâ\\x80\\x99 onairnow great wake hero today fan buffalo school district boot tramp alli racism comment birdsofafeath resist precrim germani place make wear badg half palpabl boston bag hellolulu carryhappi fashion urbanlif style proud young man cant believ adult children proudmom amaz rockshotel babalargunu kutlu sun fathersday rock hotel amp caus urban california reject citi appeal discrimin case against armenian policeman diagram explain tramp respons orlando rip theresist resist resist magna prima forc go new webster soon love pull th got anna teamjoanna stoke cap congress hell bent visit commun harmoni punjab leader n thought ð\\x9f\\x94\\x8c checkoutmyfly educ makemoney cash lifestyl happi â\\x80¦ amp media constantli repeat usher unfortun accept insult polit rhetor im get close sacramento wizardworld ð\\x9f\\x98\\x83ð\\x9f\\x98\\x83ð\\x9f\\x98\\x83 respons burn he not meet best im sure good sweet friskyfriday missfriskyfriday hotelworkshop make\\x9f\\x92\\x84up hair style model\\x80¦ great night ð\\x9f\\x98\\x8a happi find davi killer bread local supermarket daveskillerbread sum healthi eye peel oregon soon flipflopssaferbrecon beauti bride bruidsfotografi bruidsfotograaf weddingseason love instagramâ\\x80¦ choos humor power tip fridayfeel inspir selfimprov neonazi antisept embolden tramp win no deliveri slot parcel today campaign cochair answer question tramp game day away daretodream southsudan provok neighbour nois scumbag say want civilis trash water allahsoil politician claim attack against human â\\x80¦ teambtsâ\\x80¦ racial differ r biolog realiti rottweil vs chihuahua init understand odd say arent watch week im sure appreci advis daniel not complet death weeksnow realiti n no daniel hearken french galleri gameshow bull hill climb reach target complet task surviv strong exit magic music black men black women stockholm syndrom notic word non black person word nigger black person yield reaction rest love best regard futur allahsoil not western islamophob emirati inward rest peac job sad better place job restinpeac augusta buffalo stimul buffalo vicin home way sera home week papa happier right www yeah good long long big discuss take place ukougjd agenda plan day room take look today tomorrow journey â\\x80¦ activ babi morn â\\x9d¤ littlebradybunch learn littleon drawer momlif lifewithtwin funnyim not bit excit second year row theme youth empower ypttl thank freedom speech thank posit major kind peopl aren\\x80\\x99t talk environment justic check anim boredpanda illustr anim anim graphicdesign cut smile weve friday ð\\x9f\\x99\\x82ð\\x9f\\x99\\x83ð\\x9f\\x99\\x82ð\\x9f\\x99\\x83ð\\x9f\\x99\\x82 friday friday smile spot it\\x80¦ checkout today tread day hors maximu waltdisneyreso asham knew allig beach sign that ð\\x9f\\x98\\x92 ð\\x9f\\x94\\x9d love instagood photooftheday tut cut beauti follow follow fashion self hope children dont know u show griev famili home monopol pain need stop racism let terrorist kill sarcasm â\\x80¢ ð\\x9f\\x87of\\x9f\\x87¸ trumptrainâ\\x80¦ mcconnel obstruct goe way discov drama black station bangkok â\\x9c\\x88ï¸\\x8fâ\\x9c\\x88ï¸\\x8fâ\\x9c\\x88ï¸\\x8f thailandtrip day pocket intern air beauti world took better care â\\x98ï¸\\x8f win u vote axillari havana mediablackout statuesqu moneywin feelthebern not funni cavycorn hoodedcavi ff ross hoodedcavi lui hottweet like â\\x96¶ â\\x99¥venusexchangeâ\\x99¥ good afternoon sweet ð\\x9f\\x98\\x83 send letter â\\x99\\x8bï¸\\x8f record videoshoot maman ð\\x9f\\x98\\x82 actor singer recordingaist music sing fun dinosaur â\\x80\\x9cwe people\\x80\\x9d origin meant â\\x80\\x9cwe white landhold malesâ\\x80\\x9d â\\x80¦ inwards\\x80¦ man home ive love ð\\x9f\\x92\\x95 coupl coupl relationship\\x80¦ librari librari saw liber polit mitchel drama crack pipe father day youday eirishtimesechoeslucangazett enjoy music today free ape free music german polic not distinguish neo nasi scene anymor term terminolog nafrisâ\\x80¦ andysess attorneygener alabama tramp stay racewar let chao fear weapon old billingsg london biolog mesh finalist imeshmktg celebr stop tri isnt happen airingofthegriev allahsoil bernank fail wall street dump billion largest bank hard reconcil simon music geniu polit truth fuck media politician countri asham incap tell truth tri not shut mayb poleon help said ð\\x9f\\x98¯ peopl realli enjoy oncestop twist minuteniyang short na bitter goos shutdown coutur feed feel nice sweeter anti racism white murder black south africa whitegenocid southafrica damn cant friend highschool ð\\x9f\\x98\\x82 kind expect tramp america goodmorn penni ð\\x9f\\x98\\x8bð\\x9f\\x92\\x95 good night ð\\x9f\\x98\\x86ð\\x9f\\x92\\x97 godfirst happi smile beauti mood love goodnight sleep live\\x80¦ friday weekend enjoy famili friend oh ye rude nasti behavior brought main stream nevermypresid feel motiv friend goodfel ooh not long till famouslysingl stay th ð\\x9f\\x98\\x98 explain bad hello love ð\\x9f\\x98\\x83 glad â\\x99\\x8bï¸\\x8f thank emotionsthank posit hispan amp â\\x80¦ like stop listen boricua mimi\\x80¦ team lost st game rd bewar market faint messag keep journal healthi nice morn airsoftð\\x9f\\x98\\x91ð\\x9f\\x98\\x8eð\\x9f\\x94« excit airport gun team laugh tri fun pain rude play women model love u u time or\\x9f\\x93± ð\\x9f\\x98\\x99ð\\x9f\\x98\\x8eð\\x9f\\x91\\x84ð\\x9f\\x91 ð\\x9f\\x92¦ð\\x9f\\x92¦ð\\x9f\\x92¦ â\\x80¦you black amp feel like stop listen camp mimi\\x80¦ bluntli languag cologn polic announc racial profit main station sigh templ canalis salari condemn act vesta network pupil use school district alleg classroom incid cant wait phone sweet time phone ty play mill girl mysteri heal solo beg love lovethissong melodi broomfil hear gooooood success somebodi ask twitter thank ð\\x9f\\x98\\x8dð\\x9f\\x98\\x8dð\\x9f\\x98\\x8d ohio awesom success â\\x9d¤ï¸\\x8fu bar come loan releas sleepwalk septemb way aaahhhh model love u u time or\\x9f\\x93± ð\\x9f\\x98\\x99ð\\x9f\\x98\\x8eð\\x9f\\x91\\x84ð\\x9f\\x91 ð\\x9f\\x92¦ð\\x9f\\x92¦ð\\x9f\\x92¦ day good day aliv armada ramadankareem bestoftheday smile â\\x80¦ time grabyourwallet amp boycott give book deal toll banner twitter black black black facepalm wife clash funer terrifi husband order kill commun turn against tow sa mon ð\\x9f\\x98\\x8dâ\\x9d¤ â\\x98of\\x9f\\x98\\x98 ð\\x9f\\x98\\x82ð\\x9f\\x91\\x8c path help defeat path literaci adultedu dog sad human attempt make owner initi muddl quot cultureswaâ\\x80¦ excit papa fund festiv year kidsfestiv funkidsfestiv divers offic state thing killallwhitemen she ethnic minor womanâ\\x80¦ leav â¬\\x87 no longer debat wypipo slavery\\x80¦ love warm day saturday lingfieldrac wish amaz day anniversari mainstreetb doubl pa branch ð\\x9f\\x8d» cheer love make littl bit crazi love fun dont pedestrian walk singl file shop centr ego rep ego cycl mall pedestrian jeffsess attorneygener alabama tramp stay racewar let chao fear weapon im amaz number excel black athlet want play racism school racism state life goal dog bow gandhi india ador follow realli good father person train good human jaw hind sure go miss awesom new friend bball camp missingnewfriend human human power reinforc minut librari librari saw liber polit strang silent idiot statement not surpris twonitwittrumpsuppo perpetu â\\x9a¡ aamp chang titl ask documentari amid critic world look better eye julboeyewear juli maisonduski model love u u time or\\x9f\\x93± ð\\x9f\\x98\\x99ð\\x9f\\x98\\x8eð\\x9f\\x91\\x84ð\\x9f\\x91 ð\\x9f\\x92¦ð\\x9f\\x92¦ð\\x9f\\x92¦ listen woman goe church kill thousand fascia breast liar murder surpris perform trumpinaugur mormon amp polygamist root kin adulteri moneyovermor chomski israel apaheid wors south africa israel internationallaw occup bed years\\x9f\\x8e\\x88 happi itsmybihday mybihday picturoftheday pick\\x80¦ pathet attempt invok dead war hero defend tramp racism\\x80¦ woman racism charg exercis weight loss absolut disgrac make fuck angri sum make feel asham english agre true vers term result fast meaningless ð\\x9f¤\\x94 let tell stori videogam specif marvel super hero vs streetfight ð\\x9f\\x91user stop away amp ugli sank u pussygrabb tonight met die thank air condit thank posit love cat realli dont like destroy thing cat destroy love like normal allahsoil not muslin islam extremist emiratisâ\\x80¦ tolerancemovi nattaway ff ross nattaway midday princephilip like new offici parait millionair chair tramp say hope drama die mitchel goe male ape africa meltingpot new video show guy stand abus humili muslin guy\\x80¦ great week ms award promot germani sunnysideoflif famili look forward visit chickfila time cant download pp canada tramp new york cochair make racism remark mitchel drama p p foi trot agre true vers term result fast becoming\\x80¦ happyholiday tri not christmasev judg let rapid johnrkhoward walk rape special need bulk dint went record mud work n revers â\\x86\\x9d ouru revers sharpli monthli high handl blow silver gold fore peopl arent protest tramp republican wonthey tramp usher ampâ\\x80¦ root societi attitud black women hair read candid ganzeâ\\x80¦ homicid rose big citi year wall street journal dovey iniqu illegalgun correct cant pay attent communist sigh templ canalis salari condemn act friday ff breakroom panel talk pain tramp date gun dont know bad thing happen bad moment hate life notlol peopl arent protest tramp republican wonthey tramp usher ampâ\\x80¦ clean appar get friend finland today like waronwomen amp guncontrol need russia bad guy excus bad ideolog clot p imwithh axillari clinton took money islam countri remain silent treatment muslin women need â\\x9c\\x8b univers indoctrin children turn idiot amp snowflak amp come corset talk mention got cheap bay costum black amp feel like stop â\\x80¦ camp mimi\\x80¦ mr pari dinneri denial said way follow herbi didnt poli good n look good histori not kind enabl corrupt misogni mb\\x80¦ allahsoil peopl world afraid world prime react â\\x80¦ emirati â\\x80¦ real jeff session neverump swampmonst compass love poleon nintendo e men women hypebeast youthday thursdaythought gift germanyhetalia bull domin bull direct want wh ak friendli media advis effort support game ak shame pari gangster feminismiscanc feminismisterror feminismmuktbharat malevot ignor popefr call xenophob tramp catholicchurch support awesom black man get ask member disavow befriend blacklivesmatt laugh loud pasti cake tell rocket quit bc choic not support assist presid pure comedi weird babi best mood morning\\x9f\\x98\\x8d babi sister play love allahsoil there\\x80\\x99 no thing averag christian muslin jew â\\x80¦ â\\x80¦ ye nobl reason backfir suffer twitter crazi place know shit pobox death amp everybodi give sick occur like man opposit claim bangladeshi vote no evid peopl believ anyway\\x80¦ boycotttigerwood stop normal antisemit right good morn awesom peopl music love announc share super be\\x80¦ union form government municip issu statement condemn shoot orlandowhi havent heard allahsoil stage empir imperi coloni neocoloni â\\x80¦â\\x80¦ ticket book watch degre brown month ð\\x9f\\x98\\x81ð\\x9f\\x98\\x81 makingmemori height nowtim fli ð\\x9f\\x98 ð\\x9f\\x98\\x8dð\\x9f\\x92\\x90ð\\x9f\\x8e\\x89ð\\x9f\\x98\\x86 japan familytrip â\\x80¦ tough month person fall right place ð\\x9f\\x98\\x81 bless drunk ladi fall theater pubfrict amp indian friend tri help thrown houston milton real aungsansuukyi rohingya genocid persecut seen bursa myanmar rape humanright http\\x80¦ ive tri vigil tonight glccb doesnt bother updat versa father day come amp depress rear ugli head focu sweet husband day ici yesterday eh venu offer eye entertain rapecultur saw htm\\x80¦ requir job presid male stillwithh hillaryclinton neverumpâ\\x80¦ term work way happi bend justifi cat greatest thing make happi depress cat anxieti mentalhealth brush amp new deltaairlin debat wouldv went down\\x80¦ oh god day lad amp meet dad st time nervou emotionalwaitedmywholelifefohismomenttinkofmex ticket purchas roll march singl brotherhood day he home smile daughter face wake see daddi priceless thank stop look reason unhappi think reason instead traffick amp profit use word nigger sell music day final way delet old sweet use deletetweet radic cat upsid research ensur resolv wish remind fastforward time period exist exist tire reach right katiesikphoto proud present thesexismproject team feminist\\x80¦ thank inspir thank posit rout award night super oper surpris parent great success ð\\x9f\\x91\\x8d chill famili weekend familytrip chill allahsoil cultur like horizon\\x80\\x95alway view reach â\\x80¦ â\\x80¦ wait somebodi dont anybodi atright movement like mustfal father day of¬\\x95 princ charl offer danger robinson aint wrong tramp fascia hata patriotwatch nooltham lethal refuge eusol asylumseek â\\x80¦ not problem america today dumbism dumb equal opportun killer dream antiwhit brag inevit brown futur scream oppos your push whitegenocid sure sutherland isnt incid sutherland doubl breast vote feminismiscanc feminismisterror feminismmuktbharat malevot ignor isn attract asia women send pick organ woman say look pass a\\x80¦ finish work feel holiday holidayvib doubl gin summer sun\\x80¦ nice discuss use blue light link lighttherapi group interest feel free join dont know appli make face look better u mud u wear make daili sigh ð\\x9f\\x98 ð\\x9f\\x98\\x86ð\\x9f\\x98\\x8aâ\\x9c\\x8cð\\x9f\\x91\\x91 finish oitnbsuch wonder season unexpect greatwrit greatact love anxious await loop carl platino didnt mean publicli post racism comment ulm youngturk danc smile fresh princ air smith fresh princ air\\x80¦ htm\\x80¦ violin sososad oppos neglig hatr injustic climatecrim ecocid let tramp k\\x80¦ book endur convict fred korematsu amp quest justic humanright htm\\x80¦ sex worn video go cinema watch findingdori ð\\x9f\\x98\\x83ð\\x9f\\x98\\x8dð\\x9f\\x98\\x9c canon dinner pair instamoto bull domin bull direct want ð\\x9f\\x98\\x94 teach bitcoin trader review â\\x80\\x93 monthli roi possibl exactli thought ten poem ness quot lost\\x80¦ ignor pamelaramseytaylorprais certain beverlywhalingreinst job stateampfeder funded\\x80¦ hillsidebeachclub naturesea vacat peaceâ\\x80¦ joy posit affirm assur voic ring head life ripjulimuffn isnt time realiz weve hate exploit read america histori no u term outsid gave u right said indian usâ\\x80¦ true ð\\x9f\\x92\\x97ð\\x9f\\x92\\x99love boyfrienddaught appar thing dont hate asia parent instil massiv amount u go great day realest realtorgirl ny develop ð\\x9f\\x91¿ racismdeathwish emblem stadium capitalist readytopay fabric doll handmad stuf doll tild doll tildadol ragdol fabricdol green polk ð\\x9f\\x93\\x96ð\\x9f\\x93\\x96ð\\x9f\\x93\\x96 read list new year afrofutur anarchist capit coloni magicr ð\\x9f\\x93\\x96ð\\x9f\\x93\\x96ð\\x9f\\x93\\x96 john merri chose white christma favourit christma song no surpris thank cloud thank posit openli total against drama russia priceless goodbi america black presid moment bull domin bull direct want goodbi definit hope leav liveli like ð\\x9f\\x99\\x88 hata thursday feel good speaking\\x80¦ happi day altwaystoh healthi bewar snowbal effect black men theyr not women check outus honor greatest gener ddayus sweet armada happi smile fun instahappi happi happier feelinggoodâ\\x80¦ june\\x9c\\x88ï¸\\x8f madamgift madam perfect time sweet stamp littl advic boy girl sure way ð\\x9f\\x98\\x8f thankyou yourewelcomeâ\\x80¦ hold keep ð\\x9f\\x92\\x95ð\\x9f¦\\x84â\\x9c¨ union ultraorthodox jewish children worksheet say nonjew evil mania shake ass finepass blunt fatherday father world petya pig happi midday georg petya pig midday georg peppapighappybihdaygeorg time post wed\\x80¦ america isnt racism plethor reason not like drama your ignor fashion\\x80¦ okay cours traitor bulli notmypr notmypresidentâ\\x80¦ week away teacher turn share great idea classroom activist want stop not sure begin let câ\\x80¦ money stay know need chang profit economicapahi hatespeech servic poorâ\\x80¦ dont like polit that thing pathet ð\\x9f\\x91\\x8eð\\x9f\\x8fof\\x9f\\x91\\x8eð\\x9f\\x8f¾ buffalo school board move controversi alli remark trumpocalypseâ\\x80¦ semi final bendor owen wild win thereship father day good even ð\\x9f\\x90of\\x9f\\x90of\\x9f\\x90¼ smile love duti even likewis followfollow eve evening\\x80¦ record live cp swiftli sharpen sang dystopian tale â\\x80¦ im convinc round thought prayer congression leader fix problem time thank move thank posit amp sick fuck look like pedophil friend make choic person musician import librari librari saw liber polit hi paytoday snapchat sandi announc endang butterfli hatch gvzoo conserv jeffsess think wont notic react decad applic confirm sea shepherd supper racism anthraci seashepherd no cock good news job interview thursday im excit mean ill sta internship year librari librari saw liber polit come say hello team data amp analysi suppos nhsscot cant love support tramp rate half the\\x80¦ greet world discrimin excit thestoneros gig etihadstadium friday tour music thank resist fascia fascia suck refugeeswelcom â\\x9d¤ð\\x9f\\x98\\x8d fuck mansplain bullshit end hope messag against music industri today june bye ç\\x88±æ\\x88\\x91åregisteredof\\x9f\\x94ä¸\\x80åregistered\\x9aè¡\\x8c foonyewkulai å\\x8f¤æ\\x9d¥åregisteredof¸\\xad redeem today tire scot\\x80¦ ill gone differ state time tomorrow ð\\x9f\\x98± roadtrip not elect user lie hate misogyni inciner democraci unit state america rest world think youv prove dont right fire\\x80¦ retreat nuascannan ð¼ð°of\\x81ðºð¸of¶ñ\\x83of photo ðð¾ñ\\x80ð¾ð½ðµð¶ natur beetl travel white peopl exist rest immigr whiteprivileg librari librari saw liber polit notic mitya got best actress critic award mallei mallei iii ran rou ð\\x9f\\x98\\x8dð\\x9f\\x98\\x98 fad got award ð\\x9f\\x8e\\x88 happy\\x80¦ sigh turn light feather moment powerofforgivenessð\\x9f\\x92\\x83ð\\x9f\\x92\\x83ð\\x9f\\x98\\x83ð\\x9f\\x91\\x8d girl fuck bondag leather girl dean wade nbavot hate boycottdelta islamophobia im not hate muzzl peopl arent protest tramp republican wonthey tramp usher ampâ\\x80¦ cannot wait come love ð\\x9f\\x92\\x96 pay drink love london saturdaynight fancydress circu librari librari saw liber polit rememb coupl marri year said easi in\\x80¦ shopnow highwaypay midday topic topic shake moment latin voic itit citizen period great contradict infascistdemocraci antisemit kill rememb born hate love chang world gem need feed narr maxim santa white newswith summer project youthpreprofession world premier th august waterford get tuck crazi european sex way facebookâ\\x80\\x99 repoingsystem fail communitystandard user blacklivesmatt import make import sta happi innerpeac strength best feel understand say anythingquot quot inspir jalandhar say not point honest polic offic session africanamerican fear not jeffsess imagemakeov make\\x80¦ white girl sex black guy girl video free onlin black amp feel like stop â\\x80¦ camp mimi\\x80¦ armada mussulman twitter friendsbless monthn happi ð\\x9f\\x98\\x81ð\\x9f\\x92\\x9að\\x9f\\x8c»â\\x98regist real antisemit progress minion not freedom low\\x80¦ video situat boycottdelta expos truth fraud adamsaleh felt prankster instead explain posit disagre block climatechang leadership renew librari librari saw liber polit stop chelski fan equal divers play moon ate dark mess melancholi melancholymus today\\x92 attitud women got common norman rate psychic feminist hollaback father day ð\\x9f\\x8e\\x89ð\\x9f\\x8e\\x89 hatredgreedamp destroy livesbut mad leadership amp bad govern polici destroy newer polit nd week group school medal iamthecompetit proud shaft anna bring moral drama dividerofan platino rare breed shot street left pass blood gutter dont forget use word bind men ignor excus that\\x80¦ summer formentera comounniã±o bomb friday formentera beach appet scar women need throw speckl salad food food â\\x80¦ hammond attempt whitegenocid lie tinfoilhat fakenew altrightcard cast castingcal model cut toller toddlerlif photooftheday filter famili http\\x80¦ refus veto resolut israel union illegalsettl allahsoil not conflat islam extremist terrorist emirati in\\x80¦ russia syria destroy maid world come massacr go way life come n wake hazi stem n hatr drama like\\x80¦ dr franc dress well racism defin whitesupremaci drfranciscresswels end self love mess religion christian meccal taharrush taharrushgamea rapeuge new shower way instal week look forward fit teamcontour end mention tramp feminist photograph shockfactor follow gentlemen kick airlin simpli speak arab colinpowel condoleezzaric secretaryofst word not use jumpedtheshark feminismiscanc feminismisterror feminismmuktbharat malevot ignor judi amp homophob freewil mild freewil mild freewil mild freewil mild freewil ladi banner kentucki mall penni kentucki pass year love pass unistud photographystud proud im offend im mailbox im proud mailboxprid liber dont ball hashtag say wesel away lump toni dipshit make ask anybodi god oh thank god went far fish tomorrow cart wait time year sigh templ canalis salari condemn act'"
      ]
     },
     "execution_count": 38,
     "metadata": {},
     "output_type": "execute_result"
    }
   ],
   "source": [
    "train_corpus"
   ]
  },
  {
   "cell_type": "code",
   "execution_count": 39,
   "id": "09fe513b",
   "metadata": {},
   "outputs": [
    {
     "data": {
      "text/plain": [
       "['welcom', 'im', 'gr', 'call', 'michigan']"
      ]
     },
     "execution_count": 39,
     "metadata": {},
     "output_type": "execute_result"
    }
   ],
   "source": [
    "tokens = word_tokenize(train_corpus)\n",
    "tokens[:5]"
   ]
  },
  {
   "cell_type": "code",
   "execution_count": 40,
   "id": "37c7e69d",
   "metadata": {},
   "outputs": [],
   "source": [
    "tokens_filtered = [word for word in tokens if word.isalnum()]"
   ]
  },
  {
   "cell_type": "code",
   "execution_count": 41,
   "id": "2c0cae0d",
   "metadata": {},
   "outputs": [
    {
     "data": {
      "text/plain": [
       "1999"
      ]
     },
     "execution_count": 41,
     "metadata": {},
     "output_type": "execute_result"
    }
   ],
   "source": [
    "dist = FreqDist(tokens_filtered)\n",
    "tokens_filtered_top = [pair[0] for pair in dist.most_common(max_words-1)] # -1 for padding\n",
    "len(tokens_filtered_top)"
   ]
  },
  {
   "cell_type": "code",
   "execution_count": 42,
   "id": "a90a9c8a",
   "metadata": {},
   "outputs": [
    {
     "data": {
      "text/plain": [
       "['amp',\n",
       " 'love',\n",
       " 'day',\n",
       " 'not',\n",
       " 'like',\n",
       " 'tramp',\n",
       " 'thank',\n",
       " 'racism',\n",
       " 'white',\n",
       " 'happi']"
      ]
     },
     "execution_count": 42,
     "metadata": {},
     "output_type": "execute_result"
    }
   ],
   "source": [
    "tokens_filtered_top[:10]"
   ]
  },
  {
   "cell_type": "code",
   "execution_count": 43,
   "id": "a75489a9",
   "metadata": {},
   "outputs": [
    {
     "data": {
      "text/plain": [
       "{'amp': 1,\n",
       " 'love': 2,\n",
       " 'day': 3,\n",
       " 'not': 4,\n",
       " 'like': 5,\n",
       " 'tramp': 6,\n",
       " 'thank': 7,\n",
       " 'racism': 8,\n",
       " 'white': 9,\n",
       " 'happi': 10,\n",
       " 'black': 11,\n",
       " 'librari': 12,\n",
       " 'peopl': 13,\n",
       " 'new': 14,\n",
       " 'no': 15,\n",
       " 'time': 16,\n",
       " 'dont': 17,\n",
       " 'make': 18,\n",
       " 'say': 19,\n",
       " 'good': 20,\n",
       " 'feel': 21,\n",
       " 'look': 22,\n",
       " 'polit': 23,\n",
       " 'u': 24,\n",
       " 'girl': 25,\n",
       " 'want': 26,\n",
       " 'stop': 27,\n",
       " 'im': 28,\n",
       " 'liber': 29,\n",
       " 'right': 30,\n",
       " 'women': 31,\n",
       " 'hate': 32,\n",
       " 'allahsoil': 33,\n",
       " 'today': 34,\n",
       " 'life': 35,\n",
       " 'cant': 36,\n",
       " 'drama': 37,\n",
       " 'year': 38,\n",
       " 'posit': 39,\n",
       " 'saw': 40,\n",
       " 'come': 41,\n",
       " 'work': 42,\n",
       " 'think': 43,\n",
       " 'great': 44,\n",
       " 'live': 45,\n",
       " 'need': 46,\n",
       " 'father': 47,\n",
       " 'listen': 48,\n",
       " 'got': 49,\n",
       " 'wait': 50,\n",
       " 'america': 51,\n",
       " 'world': 52,\n",
       " 'midday': 53,\n",
       " 'way': 54,\n",
       " 'famili': 55,\n",
       " 'against': 56,\n",
       " 'home': 57,\n",
       " 'go': 58,\n",
       " 'sex': 59,\n",
       " 'your': 60,\n",
       " 'race': 61,\n",
       " 'thing': 62,\n",
       " 'video': 63,\n",
       " 'ignor': 64,\n",
       " 'comment': 65,\n",
       " 'man': 66,\n",
       " 'hope': 67,\n",
       " 'book': 68,\n",
       " 'use': 69,\n",
       " 'fuck': 70,\n",
       " 'know': 71,\n",
       " 'follow': 72,\n",
       " 'let': 73,\n",
       " 'best': 74,\n",
       " 'get': 75,\n",
       " 'week': 76,\n",
       " 'friend': 77,\n",
       " 'men': 78,\n",
       " 'thought': 79,\n",
       " 'act': 80,\n",
       " 'woman': 81,\n",
       " 'tri': 82,\n",
       " 'healthi': 83,\n",
       " 'fun': 84,\n",
       " 'realli': 85,\n",
       " 'help': 86,\n",
       " 'face': 87,\n",
       " 'word': 88,\n",
       " 'news': 89,\n",
       " 'smile': 90,\n",
       " 'beauti': 91,\n",
       " 'wish': 92,\n",
       " 'pay': 93,\n",
       " 'sweet': 94,\n",
       " 'call': 95,\n",
       " 'sad': 96,\n",
       " 'watch': 97,\n",
       " 'american': 98,\n",
       " 'cut': 99,\n",
       " 'weekend': 100,\n",
       " 'bull': 101,\n",
       " 'game': 102,\n",
       " 'end': 103,\n",
       " 'free': 104,\n",
       " 'school': 105,\n",
       " 'read': 106,\n",
       " 'camp': 107,\n",
       " 'blow': 108,\n",
       " 'believ': 109,\n",
       " 'ask': 110,\n",
       " 'mean': 111,\n",
       " 'latest': 112,\n",
       " 'friday': 113,\n",
       " 'real': 114,\n",
       " 'summer': 115,\n",
       " 'play': 116,\n",
       " 'that': 117,\n",
       " 'music': 118,\n",
       " 'polic': 119,\n",
       " 'ulm': 120,\n",
       " 'night': 121,\n",
       " 'laugh': 122,\n",
       " 'left': 123,\n",
       " 'media': 124,\n",
       " 'exist': 125,\n",
       " 'morn': 126,\n",
       " 'tomorrow': 127,\n",
       " 'breast': 128,\n",
       " 'kill': 129,\n",
       " 'worn': 130,\n",
       " 'attack': 131,\n",
       " 'final': 132,\n",
       " 'pp': 133,\n",
       " 'busi': 134,\n",
       " 'guy': 135,\n",
       " 'muslin': 136,\n",
       " 'long': 137,\n",
       " 'ive': 138,\n",
       " 'happen': 139,\n",
       " 'person': 140,\n",
       " 'supper': 141,\n",
       " 'orlando': 142,\n",
       " 'win': 143,\n",
       " 'presid': 144,\n",
       " 'sigh': 145,\n",
       " 'chang': 146,\n",
       " 'peac': 147,\n",
       " 'vote': 148,\n",
       " 'said': 149,\n",
       " 'sunday': 150,\n",
       " 'talk': 151,\n",
       " 'tell': 152,\n",
       " 'condemn': 153,\n",
       " 'quot': 154,\n",
       " 'self': 155,\n",
       " 'silver': 156,\n",
       " 'wont': 157,\n",
       " 'boy': 158,\n",
       " 'gun': 159,\n",
       " 'hispan': 160,\n",
       " 'doesnt': 161,\n",
       " 'lie': 162,\n",
       " 'affirm': 163,\n",
       " 'hatr': 164,\n",
       " 'miss': 165,\n",
       " 'kiss': 166,\n",
       " 'babi': 167,\n",
       " 'kind': 168,\n",
       " 'tonight': 169,\n",
       " 'gold': 170,\n",
       " 'nice': 171,\n",
       " 'proud': 172,\n",
       " 'bc': 173,\n",
       " 'model': 174,\n",
       " 'bless': 175,\n",
       " 'feminist': 176,\n",
       " 'equal': 177,\n",
       " 'templ': 178,\n",
       " 'salari': 179,\n",
       " 'isnt': 180,\n",
       " 'god': 181,\n",
       " 'ye': 182,\n",
       " 'histori': 183,\n",
       " 'stand': 184,\n",
       " 'check': 185,\n",
       " 'lost': 186,\n",
       " 'misogynist': 187,\n",
       " 'true': 188,\n",
       " 'amaz': 189,\n",
       " 'canalis': 190,\n",
       " 'team': 191,\n",
       " 'excit': 192,\n",
       " 'surpris': 193,\n",
       " 'fan': 194,\n",
       " 'platino': 195,\n",
       " 'resist': 196,\n",
       " 'open': 197,\n",
       " 'die': 198,\n",
       " 'dad': 199,\n",
       " 'pick': 200,\n",
       " 'countri': 201,\n",
       " 'stay': 202,\n",
       " 'n': 203,\n",
       " 'meet': 204,\n",
       " 'fascia': 205,\n",
       " 'magna': 206,\n",
       " 'rude': 207,\n",
       " 'better': 208,\n",
       " 'fore': 209,\n",
       " 'littl': 210,\n",
       " 'leadership': 211,\n",
       " 'hey': 212,\n",
       " 'away': 213,\n",
       " 'human': 214,\n",
       " 'bad': 215,\n",
       " 'dog': 216,\n",
       " 'malevot': 217,\n",
       " 'daili': 218,\n",
       " 'speak': 219,\n",
       " 'truth': 220,\n",
       " 'joke': 221,\n",
       " 'sea': 222,\n",
       " 'pa': 223,\n",
       " 'leav': 224,\n",
       " 'r': 225,\n",
       " 'celebr': 226,\n",
       " 'run': 227,\n",
       " 'place': 228,\n",
       " 'state': 229,\n",
       " 'big': 230,\n",
       " 'didnt': 231,\n",
       " 'turn': 232,\n",
       " 'job': 233,\n",
       " 'lot': 234,\n",
       " 'jew': 235,\n",
       " 'head': 236,\n",
       " 'th': 237,\n",
       " 'christian': 238,\n",
       " 'post': 239,\n",
       " 'food': 240,\n",
       " 'holiday': 241,\n",
       " 'depress': 242,\n",
       " 'terrorist': 243,\n",
       " 'war': 244,\n",
       " 'citi': 245,\n",
       " 'israel': 246,\n",
       " 'awesom': 247,\n",
       " 'rest': 248,\n",
       " 'fear': 249,\n",
       " 'matter': 250,\n",
       " 'reason': 251,\n",
       " 'seashepherd': 252,\n",
       " 'power': 253,\n",
       " 'old': 254,\n",
       " 'heal': 255,\n",
       " 'sta': 256,\n",
       " 'offic': 257,\n",
       " 'vs': 258,\n",
       " 'misogyni': 259,\n",
       " 'import': 260,\n",
       " 'x': 261,\n",
       " 'fathersday': 262,\n",
       " 'travel': 263,\n",
       " 'educ': 264,\n",
       " 'record': 265,\n",
       " 'offici': 266,\n",
       " 'christma': 267,\n",
       " 'stori': 268,\n",
       " 'republican': 269,\n",
       " 'show': 270,\n",
       " 'bigotri': 271,\n",
       " 'blacklivesmatt': 272,\n",
       " 'saturday': 273,\n",
       " 'feminismiscanc': 274,\n",
       " 'feminismisterror': 275,\n",
       " 'feminismmuktbharat': 276,\n",
       " 'money': 277,\n",
       " 'red': 278,\n",
       " 'motiv': 279,\n",
       " 'hard': 280,\n",
       " 'enjoy': 281,\n",
       " 'cat': 282,\n",
       " 'shepherd': 283,\n",
       " 'anthraci': 284,\n",
       " 'loud': 285,\n",
       " 'walk': 286,\n",
       " 'he': 287,\n",
       " 'factori': 288,\n",
       " 'arent': 289,\n",
       " 'protest': 290,\n",
       " 'point': 291,\n",
       " 'pass': 292,\n",
       " 'present': 293,\n",
       " 'altwaystoh': 294,\n",
       " 'season': 295,\n",
       " 'buffalo': 296,\n",
       " 'join': 297,\n",
       " 'hair': 298,\n",
       " 'children': 299,\n",
       " 'strong': 300,\n",
       " 'problem': 301,\n",
       " 'murder': 302,\n",
       " 'sure': 303,\n",
       " 'caus': 304,\n",
       " 'differ': 305,\n",
       " 'came': 306,\n",
       " 'share': 307,\n",
       " 'twitter': 308,\n",
       " 'moment': 309,\n",
       " 'wonder': 310,\n",
       " 'st': 311,\n",
       " 'far': 312,\n",
       " 'send': 313,\n",
       " 'hear': 314,\n",
       " 'angri': 315,\n",
       " 'mad': 316,\n",
       " 'remark': 317,\n",
       " 'young': 318,\n",
       " 'photo': 319,\n",
       " 'beach': 320,\n",
       " 'organ': 321,\n",
       " 'damn': 322,\n",
       " 'buy': 323,\n",
       " 'death': 324,\n",
       " 'wrong': 325,\n",
       " 'bodi': 326,\n",
       " 'shit': 327,\n",
       " 'carl': 328,\n",
       " 'w': 329,\n",
       " 'funni': 330,\n",
       " 'build': 331,\n",
       " 'shot': 332,\n",
       " 'alright': 333,\n",
       " 'care': 334,\n",
       " 'direct': 335,\n",
       " 'mon': 336,\n",
       " 'definit': 337,\n",
       " 'social': 338,\n",
       " 'allow': 339,\n",
       " 'slam': 340,\n",
       " 'climb': 341,\n",
       " 'soon': 342,\n",
       " 'ass': 343,\n",
       " 'axillari': 344,\n",
       " 'realiz': 345,\n",
       " 'idea': 346,\n",
       " 'nake': 347,\n",
       " 'accept': 348,\n",
       " 'class': 349,\n",
       " 'ill': 350,\n",
       " 'bear': 351,\n",
       " 'teach': 352,\n",
       " 'trot': 353,\n",
       " 'agre': 354,\n",
       " 'org': 355,\n",
       " 'light': 356,\n",
       " 'antisemit': 357,\n",
       " 'york': 358,\n",
       " 'europ': 359,\n",
       " 'sign': 360,\n",
       " 'rip': 361,\n",
       " 'readi': 362,\n",
       " 'hous': 363,\n",
       " 'hour': 364,\n",
       " 'homophob': 365,\n",
       " 'dinner': 366,\n",
       " 'alli': 367,\n",
       " 'target': 368,\n",
       " 'spot': 369,\n",
       " 'complet': 370,\n",
       " 'japan': 371,\n",
       " 'notmypresid': 372,\n",
       " 'ladi': 373,\n",
       " 'gift': 374,\n",
       " 'stupid': 375,\n",
       " 'pu': 376,\n",
       " 'eye': 377,\n",
       " 'list': 378,\n",
       " 'nation': 379,\n",
       " 'promot': 380,\n",
       " 'gay': 381,\n",
       " 'move': 382,\n",
       " 'inspir': 383,\n",
       " 'asia': 384,\n",
       " 'mind': 385,\n",
       " 'dead': 386,\n",
       " 'crazi': 387,\n",
       " 'instagood': 388,\n",
       " 'age': 389,\n",
       " 'immigr': 390,\n",
       " 'cow': 391,\n",
       " 'donna': 392,\n",
       " 'shop': 393,\n",
       " 'close': 394,\n",
       " 'support': 395,\n",
       " 'pig': 396,\n",
       " 'anim': 397,\n",
       " 'goe': 398,\n",
       " 'messag': 399,\n",
       " 'lose': 400,\n",
       " 'oil': 401,\n",
       " 'hell': 402,\n",
       " 'action': 403,\n",
       " 'write': 404,\n",
       " 'domin': 405,\n",
       " 'select': 406,\n",
       " 'wed': 407,\n",
       " 'hand': 408,\n",
       " 'b': 409,\n",
       " 'hot': 410,\n",
       " 'nasi': 411,\n",
       " 'african': 412,\n",
       " 'realiti': 413,\n",
       " 'brother': 414,\n",
       " 'expect': 415,\n",
       " 'month': 416,\n",
       " 'rape': 417,\n",
       " 'discrimin': 418,\n",
       " 'fail': 419,\n",
       " 'case': 420,\n",
       " 'judg': 421,\n",
       " 'sick': 422,\n",
       " 'victim': 423,\n",
       " 'pictur': 424,\n",
       " 'color': 425,\n",
       " 'profit': 426,\n",
       " 'claim': 427,\n",
       " 'treat': 428,\n",
       " 'emirati': 429,\n",
       " 'issu': 430,\n",
       " 'reach': 431,\n",
       " 'tuck': 432,\n",
       " 'notic': 433,\n",
       " 'polici': 434,\n",
       " 'disgust': 435,\n",
       " 'mild': 436,\n",
       " 'reject': 437,\n",
       " 'e': 438,\n",
       " 'tempt': 439,\n",
       " 'choic': 440,\n",
       " 'ticket': 441,\n",
       " 'what': 442,\n",
       " 'oh': 443,\n",
       " 'southafrica': 444,\n",
       " 'natur': 445,\n",
       " 'ff': 446,\n",
       " 'relax': 447,\n",
       " 'religion': 448,\n",
       " 'understand': 449,\n",
       " 'coupl': 450,\n",
       " 'australia': 451,\n",
       " 'xenophobia': 452,\n",
       " 'voic': 453,\n",
       " 'pretti': 454,\n",
       " 'usher': 455,\n",
       " 'ny': 456,\n",
       " 'mitchel': 457,\n",
       " 'pot': 458,\n",
       " 'sun': 459,\n",
       " 'fire': 460,\n",
       " 'till': 461,\n",
       " 'carlpaladino': 462,\n",
       " 'flag': 463,\n",
       " 'elect': 464,\n",
       " 'train': 465,\n",
       " 'suppos': 466,\n",
       " 'dear': 467,\n",
       " 'tut': 468,\n",
       " 'super': 469,\n",
       " 'goal': 470,\n",
       " 'group': 471,\n",
       " 'monday': 472,\n",
       " 'idiot': 473,\n",
       " 'question': 474,\n",
       " 'arriv': 475,\n",
       " 'cours': 476,\n",
       " 'learn': 477,\n",
       " 'network': 478,\n",
       " 'reflect': 479,\n",
       " 'male': 480,\n",
       " 'brown': 481,\n",
       " 'fashion': 482,\n",
       " 'here': 483,\n",
       " 'putinschoic': 484,\n",
       " 'cap': 485,\n",
       " 'extremist': 486,\n",
       " 'mayb': 487,\n",
       " 'destroy': 488,\n",
       " 'term': 489,\n",
       " 'wall': 490,\n",
       " 'commun': 491,\n",
       " 'lead': 492,\n",
       " 'ran': 493,\n",
       " 'block': 494,\n",
       " 'neuro': 495,\n",
       " 'law': 496,\n",
       " 'theresist': 497,\n",
       " 'rememb': 498,\n",
       " 'star': 499,\n",
       " 'drink': 500,\n",
       " 'keep': 501,\n",
       " 'govern': 502,\n",
       " 'justic': 503,\n",
       " 'evil': 504,\n",
       " 'newer': 505,\n",
       " 'forget': 506,\n",
       " 'begin': 507,\n",
       " 'cool': 508,\n",
       " 'mass': 509,\n",
       " 'serv': 510,\n",
       " 'photooftheday': 511,\n",
       " 'hussi': 512,\n",
       " 'land': 513,\n",
       " 'wake': 514,\n",
       " 'success': 515,\n",
       " 'fact': 516,\n",
       " 'flower': 517,\n",
       " 'fit': 518,\n",
       " 'boricua': 519,\n",
       " 'islamophobia': 520,\n",
       " 'special': 521,\n",
       " 'sale': 522,\n",
       " 'dream': 523,\n",
       " 'forward': 524,\n",
       " 'health': 525,\n",
       " 'market': 526,\n",
       " 'abus': 527,\n",
       " 'son': 528,\n",
       " 'song': 529,\n",
       " 'societi': 530,\n",
       " 'dark': 531,\n",
       " 'polar': 532,\n",
       " 'sum': 533,\n",
       " 'bit': 534,\n",
       " 'leftright': 535,\n",
       " 'polaris': 536,\n",
       " 'flight': 537,\n",
       " 'perform': 538,\n",
       " 'member': 539,\n",
       " 'yeah': 540,\n",
       " 'wonthey': 541,\n",
       " 'suck': 542,\n",
       " 'million': 543,\n",
       " 'announc': 544,\n",
       " 'answer': 545,\n",
       " 'p': 546,\n",
       " 'unit': 547,\n",
       " 'pari': 548,\n",
       " 'went': 549,\n",
       " 'minut': 550,\n",
       " 'danger': 551,\n",
       " 'progress': 552,\n",
       " 'bring': 553,\n",
       " 'base': 554,\n",
       " 'inward': 555,\n",
       " 'disappoint': 556,\n",
       " 'id': 557,\n",
       " 'fall': 558,\n",
       " 'da': 559,\n",
       " 'set': 560,\n",
       " 'critic': 561,\n",
       " 'seri': 562,\n",
       " 'finish': 563,\n",
       " 'confirm': 564,\n",
       " 'na': 565,\n",
       " 'project': 566,\n",
       " 'ago': 567,\n",
       " 'dumb': 568,\n",
       " 'moon': 569,\n",
       " 'seen': 570,\n",
       " 'total': 571,\n",
       " 'stuff': 572,\n",
       " 'anymor': 573,\n",
       " 'actual': 574,\n",
       " 'board': 575,\n",
       " 'save': 576,\n",
       " 'step': 577,\n",
       " 'spread': 578,\n",
       " 'resign': 579,\n",
       " 'effect': 580,\n",
       " 'gone': 581,\n",
       " 'denial': 582,\n",
       " 'fool': 583,\n",
       " 'anxieti': 584,\n",
       " 'respons': 585,\n",
       " 'campaign': 586,\n",
       " 'midst': 587,\n",
       " 'break': 588,\n",
       " 'note': 589,\n",
       " 'canada': 590,\n",
       " 'church': 591,\n",
       " 'husband': 592,\n",
       " 'welcom': 593,\n",
       " 'fight': 594,\n",
       " 'felt': 595,\n",
       " 'offer': 596,\n",
       " 'cochair': 597,\n",
       " 'arrest': 598,\n",
       " 'russia': 599,\n",
       " 'kid': 600,\n",
       " 'water': 601,\n",
       " 'aisl': 602,\n",
       " 'guess': 603,\n",
       " 'small': 604,\n",
       " 'past': 605,\n",
       " 'rate': 606,\n",
       " 'blame': 607,\n",
       " 'weve': 608,\n",
       " 'eat': 609,\n",
       " 'cheer': 610,\n",
       " 'worst': 611,\n",
       " 'traitor': 612,\n",
       " 'remind': 613,\n",
       " 'ad': 614,\n",
       " 'gener': 615,\n",
       " 'anna': 616,\n",
       " 'shoot': 617,\n",
       " 'danc': 618,\n",
       " 'atright': 619,\n",
       " 'instead': 620,\n",
       " 'daddi': 621,\n",
       " 'colour': 622,\n",
       " 'arab': 623,\n",
       " 'second': 624,\n",
       " 'cri': 625,\n",
       " 'fli': 626,\n",
       " 'mood': 627,\n",
       " 'joy': 628,\n",
       " 'low': 629,\n",
       " 'longer': 630,\n",
       " 'forc': 631,\n",
       " 'corrupt': 632,\n",
       " 'india': 633,\n",
       " 'democrat': 634,\n",
       " 'texa': 635,\n",
       " 'lifestyl': 636,\n",
       " 'servic': 637,\n",
       " 'cold': 638,\n",
       " 'shut': 639,\n",
       " 'plan': 640,\n",
       " 'islam': 641,\n",
       " 'industri': 642,\n",
       " 'sorri': 643,\n",
       " 'session': 644,\n",
       " 'treason': 645,\n",
       " 'utf': 646,\n",
       " 'freedom': 647,\n",
       " 'june': 648,\n",
       " 'forev': 649,\n",
       " 'print': 650,\n",
       " 'cultur': 651,\n",
       " 'student': 652,\n",
       " 'nail': 653,\n",
       " 'main': 654,\n",
       " 'dress': 655,\n",
       " 'suicid': 656,\n",
       " 'wife': 657,\n",
       " 'mt': 658,\n",
       " 'date': 659,\n",
       " 'theyr': 660,\n",
       " 'sens': 661,\n",
       " 'boycott': 662,\n",
       " 'take': 663,\n",
       " 'scar': 664,\n",
       " 'voter': 665,\n",
       " 'remain': 666,\n",
       " 'prove': 667,\n",
       " 'interest': 668,\n",
       " 'gorilla': 669,\n",
       " 'bird': 670,\n",
       " 'truli': 671,\n",
       " 'hold': 672,\n",
       " 'stereotyp': 673,\n",
       " 'univers': 674,\n",
       " 'public': 675,\n",
       " 'origin': 676,\n",
       " 'fo': 677,\n",
       " 'discuss': 678,\n",
       " 'anti': 679,\n",
       " 'late': 680,\n",
       " 'nigger': 681,\n",
       " 'whitepeopl': 682,\n",
       " 'ugli': 683,\n",
       " 'stimul': 684,\n",
       " 'wear': 685,\n",
       " 'impress': 686,\n",
       " 'releas': 687,\n",
       " 'violenc': 688,\n",
       " 'stoprac': 689,\n",
       " 'tear': 690,\n",
       " 'politician': 691,\n",
       " 'hit': 692,\n",
       " 'store': 693,\n",
       " 'order': 694,\n",
       " 'liar': 695,\n",
       " 'knew': 696,\n",
       " 'hollywood': 697,\n",
       " 'launch': 698,\n",
       " 'reveal': 699,\n",
       " 'link': 700,\n",
       " 'despit': 701,\n",
       " 'serious': 702,\n",
       " 'agenda': 703,\n",
       " 'facebook': 704,\n",
       " 'f': 705,\n",
       " 'armada': 706,\n",
       " 'line': 707,\n",
       " 'ice': 708,\n",
       " 'kick': 709,\n",
       " 'remov': 710,\n",
       " 'met': 711,\n",
       " 'custom': 712,\n",
       " 'heard': 713,\n",
       " 'talent': 714,\n",
       " 'defend': 715,\n",
       " 'enemi': 716,\n",
       " 'diseas': 717,\n",
       " 'delet': 718,\n",
       " 'k': 719,\n",
       " 'speech': 720,\n",
       " 'appar': 721,\n",
       " 'union': 722,\n",
       " 'quit': 723,\n",
       " 'london': 724,\n",
       " 'dare': 725,\n",
       " 'south': 726,\n",
       " 'continu': 727,\n",
       " 'coloni': 728,\n",
       " 'mother': 729,\n",
       " 'everyday': 730,\n",
       " 'tour': 731,\n",
       " 'donaldtrump': 732,\n",
       " 'see': 733,\n",
       " 'mimi': 734,\n",
       " 'practic': 735,\n",
       " 'visit': 736,\n",
       " 'gender': 737,\n",
       " 'sir': 738,\n",
       " 'instagram': 739,\n",
       " 'design': 740,\n",
       " 'king': 741,\n",
       " 'product': 742,\n",
       " 'began': 743,\n",
       " 'singl': 744,\n",
       " 'charg': 745,\n",
       " 'bed': 746,\n",
       " 'door': 747,\n",
       " 'she': 748,\n",
       " 'statement': 749,\n",
       " 'toll': 750,\n",
       " 'sunshin': 751,\n",
       " 'africa': 752,\n",
       " 'deep': 753,\n",
       " 'prevent': 754,\n",
       " 'thrown': 755,\n",
       " 'high': 756,\n",
       " 'latin': 757,\n",
       " 'congress': 758,\n",
       " 'deplor': 759,\n",
       " 'leader': 760,\n",
       " 'possibl': 761,\n",
       " 'vacat': 762,\n",
       " 'california': 763,\n",
       " 'ball': 764,\n",
       " 'em': 765,\n",
       " 'glad': 766,\n",
       " 'major': 767,\n",
       " 'minor': 768,\n",
       " 'trip': 769,\n",
       " 'type': 770,\n",
       " 'test': 771,\n",
       " 'pop': 772,\n",
       " 'rich': 773,\n",
       " 'joe': 774,\n",
       " 'earli': 775,\n",
       " 'chain': 776,\n",
       " 'combat': 777,\n",
       " 'cloth': 778,\n",
       " 'footbal': 779,\n",
       " 'illeg': 780,\n",
       " 'huge': 781,\n",
       " 'nationalist': 782,\n",
       " 'clean': 783,\n",
       " 'mamma': 784,\n",
       " 'hang': 785,\n",
       " 'deal': 786,\n",
       " 'transform': 787,\n",
       " 'half': 788,\n",
       " 'near': 789,\n",
       " 'site': 790,\n",
       " 'relationship': 791,\n",
       " 'revolut': 792,\n",
       " 'explain': 793,\n",
       " 'daughter': 794,\n",
       " 'unleash': 795,\n",
       " 'appreci': 796,\n",
       " 'scienc': 797,\n",
       " 'decad': 798,\n",
       " 'parent': 799,\n",
       " 'memori': 800,\n",
       " 'wast': 801,\n",
       " 'excel': 802,\n",
       " 'mr': 803,\n",
       " 'give': 804,\n",
       " 'count': 805,\n",
       " 'given': 806,\n",
       " 'tire': 807,\n",
       " 'xxx': 808,\n",
       " 'gap': 809,\n",
       " 'donald': 810,\n",
       " 'chanc': 811,\n",
       " 'hero': 812,\n",
       " 'choos': 813,\n",
       " 'propaganda': 814,\n",
       " 'adult': 815,\n",
       " 'respect': 816,\n",
       " 'normal': 817,\n",
       " 'penni': 818,\n",
       " 'expos': 819,\n",
       " 'commit': 820,\n",
       " 'clinton': 821,\n",
       " 'nasti': 822,\n",
       " 'monster': 823,\n",
       " 'indian': 824,\n",
       " 'movi': 825,\n",
       " 'fought': 826,\n",
       " 'goodbi': 827,\n",
       " 'page': 828,\n",
       " 'fat': 829,\n",
       " 'who': 830,\n",
       " 'eusol': 831,\n",
       " 'clot': 832,\n",
       " 'event': 833,\n",
       " 'pathet': 834,\n",
       " 'fresh': 835,\n",
       " 'racial': 836,\n",
       " 'lighttherapi': 837,\n",
       " 'beat': 838,\n",
       " 'sang': 839,\n",
       " 'aim': 840,\n",
       " 'colleg': 841,\n",
       " 'prayer': 842,\n",
       " 'debat': 843,\n",
       " 'cab': 844,\n",
       " 'phone': 845,\n",
       " 'child': 846,\n",
       " 'latent': 847,\n",
       " 'root': 848,\n",
       " 'award': 849,\n",
       " 'unbeliev': 850,\n",
       " 'neverump': 851,\n",
       " 'folk': 852,\n",
       " 'actor': 853,\n",
       " 'michelleobama': 854,\n",
       " 'horribl': 855,\n",
       " 'hood': 856,\n",
       " 'sonya': 857,\n",
       " 'absolut': 858,\n",
       " 'tragedi': 859,\n",
       " 'cleveland': 860,\n",
       " 'compani': 861,\n",
       " 'mexican': 862,\n",
       " 'slaveri': 863,\n",
       " 'agent': 864,\n",
       " 'opposit': 865,\n",
       " 'lack': 866,\n",
       " 'pack': 867,\n",
       " 'non': 868,\n",
       " 'hide': 869,\n",
       " 'yesterday': 870,\n",
       " 'research': 871,\n",
       " 'attract': 872,\n",
       " 'view': 873,\n",
       " 'space': 874,\n",
       " 'palestinian': 875,\n",
       " 'number': 876,\n",
       " 'drive': 877,\n",
       " 'revers': 878,\n",
       " 'blue': 879,\n",
       " 'phillysuppophilli': 880,\n",
       " 'excus': 881,\n",
       " 'green': 882,\n",
       " 'surviv': 883,\n",
       " 'perfect': 884,\n",
       " 'meant': 885,\n",
       " 'updat': 886,\n",
       " 'shake': 887,\n",
       " 'name': 888,\n",
       " 'arc': 889,\n",
       " 'result': 890,\n",
       " 'plant': 891,\n",
       " 'newswith': 892,\n",
       " 'conserv': 893,\n",
       " 'sleep': 894,\n",
       " 'luck': 895,\n",
       " 'control': 896,\n",
       " 'can': 897,\n",
       " 'poetri': 898,\n",
       " 'fast': 899,\n",
       " 'hearken': 900,\n",
       " 'podcast': 901,\n",
       " 'club': 902,\n",
       " 'cream': 903,\n",
       " 'path': 904,\n",
       " 'teacher': 905,\n",
       " 'cover': 906,\n",
       " 'marijuana': 907,\n",
       " 'afternoon': 908,\n",
       " 'oppos': 909,\n",
       " 'assault': 910,\n",
       " 'hardwar': 911,\n",
       " 'mention': 912,\n",
       " 'decis': 913,\n",
       " 'asshol': 914,\n",
       " 'fair': 915,\n",
       " 'outrag': 916,\n",
       " 'jewish': 917,\n",
       " 'c': 918,\n",
       " 'lip': 919,\n",
       " 'dovey': 920,\n",
       " 'cantwait': 921,\n",
       " 'disgrac': 922,\n",
       " 'harass': 923,\n",
       " 'orlandoshoot': 924,\n",
       " 'inaugur': 925,\n",
       " 'content': 926,\n",
       " 'inequ': 927,\n",
       " 'fraud': 928,\n",
       " 'yall': 929,\n",
       " 'develop': 930,\n",
       " 'smoke': 931,\n",
       " 'garden': 932,\n",
       " 'indigen': 933,\n",
       " 'hata': 934,\n",
       " 'thursday': 935,\n",
       " 'staff': 936,\n",
       " 'asham': 937,\n",
       " 'shame': 938,\n",
       " 'reaction': 939,\n",
       " 'told': 940,\n",
       " 'ok': 941,\n",
       " 'aint': 942,\n",
       " 'teamsuperjunior': 943,\n",
       " 'sister': 944,\n",
       " 'whiteprivileg': 945,\n",
       " 'cologn': 946,\n",
       " 'engag': 947,\n",
       " 'swiftli': 948,\n",
       " 'sharpen': 949,\n",
       " 'insult': 950,\n",
       " 'hello': 951,\n",
       " 'jacket': 952,\n",
       " 'pain': 953,\n",
       " 'penza': 954,\n",
       " 'china': 955,\n",
       " 'account': 956,\n",
       " 'slut': 957,\n",
       " 'spark': 958,\n",
       " 'pm': 959,\n",
       " 'station': 960,\n",
       " 'insan': 961,\n",
       " 'hotel': 962,\n",
       " 'environment': 963,\n",
       " 'air': 964,\n",
       " 'crack': 965,\n",
       " 'jeffsess': 966,\n",
       " 'msnbc': 967,\n",
       " 'journal': 968,\n",
       " 'lump': 969,\n",
       " 'whitesupremaci': 970,\n",
       " 'touch': 971,\n",
       " 'finger': 972,\n",
       " 'vine': 973,\n",
       " 'poor': 974,\n",
       " 'foi': 975,\n",
       " 'safe': 976,\n",
       " 'vital': 977,\n",
       " 'fox': 978,\n",
       " 'lid': 979,\n",
       " 'england': 980,\n",
       " 'evid': 981,\n",
       " 'press': 982,\n",
       " 'weird': 983,\n",
       " 'advanc': 984,\n",
       " 'citizen': 985,\n",
       " 'mark': 986,\n",
       " 'sit': 987,\n",
       " 'rain': 988,\n",
       " 'www': 989,\n",
       " 'opinion': 990,\n",
       " 'consid': 991,\n",
       " 'defin': 992,\n",
       " 'donkey': 993,\n",
       " 'zionazi': 994,\n",
       " 'septic': 995,\n",
       " 'return': 996,\n",
       " 'xenophob': 997,\n",
       " 'humanright': 998,\n",
       " 'protect': 999,\n",
       " 'oitnb': 1000,\n",
       " ...}"
      ]
     },
     "execution_count": 43,
     "metadata": {},
     "output_type": "execute_result"
    }
   ],
   "source": [
    "vocabulary = {v: k for k, v in dict(enumerate(tokens_filtered_top, 1)).items()}\n",
    "vocabulary"
   ]
  },
  {
   "cell_type": "markdown",
   "id": "28d0e99d",
   "metadata": {},
   "source": [
    "#### Translation of texts in the max_len sequence"
   ]
  },
  {
   "cell_type": "code",
   "execution_count": 44,
   "id": "be373b77",
   "metadata": {},
   "outputs": [],
   "source": [
    "def text_to_sequence(text, maxlen):\n",
    "    result = []\n",
    "    tokens = word_tokenize(text)\n",
    "    tokens_filtered = [word for word in tokens if word.isalnum()]\n",
    "    for word in  tokens_filtered:\n",
    "        if word in vocabulary:\n",
    "            result.append(vocabulary[word])\n",
    "    padding = [0] * (maxlen - len(result))\n",
    "    return result[-maxlen:] + padding"
   ]
  },
  {
   "cell_type": "code",
   "execution_count": 45,
   "id": "1e694d04",
   "metadata": {},
   "outputs": [],
   "source": [
    "df_train_downsamp, df_val_downsamp = train_test_split(df_train_downsamp, test_size=0.25, random_state=42)"
   ]
  },
  {
   "cell_type": "code",
   "execution_count": 46,
   "id": "8a824fce",
   "metadata": {},
   "outputs": [
    {
     "name": "stdout",
     "output_type": "stream",
     "text": [
      "Wall time: 547 ms\n"
     ]
    }
   ],
   "source": [
    "%%time\n",
    "x_train = np.asarray([text_to_sequence(text, max_len) for text in df_train_downsamp['tweet']])\n",
    "x_val = np.asarray([text_to_sequence(text, max_len) for text in df_val_downsamp['tweet']])"
   ]
  },
  {
   "cell_type": "code",
   "execution_count": 47,
   "id": "9c495d88",
   "metadata": {},
   "outputs": [
    {
     "data": {
      "text/plain": [
       "'offic woman worn blue tube'"
      ]
     },
     "execution_count": 47,
     "metadata": {},
     "output_type": "execute_result"
    }
   ],
   "source": [
    "df_train_downsamp['tweet'].iloc[0]"
   ]
  },
  {
   "cell_type": "code",
   "execution_count": 48,
   "id": "98c2d0b3",
   "metadata": {},
   "outputs": [
    {
     "data": {
      "text/plain": [
       "array([ 257,   81,  130,  879, 1808,    0,    0,    0,    0,    0,    0,\n",
       "          0,    0,    0,    0,    0,    0,    0])"
      ]
     },
     "execution_count": 48,
     "metadata": {},
     "output_type": "execute_result"
    }
   ],
   "source": [
    "x_train[0]"
   ]
  },
  {
   "cell_type": "code",
   "execution_count": 49,
   "id": "4270df91",
   "metadata": {},
   "outputs": [
    {
     "name": "stdout",
     "output_type": "stream",
     "text": [
      "16\n"
     ]
    }
   ],
   "source": [
    "temp = 0\n",
    "for i in range(len(x_train)):\n",
    "    tmp = np.where(x_train[i] == 0)[0].min()\n",
    "    if tmp > temp:\n",
    "        temp = tmp\n",
    "print(temp)"
   ]
  },
  {
   "cell_type": "markdown",
   "id": "79efc75d",
   "metadata": {},
   "source": [
    "#### Neural network initialization"
   ]
  },
  {
   "cell_type": "code",
   "execution_count": 50,
   "id": "226a00c9",
   "metadata": {},
   "outputs": [],
   "source": [
    "class Net(nn.Module):\n",
    "    def __init__(self, vocab_size=2000, embedding_dim=128, out_channel=128, num_classes=1):\n",
    "        super().__init__()\n",
    "        self.embedding = nn.Embedding(vocab_size, embedding_dim)\n",
    "        self.conv_1 = nn.Conv1d(embedding_dim, out_channel, kernel_size=2)\n",
    "        self.conv_2 = nn.Conv1d(embedding_dim, out_channel, kernel_size=3)\n",
    "        self.pool = nn.MaxPool1d(2)\n",
    "        self.relu = nn.ReLU()\n",
    "        self.linear_1 = nn.Linear(out_channel, out_channel // 2)\n",
    "        self.linear_2 = nn.Linear(out_channel // 2, num_classes)\n",
    "        \n",
    "    def forward(self, x):        \n",
    "        output = self.embedding(x) # Batch size, Lenght sequence, Embedding\n",
    "        #                            Batch size, Embedding, Lenght sequence         \n",
    "        output = output.permute(0, 2, 1)\n",
    "        output = self.conv_1(output)\n",
    "        output = self.relu(output)\n",
    "        output = self.pool(output)\n",
    "        \n",
    "        output = self.conv_2(output)\n",
    "        output = self.relu(output)\n",
    "        output = self.pool(output)\n",
    "        output = torch.max(output, axis=2).values\n",
    "        output = self.linear_1(output)\n",
    "        output = self.relu(output)\n",
    "        output = self.linear_2(output)\n",
    "        output = F.sigmoid(output)\n",
    "        \n",
    "        return output"
   ]
  },
  {
   "cell_type": "markdown",
   "id": "751f1c9d",
   "metadata": {},
   "source": [
    "#### Wrapper over data"
   ]
  },
  {
   "cell_type": "code",
   "execution_count": 51,
   "id": "b03973e1",
   "metadata": {},
   "outputs": [],
   "source": [
    "class DataWrapper(Dataset):\n",
    "    def __init__(self, data, target=None, transform=None):\n",
    "        self.data = torch.from_numpy(data).long()\n",
    "        if target is not None:\n",
    "            self.target = torch.from_numpy(target).long()\n",
    "        self.transform = transform\n",
    "        \n",
    "    def __getitem__(self, index):\n",
    "        x = self.data[index]\n",
    "        y = self.target[index] if self.target is not None else None\n",
    "        \n",
    "        if self.transform:\n",
    "            x = self.transform(x)\n",
    "            \n",
    "        return x, y\n",
    "    \n",
    "    def __len__(self):\n",
    "        return len(self.data)"
   ]
  },
  {
   "cell_type": "code",
   "execution_count": 52,
   "id": "e18eaa61",
   "metadata": {},
   "outputs": [],
   "source": [
    "train_dataset = DataWrapper(x_train, df_train_downsamp['label'].values)\n",
    "train_loader = DataLoader(train_dataset, batch_size=batch_size, shuffle=True)\n",
    "\n",
    "val_dataset = DataWrapper(x_val, df_val_downsamp['label'].values)\n",
    "val_loader = DataLoader(val_dataset, batch_size=8, shuffle=True)"
   ]
  },
  {
   "cell_type": "code",
   "execution_count": 53,
   "id": "8f474aa3",
   "metadata": {},
   "outputs": [
    {
     "name": "stdout",
     "output_type": "stream",
     "text": [
      "torch.Size([512, 18])\n",
      "torch.Size([512])\n",
      "tensor(1)\n"
     ]
    }
   ],
   "source": [
    "for x, l in train_loader:\n",
    "    print(x.shape)\n",
    "    print(l.shape)\n",
    "    print(l[0])\n",
    "    break"
   ]
  },
  {
   "cell_type": "markdown",
   "id": "71d6ceb7",
   "metadata": {},
   "source": [
    "#### Training model"
   ]
  },
  {
   "cell_type": "code",
   "execution_count": 54,
   "id": "03eb594f",
   "metadata": {},
   "outputs": [
    {
     "name": "stdout",
     "output_type": "stream",
     "text": [
      "Net(\n",
      "  (embedding): Embedding(2000, 128)\n",
      "  (conv_1): Conv1d(128, 128, kernel_size=(2,), stride=(1,))\n",
      "  (conv_2): Conv1d(128, 128, kernel_size=(3,), stride=(1,))\n",
      "  (pool): MaxPool1d(kernel_size=2, stride=2, padding=0, dilation=1, ceil_mode=False)\n",
      "  (relu): ReLU()\n",
      "  (linear_1): Linear(in_features=128, out_features=64, bias=True)\n",
      "  (linear_2): Linear(in_features=64, out_features=1, bias=True)\n",
      ")\n",
      "Parameters: 346497\n"
     ]
    }
   ],
   "source": [
    "model = Net(vocab_size=max_words)\n",
    "print(model)\n",
    "print('Parameters:', sum([param.nelement() for param in model.parameters()]))"
   ]
  },
  {
   "cell_type": "code",
   "execution_count": 55,
   "id": "430ffaf6",
   "metadata": {},
   "outputs": [],
   "source": [
    "optimizer = torch.optim.Adam(model.parameters(), lr=0.01)\n",
    "criterion = nn.BCELoss()"
   ]
  },
  {
   "cell_type": "code",
   "execution_count": 56,
   "id": "2456293d",
   "metadata": {},
   "outputs": [
    {
     "name": "stderr",
     "output_type": "stream",
     "text": [
      "D:\\ProgramData\\Anaconda3\\lib\\site-packages\\torch\\nn\\functional.py:1805: UserWarning: nn.functional.sigmoid is deprecated. Use torch.sigmoid instead.\n",
      "  warnings.warn(\"nn.functional.sigmoid is deprecated. Use torch.sigmoid instead.\")\n"
     ]
    },
    {
     "name": "stdout",
     "output_type": "stream",
     "text": [
      "Epoch [1/10]. Step [7/7]. Loss: 0.657 Acc: 0.555 . Val loss: 0.613. Val acc: 0.5555555820465088\n",
      "Epoch [2/10]. Step [7/7]. Loss: 0.454 Acc: 0.732 . Val loss: 1.098. Val acc: 0.7644444704055786\n",
      "Epoch [3/10]. Step [7/7]. Loss: 0.283 Acc: 0.865 . Val loss: 0.189. Val acc: 0.788444459438324\n",
      "Epoch [4/10]. Step [7/7]. Loss: 0.206 Acc: 0.938 . Val loss: 0.313. Val acc: 0.8053333163261414\n",
      "Epoch [5/10]. Step [7/7]. Loss: 0.044 Acc: 0.965 . Val loss: 0.509. Val acc: 0.8266666531562805\n",
      "Epoch [6/10]. Step [7/7]. Loss: 0.036 Acc: 0.984 . Val loss: 21.670. Val acc: 0.8142222166061401\n",
      "Epoch [7/10]. Step [7/7]. Loss: 0.022 Acc: 0.988 . Val loss: 20.763. Val acc: 0.8159999847412109\n",
      "Epoch [8/10]. Step [7/7]. Loss: 0.019 Acc: 0.993 . Val loss: 0.051. Val acc: 0.8177778124809265\n",
      "Epoch [9/10]. Step [7/7]. Loss: 0.017 Acc: 0.992 . Val loss: 0.540. Val acc: 0.8053333163261414\n",
      "Epoch [10/10]. Step [7/7]. Loss: 0.004 Acc: 0.994 . Val loss: 0.020. Val acc: 0.8204444646835327\n",
      "Training is finished!\n"
     ]
    }
   ],
   "source": [
    "model = model.to(device)\n",
    "model.train()\n",
    "th = 0.5\n",
    "\n",
    "train_loss_history = []\n",
    "train_acc_history =[]\n",
    "val_loss_history = []\n",
    "val_acc_history = []\n",
    "\n",
    "for  epoch in range(epochs):\n",
    "    running_items, running_right = 0.0, 0.0\n",
    "    for i, data in enumerate(train_loader, 0):\n",
    "        inputs, labels = data[0].to(device), data[1].to(device)\n",
    "        \n",
    "        # zero the gradient\n",
    "        optimizer.zero_grad()\n",
    "        outputs = model(inputs)\n",
    "        \n",
    "        loss = criterion(outputs, labels.float().view(-1, 1))\n",
    "        loss.backward()\n",
    "        optimizer.step()\n",
    "        \n",
    "        # error counting on training\n",
    "        loss = loss.item()\n",
    "        running_items +=len(labels)\n",
    "        # metric counting on training\n",
    "        pred_labels = torch.squeeze((outputs > th).int())\n",
    "        running_right += (labels == pred_labels).sum()\n",
    "    \n",
    "    # output statistics on the learning process\n",
    "    model.eval()\n",
    "    \n",
    "    print(f'Epoch [{epoch + 1}/{epochs}]. ' \\\n",
    "          f'Step [{i + 1}/{len(train_loader)}]. ' \\\n",
    "          f'Loss: {loss:.3f} ' \\\n",
    "          f'Acc: {running_right / running_items:.3f} ', end='. ')\n",
    "    train_acc_history.append(running_right / running_items)\n",
    "    running_right, running_items = 0.0, 0.0\n",
    "    train_loss_history.append(loss)\n",
    "    \n",
    "    # output statistics on val data\n",
    "    val_running_loss, val_running_total, val_running_right = 0.0, 0.0, 0.0\n",
    "    for j, data in enumerate(val_loader):\n",
    "        val_labels = data[1].to(device)\n",
    "        val_outputs = model(data[0].to(device))\n",
    "        \n",
    "        # error counting on the val\n",
    "        val_loss = criterion(val_outputs, val_labels.float().view(-1, 1))\n",
    "        # metric counting on the val\n",
    "        val_running_total += len(data[1])\n",
    "        pred_val_labels = torch.squeeze((val_outputs > th).int())\n",
    "        val_running_right += (val_labels == pred_val_labels).sum()\n",
    "    \n",
    "    val_loss_history.append(val_loss.item())\n",
    "    print(f'Val loss: {val_loss:.3f}. Val acc: {val_running_right/val_running_total}')\n",
    "    val_acc_history.append(val_running_right / val_running_total)\n",
    "    \n",
    "    model.train()\n",
    "\n",
    "print('Training is finished!')"
   ]
  },
  {
   "cell_type": "code",
   "execution_count": 57,
   "id": "9c5186b5",
   "metadata": {},
   "outputs": [
    {
     "data": {
      "image/png": "[encoded data removed]",
      "text/plain": [
       "<Figure size 640x480 with 1 Axes>"
      ]
     },
     "metadata": {},
     "output_type": "display_data"
    }
   ],
   "source": [
    "plt.title('Loss history')\n",
    "plt.grid(True)\n",
    "plt.ylabel('Loss')\n",
    "plt.xlabel('Epoch')\n",
    "plt.plot(train_loss_history, label='train')\n",
    "plt.plot(val_loss_history, label='val')\n",
    "plt.legend();"
   ]
  },
  {
   "cell_type": "code",
   "execution_count": 58,
   "id": "a91826af",
   "metadata": {},
   "outputs": [
    {
     "data": {
      "image/png": "[encoded data removed]",
      "text/plain": [
       "<Figure size 640x480 with 1 Axes>"
      ]
     },
     "metadata": {},
     "output_type": "display_data"
    }
   ],
   "source": [
    "plt.title('Accuracy history')\n",
    "plt.grid(True)\n",
    "plt.ylabel('Accuracy')\n",
    "plt.xlabel('Epoch')\n",
    "plt.plot(torch.stack(train_acc_history).cpu(), label='train')\n",
    "plt.plot(torch.stack(val_acc_history).cpu(), label='val')\n",
    "plt.legend();"
   ]
  },
  {
   "cell_type": "markdown",
   "id": "983a9198",
   "metadata": {},
   "source": [
    "#### Applying the trained model to test data"
   ]
  },
  {
   "cell_type": "code",
   "execution_count": 64,
   "id": "383c2b75",
   "metadata": {},
   "outputs": [],
   "source": [
    "torch.save(model, DATA_ROOT + 'model_tweet.pt')"
   ]
  },
  {
   "cell_type": "code",
   "execution_count": 65,
   "id": "373ba485",
   "metadata": {},
   "outputs": [
    {
     "data": {
      "text/plain": [
       "15795    brain showroom signboard new look comingsoon k...\n",
       "860      ripantonyelchin die car accid cant believ like...\n",
       "5390                                 wholesom posit affirm\n",
       "11964                        repres hawaii ir symposium ir\n",
       "11284    happen reced airlin weight bow happi your dead...\n",
       "                               ...                        \n",
       "16774    saturday peopl hope your not hunger listen new...\n",
       "12045                                             tomorrow\n",
       "4430                                good worldpeac spiritu\n",
       "8820                   drink coffe june th å´ starbucksâ¦\n",
       "4232                             fathersday reliabl servic\n",
       "Name: tweet, Length: 1019, dtype: object"
      ]
     },
     "execution_count": 65,
     "metadata": {},
     "output_type": "execute_result"
    }
   ],
   "source": [
    "df_test_downsamp['tweet']"
   ]
  },
  {
   "cell_type": "code",
   "execution_count": 66,
   "id": "60f48bd8",
   "metadata": {},
   "outputs": [],
   "source": [
    "x_test = np.asarray([text_to_sequence(text, max_len) for text in df_test_downsamp['tweet']])"
   ]
  },
  {
   "cell_type": "code",
   "execution_count": 67,
   "id": "5f2a6ee2",
   "metadata": {},
   "outputs": [
    {
     "data": {
      "text/plain": [
       "'brain showroom signboard new look comingsoon kitchen'"
      ]
     },
     "execution_count": 67,
     "metadata": {},
     "output_type": "execute_result"
    }
   ],
   "source": [
    "df_test_downsamp['tweet'].iloc[0]"
   ]
  },
  {
   "cell_type": "code",
   "execution_count": 68,
   "id": "18c08a4a",
   "metadata": {},
   "outputs": [
    {
     "data": {
      "text/plain": [
       "array([1073,   14,   22,    0,    0,    0,    0,    0,    0,    0,    0,\n",
       "          0,    0,    0,    0,    0,    0,    0])"
      ]
     },
     "execution_count": 68,
     "metadata": {},
     "output_type": "execute_result"
    }
   ],
   "source": [
    "x_test[0]"
   ]
  },
  {
   "cell_type": "code",
   "execution_count": 77,
   "id": "785aab74",
   "metadata": {},
   "outputs": [],
   "source": [
    "x_test = torch.from_numpy(x_test).to(device)"
   ]
  },
  {
   "cell_type": "code",
   "execution_count": 78,
   "id": "5a079e12",
   "metadata": {},
   "outputs": [
    {
     "name": "stderr",
     "output_type": "stream",
     "text": [
      "D:\\ProgramData\\Anaconda3\\lib\\site-packages\\torch\\nn\\functional.py:1805: UserWarning: nn.functional.sigmoid is deprecated. Use torch.sigmoid instead.\n",
      "  warnings.warn(\"nn.functional.sigmoid is deprecated. Use torch.sigmoid instead.\")\n"
     ]
    }
   ],
   "source": [
    "test_outputs = model(x_test)"
   ]
  },
  {
   "cell_type": "code",
   "execution_count": 86,
   "id": "4201a535",
   "metadata": {},
   "outputs": [],
   "source": [
    "pred_test_labels = torch.squeeze((test_outputs > th).int()).detach().cpu().numpy()"
   ]
  },
  {
   "cell_type": "code",
   "execution_count": 87,
   "id": "87365322",
   "metadata": {},
   "outputs": [
    {
     "data": {
      "text/plain": [
       "array([1, 0, 0, ..., 0, 0, 0])"
      ]
     },
     "execution_count": 87,
     "metadata": {},
     "output_type": "execute_result"
    }
   ],
   "source": [
    "pred_test_labels"
   ]
  },
  {
   "cell_type": "code",
   "execution_count": 88,
   "id": "32ec6e6f",
   "metadata": {},
   "outputs": [],
   "source": [
    "df_test_downsamp['label'] = pred_test_labels"
   ]
  },
  {
   "cell_type": "code",
   "execution_count": 89,
   "id": "52c1991f",
   "metadata": {},
   "outputs": [
    {
     "data": {
      "text/html": [
       "<div>\n",
       "<style scoped>\n",
       "    .dataframe tbody tr th:only-of-type {\n",
       "        vertical-align: middle;\n",
       "    }\n",
       "\n",
       "    .dataframe tbody tr th {\n",
       "        vertical-align: top;\n",
       "    }\n",
       "\n",
       "    .dataframe thead th {\n",
       "        text-align: right;\n",
       "    }\n",
       "</style>\n",
       "<table border=\"1\" class=\"dataframe\">\n",
       "  <thead>\n",
       "    <tr style=\"text-align: right;\">\n",
       "      <th></th>\n",
       "      <th>id</th>\n",
       "      <th>tweet</th>\n",
       "      <th>label</th>\n",
       "    </tr>\n",
       "  </thead>\n",
       "  <tbody>\n",
       "    <tr>\n",
       "      <th>15795</th>\n",
       "      <td>47758</td>\n",
       "      <td>brain showroom signboard new look comingsoon k...</td>\n",
       "      <td>1</td>\n",
       "    </tr>\n",
       "    <tr>\n",
       "      <th>860</th>\n",
       "      <td>32823</td>\n",
       "      <td>ripantonyelchin die car accid cant believ like...</td>\n",
       "      <td>0</td>\n",
       "    </tr>\n",
       "    <tr>\n",
       "      <th>5390</th>\n",
       "      <td>37353</td>\n",
       "      <td>wholesom posit affirm</td>\n",
       "      <td>0</td>\n",
       "    </tr>\n",
       "    <tr>\n",
       "      <th>11964</th>\n",
       "      <td>43927</td>\n",
       "      <td>repres hawaii ir symposium ir</td>\n",
       "      <td>0</td>\n",
       "    </tr>\n",
       "    <tr>\n",
       "      <th>11284</th>\n",
       "      <td>43247</td>\n",
       "      <td>happen reced airlin weight bow happi your dead...</td>\n",
       "      <td>0</td>\n",
       "    </tr>\n",
       "    <tr>\n",
       "      <th>...</th>\n",
       "      <td>...</td>\n",
       "      <td>...</td>\n",
       "      <td>...</td>\n",
       "    </tr>\n",
       "    <tr>\n",
       "      <th>16774</th>\n",
       "      <td>48737</td>\n",
       "      <td>saturday peopl hope your not hunger listen new...</td>\n",
       "      <td>1</td>\n",
       "    </tr>\n",
       "    <tr>\n",
       "      <th>12045</th>\n",
       "      <td>44008</td>\n",
       "      <td>tomorrow</td>\n",
       "      <td>0</td>\n",
       "    </tr>\n",
       "    <tr>\n",
       "      <th>4430</th>\n",
       "      <td>36393</td>\n",
       "      <td>good worldpeac spiritu</td>\n",
       "      <td>0</td>\n",
       "    </tr>\n",
       "    <tr>\n",
       "      <th>8820</th>\n",
       "      <td>40783</td>\n",
       "      <td>drink coffe june th å´ starbucksâ¦</td>\n",
       "      <td>0</td>\n",
       "    </tr>\n",
       "    <tr>\n",
       "      <th>4232</th>\n",
       "      <td>36195</td>\n",
       "      <td>fathersday reliabl servic</td>\n",
       "      <td>0</td>\n",
       "    </tr>\n",
       "  </tbody>\n",
       "</table>\n",
       "<p>1019 rows × 3 columns</p>\n",
       "</div>"
      ],
      "text/plain": [
       "          id                                              tweet  label\n",
       "15795  47758  brain showroom signboard new look comingsoon k...      1\n",
       "860    32823  ripantonyelchin die car accid cant believ like...      0\n",
       "5390   37353                              wholesom posit affirm      0\n",
       "11964  43927                      repres hawaii ir symposium ir      0\n",
       "11284  43247  happen reced airlin weight bow happi your dead...      0\n",
       "...      ...                                                ...    ...\n",
       "16774  48737  saturday peopl hope your not hunger listen new...      1\n",
       "12045  44008                                           tomorrow      0\n",
       "4430   36393                             good worldpeac spiritu      0\n",
       "8820   40783                drink coffe june th å´ starbucksâ¦      0\n",
       "4232   36195                          fathersday reliabl servic      0\n",
       "\n",
       "[1019 rows x 3 columns]"
      ]
     },
     "execution_count": 89,
     "metadata": {},
     "output_type": "execute_result"
    }
   ],
   "source": [
    "df_test_downsamp"
   ]
  },
  {
   "cell_type": "code",
   "execution_count": 91,
   "id": "160e6be8",
   "metadata": {},
   "outputs": [
    {
     "data": {
      "text/plain": [
       "array([<AxesSubplot:ylabel='label'>], dtype=object)"
      ]
     },
     "execution_count": 91,
     "metadata": {},
     "output_type": "execute_result"
    },
    {
     "data": {
      "image/png": "[encoded data removed]",
      "text/plain": [
       "<Figure size 1100x600 with 1 Axes>"
      ]
     },
     "metadata": {},
     "output_type": "display_data"
    }
   ],
   "source": [
    "df_test_downsamp['label'].value_counts().plot.pie(subplots=True,  autopct='%.2f', startangle=37, figsize=(11, 6))"
   ]
  },
  {
   "cell_type": "code",
   "execution_count": 93,
   "id": "f565881e",
   "metadata": {},
   "outputs": [],
   "source": [
    "df_test_downsamp.to_csv(DATA_ROOT + 'result_tweet.csv')"
   ]
  }
 ],
 "metadata": {
  "kernelspec": {
   "display_name": "Python 3 (ipykernel)",
   "language": "python",
   "name": "python3"
  },
  "language_info": {
   "codemirror_mode": {
    "name": "ipython",
    "version": 3
   },
   "file_extension": ".py",
   "mimetype": "text/x-python",
   "name": "python",
   "nbconvert_exporter": "python",
   "pygments_lexer": "ipython3",
   "version": "3.9.13"
  }
 },
 "nbformat": 4,
 "nbformat_minor": 5
}
