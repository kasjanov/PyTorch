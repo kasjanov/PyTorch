{
 "cells": [
  {
   "cell_type": "code",
   "execution_count": 31,
   "id": "aa1b6f87",
   "metadata": {},
   "outputs": [],
   "source": [
    "import matplotlib.pyplot as plt\n",
    "import numpy as np\n",
    "import os\n",
    "import pandas as pd\n",
    "import torch\n",
    "import torch.nn as nn\n",
    "import torch.nn.functional as F\n",
    "\n",
    "from collections import Counter\n",
    "from torch.optim import Adam\n",
    "from tqdm import tqdm\n",
    "from transformers import pipeline, AutoTokenizer, AutoModelForSequenceClassification"
   ]
  },
  {
   "cell_type": "code",
   "execution_count": 2,
   "id": "688ac1db",
   "metadata": {},
   "outputs": [
    {
     "data": {
      "text/plain": [
       "device(type='cuda', index=0)"
      ]
     },
     "execution_count": 2,
     "metadata": {},
     "output_type": "execute_result"
    }
   ],
   "source": [
    "device = torch.device('cuda:0' if torch.cuda.is_available() else 'cpu')\n",
    "device"
   ]
  },
  {
   "cell_type": "markdown",
   "id": "e5c1eb81",
   "metadata": {},
   "source": [
    "#### This is the cointegrated/rubert-tiny model fine-tuned for classification of toxicity and inappropriateness for short informal Russian texts, such as comments in social networks. \n",
    "Initially the model has 5 classes, I will change this model to divide it into two classes "
   ]
  },
  {
   "cell_type": "code",
   "execution_count": 3,
   "id": "065b64ef",
   "metadata": {},
   "outputs": [
    {
     "name": "stderr",
     "output_type": "stream",
     "text": [
      "Xformers is not installed correctly. If you want to use memory_efficient_attention to accelerate training use the following command to install Xformers\n",
      "pip install xformers.\n"
     ]
    }
   ],
   "source": [
    "sentiment = pipeline('text-classification', model='cointegrated/rubert-tiny-toxicity')"
   ]
  },
  {
   "cell_type": "code",
   "execution_count": 4,
   "id": "a7452450",
   "metadata": {},
   "outputs": [
    {
     "data": {
      "text/plain": [
       "[{'label': 'non-toxic', 'score': 0.9993882179260254}]"
      ]
     },
     "execution_count": 4,
     "metadata": {},
     "output_type": "execute_result"
    }
   ],
   "source": [
    "sentiment('Этот ресторан отличный')"
   ]
  },
  {
   "cell_type": "markdown",
   "id": "cff2081c",
   "metadata": {},
   "source": [
    "#### Data load"
   ]
  },
  {
   "cell_type": "code",
   "execution_count": 5,
   "id": "1fc4201d",
   "metadata": {},
   "outputs": [],
   "source": [
    "DATA_ROOT = 'D:/Data/Study/twitter_sentiment_analysis_via_RNN_GRU_LSTM/'"
   ]
  },
  {
   "cell_type": "code",
   "execution_count": 6,
   "id": "af40e4f1",
   "metadata": {},
   "outputs": [],
   "source": [
    "df_train = pd.read_csv(DATA_ROOT + 'train.csv')\n",
    "df_val = pd.read_csv(DATA_ROOT + 'val.csv')\n",
    "df_test = pd.read_csv(DATA_ROOT + 'test.csv')"
   ]
  },
  {
   "cell_type": "code",
   "execution_count": 7,
   "id": "9a784d10",
   "metadata": {},
   "outputs": [
    {
     "data": {
      "text/plain": [
       "(181467, 3)"
      ]
     },
     "execution_count": 7,
     "metadata": {},
     "output_type": "execute_result"
    }
   ],
   "source": [
    "df_train.shape"
   ]
  },
  {
   "cell_type": "code",
   "execution_count": 8,
   "id": "35f251f6",
   "metadata": {},
   "outputs": [
    {
     "data": {
      "text/html": [
       "<div>\n",
       "<style scoped>\n",
       "    .dataframe tbody tr th:only-of-type {\n",
       "        vertical-align: middle;\n",
       "    }\n",
       "\n",
       "    .dataframe tbody tr th {\n",
       "        vertical-align: top;\n",
       "    }\n",
       "\n",
       "    .dataframe thead th {\n",
       "        text-align: right;\n",
       "    }\n",
       "</style>\n",
       "<table border=\"1\" class=\"dataframe\">\n",
       "  <thead>\n",
       "    <tr style=\"text-align: right;\">\n",
       "      <th></th>\n",
       "      <th>id</th>\n",
       "      <th>text</th>\n",
       "      <th>class</th>\n",
       "    </tr>\n",
       "  </thead>\n",
       "  <tbody>\n",
       "    <tr>\n",
       "      <th>0</th>\n",
       "      <td>0</td>\n",
       "      <td>@alisachachka не уезжаааааааай. :(❤ я тоже не ...</td>\n",
       "      <td>0</td>\n",
       "    </tr>\n",
       "    <tr>\n",
       "      <th>1</th>\n",
       "      <td>1</td>\n",
       "      <td>RT @GalyginVadim: Ребята и девчата!\\nВсе в кин...</td>\n",
       "      <td>1</td>\n",
       "    </tr>\n",
       "    <tr>\n",
       "      <th>2</th>\n",
       "      <td>2</td>\n",
       "      <td>RT @ARTEM_KLYUSHIN: Кто ненавидит пробки ретви...</td>\n",
       "      <td>0</td>\n",
       "    </tr>\n",
       "    <tr>\n",
       "      <th>3</th>\n",
       "      <td>3</td>\n",
       "      <td>RT @epupybobv: Хочется котлету по-киевски. Зап...</td>\n",
       "      <td>1</td>\n",
       "    </tr>\n",
       "    <tr>\n",
       "      <th>4</th>\n",
       "      <td>4</td>\n",
       "      <td>@KarineKurganova @Yess__Boss босапопа есбоса н...</td>\n",
       "      <td>1</td>\n",
       "    </tr>\n",
       "  </tbody>\n",
       "</table>\n",
       "</div>"
      ],
      "text/plain": [
       "   id                                               text  class\n",
       "0   0  @alisachachka не уезжаааааааай. :(❤ я тоже не ...      0\n",
       "1   1  RT @GalyginVadim: Ребята и девчата!\\nВсе в кин...      1\n",
       "2   2  RT @ARTEM_KLYUSHIN: Кто ненавидит пробки ретви...      0\n",
       "3   3  RT @epupybobv: Хочется котлету по-киевски. Зап...      1\n",
       "4   4  @KarineKurganova @Yess__Boss босапопа есбоса н...      1"
      ]
     },
     "execution_count": 8,
     "metadata": {},
     "output_type": "execute_result"
    }
   ],
   "source": [
    "df_train.head(5)"
   ]
  },
  {
   "cell_type": "code",
   "execution_count": 9,
   "id": "354733b4",
   "metadata": {},
   "outputs": [
    {
     "data": {
      "text/plain": [
       "array([<AxesSubplot:ylabel='class'>], dtype=object)"
      ]
     },
     "execution_count": 9,
     "metadata": {},
     "output_type": "execute_result"
    },
    {
     "data": {
      "image/png": "[encoded data removed]",
      "text/plain": [
       "<Figure size 1100x600 with 1 Axes>"
      ]
     },
     "metadata": {},
     "output_type": "display_data"
    }
   ],
   "source": [
    "df_train['class'].value_counts().plot.pie(subplots=True,  autopct='%.2f', startangle=37, figsize=(11, 6))"
   ]
  },
  {
   "cell_type": "markdown",
   "id": "1997c9a8",
   "metadata": {},
   "source": [
    "#### Tokenization of texts"
   ]
  },
  {
   "cell_type": "code",
   "execution_count": 10,
   "id": "3e5b70ba",
   "metadata": {},
   "outputs": [],
   "source": [
    "tokenizer = AutoTokenizer.from_pretrained('cointegrated/rubert-tiny-toxicity')"
   ]
  },
  {
   "cell_type": "code",
   "execution_count": 11,
   "id": "feaffcf2",
   "metadata": {},
   "outputs": [],
   "source": [
    "example_text = 'Пример текста для токенизации'\n",
    "auto_input = tokenizer(example_text, padding='max_length', max_length=10, \n",
    "                       truncation=True, return_tensors='pt')"
   ]
  },
  {
   "cell_type": "code",
   "execution_count": 12,
   "id": "c026db26",
   "metadata": {},
   "outputs": [
    {
     "name": "stdout",
     "output_type": "stream",
     "text": [
      "tensor([[    2,  3086, 10885, 22723,   871, 24302,  3464, 10880,     3,     0]])\n",
      "tensor([[1, 1, 1, 1, 1, 1, 1, 1, 1, 0]])\n"
     ]
    }
   ],
   "source": [
    "print(auto_input['input_ids'])\n",
    "print(auto_input['attention_mask'])"
   ]
  },
  {
   "cell_type": "code",
   "execution_count": 13,
   "id": "fb4654e8",
   "metadata": {},
   "outputs": [],
   "source": [
    "#tokenizer.get_vocab()"
   ]
  },
  {
   "cell_type": "code",
   "execution_count": 14,
   "id": "b45170dc",
   "metadata": {},
   "outputs": [],
   "source": [
    "example_text = tokenizer.decode(auto_input.input_ids[0])"
   ]
  },
  {
   "cell_type": "code",
   "execution_count": 15,
   "id": "88225c33",
   "metadata": {},
   "outputs": [
    {
     "name": "stdout",
     "output_type": "stream",
     "text": [
      "[CLS] Пример текста для токенизации [SEP] [PAD]\n"
     ]
    }
   ],
   "source": [
    "print(example_text)"
   ]
  },
  {
   "cell_type": "markdown",
   "id": "42a2c26a",
   "metadata": {},
   "source": [
    "#### Wrapper over data"
   ]
  },
  {
   "cell_type": "code",
   "execution_count": 16,
   "id": "17bd66ee",
   "metadata": {},
   "outputs": [],
   "source": [
    "class TwitterDataset(torch.utils.data.Dataset):\n",
    "    def __init__(self, texts, labels):\n",
    "        self._labels = labels\n",
    "        self.tokenizer = AutoTokenizer.from_pretrained('cointegrated/rubert-tiny-toxicity')\n",
    "        self._texts = [self.tokenizer(text, padding='max_length', max_length=10, \n",
    "                                     truncation=True, return_tensors='pt')\n",
    "                      for text in texts]\n",
    "    \n",
    "    def __len__(self):\n",
    "        return len(self._texts)\n",
    "    \n",
    "    \n",
    "    def __getitem__(self, index):\n",
    "        return self._texts[index], self._labels[index]"
   ]
  },
  {
   "cell_type": "code",
   "execution_count": 17,
   "id": "521c014c",
   "metadata": {},
   "outputs": [],
   "source": [
    "y_train = df_train['class'].values\n",
    "y_val = df_val['class'].values\n",
    "\n",
    "train_dataset = TwitterDataset(df_train['text'], y_train)\n",
    "valid_dataset = TwitterDataset(df_val['text'], y_val)\n",
    "\n",
    "train_loader = torch.utils.data.DataLoader(train_dataset, \n",
    "                                           batch_size=8,\n",
    "                                           shuffle=True)\n",
    "valid_loader = torch.utils.data.DataLoader(valid_dataset, \n",
    "                                           batch_size=8,\n",
    "                                           shuffle=False)"
   ]
  },
  {
   "cell_type": "code",
   "execution_count": 18,
   "id": "da5af2d9",
   "metadata": {},
   "outputs": [
    {
     "name": "stdout",
     "output_type": "stream",
     "text": [
      "dict_keys(['input_ids', 'token_type_ids', 'attention_mask'])\n",
      "torch.Size([8, 1, 10])\n"
     ]
    }
   ],
   "source": [
    "for txt, lbl in train_loader:\n",
    "    print(txt.keys())\n",
    "    print(txt['input_ids'].shape)\n",
    "    break"
   ]
  },
  {
   "cell_type": "markdown",
   "id": "ed76292c",
   "metadata": {},
   "source": [
    "#### Initialization texts classification model"
   ]
  },
  {
   "cell_type": "code",
   "execution_count": 19,
   "id": "a3de6e0b",
   "metadata": {},
   "outputs": [],
   "source": [
    "class TextClassificationModel(nn.Module):\n",
    "    def __init__(self, dropout=0.1):\n",
    "        super().__init__()\n",
    "        self.bert = \n",
    "        AutoModelForSequenceClassification.from_pretrained('cointegrated/rubert-tiny-toxicity', \n",
    "                                                           return_dict=True).bert\n",
    "        self.dropout = nn.Dropout(dropout)\n",
    "        self.classifier = nn.Linear(312, 2)\n",
    "    def forward(self, input_ids, attention_mask=None, token_type_ids=None):\n",
    "        pooled_output = self.bert(input_ids, \n",
    "                                  attention_mask=attention_mask, \n",
    "                                  token_type_ids=token_type_ids)['pooler_output']\n",
    "        pooled_output = self.dropout(pooled_output)\n",
    "        logits = self.classifier(pooled_output)\n",
    "        return logits"
   ]
  },
  {
   "cell_type": "code",
   "execution_count": 20,
   "id": "792cd129",
   "metadata": {},
   "outputs": [],
   "source": [
    "model = TextClassificationModel().to(device)\n",
    "criterion = nn.CrossEntropyLoss()\n",
    "optimizer = Adam(model.classifier.parameters(), lr=0.001)"
   ]
  },
  {
   "cell_type": "code",
   "execution_count": 21,
   "id": "9834ed42",
   "metadata": {},
   "outputs": [
    {
     "name": "stdout",
     "output_type": "stream",
     "text": [
      "TextClassificationModel(\n",
      "  (bert): BertModel(\n",
      "    (embeddings): BertEmbeddings(\n",
      "      (word_embeddings): Embedding(29564, 312, padding_idx=0)\n",
      "      (position_embeddings): Embedding(512, 312)\n",
      "      (token_type_embeddings): Embedding(2, 312)\n",
      "      (LayerNorm): LayerNorm((312,), eps=1e-12, elementwise_affine=True)\n",
      "      (dropout): Dropout(p=0.1, inplace=False)\n",
      "    )\n",
      "    (encoder): BertEncoder(\n",
      "      (layer): ModuleList(\n",
      "        (0): BertLayer(\n",
      "          (attention): BertAttention(\n",
      "            (self): BertSelfAttention(\n",
      "              (query): Linear(in_features=312, out_features=312, bias=True)\n",
      "              (key): Linear(in_features=312, out_features=312, bias=True)\n",
      "              (value): Linear(in_features=312, out_features=312, bias=True)\n",
      "              (dropout): Dropout(p=0.1, inplace=False)\n",
      "            )\n",
      "            (output): BertSelfOutput(\n",
      "              (dense): Linear(in_features=312, out_features=312, bias=True)\n",
      "              (LayerNorm): LayerNorm((312,), eps=1e-12, elementwise_affine=True)\n",
      "              (dropout): Dropout(p=0.1, inplace=False)\n",
      "            )\n",
      "          )\n",
      "          (intermediate): BertIntermediate(\n",
      "            (dense): Linear(in_features=312, out_features=600, bias=True)\n",
      "            (intermediate_act_fn): GELUActivation()\n",
      "          )\n",
      "          (output): BertOutput(\n",
      "            (dense): Linear(in_features=600, out_features=312, bias=True)\n",
      "            (LayerNorm): LayerNorm((312,), eps=1e-12, elementwise_affine=True)\n",
      "            (dropout): Dropout(p=0.1, inplace=False)\n",
      "          )\n",
      "        )\n",
      "        (1): BertLayer(\n",
      "          (attention): BertAttention(\n",
      "            (self): BertSelfAttention(\n",
      "              (query): Linear(in_features=312, out_features=312, bias=True)\n",
      "              (key): Linear(in_features=312, out_features=312, bias=True)\n",
      "              (value): Linear(in_features=312, out_features=312, bias=True)\n",
      "              (dropout): Dropout(p=0.1, inplace=False)\n",
      "            )\n",
      "            (output): BertSelfOutput(\n",
      "              (dense): Linear(in_features=312, out_features=312, bias=True)\n",
      "              (LayerNorm): LayerNorm((312,), eps=1e-12, elementwise_affine=True)\n",
      "              (dropout): Dropout(p=0.1, inplace=False)\n",
      "            )\n",
      "          )\n",
      "          (intermediate): BertIntermediate(\n",
      "            (dense): Linear(in_features=312, out_features=600, bias=True)\n",
      "            (intermediate_act_fn): GELUActivation()\n",
      "          )\n",
      "          (output): BertOutput(\n",
      "            (dense): Linear(in_features=600, out_features=312, bias=True)\n",
      "            (LayerNorm): LayerNorm((312,), eps=1e-12, elementwise_affine=True)\n",
      "            (dropout): Dropout(p=0.1, inplace=False)\n",
      "          )\n",
      "        )\n",
      "        (2): BertLayer(\n",
      "          (attention): BertAttention(\n",
      "            (self): BertSelfAttention(\n",
      "              (query): Linear(in_features=312, out_features=312, bias=True)\n",
      "              (key): Linear(in_features=312, out_features=312, bias=True)\n",
      "              (value): Linear(in_features=312, out_features=312, bias=True)\n",
      "              (dropout): Dropout(p=0.1, inplace=False)\n",
      "            )\n",
      "            (output): BertSelfOutput(\n",
      "              (dense): Linear(in_features=312, out_features=312, bias=True)\n",
      "              (LayerNorm): LayerNorm((312,), eps=1e-12, elementwise_affine=True)\n",
      "              (dropout): Dropout(p=0.1, inplace=False)\n",
      "            )\n",
      "          )\n",
      "          (intermediate): BertIntermediate(\n",
      "            (dense): Linear(in_features=312, out_features=600, bias=True)\n",
      "            (intermediate_act_fn): GELUActivation()\n",
      "          )\n",
      "          (output): BertOutput(\n",
      "            (dense): Linear(in_features=600, out_features=312, bias=True)\n",
      "            (LayerNorm): LayerNorm((312,), eps=1e-12, elementwise_affine=True)\n",
      "            (dropout): Dropout(p=0.1, inplace=False)\n",
      "          )\n",
      "        )\n",
      "      )\n",
      "    )\n",
      "    (pooler): BertPooler(\n",
      "      (dense): Linear(in_features=312, out_features=312, bias=True)\n",
      "      (activation): Tanh()\n",
      "    )\n",
      "  )\n",
      "  (dropout): Dropout(p=0.1, inplace=False)\n",
      "  (classifier): Linear(in_features=312, out_features=2, bias=True)\n",
      ")\n"
     ]
    }
   ],
   "source": [
    "print(model)"
   ]
  },
  {
   "cell_type": "code",
   "execution_count": 22,
   "id": "936dcb54",
   "metadata": {},
   "outputs": [
    {
     "name": "stdout",
     "output_type": "stream",
     "text": [
      "Full train parameters: 11784794\n",
      "Transfer learning parameters: 626\n"
     ]
    }
   ],
   "source": [
    "print('Full train parameters:', sum([param.nelement() for param in model.parameters()]))\n",
    "print('Transfer learning parameters:', sum([param.nelement() for param in model.classifier.parameters()]))\n"
   ]
  },
  {
   "cell_type": "markdown",
   "id": "c4f1b4e1",
   "metadata": {},
   "source": [
    "#### Predictions on all df_val on the untrained model. Calculation of the quality metric on the untrained model."
   ]
  },
  {
   "cell_type": "code",
   "execution_count": 24,
   "id": "34716905",
   "metadata": {},
   "outputs": [
    {
     "name": "stdout",
     "output_type": "stream",
     "text": [
      "------------Untrained Model-------------\n",
      "| Val Loss:  0.090| Val Accuracy:  0.507\n"
     ]
    }
   ],
   "source": [
    "model.eval()\n",
    "total_loss_val, total_acc_val = 0.0, 0.0\n",
    "for val_input, val_label in valid_loader:\n",
    "    val_label = val_label.to(device)\n",
    "    mask = val_input['attention_mask'].to(device)\n",
    "    input_id = val_input['input_ids'].squeeze(1).to(device)\n",
    "\n",
    "    output = model(input_id, mask)\n",
    "\n",
    "    batch_loss = criterion(output, val_label)\n",
    "    total_loss_val += batch_loss.item()\n",
    "\n",
    "    acc = (output.argmax(dim=1) == val_label).sum().item()\n",
    "    total_acc_val += acc\n",
    "print(\n",
    "    f'------------Untrained Model-------------\\n'\n",
    "    f'| Val Loss: {total_loss_val / len(valid_dataset): .3f}' \n",
    "    f'| Val Accuracy: {total_acc_val / len(valid_dataset): .3f}')"
   ]
  },
  {
   "cell_type": "markdown",
   "id": "a2bed09f",
   "metadata": {},
   "source": [
    "#### Training the text classification model"
   ]
  },
  {
   "cell_type": "code",
   "execution_count": 40,
   "id": "01d364d4",
   "metadata": {},
   "outputs": [
    {
     "name": "stderr",
     "output_type": "stream",
     "text": [
      "100%|████████████████████████████████████████████████████████████████████████████| 22684/22684 [05:22<00:00, 70.40it/s]\n"
     ]
    },
    {
     "name": "stdout",
     "output_type": "stream",
     "text": [
      "Epochs:1 | Train Loss:  0.088| Train Accuracy:  0.535| Val Loss:  0.085| Val Accuracy:  0.562\n"
     ]
    },
    {
     "name": "stderr",
     "output_type": "stream",
     "text": [
      "100%|████████████████████████████████████████████████████████████████████████████| 22684/22684 [05:22<00:00, 70.24it/s]\n"
     ]
    },
    {
     "name": "stdout",
     "output_type": "stream",
     "text": [
      "Epochs:2 | Train Loss:  0.088| Train Accuracy:  0.533| Val Loss:  0.090| Val Accuracy:  0.506\n"
     ]
    },
    {
     "name": "stderr",
     "output_type": "stream",
     "text": [
      "100%|████████████████████████████████████████████████████████████████████████████| 22684/22684 [05:21<00:00, 70.61it/s]\n"
     ]
    },
    {
     "name": "stdout",
     "output_type": "stream",
     "text": [
      "Epochs:3 | Train Loss:  0.088| Train Accuracy:  0.536| Val Loss:  0.088| Val Accuracy:  0.527\n"
     ]
    },
    {
     "name": "stderr",
     "output_type": "stream",
     "text": [
      "100%|████████████████████████████████████████████████████████████████████████████| 22684/22684 [05:22<00:00, 70.42it/s]\n"
     ]
    },
    {
     "name": "stdout",
     "output_type": "stream",
     "text": [
      "Epochs:4 | Train Loss:  0.088| Train Accuracy:  0.534| Val Loss:  0.086| Val Accuracy:  0.563\n"
     ]
    },
    {
     "name": "stderr",
     "output_type": "stream",
     "text": [
      "100%|█████████████████████████████████████████████████████████████████████████| 22684/22684 [11:44:47<00:00,  1.86s/it]\n"
     ]
    },
    {
     "name": "stdout",
     "output_type": "stream",
     "text": [
      "Epochs:5 | Train Loss:  0.088| Train Accuracy:  0.535| Val Loss:  0.086| Val Accuracy:  0.553\n"
     ]
    },
    {
     "name": "stderr",
     "output_type": "stream",
     "text": [
      "100%|████████████████████████████████████████████████████████████████████████████| 22684/22684 [07:01<00:00, 53.86it/s]\n"
     ]
    },
    {
     "name": "stdout",
     "output_type": "stream",
     "text": [
      "Epochs:6 | Train Loss:  0.088| Train Accuracy:  0.534| Val Loss:  0.090| Val Accuracy:  0.520\n"
     ]
    },
    {
     "name": "stderr",
     "output_type": "stream",
     "text": [
      "100%|████████████████████████████████████████████████████████████████████████████| 22684/22684 [06:07<00:00, 61.72it/s]\n"
     ]
    },
    {
     "name": "stdout",
     "output_type": "stream",
     "text": [
      "Epochs:7 | Train Loss:  0.088| Train Accuracy:  0.534| Val Loss:  0.089| Val Accuracy:  0.497\n"
     ]
    },
    {
     "name": "stderr",
     "output_type": "stream",
     "text": [
      "100%|████████████████████████████████████████████████████████████████████████████| 22684/22684 [05:32<00:00, 68.26it/s]\n"
     ]
    },
    {
     "name": "stdout",
     "output_type": "stream",
     "text": [
      "Epochs:8 | Train Loss:  0.088| Train Accuracy:  0.537| Val Loss:  0.086| Val Accuracy:  0.528\n"
     ]
    },
    {
     "name": "stderr",
     "output_type": "stream",
     "text": [
      "100%|████████████████████████████████████████████████████████████████████████████| 22684/22684 [05:41<00:00, 66.48it/s]\n"
     ]
    },
    {
     "name": "stdout",
     "output_type": "stream",
     "text": [
      "Epochs:9 | Train Loss:  0.088| Train Accuracy:  0.536| Val Loss:  0.090| Val Accuracy:  0.523\n"
     ]
    },
    {
     "name": "stderr",
     "output_type": "stream",
     "text": [
      "100%|████████████████████████████████████████████████████████████████████████████| 22684/22684 [05:40<00:00, 66.70it/s]\n"
     ]
    },
    {
     "name": "stdout",
     "output_type": "stream",
     "text": [
      "Epochs:10 | Train Loss:  0.088| Train Accuracy:  0.536| Val Loss:  0.086| Val Accuracy:  0.554\n"
     ]
    }
   ],
   "source": [
    "train_loss, train_acc = [], []\n",
    "val_loss, val_acc = [], []\n",
    "\n",
    "for epoch_num in range(10):\n",
    "    total_acc_train = 0\n",
    "    total_loss_train =0\n",
    "    \n",
    "    model.train()\n",
    "    for train_input, train_label in tqdm(train_loader):\n",
    "        mask = train_input['attention_mask'].to(device)\n",
    "        input_id = train_input['input_ids'].squeeze(1).to(device)\n",
    "        train_label = train_label.to(device)\n",
    "        \n",
    "        output = model(input_id, mask)\n",
    "        \n",
    "        batch_loss = criterion(output, train_label)\n",
    "        total_loss_train += batch_loss.item()\n",
    "        \n",
    "        acc = (output.argmax(dim=1) == train_label).sum().item()\n",
    "        total_acc_train += acc\n",
    "        \n",
    "        model.zero_grad()\n",
    "        batch_loss.backward()\n",
    "        optimizer.step()\n",
    "        \n",
    "    model.eval()\n",
    "    total_loss_val, total_acc_val = 0.0, 0.0\n",
    "    for val_input, val_label in valid_loader:\n",
    "        val_label = val_label.to(device)\n",
    "        mask = val_input['attention_mask'].to(device)\n",
    "        input_id = val_input['input_ids'].squeeze(1).to(device)\n",
    "        \n",
    "        output = model(input_id, mask)\n",
    "        \n",
    "        batch_loss = criterion(output, val_label)\n",
    "        total_loss_val += batch_loss.item()\n",
    "        \n",
    "        acc = (output.argmax(dim=1) == val_label).sum().item()\n",
    "        total_acc_val += acc\n",
    "    print(\n",
    "        f'Epochs:{epoch_num + 1} | Train Loss: {total_loss_train / len(train_dataset): .3f}' \n",
    "        f'| Train Accuracy: {total_acc_train / len(train_dataset): .3f}' \n",
    "        f'| Val Loss: {total_loss_val / len(valid_dataset): .3f}' \n",
    "        f'| Val Accuracy: {total_acc_val / len(valid_dataset): .3f}')\n",
    "    train_loss.append(total_loss_train / len(train_dataset))\n",
    "    train_acc.append(total_acc_train / len(train_dataset))\n",
    "    val_loss.append(total_loss_val / len(valid_dataset))\n",
    "    val_acc.append(total_acc_val / len(valid_dataset))"
   ]
  },
  {
   "cell_type": "markdown",
   "id": "3de73cf2",
   "metadata": {},
   "source": [
    "#### Evaluation of the obtained results of model training"
   ]
  },
  {
   "cell_type": "code",
   "execution_count": 41,
   "id": "fff223fc",
   "metadata": {},
   "outputs": [
    {
     "data": {
      "image/png": "[encoded data removed]",
      "text/plain": [
       "<Figure size 1000x500 with 2 Axes>"
      ]
     },
     "metadata": {},
     "output_type": "display_data"
    }
   ],
   "source": [
    "fig, (ax1, ax2) = plt.subplots(1, 2, figsize=(10, 5))\n",
    "fig.tight_layout(pad=3)\n",
    "\n",
    "ax1.set_title('Loss history')\n",
    "ax1.grid(True)\n",
    "ax1.set_ylabel('Loss')\n",
    "ax1.set_xlabel('Epoch')\n",
    "ax1.plot(train_loss, label='train')\n",
    "ax1.plot(val_loss, label='val')\n",
    "ax1.legend();\n",
    "\n",
    "ax2.set_title('Accuracy history')\n",
    "ax2.grid(True)\n",
    "ax2.set_ylabel('Accuracy')\n",
    "ax2.set_xlabel('Epoch')\n",
    "ax2.plot(train_acc, label='train')\n",
    "ax2.plot(val_acc, label='val')\n",
    "ax2.legend();\n",
    "\n",
    "plt.show();"
   ]
  },
  {
   "cell_type": "markdown",
   "id": "70af8da1",
   "metadata": {},
   "source": [
    "#### From the graphs you can see that the model did not train well on the unprocessed data, let's take the pre-processed data using the written handler from Lesson 7"
   ]
  },
  {
   "cell_type": "code",
   "execution_count": 59,
   "id": "47c35ea9",
   "metadata": {},
   "outputs": [],
   "source": [
    "df_train = pd.read_csv(DATA_ROOT + 'train_preprocess.csv')\n",
    "df_val = pd.read_csv(DATA_ROOT + 'val_preprocess.csv')\n",
    "df_test = pd.read_csv(DATA_ROOT + 'test_preprocess.csv')"
   ]
  },
  {
   "cell_type": "code",
   "execution_count": 60,
   "id": "f4e71c89",
   "metadata": {},
   "outputs": [
    {
     "data": {
      "text/plain": [
       "(181467, 4)"
      ]
     },
     "execution_count": 60,
     "metadata": {},
     "output_type": "execute_result"
    }
   ],
   "source": [
    "df_train.shape"
   ]
  },
  {
   "cell_type": "code",
   "execution_count": 61,
   "id": "1be0cecb",
   "metadata": {},
   "outputs": [
    {
     "data": {
      "text/html": [
       "<div>\n",
       "<style scoped>\n",
       "    .dataframe tbody tr th:only-of-type {\n",
       "        vertical-align: middle;\n",
       "    }\n",
       "\n",
       "    .dataframe tbody tr th {\n",
       "        vertical-align: top;\n",
       "    }\n",
       "\n",
       "    .dataframe thead th {\n",
       "        text-align: right;\n",
       "    }\n",
       "</style>\n",
       "<table border=\"1\" class=\"dataframe\">\n",
       "  <thead>\n",
       "    <tr style=\"text-align: right;\">\n",
       "      <th></th>\n",
       "      <th>Unnamed: 0</th>\n",
       "      <th>id</th>\n",
       "      <th>text</th>\n",
       "      <th>class</th>\n",
       "    </tr>\n",
       "  </thead>\n",
       "  <tbody>\n",
       "    <tr>\n",
       "      <th>0</th>\n",
       "      <td>0</td>\n",
       "      <td>0</td>\n",
       "      <td>неуезжаааааааать нехотеть уезжать</td>\n",
       "      <td>0</td>\n",
       "    </tr>\n",
       "    <tr>\n",
       "      <th>1</th>\n",
       "      <td>1</td>\n",
       "      <td>1</td>\n",
       "      <td>ребята девчата кино любовь завтра вотэтолюбовь</td>\n",
       "      <td>1</td>\n",
       "    </tr>\n",
       "    <tr>\n",
       "      <th>2</th>\n",
       "      <td>2</td>\n",
       "      <td>2</td>\n",
       "      <td>ненавидеть пробка ретвит</td>\n",
       "      <td>0</td>\n",
       "    </tr>\n",
       "    <tr>\n",
       "      <th>3</th>\n",
       "      <td>3</td>\n",
       "      <td>3</td>\n",
       "      <td>хотеться котлета покиевск запретный плод</td>\n",
       "      <td>1</td>\n",
       "    </tr>\n",
       "    <tr>\n",
       "      <th>4</th>\n",
       "      <td>4</td>\n",
       "      <td>4</td>\n",
       "      <td>босапоп есбосой небояться мороз</td>\n",
       "      <td>1</td>\n",
       "    </tr>\n",
       "  </tbody>\n",
       "</table>\n",
       "</div>"
      ],
      "text/plain": [
       "   Unnamed: 0  id                                            text  class\n",
       "0           0   0               неуезжаааааааать нехотеть уезжать      0\n",
       "1           1   1  ребята девчата кино любовь завтра вотэтолюбовь      1\n",
       "2           2   2                        ненавидеть пробка ретвит      0\n",
       "3           3   3        хотеться котлета покиевск запретный плод      1\n",
       "4           4   4                 босапоп есбосой небояться мороз      1"
      ]
     },
     "execution_count": 61,
     "metadata": {},
     "output_type": "execute_result"
    }
   ],
   "source": [
    "df_train.head(5)"
   ]
  },
  {
   "cell_type": "code",
   "execution_count": 62,
   "id": "d52689b1",
   "metadata": {},
   "outputs": [],
   "source": [
    "tokenizer = AutoTokenizer.from_pretrained('cointegrated/rubert-tiny-toxicity')"
   ]
  },
  {
   "cell_type": "code",
   "execution_count": 63,
   "id": "60707f3b",
   "metadata": {},
   "outputs": [],
   "source": [
    "class TwitterDataset(torch.utils.data.Dataset):\n",
    "    def __init__(self, texts, labels):\n",
    "        self._labels = labels\n",
    "        self.tokenizer = AutoTokenizer.from_pretrained('cointegrated/rubert-tiny-toxicity')\n",
    "        self._texts = [self.tokenizer(text, padding='max_length', max_length=18, \n",
    "                                     truncation=True, return_tensors='pt')\n",
    "                      for text in texts]\n",
    "    \n",
    "    def __len__(self):\n",
    "        return len(self._texts)\n",
    "    \n",
    "    \n",
    "    def __getitem__(self, index):\n",
    "        return self._texts[index], self._labels[index]"
   ]
  },
  {
   "cell_type": "code",
   "execution_count": 64,
   "id": "a6cc8110",
   "metadata": {},
   "outputs": [],
   "source": [
    "y_train = df_train['class'].values\n",
    "y_val = df_val['class'].values\n",
    "\n",
    "train_dataset = TwitterDataset(str(df_train['text']), y_train)\n",
    "valid_dataset = TwitterDataset(str(df_val['text']), y_val)\n",
    "\n",
    "train_loader = torch.utils.data.DataLoader(train_dataset, \n",
    "                                           batch_size=8,\n",
    "                                           shuffle=True)\n",
    "valid_loader = torch.utils.data.DataLoader(valid_dataset, \n",
    "                                           batch_size=8,\n",
    "                                           shuffle=False)"
   ]
  },
  {
   "cell_type": "code",
   "execution_count": 65,
   "id": "7aa169d3",
   "metadata": {},
   "outputs": [],
   "source": [
    "model = TextClassificationModel().to(device)\n",
    "criterion = nn.CrossEntropyLoss()\n",
    "optimizer = Adam(model.classifier.parameters(), lr=0.001)"
   ]
  },
  {
   "cell_type": "markdown",
   "id": "ad6056ed",
   "metadata": {},
   "source": [
    "#### Predictions on all df_val_preprocess on the untrained model. Calculation of the quality metric on the untrained model"
   ]
  },
  {
   "cell_type": "code",
   "execution_count": 66,
   "id": "223400b9",
   "metadata": {},
   "outputs": [
    {
     "name": "stdout",
     "output_type": "stream",
     "text": [
      "------------Untrained Model-------------\n",
      "| Val Loss:  0.094| Val Accuracy:  0.493\n"
     ]
    }
   ],
   "source": [
    "model.eval()\n",
    "total_loss_val, total_acc_val = 0.0, 0.0\n",
    "for val_input, val_label in valid_loader:\n",
    "    val_label = val_label.to(device)\n",
    "    mask = val_input['attention_mask'].to(device)\n",
    "    input_id = val_input['input_ids'].squeeze(1).to(device)\n",
    "\n",
    "    output = model(input_id, mask)\n",
    "\n",
    "    batch_loss = criterion(output, val_label)\n",
    "    total_loss_val += batch_loss.item()\n",
    "\n",
    "    acc = (output.argmax(dim=1) == val_label).sum().item()\n",
    "    total_acc_val += acc\n",
    "print(\n",
    "    f'------------Untrained Model-------------\\n'\n",
    "    f'| Val Loss: {total_loss_val / len(valid_dataset): .3f}' \n",
    "    f'| Val Accuracy: {total_acc_val / len(valid_dataset): .3f}')"
   ]
  },
  {
   "cell_type": "markdown",
   "id": "527ed858",
   "metadata": {},
   "source": [
    "#### Training the text classification model"
   ]
  },
  {
   "cell_type": "code",
   "execution_count": 68,
   "id": "a6f042a5",
   "metadata": {},
   "outputs": [
    {
     "name": "stderr",
     "output_type": "stream",
     "text": [
      "100%|██████████████████████████████████████████████████████████████████████████████████| 88/88 [00:02<00:00, 39.93it/s]\n"
     ]
    },
    {
     "name": "stdout",
     "output_type": "stream",
     "text": [
      "Epochs:1 | Train Loss:  0.088| Train Accuracy:  0.526| Val Loss:  0.096| Val Accuracy:  0.507\n"
     ]
    },
    {
     "name": "stderr",
     "output_type": "stream",
     "text": [
      "100%|██████████████████████████████████████████████████████████████████████████████████| 88/88 [00:01<00:00, 55.40it/s]\n"
     ]
    },
    {
     "name": "stdout",
     "output_type": "stream",
     "text": [
      "Epochs:2 | Train Loss:  0.090| Train Accuracy:  0.541| Val Loss:  0.097| Val Accuracy:  0.493\n"
     ]
    },
    {
     "name": "stderr",
     "output_type": "stream",
     "text": [
      "100%|██████████████████████████████████████████████████████████████████████████████████| 88/88 [00:01<00:00, 58.76it/s]\n"
     ]
    },
    {
     "name": "stdout",
     "output_type": "stream",
     "text": [
      "Epochs:3 | Train Loss:  0.089| Train Accuracy:  0.509| Val Loss:  0.089| Val Accuracy:  0.507\n"
     ]
    },
    {
     "name": "stderr",
     "output_type": "stream",
     "text": [
      "100%|██████████████████████████████████████████████████████████████████████████████████| 88/88 [00:01<00:00, 62.35it/s]\n"
     ]
    },
    {
     "name": "stdout",
     "output_type": "stream",
     "text": [
      "Epochs:4 | Train Loss:  0.087| Train Accuracy:  0.531| Val Loss:  0.089| Val Accuracy:  0.507\n"
     ]
    },
    {
     "name": "stderr",
     "output_type": "stream",
     "text": [
      "100%|██████████████████████████████████████████████████████████████████████████████████| 88/88 [00:01<00:00, 62.82it/s]\n"
     ]
    },
    {
     "name": "stdout",
     "output_type": "stream",
     "text": [
      "Epochs:5 | Train Loss:  0.088| Train Accuracy:  0.518| Val Loss:  0.091| Val Accuracy:  0.507\n"
     ]
    },
    {
     "name": "stderr",
     "output_type": "stream",
     "text": [
      "100%|██████████████████████████████████████████████████████████████████████████████████| 88/88 [00:01<00:00, 62.97it/s]\n"
     ]
    },
    {
     "name": "stdout",
     "output_type": "stream",
     "text": [
      "Epochs:6 | Train Loss:  0.089| Train Accuracy:  0.509| Val Loss:  0.088| Val Accuracy:  0.509\n"
     ]
    },
    {
     "name": "stderr",
     "output_type": "stream",
     "text": [
      "100%|██████████████████████████████████████████████████████████████████████████████████| 88/88 [00:01<00:00, 62.69it/s]\n"
     ]
    },
    {
     "name": "stdout",
     "output_type": "stream",
     "text": [
      "Epochs:7 | Train Loss:  0.089| Train Accuracy:  0.511| Val Loss:  0.091| Val Accuracy:  0.507\n"
     ]
    }
   ],
   "source": [
    "train_loss, train_acc = [], []\n",
    "val_loss, val_acc = [], []\n",
    "\n",
    "for epoch_num in range(7):\n",
    "    total_acc_train = 0\n",
    "    total_loss_train =0\n",
    "    \n",
    "    model.train()\n",
    "    for train_input, train_label in tqdm(train_loader):\n",
    "        mask = train_input['attention_mask'].to(device)\n",
    "        input_id = train_input['input_ids'].squeeze(1).to(device)\n",
    "        train_label = train_label.to(device)\n",
    "        \n",
    "        output = model(input_id, mask)\n",
    "        \n",
    "        batch_loss = criterion(output, train_label)\n",
    "        total_loss_train += batch_loss.item()\n",
    "        \n",
    "        acc = (output.argmax(dim=1) == train_label).sum().item()\n",
    "        total_acc_train += acc\n",
    "        \n",
    "        model.zero_grad()\n",
    "        batch_loss.backward()\n",
    "        optimizer.step()\n",
    "        \n",
    "    model.eval()\n",
    "    total_loss_val, total_acc_val = 0.0, 0.0\n",
    "    for val_input, val_label in valid_loader:\n",
    "        val_label = val_label.to(device)\n",
    "        mask = val_input['attention_mask'].to(device)\n",
    "        input_id = val_input['input_ids'].squeeze(1).to(device)\n",
    "        \n",
    "        output = model(input_id, mask)\n",
    "        \n",
    "        batch_loss = criterion(output, val_label)\n",
    "        total_loss_val += batch_loss.item()\n",
    "        \n",
    "        acc = (output.argmax(dim=1) == val_label).sum().item()\n",
    "        total_acc_val += acc\n",
    "    print(\n",
    "        f'Epochs:{epoch_num + 1} | Train Loss: {total_loss_train / len(train_dataset): .3f}' \n",
    "        f'| Train Accuracy: {total_acc_train / len(train_dataset): .3f}' \n",
    "        f'| Val Loss: {total_loss_val / len(valid_dataset): .3f}' \n",
    "        f'| Val Accuracy: {total_acc_val / len(valid_dataset): .3f}')\n",
    "    train_loss.append(total_loss_train / len(train_dataset))\n",
    "    train_acc.append(total_acc_train / len(train_dataset))\n",
    "    val_loss.append(total_loss_val / len(valid_dataset))\n",
    "    val_acc.append(total_acc_val / len(valid_dataset))"
   ]
  },
  {
   "cell_type": "markdown",
   "id": "97c84042",
   "metadata": {},
   "source": [
    "#### Evaluation of the obtained results of model training"
   ]
  },
  {
   "cell_type": "code",
   "execution_count": 69,
   "id": "d9982367",
   "metadata": {},
   "outputs": [
    {
     "data": {
      "image/png": "[encoded data removed]",
      "text/plain": [
       "<Figure size 1000x500 with 2 Axes>"
      ]
     },
     "metadata": {},
     "output_type": "display_data"
    }
   ],
   "source": [
    "fig, (ax1, ax2) = plt.subplots(1, 2, figsize=(10, 5))\n",
    "fig.tight_layout(pad=3)\n",
    "\n",
    "ax1.set_title('Loss history')\n",
    "ax1.grid(True)\n",
    "ax1.set_ylabel('Loss')\n",
    "ax1.set_xlabel('Epoch')\n",
    "ax1.plot(train_loss, label='train')\n",
    "ax1.plot(val_loss, label='val')\n",
    "ax1.legend();\n",
    "\n",
    "ax2.set_title('Accuracy history')\n",
    "ax2.grid(True)\n",
    "ax2.set_ylabel('Accuracy')\n",
    "ax2.set_xlabel('Epoch')\n",
    "ax2.plot(train_acc, label='train')\n",
    "ax2.plot(val_acc, label='val')\n",
    "ax2.legend();\n",
    "\n",
    "plt.show();"
   ]
  },
  {
   "cell_type": "code",
   "execution_count": null,
   "id": "bc507111",
   "metadata": {},
   "outputs": [],
   "source": []
  }
 ],
 "metadata": {
  "kernelspec": {
   "display_name": "Python 3 (ipykernel)",
   "language": "python",
   "name": "python3"
  },
  "language_info": {
   "codemirror_mode": {
    "name": "ipython",
    "version": 3
   },
   "file_extension": ".py",
   "mimetype": "text/x-python",
   "name": "python",
   "nbconvert_exporter": "python",
   "pygments_lexer": "ipython3",
   "version": "3.9.13"
  }
 },
 "nbformat": 4,
 "nbformat_minor": 5
}
